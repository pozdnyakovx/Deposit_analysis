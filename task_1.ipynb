{
 "cells": [
  {
   "cell_type": "markdown",
   "metadata": {},
   "source": [
    "# План\n",
    "[1. Импорт библиотек](#no1)<br>\n",
    "[2. Загрузка данных](#no2)<br>\n",
    "[3. Первичная аналитика](#no3)<br>\n",
    "[4. Построение модели](#no4)<br>\n",
    "[5. Вывод](#no5)<br>"
   ]
  },
  {
   "cell_type": "markdown",
   "metadata": {},
   "source": [
    "# Условия задачи:\n",
    "\n",
    "**Данные:**<br>\n",
    "    • «номер депозита» - это уникальный индификатор депозита, числа от 1 до 100 <br>\n",
    "    • «номер недели жизни депозита» - числа от 1 до 5 <br>\n",
    "    • «изменение ставок относительно начала депозита» - это изменение рыночных ставок для депозита с заданным номером и для заданной недели <br>\n",
    "    • «изменение курса относительно начала депозита» - это изменение рыночного курса рубля для депозита с заданным номером и для заданной недели <br>\n",
    "    • «объем пополнения» - это объем пополнения для депозита с заданным номером и для заданной недели\n",
    "    \n",
    "**Задача:** построить и обосновать регрессионную модель."
   ]
  },
  {
   "cell_type": "markdown",
   "metadata": {},
   "source": [
    "<a id=\"no1\"></a>"
   ]
  },
  {
   "cell_type": "markdown",
   "metadata": {},
   "source": [
    "# 1.  Импорт библиотек"
   ]
  },
  {
   "cell_type": "code",
   "execution_count": 177,
   "metadata": {},
   "outputs": [],
   "source": [
    "# препроцессинг и работа с первичными данными\n",
    "import pandas as pd\n",
    "import numpy as np\n",
    "from sklearn.preprocessing import MinMaxScaler\n",
    "from sklearn.preprocessing import PolynomialFeatures\n",
    "\n",
    "# статистические пакеты\n",
    "from scipy import stats\n",
    "from sklearn import linear_model\n",
    "import statsmodels.api as sm\n",
    "from statsmodels.stats.diagnostic import het_white\n",
    "from statsmodels.formula.api import ols\n",
    "from statsmodels.stats.outliers_influence import variance_inflation_factor as vif\n",
    "\n",
    "# визуализация\n",
    "import plotly.express as px\n",
    "from plotly.subplots import make_subplots\n",
    "import plotly.graph_objects as go\n",
    "import matplotlib.pyplot as plt"
   ]
  },
  {
   "cell_type": "markdown",
   "metadata": {},
   "source": [
    "<a id=\"no2\"></a>"
   ]
  },
  {
   "cell_type": "markdown",
   "metadata": {},
   "source": [
    "# 2. Загрузка данных"
   ]
  },
  {
   "cell_type": "code",
   "execution_count": 178,
   "metadata": {},
   "outputs": [
    {
     "data": {
      "text/html": [
       "<div>\n",
       "<style scoped>\n",
       "    .dataframe tbody tr th:only-of-type {\n",
       "        vertical-align: middle;\n",
       "    }\n",
       "\n",
       "    .dataframe tbody tr th {\n",
       "        vertical-align: top;\n",
       "    }\n",
       "\n",
       "    .dataframe thead th {\n",
       "        text-align: right;\n",
       "    }\n",
       "</style>\n",
       "<table border=\"1\" class=\"dataframe\">\n",
       "  <thead>\n",
       "    <tr style=\"text-align: right;\">\n",
       "      <th></th>\n",
       "      <th>N</th>\n",
       "      <th>generation</th>\n",
       "      <th>int_rate</th>\n",
       "      <th>ex_rate</th>\n",
       "      <th>volume</th>\n",
       "    </tr>\n",
       "  </thead>\n",
       "  <tbody>\n",
       "    <tr>\n",
       "      <th>0</th>\n",
       "      <td>1</td>\n",
       "      <td>1</td>\n",
       "      <td>0.021498</td>\n",
       "      <td>-0.046133</td>\n",
       "      <td>0.000000</td>\n",
       "    </tr>\n",
       "    <tr>\n",
       "      <th>1</th>\n",
       "      <td>1</td>\n",
       "      <td>2</td>\n",
       "      <td>0.019605</td>\n",
       "      <td>0.030865</td>\n",
       "      <td>0.743323</td>\n",
       "    </tr>\n",
       "    <tr>\n",
       "      <th>2</th>\n",
       "      <td>1</td>\n",
       "      <td>3</td>\n",
       "      <td>0.082847</td>\n",
       "      <td>-0.013099</td>\n",
       "      <td>0.977405</td>\n",
       "    </tr>\n",
       "    <tr>\n",
       "      <th>3</th>\n",
       "      <td>1</td>\n",
       "      <td>4</td>\n",
       "      <td>-0.025355</td>\n",
       "      <td>-0.007046</td>\n",
       "      <td>0.772670</td>\n",
       "    </tr>\n",
       "    <tr>\n",
       "      <th>4</th>\n",
       "      <td>1</td>\n",
       "      <td>5</td>\n",
       "      <td>-0.109462</td>\n",
       "      <td>-0.109332</td>\n",
       "      <td>0.039289</td>\n",
       "    </tr>\n",
       "    <tr>\n",
       "      <th>...</th>\n",
       "      <td>...</td>\n",
       "      <td>...</td>\n",
       "      <td>...</td>\n",
       "      <td>...</td>\n",
       "      <td>...</td>\n",
       "    </tr>\n",
       "    <tr>\n",
       "      <th>495</th>\n",
       "      <td>100</td>\n",
       "      <td>1</td>\n",
       "      <td>0.005387</td>\n",
       "      <td>-0.011301</td>\n",
       "      <td>0.007183</td>\n",
       "    </tr>\n",
       "    <tr>\n",
       "      <th>496</th>\n",
       "      <td>100</td>\n",
       "      <td>2</td>\n",
       "      <td>-0.092774</td>\n",
       "      <td>-0.144132</td>\n",
       "      <td>0.785305</td>\n",
       "    </tr>\n",
       "    <tr>\n",
       "      <th>497</th>\n",
       "      <td>100</td>\n",
       "      <td>3</td>\n",
       "      <td>-0.011375</td>\n",
       "      <td>-0.000458</td>\n",
       "      <td>1.021720</td>\n",
       "    </tr>\n",
       "    <tr>\n",
       "      <th>498</th>\n",
       "      <td>100</td>\n",
       "      <td>4</td>\n",
       "      <td>-0.067415</td>\n",
       "      <td>-0.301667</td>\n",
       "      <td>0.768857</td>\n",
       "    </tr>\n",
       "    <tr>\n",
       "      <th>499</th>\n",
       "      <td>100</td>\n",
       "      <td>5</td>\n",
       "      <td>-0.092213</td>\n",
       "      <td>-0.164283</td>\n",
       "      <td>0.035602</td>\n",
       "    </tr>\n",
       "  </tbody>\n",
       "</table>\n",
       "<p>500 rows × 5 columns</p>\n",
       "</div>"
      ],
      "text/plain": [
       "       N  generation  int_rate   ex_rate    volume\n",
       "0      1           1  0.021498 -0.046133  0.000000\n",
       "1      1           2  0.019605  0.030865  0.743323\n",
       "2      1           3  0.082847 -0.013099  0.977405\n",
       "3      1           4 -0.025355 -0.007046  0.772670\n",
       "4      1           5 -0.109462 -0.109332  0.039289\n",
       "..   ...         ...       ...       ...       ...\n",
       "495  100           1  0.005387 -0.011301  0.007183\n",
       "496  100           2 -0.092774 -0.144132  0.785305\n",
       "497  100           3 -0.011375 -0.000458  1.021720\n",
       "498  100           4 -0.067415 -0.301667  0.768857\n",
       "499  100           5 -0.092213 -0.164283  0.035602\n",
       "\n",
       "[500 rows x 5 columns]"
      ]
     },
     "execution_count": 178,
     "metadata": {},
     "output_type": "execute_result"
    }
   ],
   "source": [
    "xlsx = pd.ExcelFile(r'Задачи для кандидатов - для задачи 1.xlsx')\n",
    "df = xlsx.parse(0)\n",
    "\n",
    "df = df.rename(columns={'Номер депозита':'N',\n",
    "                   'Номер недели жизни депозита':'generation',\n",
    "                   'Изменение ставок  относительно начала депозита':'int_rate',\n",
    "                   'Изменение курса относительно начала депозита':'ex_rate',\n",
    "                   'Объем пополнения':'volume'})\n",
    "df"
   ]
  },
  {
   "cell_type": "markdown",
   "metadata": {},
   "source": [
    "<a id=\"no3\"></a>"
   ]
  },
  {
   "cell_type": "markdown",
   "metadata": {},
   "source": [
    "# 3. Первичная аналитика"
   ]
  },
  {
   "cell_type": "markdown",
   "metadata": {},
   "source": [
    "## 3.1 QQ-график"
   ]
  },
  {
   "cell_type": "code",
   "execution_count": 179,
   "metadata": {
    "scrolled": true
   },
   "outputs": [
    {
     "data": {
      "image/png": "[encoded data removed]",
      "text/plain": [
       "<Figure size 432x288 with 1 Axes>"
      ]
     },
     "metadata": {
      "needs_background": "light"
     },
     "output_type": "display_data"
    }
   ],
   "source": [
    "# квантиль-квантильный график - нанесение точек из набора данных \n",
    "# в зависимости от значений нормального распределения\n",
    "\n",
    "fig = plt.figure()\n",
    "ax = fig.add_subplot()\n",
    "res = stats.probplot(df.volume, plot=plt)"
   ]
  },
  {
   "cell_type": "markdown",
   "metadata": {},
   "source": [
    "Значения зависимой переменной *volume* имеют сильный разброс относительно теоретических квантилей нормального распределения."
   ]
  },
  {
   "cell_type": "code",
   "execution_count": 180,
   "metadata": {},
   "outputs": [
    {
     "data": {
      "application/vnd.plotly.v1+json": {
       "config": {
        "plotlyServerURL": "https://plot.ly"
       },
       "data": [
        {
         "alignmentgroup": "True",
         "bingroup": "x",
         "hovertemplate": "volume=%{x}<br>count=%{y}<extra></extra>",
         "legendgroup": "",
         "marker": {
          "color": "#636efa"
         },
         "name": "",
         "offsetgroup": "",
         "orientation": "v",
         "showlegend": false,
         "type": "histogram",
         "x": [
          0,
          0.7433232326429872,
          0.9774047425972967,
          0.7726702415163742,
          0.03928876143736482,
          0,
          0.7181196017849273,
          0.9709582392722839,
          0.8241885718437671,
          0,
          0.010892099083406007,
          0.7501129109186735,
          0.9839595505499812,
          0.7452243389947042,
          0.0004424676236868168,
          0,
          0.7594821889739312,
          0.9977784350952693,
          0.7307647853013942,
          0,
          0,
          0.727465229375124,
          1.007942793636198,
          0.7225893666150941,
          0.018731323020972187,
          0,
          0.7422367285281536,
          0.9874412198035674,
          0.7947432535052172,
          0.05569516472775865,
          0.025830220739950095,
          0.7580894527214936,
          1.0480474754320723,
          0.8014791010273239,
          0.05092773163852208,
          0,
          0.7981851809322086,
          0.991755021269524,
          0.7877641288384442,
          0.038122814255952917,
          0.010720386905228751,
          0.6906496824436125,
          1.0049328147194785,
          0.729087055452143,
          0.02081329142885218,
          0,
          0.7693547340041862,
          1.0077577698743136,
          0.733834836195315,
          0,
          0.046119921797648,
          0.7819044346935818,
          1.0417764390288273,
          0.7369494983701484,
          0,
          0.012972886773976199,
          0.7961787922459581,
          1.109164692256255,
          0.7583995912084941,
          0.02283445634815302,
          0,
          0.7654345554369477,
          1.019814773830882,
          0.7605730440597342,
          0.02916974161802695,
          0,
          0.7347094858985785,
          1.004879337557308,
          0.7485817582306844,
          0,
          0.020969714031807224,
          0.7998757610729234,
          0.9904779251522807,
          0.770423419208543,
          0.07690902038462795,
          0.04585336169477866,
          0.7841709252958327,
          1.0095914424637973,
          0.7512876575551651,
          0.031012645961243472,
          0.044379218090661476,
          0.7275042183469164,
          1.0658848878305216,
          0.7824623755220942,
          0.038980093278685804,
          0.0053468061684144655,
          0.7557036612130336,
          0.9837656731651222,
          0.7247185526186902,
          0,
          0.015963865664178387,
          0.726405918141206,
          0.9428291745012413,
          0.8203086243494793,
          0,
          0,
          0.7812090712465282,
          1.0080069015903763,
          0.7998403595703065,
          0.057214075350198394,
          0,
          0.7735199614656765,
          1.016090217104712,
          0.7019124555932327,
          0.02053963063522242,
          0.03912257621203474,
          0.7667481086210298,
          1.0633073590117976,
          0.765073572538918,
          0,
          0,
          0.7655489313897096,
          1.0274339092827964,
          0.7877446342214715,
          0.03291057826003056,
          0.025756015146570242,
          0.7732754404996002,
          0.9813069560659556,
          0.7226417014799529,
          0.05197599832658395,
          0,
          0.7540775366259774,
          1.07682068832672,
          0.7561612241175156,
          0,
          0,
          0.7963980629273985,
          0.969347134592443,
          0.7325052464298342,
          0.01616635799954945,
          0.019103635952906414,
          0.7460892443943391,
          1.0010038425107846,
          0.7994622992808713,
          0.02311415404057378,
          0,
          0.7770015341215323,
          1.0105232786580982,
          0.7796300347927028,
          0.009663556924268448,
          0.061498869479303074,
          0.740320448154599,
          0.9745894094968441,
          0.7761944797550066,
          0.021248600521277576,
          0,
          0.7519463340150586,
          1.0349433037195843,
          0.7305514632376409,
          0.04594029084483256,
          0,
          0.7468879881710054,
          1.0378532521572645,
          0.790889877578001,
          0.005738881782245148,
          0.002804591587030833,
          0.7565880157798552,
          1.046825611830515,
          0.7374061630149067,
          0.0270750585655759,
          0,
          0.7630330663227307,
          1.0092462291341164,
          0.7776925525145136,
          0,
          0.046272746730476204,
          0.694622687852194,
          0.9826321443780591,
          0.7298007933104875,
          0.05227896734231944,
          0,
          0.8050627819273766,
          0.941549664949595,
          0.7737694464560473,
          0.06406884292868367,
          0.008038838110441818,
          0.791498624426426,
          0.9719860584865012,
          0.7157390860115568,
          0,
          0.001329608056596919,
          0.7861961620049486,
          0.974771874533562,
          0.7190916112388697,
          0.06751020959336827,
          0.06508192960161577,
          0.7946244123971702,
          0.9928712543176944,
          0.8063710149528367,
          0,
          0.05076242603527564,
          0.7955917515507156,
          1.0089695828082688,
          0.772813821832711,
          0.022050043299746493,
          0.031220668162726457,
          0.7322975166386453,
          1.045730159310882,
          0.6994430194278638,
          0,
          0.016360579935353267,
          0.7216534758104266,
          1.0003187264794728,
          0.6925489283184445,
          0,
          0.053436687876645975,
          0.7165192910611269,
          1.0253265957557955,
          0.7253137013519824,
          0.05704383170147616,
          0.0194636276870212,
          0.738061140172843,
          1.0025032960196067,
          0.7331308467515265,
          0.04005512540504611,
          0.03491662028190411,
          0.7738274893554757,
          0.9596019125312417,
          0.7720071454724283,
          0.0008833043591345239,
          0.0317414672292341,
          0.7845013187576193,
          0.983874452852444,
          0.7345192546835867,
          0.027218418627482505,
          0.011431380409128663,
          0.7365427717555596,
          1.0809211250502087,
          0.799556373629115,
          0.04553029962858537,
          0,
          0.8081151288924554,
          0.9814658693945431,
          0.7739803484016986,
          0.011650061248262414,
          0.029738763461977933,
          0.797606868432213,
          1.0160811708311175,
          0.7826476629082602,
          0.024692926919757417,
          0,
          0.7294637902541375,
          1.0113175172506859,
          0.7598912989032368,
          0,
          0.036953694546876734,
          0.7774997865830677,
          1.0253716574793448,
          0.749590882673223,
          0,
          0,
          0.7688085112829236,
          1.034808660394437,
          0.7401008798898238,
          0,
          0.019393474035113777,
          0.7754846485040647,
          0.9538567380909408,
          0.8098075912428356,
          0,
          0,
          0.7647515611218605,
          0.9628860615430668,
          0.8007253185244462,
          0.02462178293207731,
          0,
          0.7516207530937469,
          1.0235837280987012,
          0.7624225685376879,
          0.022446744177224847,
          0.0045878066965829405,
          0.7605564207690909,
          0.9905132594850525,
          0.7616212485147942,
          0,
          0,
          0.7543497449054617,
          1.0040981104131208,
          0.7571391901649501,
          0,
          0,
          0.7394739005666695,
          1.026265281913899,
          0.7608884544064882,
          0.02934132698516142,
          0.0026539226858651073,
          0.7872017920471496,
          1.03303114300776,
          0.7624549787195063,
          0.011100554219417502,
          0.005892657175832681,
          0.7415500162055396,
          0.9575188836272865,
          0.7519842151521485,
          0.07977603589659593,
          0,
          0.7451498975573124,
          0.9906971406874939,
          0.7944322645413163,
          0,
          0,
          0.7195423659024227,
          0.9915399681531454,
          0.7670213739622399,
          0.05423107424690053,
          0,
          0.7844325640621596,
          1.0199189188334803,
          0.7295266637175889,
          0,
          0.05466079939277582,
          0.7616795340843184,
          0.9667326909268852,
          0.7888081881899782,
          0.07042192022146321,
          0.011453082413632668,
          0.7187774003678108,
          1.0132044454049884,
          0.7994409307695213,
          0.007488486687773067,
          0.054905327686073646,
          0.7783731735464459,
          1.0148633841257024,
          0.7363519882408873,
          0.03418411847451013,
          0.03148289994066169,
          0.7486641048294177,
          1.0169939351025161,
          0.7660313503842692,
          0,
          0.0229662832718246,
          0.7362411174941805,
          1.0206308902582286,
          0.815037602195298,
          0.03902924589234309,
          0.055225828060644404,
          0.7520707903802339,
          0.991531671943271,
          0.7555378052800867,
          0.0654179030812113,
          0.08631317350277425,
          0.7579992886613243,
          1.0207152125666612,
          0.7614538978983204,
          0,
          0.02450197431255356,
          0.7607666384506593,
          1.0295705227101661,
          0.723735418476935,
          0,
          0.01180054407493452,
          0.7880445426469449,
          0.9774638222772684,
          0.7457926319024882,
          0,
          0.05578981079089937,
          0.7518909743257228,
          1.002866858460713,
          0.7469122333585314,
          0,
          0.04066486049759082,
          0.7693028187863494,
          1.0261106513610432,
          0.7731262692979879,
          0,
          0,
          0.7820433013073952,
          0.9859544192864246,
          0.7299099064390641,
          0.005597618062185391,
          0,
          0.7844090869918854,
          0.9873524800131402,
          0.7507210399440074,
          0,
          0.020144313940323455,
          0.7674101285009655,
          0.9534161650976323,
          0.7474269559929146,
          0.005560951097046838,
          0,
          0.7762529145340232,
          1.0079840678486087,
          0.794145396293493,
          0.004911177270158218,
          0.07115959418436756,
          0.7612525374182381,
          1.0526695517000635,
          0.7470078958375205,
          0.016142096916474287,
          0,
          0.7394089719261943,
          1.0441360867290128,
          0.7565164072170912,
          0.06211163536245163,
          0.014140342938575991,
          0.7238748690250628,
          1.0369471153272325,
          0.7115324616961239,
          0.0533780075144489,
          0.014457822186392612,
          0.750579319037476,
          1.0342702215303199,
          0.7412259971183673,
          0.020633495247644414,
          0.041464527041091555,
          0.7329675844217088,
          1.0088640396595245,
          0.7419651440359246,
          0,
          0.0425853254162953,
          0.7337591487914035,
          0.9984328548273858,
          0.7975438981202896,
          0.02324139966821591,
          0.06641592428382517,
          0.7272238223868903,
          1.0321996538916482,
          0.7410816869878892,
          0.011670582551972643,
          0.03789730532730683,
          0.7922510239097369,
          1.0550223710123874,
          0.7423208479017028,
          0,
          0.004864028797678837,
          0.7240955293719488,
          1.0038721464990732,
          0.7690180530148547,
          0,
          0,
          0.7413533974523746,
          0.9839755052751302,
          0.755036802176087,
          0.030062540206556587,
          0.009015511086931795,
          0.7891041492012291,
          1.0349693395523294,
          0.7790234076137517,
          0.00432768259560142,
          0.0337352412734556,
          0.7370592225412221,
          0.995885277485445,
          0.8041676599510001,
          0,
          0,
          0.7622700037066471,
          0.923241326669757,
          0.7660612511316414,
          0.07275331045251603,
          0,
          0.7934844394425634,
          1.0448106985337886,
          0.7680772464327318,
          0.010140364848949753,
          0.002616944269525632,
          0.7518868333927184,
          1.047437063878232,
          0.7666251849087906,
          0.044650565756368624,
          0,
          0.7535120200692472,
          0.9941114436759457,
          0.7779892251570464,
          0,
          0,
          0.7129040937764112,
          0.9635351292716232,
          0.7888484954850132,
          0,
          0.058452304894219737,
          0.7418647763196636,
          1.0388608054542157,
          0.7859935001945115,
          0,
          0,
          0.7773541156971346,
          1.0085533121123713,
          0.729035674151937,
          0.0028698713770700345,
          0.06532893384973568,
          0.7523503033571045,
          0.959461753855364,
          0.7901701494076675,
          0.014050870512645433,
          0.051856381185996024,
          0.8046815487462536,
          1.0035440469744672,
          0.7815820602044463,
          0.007367097309229145,
          0.008440442801802134,
          0.7940944177862375,
          0.9881211714746905,
          0.7556838661607708,
          0,
          0.007183028723810829,
          0.7853047289371803,
          1.021720027455928,
          0.7688569837288385,
          0.03560237826971888
         ],
         "xaxis": "x",
         "yaxis": "y"
        }
       ],
       "layout": {
        "barmode": "relative",
        "height": 400,
        "legend": {
         "tracegroupgap": 0
        },
        "template": {
         "data": {
          "bar": [
           {
            "error_x": {
             "color": "#2a3f5f"
            },
            "error_y": {
             "color": "#2a3f5f"
            },
            "marker": {
             "line": {
              "color": "#E5ECF6",
              "width": 0.5
             }
            },
            "type": "bar"
           }
          ],
          "barpolar": [
           {
            "marker": {
             "line": {
              "color": "#E5ECF6",
              "width": 0.5
             }
            },
            "type": "barpolar"
           }
          ],
          "carpet": [
           {
            "aaxis": {
             "endlinecolor": "#2a3f5f",
             "gridcolor": "white",
             "linecolor": "white",
             "minorgridcolor": "white",
             "startlinecolor": "#2a3f5f"
            },
            "baxis": {
             "endlinecolor": "#2a3f5f",
             "gridcolor": "white",
             "linecolor": "white",
             "minorgridcolor": "white",
             "startlinecolor": "#2a3f5f"
            },
            "type": "carpet"
           }
          ],
          "choropleth": [
           {
            "colorbar": {
             "outlinewidth": 0,
             "ticks": ""
            },
            "type": "choropleth"
           }
          ],
          "contour": [
           {
            "colorbar": {
             "outlinewidth": 0,
             "ticks": ""
            },
            "colorscale": [
             [
              0,
              "#0d0887"
             ],
             [
              0.1111111111111111,
              "#46039f"
             ],
             [
              0.2222222222222222,
              "#7201a8"
             ],
             [
              0.3333333333333333,
              "#9c179e"
             ],
             [
              0.4444444444444444,
              "#bd3786"
             ],
             [
              0.5555555555555556,
              "#d8576b"
             ],
             [
              0.6666666666666666,
              "#ed7953"
             ],
             [
              0.7777777777777778,
              "#fb9f3a"
             ],
             [
              0.8888888888888888,
              "#fdca26"
             ],
             [
              1,
              "#f0f921"
             ]
            ],
            "type": "contour"
           }
          ],
          "contourcarpet": [
           {
            "colorbar": {
             "outlinewidth": 0,
             "ticks": ""
            },
            "type": "contourcarpet"
           }
          ],
          "heatmap": [
           {
            "colorbar": {
             "outlinewidth": 0,
             "ticks": ""
            },
            "colorscale": [
             [
              0,
              "#0d0887"
             ],
             [
              0.1111111111111111,
              "#46039f"
             ],
             [
              0.2222222222222222,
              "#7201a8"
             ],
             [
              0.3333333333333333,
              "#9c179e"
             ],
             [
              0.4444444444444444,
              "#bd3786"
             ],
             [
              0.5555555555555556,
              "#d8576b"
             ],
             [
              0.6666666666666666,
              "#ed7953"
             ],
             [
              0.7777777777777778,
              "#fb9f3a"
             ],
             [
              0.8888888888888888,
              "#fdca26"
             ],
             [
              1,
              "#f0f921"
             ]
            ],
            "type": "heatmap"
           }
          ],
          "heatmapgl": [
           {
            "colorbar": {
             "outlinewidth": 0,
             "ticks": ""
            },
            "colorscale": [
             [
              0,
              "#0d0887"
             ],
             [
              0.1111111111111111,
              "#46039f"
             ],
             [
              0.2222222222222222,
              "#7201a8"
             ],
             [
              0.3333333333333333,
              "#9c179e"
             ],
             [
              0.4444444444444444,
              "#bd3786"
             ],
             [
              0.5555555555555556,
              "#d8576b"
             ],
             [
              0.6666666666666666,
              "#ed7953"
             ],
             [
              0.7777777777777778,
              "#fb9f3a"
             ],
             [
              0.8888888888888888,
              "#fdca26"
             ],
             [
              1,
              "#f0f921"
             ]
            ],
            "type": "heatmapgl"
           }
          ],
          "histogram": [
           {
            "marker": {
             "colorbar": {
              "outlinewidth": 0,
              "ticks": ""
             }
            },
            "type": "histogram"
           }
          ],
          "histogram2d": [
           {
            "colorbar": {
             "outlinewidth": 0,
             "ticks": ""
            },
            "colorscale": [
             [
              0,
              "#0d0887"
             ],
             [
              0.1111111111111111,
              "#46039f"
             ],
             [
              0.2222222222222222,
              "#7201a8"
             ],
             [
              0.3333333333333333,
              "#9c179e"
             ],
             [
              0.4444444444444444,
              "#bd3786"
             ],
             [
              0.5555555555555556,
              "#d8576b"
             ],
             [
              0.6666666666666666,
              "#ed7953"
             ],
             [
              0.7777777777777778,
              "#fb9f3a"
             ],
             [
              0.8888888888888888,
              "#fdca26"
             ],
             [
              1,
              "#f0f921"
             ]
            ],
            "type": "histogram2d"
           }
          ],
          "histogram2dcontour": [
           {
            "colorbar": {
             "outlinewidth": 0,
             "ticks": ""
            },
            "colorscale": [
             [
              0,
              "#0d0887"
             ],
             [
              0.1111111111111111,
              "#46039f"
             ],
             [
              0.2222222222222222,
              "#7201a8"
             ],
             [
              0.3333333333333333,
              "#9c179e"
             ],
             [
              0.4444444444444444,
              "#bd3786"
             ],
             [
              0.5555555555555556,
              "#d8576b"
             ],
             [
              0.6666666666666666,
              "#ed7953"
             ],
             [
              0.7777777777777778,
              "#fb9f3a"
             ],
             [
              0.8888888888888888,
              "#fdca26"
             ],
             [
              1,
              "#f0f921"
             ]
            ],
            "type": "histogram2dcontour"
           }
          ],
          "mesh3d": [
           {
            "colorbar": {
             "outlinewidth": 0,
             "ticks": ""
            },
            "type": "mesh3d"
           }
          ],
          "parcoords": [
           {
            "line": {
             "colorbar": {
              "outlinewidth": 0,
              "ticks": ""
             }
            },
            "type": "parcoords"
           }
          ],
          "pie": [
           {
            "automargin": true,
            "type": "pie"
           }
          ],
          "scatter": [
           {
            "marker": {
             "colorbar": {
              "outlinewidth": 0,
              "ticks": ""
             }
            },
            "type": "scatter"
           }
          ],
          "scatter3d": [
           {
            "line": {
             "colorbar": {
              "outlinewidth": 0,
              "ticks": ""
             }
            },
            "marker": {
             "colorbar": {
              "outlinewidth": 0,
              "ticks": ""
             }
            },
            "type": "scatter3d"
           }
          ],
          "scattercarpet": [
           {
            "marker": {
             "colorbar": {
              "outlinewidth": 0,
              "ticks": ""
             }
            },
            "type": "scattercarpet"
           }
          ],
          "scattergeo": [
           {
            "marker": {
             "colorbar": {
              "outlinewidth": 0,
              "ticks": ""
             }
            },
            "type": "scattergeo"
           }
          ],
          "scattergl": [
           {
            "marker": {
             "colorbar": {
              "outlinewidth": 0,
              "ticks": ""
             }
            },
            "type": "scattergl"
           }
          ],
          "scattermapbox": [
           {
            "marker": {
             "colorbar": {
              "outlinewidth": 0,
              "ticks": ""
             }
            },
            "type": "scattermapbox"
           }
          ],
          "scatterpolar": [
           {
            "marker": {
             "colorbar": {
              "outlinewidth": 0,
              "ticks": ""
             }
            },
            "type": "scatterpolar"
           }
          ],
          "scatterpolargl": [
           {
            "marker": {
             "colorbar": {
              "outlinewidth": 0,
              "ticks": ""
             }
            },
            "type": "scatterpolargl"
           }
          ],
          "scatterternary": [
           {
            "marker": {
             "colorbar": {
              "outlinewidth": 0,
              "ticks": ""
             }
            },
            "type": "scatterternary"
           }
          ],
          "surface": [
           {
            "colorbar": {
             "outlinewidth": 0,
             "ticks": ""
            },
            "colorscale": [
             [
              0,
              "#0d0887"
             ],
             [
              0.1111111111111111,
              "#46039f"
             ],
             [
              0.2222222222222222,
              "#7201a8"
             ],
             [
              0.3333333333333333,
              "#9c179e"
             ],
             [
              0.4444444444444444,
              "#bd3786"
             ],
             [
              0.5555555555555556,
              "#d8576b"
             ],
             [
              0.6666666666666666,
              "#ed7953"
             ],
             [
              0.7777777777777778,
              "#fb9f3a"
             ],
             [
              0.8888888888888888,
              "#fdca26"
             ],
             [
              1,
              "#f0f921"
             ]
            ],
            "type": "surface"
           }
          ],
          "table": [
           {
            "cells": {
             "fill": {
              "color": "#EBF0F8"
             },
             "line": {
              "color": "white"
             }
            },
            "header": {
             "fill": {
              "color": "#C8D4E3"
             },
             "line": {
              "color": "white"
             }
            },
            "type": "table"
           }
          ]
         },
         "layout": {
          "annotationdefaults": {
           "arrowcolor": "#2a3f5f",
           "arrowhead": 0,
           "arrowwidth": 1
          },
          "autotypenumbers": "strict",
          "coloraxis": {
           "colorbar": {
            "outlinewidth": 0,
            "ticks": ""
           }
          },
          "colorscale": {
           "diverging": [
            [
             0,
             "#8e0152"
            ],
            [
             0.1,
             "#c51b7d"
            ],
            [
             0.2,
             "#de77ae"
            ],
            [
             0.3,
             "#f1b6da"
            ],
            [
             0.4,
             "#fde0ef"
            ],
            [
             0.5,
             "#f7f7f7"
            ],
            [
             0.6,
             "#e6f5d0"
            ],
            [
             0.7,
             "#b8e186"
            ],
            [
             0.8,
             "#7fbc41"
            ],
            [
             0.9,
             "#4d9221"
            ],
            [
             1,
             "#276419"
            ]
           ],
           "sequential": [
            [
             0,
             "#0d0887"
            ],
            [
             0.1111111111111111,
             "#46039f"
            ],
            [
             0.2222222222222222,
             "#7201a8"
            ],
            [
             0.3333333333333333,
             "#9c179e"
            ],
            [
             0.4444444444444444,
             "#bd3786"
            ],
            [
             0.5555555555555556,
             "#d8576b"
            ],
            [
             0.6666666666666666,
             "#ed7953"
            ],
            [
             0.7777777777777778,
             "#fb9f3a"
            ],
            [
             0.8888888888888888,
             "#fdca26"
            ],
            [
             1,
             "#f0f921"
            ]
           ],
           "sequentialminus": [
            [
             0,
             "#0d0887"
            ],
            [
             0.1111111111111111,
             "#46039f"
            ],
            [
             0.2222222222222222,
             "#7201a8"
            ],
            [
             0.3333333333333333,
             "#9c179e"
            ],
            [
             0.4444444444444444,
             "#bd3786"
            ],
            [
             0.5555555555555556,
             "#d8576b"
            ],
            [
             0.6666666666666666,
             "#ed7953"
            ],
            [
             0.7777777777777778,
             "#fb9f3a"
            ],
            [
             0.8888888888888888,
             "#fdca26"
            ],
            [
             1,
             "#f0f921"
            ]
           ]
          },
          "colorway": [
           "#636efa",
           "#EF553B",
           "#00cc96",
           "#ab63fa",
           "#FFA15A",
           "#19d3f3",
           "#FF6692",
           "#B6E880",
           "#FF97FF",
           "#FECB52"
          ],
          "font": {
           "color": "#2a3f5f"
          },
          "geo": {
           "bgcolor": "white",
           "lakecolor": "white",
           "landcolor": "#E5ECF6",
           "showlakes": true,
           "showland": true,
           "subunitcolor": "white"
          },
          "hoverlabel": {
           "align": "left"
          },
          "hovermode": "closest",
          "mapbox": {
           "style": "light"
          },
          "paper_bgcolor": "white",
          "plot_bgcolor": "#E5ECF6",
          "polar": {
           "angularaxis": {
            "gridcolor": "white",
            "linecolor": "white",
            "ticks": ""
           },
           "bgcolor": "#E5ECF6",
           "radialaxis": {
            "gridcolor": "white",
            "linecolor": "white",
            "ticks": ""
           }
          },
          "scene": {
           "xaxis": {
            "backgroundcolor": "#E5ECF6",
            "gridcolor": "white",
            "gridwidth": 2,
            "linecolor": "white",
            "showbackground": true,
            "ticks": "",
            "zerolinecolor": "white"
           },
           "yaxis": {
            "backgroundcolor": "#E5ECF6",
            "gridcolor": "white",
            "gridwidth": 2,
            "linecolor": "white",
            "showbackground": true,
            "ticks": "",
            "zerolinecolor": "white"
           },
           "zaxis": {
            "backgroundcolor": "#E5ECF6",
            "gridcolor": "white",
            "gridwidth": 2,
            "linecolor": "white",
            "showbackground": true,
            "ticks": "",
            "zerolinecolor": "white"
           }
          },
          "shapedefaults": {
           "line": {
            "color": "#2a3f5f"
           }
          },
          "ternary": {
           "aaxis": {
            "gridcolor": "white",
            "linecolor": "white",
            "ticks": ""
           },
           "baxis": {
            "gridcolor": "white",
            "linecolor": "white",
            "ticks": ""
           },
           "bgcolor": "#E5ECF6",
           "caxis": {
            "gridcolor": "white",
            "linecolor": "white",
            "ticks": ""
           }
          },
          "title": {
           "x": 0.05
          },
          "xaxis": {
           "automargin": true,
           "gridcolor": "white",
           "linecolor": "white",
           "ticks": "",
           "title": {
            "standoff": 15
           },
           "zerolinecolor": "white",
           "zerolinewidth": 2
          },
          "yaxis": {
           "automargin": true,
           "gridcolor": "white",
           "linecolor": "white",
           "ticks": "",
           "title": {
            "standoff": 15
           },
           "zerolinecolor": "white",
           "zerolinewidth": 2
          }
         }
        },
        "title": {
         "text": "Гистограмма распределения зависимой переменной volume"
        },
        "width": 800,
        "xaxis": {
         "anchor": "y",
         "domain": [
          0,
          1
         ],
         "title": {
          "text": "volume"
         }
        },
        "yaxis": {
         "anchor": "x",
         "domain": [
          0,
          1
         ],
         "title": {
          "text": "count"
         }
        }
       }
      },
      "text/html": [
       "<div>                            <div id=\"5e061583-ac4d-40af-8936-96f1e6c22d5b\" class=\"plotly-graph-div\" style=\"height:400px; width:800px;\"></div>            <script type=\"text/javascript\">                require([\"plotly\"], function(Plotly) {                    window.PLOTLYENV=window.PLOTLYENV || {};                                    if (document.getElementById(\"5e061583-ac4d-40af-8936-96f1e6c22d5b\")) {                    Plotly.newPlot(                        \"5e061583-ac4d-40af-8936-96f1e6c22d5b\",                        [{\"alignmentgroup\": \"True\", \"bingroup\": \"x\", \"hovertemplate\": \"volume=%{x}<br>count=%{y}<extra></extra>\", \"legendgroup\": \"\", \"marker\": {\"color\": \"#636efa\"}, \"name\": \"\", \"offsetgroup\": \"\", \"orientation\": \"v\", \"showlegend\": false, \"type\": \"histogram\", \"x\": [0.0, 0.7433232326429872, 0.9774047425972967, 0.7726702415163742, 0.03928876143736482, 0.0, 0.7181196017849273, 0.9709582392722839, 0.8241885718437671, 0.0, 0.010892099083406007, 0.7501129109186735, 0.9839595505499812, 0.7452243389947042, 0.0004424676236868168, 0.0, 0.7594821889739312, 0.9977784350952693, 0.7307647853013942, 0.0, 0.0, 0.727465229375124, 1.007942793636198, 0.7225893666150941, 0.018731323020972187, 0.0, 0.7422367285281536, 0.9874412198035674, 0.7947432535052172, 0.05569516472775865, 0.025830220739950095, 0.7580894527214936, 1.0480474754320723, 0.8014791010273239, 0.05092773163852208, 0.0, 0.7981851809322086, 0.991755021269524, 0.7877641288384442, 0.038122814255952917, 0.010720386905228751, 0.6906496824436125, 1.0049328147194785, 0.729087055452143, 0.02081329142885218, 0.0, 0.7693547340041862, 1.0077577698743136, 0.733834836195315, 0.0, 0.046119921797648, 0.7819044346935818, 1.0417764390288273, 0.7369494983701484, 0.0, 0.012972886773976199, 0.7961787922459581, 1.109164692256255, 0.7583995912084941, 0.02283445634815302, 0.0, 0.7654345554369477, 1.019814773830882, 0.7605730440597342, 0.02916974161802695, 0.0, 0.7347094858985785, 1.004879337557308, 0.7485817582306844, 0.0, 0.020969714031807224, 0.7998757610729234, 0.9904779251522807, 0.770423419208543, 0.07690902038462795, 0.04585336169477866, 0.7841709252958327, 1.0095914424637973, 0.7512876575551651, 0.031012645961243472, 0.044379218090661476, 0.7275042183469164, 1.0658848878305216, 0.7824623755220942, 0.038980093278685804, 0.0053468061684144655, 0.7557036612130336, 0.9837656731651222, 0.7247185526186902, 0.0, 0.015963865664178387, 0.726405918141206, 0.9428291745012413, 0.8203086243494793, 0.0, 0.0, 0.7812090712465282, 1.0080069015903763, 0.7998403595703065, 0.057214075350198394, 0.0, 0.7735199614656765, 1.016090217104712, 0.7019124555932327, 0.02053963063522242, 0.03912257621203474, 0.7667481086210298, 1.0633073590117976, 0.765073572538918, 0.0, 0.0, 0.7655489313897096, 1.0274339092827964, 0.7877446342214715, 0.03291057826003056, 0.025756015146570242, 0.7732754404996002, 0.9813069560659556, 0.7226417014799529, 0.05197599832658395, 0.0, 0.7540775366259774, 1.07682068832672, 0.7561612241175156, 0.0, 0.0, 0.7963980629273985, 0.969347134592443, 0.7325052464298342, 0.01616635799954945, 0.019103635952906414, 0.7460892443943391, 1.0010038425107846, 0.7994622992808713, 0.02311415404057378, 0.0, 0.7770015341215323, 1.0105232786580982, 0.7796300347927028, 0.009663556924268448, 0.061498869479303074, 0.740320448154599, 0.9745894094968441, 0.7761944797550066, 0.021248600521277576, 0.0, 0.7519463340150586, 1.0349433037195843, 0.7305514632376409, 0.04594029084483256, 0.0, 0.7468879881710054, 1.0378532521572645, 0.790889877578001, 0.005738881782245148, 0.002804591587030833, 0.7565880157798552, 1.046825611830515, 0.7374061630149067, 0.0270750585655759, 0.0, 0.7630330663227307, 1.0092462291341164, 0.7776925525145136, 0.0, 0.046272746730476204, 0.694622687852194, 0.9826321443780591, 0.7298007933104875, 0.05227896734231944, 0.0, 0.8050627819273766, 0.941549664949595, 0.7737694464560473, 0.06406884292868367, 0.008038838110441818, 0.791498624426426, 0.9719860584865012, 0.7157390860115568, 0.0, 0.001329608056596919, 0.7861961620049486, 0.974771874533562, 0.7190916112388697, 0.06751020959336827, 0.06508192960161577, 0.7946244123971702, 0.9928712543176944, 0.8063710149528367, 0.0, 0.05076242603527564, 0.7955917515507156, 1.0089695828082688, 0.772813821832711, 0.022050043299746493, 0.031220668162726457, 0.7322975166386453, 1.045730159310882, 0.6994430194278638, 0.0, 0.016360579935353267, 0.7216534758104266, 1.0003187264794728, 0.6925489283184445, 0.0, 0.053436687876645975, 0.7165192910611269, 1.0253265957557955, 0.7253137013519824, 0.05704383170147616, 0.0194636276870212, 0.738061140172843, 1.0025032960196067, 0.7331308467515265, 0.04005512540504611, 0.03491662028190411, 0.7738274893554757, 0.9596019125312417, 0.7720071454724283, 0.0008833043591345239, 0.0317414672292341, 0.7845013187576193, 0.983874452852444, 0.7345192546835867, 0.027218418627482505, 0.011431380409128663, 0.7365427717555596, 1.0809211250502087, 0.799556373629115, 0.04553029962858537, 0.0, 0.8081151288924554, 0.9814658693945431, 0.7739803484016986, 0.011650061248262414, 0.029738763461977933, 0.797606868432213, 1.0160811708311175, 0.7826476629082602, 0.024692926919757417, 0.0, 0.7294637902541375, 1.0113175172506859, 0.7598912989032368, 0.0, 0.036953694546876734, 0.7774997865830677, 1.0253716574793448, 0.749590882673223, 0.0, 0.0, 0.7688085112829236, 1.034808660394437, 0.7401008798898238, 0.0, 0.019393474035113777, 0.7754846485040647, 0.9538567380909408, 0.8098075912428356, 0.0, 0.0, 0.7647515611218605, 0.9628860615430668, 0.8007253185244462, 0.02462178293207731, 0.0, 0.7516207530937469, 1.0235837280987012, 0.7624225685376879, 0.022446744177224847, 0.0045878066965829405, 0.7605564207690909, 0.9905132594850525, 0.7616212485147942, 0.0, 0.0, 0.7543497449054617, 1.0040981104131208, 0.7571391901649501, 0.0, 0.0, 0.7394739005666695, 1.026265281913899, 0.7608884544064882, 0.02934132698516142, 0.0026539226858651073, 0.7872017920471496, 1.03303114300776, 0.7624549787195063, 0.011100554219417502, 0.005892657175832681, 0.7415500162055396, 0.9575188836272865, 0.7519842151521485, 0.07977603589659593, 0.0, 0.7451498975573124, 0.9906971406874939, 0.7944322645413163, 0.0, 0.0, 0.7195423659024227, 0.9915399681531454, 0.7670213739622399, 0.05423107424690053, 0.0, 0.7844325640621596, 1.0199189188334803, 0.7295266637175889, 0.0, 0.05466079939277582, 0.7616795340843184, 0.9667326909268852, 0.7888081881899782, 0.07042192022146321, 0.011453082413632668, 0.7187774003678108, 1.0132044454049884, 0.7994409307695213, 0.007488486687773067, 0.054905327686073646, 0.7783731735464459, 1.0148633841257024, 0.7363519882408873, 0.03418411847451013, 0.03148289994066169, 0.7486641048294177, 1.0169939351025161, 0.7660313503842692, 0.0, 0.0229662832718246, 0.7362411174941805, 1.0206308902582286, 0.815037602195298, 0.03902924589234309, 0.055225828060644404, 0.7520707903802339, 0.991531671943271, 0.7555378052800867, 0.0654179030812113, 0.08631317350277425, 0.7579992886613243, 1.0207152125666612, 0.7614538978983204, 0.0, 0.02450197431255356, 0.7607666384506593, 1.0295705227101661, 0.723735418476935, 0.0, 0.01180054407493452, 0.7880445426469449, 0.9774638222772684, 0.7457926319024882, 0.0, 0.05578981079089937, 0.7518909743257228, 1.002866858460713, 0.7469122333585314, 0.0, 0.04066486049759082, 0.7693028187863494, 1.0261106513610432, 0.7731262692979879, 0.0, 0.0, 0.7820433013073952, 0.9859544192864246, 0.7299099064390641, 0.005597618062185391, 0.0, 0.7844090869918854, 0.9873524800131402, 0.7507210399440074, 0.0, 0.020144313940323455, 0.7674101285009655, 0.9534161650976323, 0.7474269559929146, 0.005560951097046838, 0.0, 0.7762529145340232, 1.0079840678486087, 0.794145396293493, 0.004911177270158218, 0.07115959418436756, 0.7612525374182381, 1.0526695517000635, 0.7470078958375205, 0.016142096916474287, 0.0, 0.7394089719261943, 1.0441360867290128, 0.7565164072170912, 0.06211163536245163, 0.014140342938575991, 0.7238748690250628, 1.0369471153272325, 0.7115324616961239, 0.0533780075144489, 0.014457822186392612, 0.750579319037476, 1.0342702215303199, 0.7412259971183673, 0.020633495247644414, 0.041464527041091555, 0.7329675844217088, 1.0088640396595245, 0.7419651440359246, 0.0, 0.0425853254162953, 0.7337591487914035, 0.9984328548273858, 0.7975438981202896, 0.02324139966821591, 0.06641592428382517, 0.7272238223868903, 1.0321996538916482, 0.7410816869878892, 0.011670582551972643, 0.03789730532730683, 0.7922510239097369, 1.0550223710123874, 0.7423208479017028, 0.0, 0.004864028797678837, 0.7240955293719488, 1.0038721464990732, 0.7690180530148547, 0.0, 0.0, 0.7413533974523746, 0.9839755052751302, 0.755036802176087, 0.030062540206556587, 0.009015511086931795, 0.7891041492012291, 1.0349693395523294, 0.7790234076137517, 0.00432768259560142, 0.0337352412734556, 0.7370592225412221, 0.995885277485445, 0.8041676599510001, 0.0, 0.0, 0.7622700037066471, 0.923241326669757, 0.7660612511316414, 0.07275331045251603, 0.0, 0.7934844394425634, 1.0448106985337886, 0.7680772464327318, 0.010140364848949753, 0.002616944269525632, 0.7518868333927184, 1.047437063878232, 0.7666251849087906, 0.044650565756368624, 0.0, 0.7535120200692472, 0.9941114436759457, 0.7779892251570464, 0.0, 0.0, 0.7129040937764112, 0.9635351292716232, 0.7888484954850132, 0.0, 0.058452304894219737, 0.7418647763196636, 1.0388608054542157, 0.7859935001945115, 0.0, 0.0, 0.7773541156971346, 1.0085533121123713, 0.729035674151937, 0.0028698713770700345, 0.06532893384973568, 0.7523503033571045, 0.959461753855364, 0.7901701494076675, 0.014050870512645433, 0.051856381185996024, 0.8046815487462536, 1.0035440469744672, 0.7815820602044463, 0.007367097309229145, 0.008440442801802134, 0.7940944177862375, 0.9881211714746905, 0.7556838661607708, 0.0, 0.007183028723810829, 0.7853047289371803, 1.021720027455928, 0.7688569837288385, 0.03560237826971888], \"xaxis\": \"x\", \"yaxis\": \"y\"}],                        {\"barmode\": \"relative\", \"height\": 400, \"legend\": {\"tracegroupgap\": 0}, \"template\": {\"data\": {\"bar\": [{\"error_x\": {\"color\": \"#2a3f5f\"}, \"error_y\": {\"color\": \"#2a3f5f\"}, \"marker\": {\"line\": {\"color\": \"#E5ECF6\", \"width\": 0.5}}, \"type\": \"bar\"}], \"barpolar\": [{\"marker\": {\"line\": {\"color\": \"#E5ECF6\", \"width\": 0.5}}, \"type\": \"barpolar\"}], \"carpet\": [{\"aaxis\": {\"endlinecolor\": \"#2a3f5f\", \"gridcolor\": \"white\", \"linecolor\": \"white\", \"minorgridcolor\": \"white\", \"startlinecolor\": \"#2a3f5f\"}, \"baxis\": {\"endlinecolor\": \"#2a3f5f\", \"gridcolor\": \"white\", \"linecolor\": \"white\", \"minorgridcolor\": \"white\", \"startlinecolor\": \"#2a3f5f\"}, \"type\": \"carpet\"}], \"choropleth\": [{\"colorbar\": {\"outlinewidth\": 0, \"ticks\": \"\"}, \"type\": \"choropleth\"}], \"contour\": [{\"colorbar\": {\"outlinewidth\": 0, \"ticks\": \"\"}, \"colorscale\": [[0.0, \"#0d0887\"], [0.1111111111111111, \"#46039f\"], [0.2222222222222222, \"#7201a8\"], [0.3333333333333333, \"#9c179e\"], [0.4444444444444444, \"#bd3786\"], [0.5555555555555556, \"#d8576b\"], [0.6666666666666666, \"#ed7953\"], [0.7777777777777778, \"#fb9f3a\"], [0.8888888888888888, \"#fdca26\"], [1.0, \"#f0f921\"]], \"type\": \"contour\"}], \"contourcarpet\": [{\"colorbar\": {\"outlinewidth\": 0, \"ticks\": \"\"}, \"type\": \"contourcarpet\"}], \"heatmap\": [{\"colorbar\": {\"outlinewidth\": 0, \"ticks\": \"\"}, \"colorscale\": [[0.0, \"#0d0887\"], [0.1111111111111111, \"#46039f\"], [0.2222222222222222, \"#7201a8\"], [0.3333333333333333, \"#9c179e\"], [0.4444444444444444, \"#bd3786\"], [0.5555555555555556, \"#d8576b\"], [0.6666666666666666, \"#ed7953\"], [0.7777777777777778, \"#fb9f3a\"], [0.8888888888888888, \"#fdca26\"], [1.0, \"#f0f921\"]], \"type\": \"heatmap\"}], \"heatmapgl\": [{\"colorbar\": {\"outlinewidth\": 0, \"ticks\": \"\"}, \"colorscale\": [[0.0, \"#0d0887\"], [0.1111111111111111, \"#46039f\"], [0.2222222222222222, \"#7201a8\"], [0.3333333333333333, \"#9c179e\"], [0.4444444444444444, \"#bd3786\"], [0.5555555555555556, \"#d8576b\"], [0.6666666666666666, \"#ed7953\"], [0.7777777777777778, \"#fb9f3a\"], [0.8888888888888888, \"#fdca26\"], [1.0, \"#f0f921\"]], \"type\": \"heatmapgl\"}], \"histogram\": [{\"marker\": {\"colorbar\": {\"outlinewidth\": 0, \"ticks\": \"\"}}, \"type\": \"histogram\"}], \"histogram2d\": [{\"colorbar\": {\"outlinewidth\": 0, \"ticks\": \"\"}, \"colorscale\": [[0.0, \"#0d0887\"], [0.1111111111111111, \"#46039f\"], [0.2222222222222222, \"#7201a8\"], [0.3333333333333333, \"#9c179e\"], [0.4444444444444444, \"#bd3786\"], [0.5555555555555556, \"#d8576b\"], [0.6666666666666666, \"#ed7953\"], [0.7777777777777778, \"#fb9f3a\"], [0.8888888888888888, \"#fdca26\"], [1.0, \"#f0f921\"]], \"type\": \"histogram2d\"}], \"histogram2dcontour\": [{\"colorbar\": {\"outlinewidth\": 0, \"ticks\": \"\"}, \"colorscale\": [[0.0, \"#0d0887\"], [0.1111111111111111, \"#46039f\"], [0.2222222222222222, \"#7201a8\"], [0.3333333333333333, \"#9c179e\"], [0.4444444444444444, \"#bd3786\"], [0.5555555555555556, \"#d8576b\"], [0.6666666666666666, \"#ed7953\"], [0.7777777777777778, \"#fb9f3a\"], [0.8888888888888888, \"#fdca26\"], [1.0, \"#f0f921\"]], \"type\": \"histogram2dcontour\"}], \"mesh3d\": [{\"colorbar\": {\"outlinewidth\": 0, \"ticks\": \"\"}, \"type\": \"mesh3d\"}], \"parcoords\": [{\"line\": {\"colorbar\": {\"outlinewidth\": 0, \"ticks\": \"\"}}, \"type\": \"parcoords\"}], \"pie\": [{\"automargin\": true, \"type\": \"pie\"}], \"scatter\": [{\"marker\": {\"colorbar\": {\"outlinewidth\": 0, \"ticks\": \"\"}}, \"type\": \"scatter\"}], \"scatter3d\": [{\"line\": {\"colorbar\": {\"outlinewidth\": 0, \"ticks\": \"\"}}, \"marker\": {\"colorbar\": {\"outlinewidth\": 0, \"ticks\": \"\"}}, \"type\": \"scatter3d\"}], \"scattercarpet\": [{\"marker\": {\"colorbar\": {\"outlinewidth\": 0, \"ticks\": \"\"}}, \"type\": \"scattercarpet\"}], \"scattergeo\": [{\"marker\": {\"colorbar\": {\"outlinewidth\": 0, \"ticks\": \"\"}}, \"type\": \"scattergeo\"}], \"scattergl\": [{\"marker\": {\"colorbar\": {\"outlinewidth\": 0, \"ticks\": \"\"}}, \"type\": \"scattergl\"}], \"scattermapbox\": [{\"marker\": {\"colorbar\": {\"outlinewidth\": 0, \"ticks\": \"\"}}, \"type\": \"scattermapbox\"}], \"scatterpolar\": [{\"marker\": {\"colorbar\": {\"outlinewidth\": 0, \"ticks\": \"\"}}, \"type\": \"scatterpolar\"}], \"scatterpolargl\": [{\"marker\": {\"colorbar\": {\"outlinewidth\": 0, \"ticks\": \"\"}}, \"type\": \"scatterpolargl\"}], \"scatterternary\": [{\"marker\": {\"colorbar\": {\"outlinewidth\": 0, \"ticks\": \"\"}}, \"type\": \"scatterternary\"}], \"surface\": [{\"colorbar\": {\"outlinewidth\": 0, \"ticks\": \"\"}, \"colorscale\": [[0.0, \"#0d0887\"], [0.1111111111111111, \"#46039f\"], [0.2222222222222222, \"#7201a8\"], [0.3333333333333333, \"#9c179e\"], [0.4444444444444444, \"#bd3786\"], [0.5555555555555556, \"#d8576b\"], [0.6666666666666666, \"#ed7953\"], [0.7777777777777778, \"#fb9f3a\"], [0.8888888888888888, \"#fdca26\"], [1.0, \"#f0f921\"]], \"type\": \"surface\"}], \"table\": [{\"cells\": {\"fill\": {\"color\": \"#EBF0F8\"}, \"line\": {\"color\": \"white\"}}, \"header\": {\"fill\": {\"color\": \"#C8D4E3\"}, \"line\": {\"color\": \"white\"}}, \"type\": \"table\"}]}, \"layout\": {\"annotationdefaults\": {\"arrowcolor\": \"#2a3f5f\", \"arrowhead\": 0, \"arrowwidth\": 1}, \"autotypenumbers\": \"strict\", \"coloraxis\": {\"colorbar\": {\"outlinewidth\": 0, \"ticks\": \"\"}}, \"colorscale\": {\"diverging\": [[0, \"#8e0152\"], [0.1, \"#c51b7d\"], [0.2, \"#de77ae\"], [0.3, \"#f1b6da\"], [0.4, \"#fde0ef\"], [0.5, \"#f7f7f7\"], [0.6, \"#e6f5d0\"], [0.7, \"#b8e186\"], [0.8, \"#7fbc41\"], [0.9, \"#4d9221\"], [1, \"#276419\"]], \"sequential\": [[0.0, \"#0d0887\"], [0.1111111111111111, \"#46039f\"], [0.2222222222222222, \"#7201a8\"], [0.3333333333333333, \"#9c179e\"], [0.4444444444444444, \"#bd3786\"], [0.5555555555555556, \"#d8576b\"], [0.6666666666666666, \"#ed7953\"], [0.7777777777777778, \"#fb9f3a\"], [0.8888888888888888, \"#fdca26\"], [1.0, \"#f0f921\"]], \"sequentialminus\": [[0.0, \"#0d0887\"], [0.1111111111111111, \"#46039f\"], [0.2222222222222222, \"#7201a8\"], [0.3333333333333333, \"#9c179e\"], [0.4444444444444444, \"#bd3786\"], [0.5555555555555556, \"#d8576b\"], [0.6666666666666666, \"#ed7953\"], [0.7777777777777778, \"#fb9f3a\"], [0.8888888888888888, \"#fdca26\"], [1.0, \"#f0f921\"]]}, \"colorway\": [\"#636efa\", \"#EF553B\", \"#00cc96\", \"#ab63fa\", \"#FFA15A\", \"#19d3f3\", \"#FF6692\", \"#B6E880\", \"#FF97FF\", \"#FECB52\"], \"font\": {\"color\": \"#2a3f5f\"}, \"geo\": {\"bgcolor\": \"white\", \"lakecolor\": \"white\", \"landcolor\": \"#E5ECF6\", \"showlakes\": true, \"showland\": true, \"subunitcolor\": \"white\"}, \"hoverlabel\": {\"align\": \"left\"}, \"hovermode\": \"closest\", \"mapbox\": {\"style\": \"light\"}, \"paper_bgcolor\": \"white\", \"plot_bgcolor\": \"#E5ECF6\", \"polar\": {\"angularaxis\": {\"gridcolor\": \"white\", \"linecolor\": \"white\", \"ticks\": \"\"}, \"bgcolor\": \"#E5ECF6\", \"radialaxis\": {\"gridcolor\": \"white\", \"linecolor\": \"white\", \"ticks\": \"\"}}, \"scene\": {\"xaxis\": {\"backgroundcolor\": \"#E5ECF6\", \"gridcolor\": \"white\", \"gridwidth\": 2, \"linecolor\": \"white\", \"showbackground\": true, \"ticks\": \"\", \"zerolinecolor\": \"white\"}, \"yaxis\": {\"backgroundcolor\": \"#E5ECF6\", \"gridcolor\": \"white\", \"gridwidth\": 2, \"linecolor\": \"white\", \"showbackground\": true, \"ticks\": \"\", \"zerolinecolor\": \"white\"}, \"zaxis\": {\"backgroundcolor\": \"#E5ECF6\", \"gridcolor\": \"white\", \"gridwidth\": 2, \"linecolor\": \"white\", \"showbackground\": true, \"ticks\": \"\", \"zerolinecolor\": \"white\"}}, \"shapedefaults\": {\"line\": {\"color\": \"#2a3f5f\"}}, \"ternary\": {\"aaxis\": {\"gridcolor\": \"white\", \"linecolor\": \"white\", \"ticks\": \"\"}, \"baxis\": {\"gridcolor\": \"white\", \"linecolor\": \"white\", \"ticks\": \"\"}, \"bgcolor\": \"#E5ECF6\", \"caxis\": {\"gridcolor\": \"white\", \"linecolor\": \"white\", \"ticks\": \"\"}}, \"title\": {\"x\": 0.05}, \"xaxis\": {\"automargin\": true, \"gridcolor\": \"white\", \"linecolor\": \"white\", \"ticks\": \"\", \"title\": {\"standoff\": 15}, \"zerolinecolor\": \"white\", \"zerolinewidth\": 2}, \"yaxis\": {\"automargin\": true, \"gridcolor\": \"white\", \"linecolor\": \"white\", \"ticks\": \"\", \"title\": {\"standoff\": 15}, \"zerolinecolor\": \"white\", \"zerolinewidth\": 2}}}, \"title\": {\"text\": \"\\u0413\\u0438\\u0441\\u0442\\u043e\\u0433\\u0440\\u0430\\u043c\\u043c\\u0430 \\u0440\\u0430\\u0441\\u043f\\u0440\\u0435\\u0434\\u0435\\u043b\\u0435\\u043d\\u0438\\u044f \\u0437\\u0430\\u0432\\u0438\\u0441\\u0438\\u043c\\u043e\\u0439 \\u043f\\u0435\\u0440\\u0435\\u043c\\u0435\\u043d\\u043d\\u043e\\u0439 volume\"}, \"width\": 800, \"xaxis\": {\"anchor\": \"y\", \"domain\": [0.0, 1.0], \"title\": {\"text\": \"volume\"}}, \"yaxis\": {\"anchor\": \"x\", \"domain\": [0.0, 1.0], \"title\": {\"text\": \"count\"}}},                        {\"responsive\": true}                    ).then(function(){\n",
       "                            \n",
       "var gd = document.getElementById('5e061583-ac4d-40af-8936-96f1e6c22d5b');\n",
       "var x = new MutationObserver(function (mutations, observer) {{\n",
       "        var display = window.getComputedStyle(gd).display;\n",
       "        if (!display || display === 'none') {{\n",
       "            console.log([gd, 'removed!']);\n",
       "            Plotly.purge(gd);\n",
       "            observer.disconnect();\n",
       "        }}\n",
       "}});\n",
       "\n",
       "// Listen for the removal of the full notebook cells\n",
       "var notebookContainer = gd.closest('#notebook-container');\n",
       "if (notebookContainer) {{\n",
       "    x.observe(notebookContainer, {childList: true});\n",
       "}}\n",
       "\n",
       "// Listen for the clearing of the current output cell\n",
       "var outputEl = gd.closest('.output');\n",
       "if (outputEl) {{\n",
       "    x.observe(outputEl, {childList: true});\n",
       "}}\n",
       "\n",
       "                        })                };                });            </script>        </div>"
      ]
     },
     "metadata": {},
     "output_type": "display_data"
    }
   ],
   "source": [
    "import plotly.express as px\n",
    "\n",
    "fig = px.histogram(df, x='volume', width=800, height=400, title='Гистограмма распределения зависимой переменной volume')\n",
    "fig.show()"
   ]
  },
  {
   "cell_type": "markdown",
   "metadata": {},
   "source": [
    "## 3.2 Анализ признаков и объяснение зависимостей переменных"
   ]
  },
  {
   "cell_type": "code",
   "execution_count": 181,
   "metadata": {},
   "outputs": [
    {
     "data": {
      "application/vnd.plotly.v1+json": {
       "config": {
        "plotlyServerURL": "https://plot.ly"
       },
       "data": [
        {
         "hovertemplate": "ex_rate=%{x}<br>volume=%{y}<extra></extra>",
         "legendgroup": "",
         "marker": {
          "color": "#636efa",
          "symbol": "circle"
         },
         "mode": "markers",
         "name": "",
         "orientation": "v",
         "showlegend": false,
         "type": "scatter",
         "x": [
          -0.04613335539617421,
          0.03086489132652618,
          -0.013098740714814788,
          -0.007045735173254845,
          -0.10933156658822216,
          0.05005532157604582,
          0.14510389104447685,
          0.06968440726726571,
          -0.13707976920199857,
          0.10053313298321723,
          -0.042347051101127145,
          -0.17450099289619345,
          0.005165115534806863,
          0.12197749136758008,
          0.09027282548305446,
          -0.022048703785579243,
          -0.014562270338646627,
          0.005718211784592357,
          -0.01913469509182951,
          0.07049431722704977,
          0.058120630815709215,
          0.2799468121379232,
          -0.12914830820709747,
          0.03575097394085336,
          0.007139059078607485,
          0.23749681735111022,
          0.04936344560211482,
          0.19895670582714584,
          -0.14557152329825426,
          -0.01464620244632336,
          0.006830315200488179,
          -0.002653031629492355,
          0.01956094145462931,
          -0.016022177243144697,
          -0.11261268703838162,
          0.07235196129591828,
          -0.0482877967731001,
          0.07329380225638574,
          0.042229549349449697,
          0.00768369223627928,
          -0.023984958621321807,
          0.268596879427518,
          -0.09475201701874475,
          0.17002332778581605,
          -0.11212490759521229,
          0.061108251139066046,
          0.0847039719821161,
          0.0751279606001062,
          0.08058542498395677,
          0.071444213226202,
          -0.05816446703071145,
          0.159678456181511,
          -0.1407570888887331,
          0.15456873059008558,
          0.04092708875392569,
          -0.0010254941845671446,
          -0.1210474734129871,
          -0.24283153836185606,
          0.02691930215493867,
          -0.15485259648128336,
          0.065049953959729,
          -0.059747676691465204,
          -0.13681746211000867,
          0.06270801413926758,
          -0.05357751923302369,
          0.03651427664662445,
          0.022494270440247457,
          0.04669846949347618,
          -0.1039640411910229,
          -0.02605885515918973,
          -0.060504043057278155,
          0.035991363530024044,
          0.2069521451398532,
          -0.004623569860739553,
          -0.12289426688820684,
          -0.08354680317910958,
          -0.1338909435471401,
          -0.10608278063625615,
          0.2052859844740689,
          -0.005937605588399758,
          -0.08850443689049303,
          0.16819186799803154,
          -0.10512747823453684,
          -0.06652931548848386,
          -0.04730157927047948,
          -0.07591789939897359,
          -0.07518518654003412,
          -0.10905068360822642,
          0.17964432044793416,
          0.2860246764322585,
          0.04800653343231116,
          0.03264511525076971,
          0.24446669392731038,
          -0.15500979119811847,
          0.02860695761023829,
          0.1342274489117804,
          -0.040219206090561954,
          0.05422399826719569,
          -0.08991825920448512,
          -0.11693142927577119,
          0.04737392204397099,
          -0.03166411624270052,
          0.04124295777369463,
          0.21393424022987884,
          -0.10642366576827174,
          -0.17451776091883137,
          -0.046621679726494614,
          0.05584612749509643,
          -0.10839494062842128,
          0.0454331266539807,
          0.01070550538220922,
          -0.02035453049169464,
          -0.026285723667425757,
          -0.056519660973140866,
          -0.14457274882568377,
          -0.17674869880049565,
          0.05304963485166775,
          -0.022817543455894616,
          0.02793878297686104,
          -0.06525520131872209,
          0.1762858108604085,
          0.038389274017145016,
          -0.15121749466635348,
          -0.07792994354497033,
          0.16300910574402494,
          0.10663105460523717,
          -0.1701796790541346,
          0.13768828321615345,
          0.14333258523763542,
          -0.049030332061992615,
          0.15321742070659758,
          -0.027034610320462414,
          -0.00596904394393899,
          -0.08555763849854317,
          -0.12339378972095424,
          0.12288986397631933,
          -0.11002965524795358,
          0.013475055400941896,
          0.015147625070350418,
          -0.04436776661565191,
          -0.08602372719346918,
          0.0421530738436146,
          0.02886560001581781,
          0.09653743700798656,
          -0.07445804351184837,
          -0.048936197272186496,
          -0.019397234612599894,
          -0.08619592737686267,
          0.009207147184951423,
          -0.13480781792699711,
          0.07900712021106429,
          0.017103907663667754,
          0.0033456038172094554,
          -0.07309198292453682,
          0.08795841962373166,
          -0.06712898139849074,
          0.12638212748117122,
          -0.2206805588060925,
          0.03328295149376095,
          0.08403393760921835,
          0.10404155341838772,
          -0.033937419542462044,
          -0.09297011501870993,
          -0.04002190610337963,
          -0.012405757187918642,
          -0.018413215298143777,
          0.04962840479469244,
          0.03677446390384015,
          0.12978919413943485,
          0.020362590946935544,
          -0.013803420641641303,
          0.028444970888323942,
          0.25565765548794994,
          -0.10499155897926503,
          -0.1589267327268809,
          0.024712989061050492,
          -0.028429852798561417,
          0.1398617418125251,
          0.04575644192755696,
          0.11329474486157265,
          0.026774907757415395,
          -0.05964709866353886,
          0.014873290387562375,
          0.11935415502042807,
          -0.07445406726339729,
          -0.0782283099667769,
          -0.0032057399244855844,
          0.08834970293288516,
          -0.021350011966613625,
          0.19318193256264776,
          -0.20291234213442996,
          -0.09008656048826921,
          0.16970375597626025,
          0.12252223073544215,
          0.003507706627129282,
          -0.0845939507082153,
          0.034140441689147025,
          0.009103382285405158,
          0.15700799421737965,
          0.10759257051836474,
          -0.036666853766075536,
          0.2811058940752345,
          -0.018776408894965912,
          0.09300061996285339,
          0.17587812215821536,
          -0.12890865540776372,
          0.11727553759774809,
          0.08408665291898446,
          0.011279855550209321,
          0.010965087565296391,
          -0.17453975834946583,
          0.04111017410660393,
          -0.031477165985965117,
          0.14692794031650988,
          -0.11731463175352841,
          0.09266667168223228,
          0.08716956041751121,
          -0.014440907567669484,
          -0.005890131517134568,
          0.05118710089173398,
          0.09567013507165485,
          -0.19100709236508942,
          0.07901833699305107,
          0.06568562428639188,
          0.11347652085964492,
          0.15980054887766046,
          0.05014620642667003,
          -0.11996676668899175,
          -0.023252797849635222,
          -0.19044369390344235,
          0.14191530656619017,
          -0.086089236838364,
          0.15799142907991195,
          -0.009687024422762452,
          -0.09085285124002083,
          -0.025579408108389518,
          -0.08581787010182118,
          -0.08133231781773148,
          -0.06485235681420551,
          0.002533675006225991,
          0.16988404739413715,
          -0.0335366330994394,
          -0.046699045009688064,
          0.0428658164860585,
          0.1702236660955708,
          -0.15374825829224906,
          -0.05892592522547665,
          -0.17553881114198794,
          0.0843513125795431,
          0.047068908038674404,
          0.08685144801196386,
          -0.10805748726060564,
          -0.07576002554611215,
          0.043404842969055835,
          0.19315174624149073,
          -0.007831459538563235,
          -0.051377096292513955,
          0.15444947424045935,
          -0.04935984347528192,
          -0.13458884297304363,
          0.03217700936834437,
          0.008471505256033232,
          0.07268027614155383,
          -0.08820023857886738,
          -0.055051599039760105,
          0.12368931684487307,
          -0.0318114432255619,
          -0.14042275717213562,
          0.044194493384179856,
          -0.08519476432660517,
          0.17824666997374622,
          -0.1705522399671126,
          0.1157694214915861,
          -0.03072702103521841,
          -0.02835597012535805,
          -0.08878245399808693,
          0.11207833213184261,
          -0.17354992831965435,
          -0.10661374418842007,
          0.0800022507006295,
          -0.08513635759599875,
          0.12710156340099796,
          0.059041217663096765,
          0.024671225171594355,
          0.05195127120667188,
          0.03584967755319145,
          -0.09240399580381603,
          -0.004265423832258003,
          -0.033112181021480315,
          0.08692124111673132,
          0.114723161718615,
          -0.14161550200438183,
          0.15453366737129426,
          0.03567008070546262,
          -0.10543826381542662,
          0.2089094087054752,
          0.0071018569001198295,
          -0.0645245823407607,
          -0.15736877737280947,
          0.1312709752928969,
          -0.06863492069602987,
          0.08165428285773078,
          0.09361745355289348,
          -0.05430055070925912,
          -0.1588091619919324,
          0.024409619440222442,
          0.022052728181105437,
          -0.10516160803324502,
          0.1810491412010714,
          0.11666054594453497,
          -0.06463641776191015,
          0.018017920257605388,
          -0.006369802286566112,
          0.07400360704135141,
          -0.10430392484273836,
          0.1456981453254802,
          0.23983546022120245,
          -0.034026850763884744,
          -0.05850980455834982,
          0.04299590848211131,
          -0.06819735770459177,
          -0.06424303691745173,
          -0.03564185974538661,
          0.1604007232585622,
          -0.09492734911196259,
          0.09158097800841655,
          0.11481750146528748,
          -0.1818109218813445,
          -0.07460414253006278,
          -0.044546268291189746,
          -0.07581523908374711,
          0.12404170364977168,
          -0.0789974957285813,
          -0.07455082045122431,
          -0.09802962050711804,
          -0.11191308889773632,
          0.02559482331124396,
          0.14891993193794822,
          0.008532962414341799,
          -0.12074987524356703,
          -0.12687659085986316,
          0.04329469793990848,
          -0.16893103249396044,
          0.007984310503370031,
          0.11329327149641623,
          -0.06932883203080398,
          0.0018879355971950403,
          -0.06113389986868211,
          0.04335997917945251,
          0.08937349695516977,
          0.05765813170198042,
          -0.14842823395724603,
          0.06448083209548303,
          0.009970306919075366,
          0.1153599973210843,
          -0.0646445884885705,
          0.0525166397341961,
          0.0882197017232407,
          -0.14503362451819485,
          -0.05773198382302873,
          -0.19189066024258203,
          -0.03194417608902128,
          -0.10755882326821056,
          -0.011132252503722006,
          0.07069369733136541,
          0.06222840783792584,
          -0.05517763604309834,
          0.012492182544674449,
          0.035142432468574555,
          -0.025962837930426846,
          -0.027964645234123828,
          -0.04263397810972608,
          0.1255749536316071,
          0.05011566848961903,
          -0.005718641492914178,
          0.025557407505792953,
          -0.030275198628092387,
          0.12348451838432839,
          0.03368662085017603,
          -0.13436049884199788,
          0.012330562960956554,
          -0.13867032436145796,
          -0.07511693139183576,
          -0.15302351604863146,
          0.0511690542843275,
          -0.09717096801514527,
          -0.015902269257750495,
          -0.22185926069673959,
          -0.11727934677422953,
          0.04049619023287903,
          0.23046283379487176,
          0.053235963227174304,
          -0.09205197165581822,
          0.03517273595811533,
          -0.17426120469994105,
          0.023390495204071916,
          0.12419640805763588,
          -0.10368227468302249,
          0.1796010586774612,
          -0.18851384380229086,
          -0.10715801633182048,
          0.13283563843319185,
          -0.05195377417069618,
          0.026302438168406654,
          0.00204664550542686,
          -0.06490407541977246,
          0.13304319155324873,
          -0.042336230240986185,
          -0.07669140518512596,
          0.17940946395266505,
          -0.09703356047707602,
          0.004122292844376582,
          0.04620546175363337,
          -0.08723494894361035,
          -0.15477262051346505,
          0.06524196884043745,
          0.1388366292057013,
          0.05214691409290752,
          0.16707970456339732,
          -0.0647973892146324,
          0.005929960755449267,
          -0.02532797418149218,
          -0.11499687443138888,
          0.013050534128199093,
          0.15810346693409025,
          0.040112436191757375,
          0.09405764885374332,
          0.001241726043180045,
          0.03704708681627567,
          -0.008464185775298297,
          0.20860989166153493,
          -0.08665035353252472,
          -0.042909439891383475,
          0.0996686839401813,
          -0.08437746557473055,
          0.08038261452920681,
          -0.1237514533633405,
          -0.09219216685884024,
          -0.16530873681333283,
          0.023713675638771633,
          -0.0707135727390034,
          0.09132424556790811,
          0.037871574375211964,
          -0.057943402078341914,
          0.21645661330730287,
          0.07023259766207395,
          0.07209020403739515,
          0.15429575826620381,
          0.17979606004564125,
          -0.04580520687370351,
          0.10974038536808946,
          -0.03618088398540063,
          -0.1019196054151906,
          0.020312903026419624,
          0.022998210301115873,
          0.05517397766518167,
          -0.0726708124602763,
          -0.08323866126387791,
          -0.02562096606125915,
          -0.05216302720136973,
          0.00010293484685815202,
          0.03629951504011626,
          0.00485930267525863,
          -0.08228802670638385,
          0.06273672738462302,
          -0.10331200483386939,
          0.0744259172752045,
          0.011689742122445876,
          -0.04642061566579056,
          -0.03962895320184902,
          -0.09606663303404342,
          -0.03478539168299355,
          -0.025885722374450956,
          -0.0858325605003651,
          -0.012267215592222276,
          0.05724658171452844,
          -0.010445532410445331,
          0.07170896568072661,
          0.13812632183805343,
          0.02391249923376305,
          -0.055107794946747085,
          -0.017986879745864284,
          0.13211420444639618,
          -0.1582024033437513,
          -0.06869614521834953,
          -0.05261089794666138,
          -0.21147703630010373,
          -0.006557821361322998,
          -0.03140710346819543,
          0.025894023266464325,
          -0.20481138460194004,
          -0.12348615843212668,
          0.024874097435905122,
          0.09634323523172991,
          0.08130642306501923,
          -0.011301436606562031,
          -0.14413201958327224,
          -0.0004582937382645617,
          -0.30166687747733556,
          -0.1642826681382618
         ],
         "xaxis": "x",
         "y": [
          0,
          0.7433232326429872,
          0.9774047425972967,
          0.7726702415163742,
          0.03928876143736482,
          0,
          0.7181196017849273,
          0.9709582392722839,
          0.8241885718437671,
          0,
          0.010892099083406007,
          0.7501129109186735,
          0.9839595505499812,
          0.7452243389947042,
          0.0004424676236868168,
          0,
          0.7594821889739312,
          0.9977784350952693,
          0.7307647853013942,
          0,
          0,
          0.727465229375124,
          1.007942793636198,
          0.7225893666150941,
          0.018731323020972187,
          0,
          0.7422367285281536,
          0.9874412198035674,
          0.7947432535052172,
          0.05569516472775865,
          0.025830220739950095,
          0.7580894527214936,
          1.0480474754320723,
          0.8014791010273239,
          0.05092773163852208,
          0,
          0.7981851809322086,
          0.991755021269524,
          0.7877641288384442,
          0.038122814255952917,
          0.010720386905228751,
          0.6906496824436125,
          1.0049328147194785,
          0.729087055452143,
          0.02081329142885218,
          0,
          0.7693547340041862,
          1.0077577698743136,
          0.733834836195315,
          0,
          0.046119921797648,
          0.7819044346935818,
          1.0417764390288273,
          0.7369494983701484,
          0,
          0.012972886773976199,
          0.7961787922459581,
          1.109164692256255,
          0.7583995912084941,
          0.02283445634815302,
          0,
          0.7654345554369477,
          1.019814773830882,
          0.7605730440597342,
          0.02916974161802695,
          0,
          0.7347094858985785,
          1.004879337557308,
          0.7485817582306844,
          0,
          0.020969714031807224,
          0.7998757610729234,
          0.9904779251522807,
          0.770423419208543,
          0.07690902038462795,
          0.04585336169477866,
          0.7841709252958327,
          1.0095914424637973,
          0.7512876575551651,
          0.031012645961243472,
          0.044379218090661476,
          0.7275042183469164,
          1.0658848878305216,
          0.7824623755220942,
          0.038980093278685804,
          0.0053468061684144655,
          0.7557036612130336,
          0.9837656731651222,
          0.7247185526186902,
          0,
          0.015963865664178387,
          0.726405918141206,
          0.9428291745012413,
          0.8203086243494793,
          0,
          0,
          0.7812090712465282,
          1.0080069015903763,
          0.7998403595703065,
          0.057214075350198394,
          0,
          0.7735199614656765,
          1.016090217104712,
          0.7019124555932327,
          0.02053963063522242,
          0.03912257621203474,
          0.7667481086210298,
          1.0633073590117976,
          0.765073572538918,
          0,
          0,
          0.7655489313897096,
          1.0274339092827964,
          0.7877446342214715,
          0.03291057826003056,
          0.025756015146570242,
          0.7732754404996002,
          0.9813069560659556,
          0.7226417014799529,
          0.05197599832658395,
          0,
          0.7540775366259774,
          1.07682068832672,
          0.7561612241175156,
          0,
          0,
          0.7963980629273985,
          0.969347134592443,
          0.7325052464298342,
          0.01616635799954945,
          0.019103635952906414,
          0.7460892443943391,
          1.0010038425107846,
          0.7994622992808713,
          0.02311415404057378,
          0,
          0.7770015341215323,
          1.0105232786580982,
          0.7796300347927028,
          0.009663556924268448,
          0.061498869479303074,
          0.740320448154599,
          0.9745894094968441,
          0.7761944797550066,
          0.021248600521277576,
          0,
          0.7519463340150586,
          1.0349433037195843,
          0.7305514632376409,
          0.04594029084483256,
          0,
          0.7468879881710054,
          1.0378532521572645,
          0.790889877578001,
          0.005738881782245148,
          0.002804591587030833,
          0.7565880157798552,
          1.046825611830515,
          0.7374061630149067,
          0.0270750585655759,
          0,
          0.7630330663227307,
          1.0092462291341164,
          0.7776925525145136,
          0,
          0.046272746730476204,
          0.694622687852194,
          0.9826321443780591,
          0.7298007933104875,
          0.05227896734231944,
          0,
          0.8050627819273766,
          0.941549664949595,
          0.7737694464560473,
          0.06406884292868367,
          0.008038838110441818,
          0.791498624426426,
          0.9719860584865012,
          0.7157390860115568,
          0,
          0.001329608056596919,
          0.7861961620049486,
          0.974771874533562,
          0.7190916112388697,
          0.06751020959336827,
          0.06508192960161577,
          0.7946244123971702,
          0.9928712543176944,
          0.8063710149528367,
          0,
          0.05076242603527564,
          0.7955917515507156,
          1.0089695828082688,
          0.772813821832711,
          0.022050043299746493,
          0.031220668162726457,
          0.7322975166386453,
          1.045730159310882,
          0.6994430194278638,
          0,
          0.016360579935353267,
          0.7216534758104266,
          1.0003187264794728,
          0.6925489283184445,
          0,
          0.053436687876645975,
          0.7165192910611269,
          1.0253265957557955,
          0.7253137013519824,
          0.05704383170147616,
          0.0194636276870212,
          0.738061140172843,
          1.0025032960196067,
          0.7331308467515265,
          0.04005512540504611,
          0.03491662028190411,
          0.7738274893554757,
          0.9596019125312417,
          0.7720071454724283,
          0.0008833043591345239,
          0.0317414672292341,
          0.7845013187576193,
          0.983874452852444,
          0.7345192546835867,
          0.027218418627482505,
          0.011431380409128663,
          0.7365427717555596,
          1.0809211250502087,
          0.799556373629115,
          0.04553029962858537,
          0,
          0.8081151288924554,
          0.9814658693945431,
          0.7739803484016986,
          0.011650061248262414,
          0.029738763461977933,
          0.797606868432213,
          1.0160811708311175,
          0.7826476629082602,
          0.024692926919757417,
          0,
          0.7294637902541375,
          1.0113175172506859,
          0.7598912989032368,
          0,
          0.036953694546876734,
          0.7774997865830677,
          1.0253716574793448,
          0.749590882673223,
          0,
          0,
          0.7688085112829236,
          1.034808660394437,
          0.7401008798898238,
          0,
          0.019393474035113777,
          0.7754846485040647,
          0.9538567380909408,
          0.8098075912428356,
          0,
          0,
          0.7647515611218605,
          0.9628860615430668,
          0.8007253185244462,
          0.02462178293207731,
          0,
          0.7516207530937469,
          1.0235837280987012,
          0.7624225685376879,
          0.022446744177224847,
          0.0045878066965829405,
          0.7605564207690909,
          0.9905132594850525,
          0.7616212485147942,
          0,
          0,
          0.7543497449054617,
          1.0040981104131208,
          0.7571391901649501,
          0,
          0,
          0.7394739005666695,
          1.026265281913899,
          0.7608884544064882,
          0.02934132698516142,
          0.0026539226858651073,
          0.7872017920471496,
          1.03303114300776,
          0.7624549787195063,
          0.011100554219417502,
          0.005892657175832681,
          0.7415500162055396,
          0.9575188836272865,
          0.7519842151521485,
          0.07977603589659593,
          0,
          0.7451498975573124,
          0.9906971406874939,
          0.7944322645413163,
          0,
          0,
          0.7195423659024227,
          0.9915399681531454,
          0.7670213739622399,
          0.05423107424690053,
          0,
          0.7844325640621596,
          1.0199189188334803,
          0.7295266637175889,
          0,
          0.05466079939277582,
          0.7616795340843184,
          0.9667326909268852,
          0.7888081881899782,
          0.07042192022146321,
          0.011453082413632668,
          0.7187774003678108,
          1.0132044454049884,
          0.7994409307695213,
          0.007488486687773067,
          0.054905327686073646,
          0.7783731735464459,
          1.0148633841257024,
          0.7363519882408873,
          0.03418411847451013,
          0.03148289994066169,
          0.7486641048294177,
          1.0169939351025161,
          0.7660313503842692,
          0,
          0.0229662832718246,
          0.7362411174941805,
          1.0206308902582286,
          0.815037602195298,
          0.03902924589234309,
          0.055225828060644404,
          0.7520707903802339,
          0.991531671943271,
          0.7555378052800867,
          0.0654179030812113,
          0.08631317350277425,
          0.7579992886613243,
          1.0207152125666612,
          0.7614538978983204,
          0,
          0.02450197431255356,
          0.7607666384506593,
          1.0295705227101661,
          0.723735418476935,
          0,
          0.01180054407493452,
          0.7880445426469449,
          0.9774638222772684,
          0.7457926319024882,
          0,
          0.05578981079089937,
          0.7518909743257228,
          1.002866858460713,
          0.7469122333585314,
          0,
          0.04066486049759082,
          0.7693028187863494,
          1.0261106513610432,
          0.7731262692979879,
          0,
          0,
          0.7820433013073952,
          0.9859544192864246,
          0.7299099064390641,
          0.005597618062185391,
          0,
          0.7844090869918854,
          0.9873524800131402,
          0.7507210399440074,
          0,
          0.020144313940323455,
          0.7674101285009655,
          0.9534161650976323,
          0.7474269559929146,
          0.005560951097046838,
          0,
          0.7762529145340232,
          1.0079840678486087,
          0.794145396293493,
          0.004911177270158218,
          0.07115959418436756,
          0.7612525374182381,
          1.0526695517000635,
          0.7470078958375205,
          0.016142096916474287,
          0,
          0.7394089719261943,
          1.0441360867290128,
          0.7565164072170912,
          0.06211163536245163,
          0.014140342938575991,
          0.7238748690250628,
          1.0369471153272325,
          0.7115324616961239,
          0.0533780075144489,
          0.014457822186392612,
          0.750579319037476,
          1.0342702215303199,
          0.7412259971183673,
          0.020633495247644414,
          0.041464527041091555,
          0.7329675844217088,
          1.0088640396595245,
          0.7419651440359246,
          0,
          0.0425853254162953,
          0.7337591487914035,
          0.9984328548273858,
          0.7975438981202896,
          0.02324139966821591,
          0.06641592428382517,
          0.7272238223868903,
          1.0321996538916482,
          0.7410816869878892,
          0.011670582551972643,
          0.03789730532730683,
          0.7922510239097369,
          1.0550223710123874,
          0.7423208479017028,
          0,
          0.004864028797678837,
          0.7240955293719488,
          1.0038721464990732,
          0.7690180530148547,
          0,
          0,
          0.7413533974523746,
          0.9839755052751302,
          0.755036802176087,
          0.030062540206556587,
          0.009015511086931795,
          0.7891041492012291,
          1.0349693395523294,
          0.7790234076137517,
          0.00432768259560142,
          0.0337352412734556,
          0.7370592225412221,
          0.995885277485445,
          0.8041676599510001,
          0,
          0,
          0.7622700037066471,
          0.923241326669757,
          0.7660612511316414,
          0.07275331045251603,
          0,
          0.7934844394425634,
          1.0448106985337886,
          0.7680772464327318,
          0.010140364848949753,
          0.002616944269525632,
          0.7518868333927184,
          1.047437063878232,
          0.7666251849087906,
          0.044650565756368624,
          0,
          0.7535120200692472,
          0.9941114436759457,
          0.7779892251570464,
          0,
          0,
          0.7129040937764112,
          0.9635351292716232,
          0.7888484954850132,
          0,
          0.058452304894219737,
          0.7418647763196636,
          1.0388608054542157,
          0.7859935001945115,
          0,
          0,
          0.7773541156971346,
          1.0085533121123713,
          0.729035674151937,
          0.0028698713770700345,
          0.06532893384973568,
          0.7523503033571045,
          0.959461753855364,
          0.7901701494076675,
          0.014050870512645433,
          0.051856381185996024,
          0.8046815487462536,
          1.0035440469744672,
          0.7815820602044463,
          0.007367097309229145,
          0.008440442801802134,
          0.7940944177862375,
          0.9881211714746905,
          0.7556838661607708,
          0,
          0.007183028723810829,
          0.7853047289371803,
          1.021720027455928,
          0.7688569837288385,
          0.03560237826971888
         ],
         "yaxis": "y"
        }
       ],
       "layout": {
        "height": 400,
        "legend": {
         "tracegroupgap": 0
        },
        "template": {
         "data": {
          "bar": [
           {
            "error_x": {
             "color": "#2a3f5f"
            },
            "error_y": {
             "color": "#2a3f5f"
            },
            "marker": {
             "line": {
              "color": "#E5ECF6",
              "width": 0.5
             }
            },
            "type": "bar"
           }
          ],
          "barpolar": [
           {
            "marker": {
             "line": {
              "color": "#E5ECF6",
              "width": 0.5
             }
            },
            "type": "barpolar"
           }
          ],
          "carpet": [
           {
            "aaxis": {
             "endlinecolor": "#2a3f5f",
             "gridcolor": "white",
             "linecolor": "white",
             "minorgridcolor": "white",
             "startlinecolor": "#2a3f5f"
            },
            "baxis": {
             "endlinecolor": "#2a3f5f",
             "gridcolor": "white",
             "linecolor": "white",
             "minorgridcolor": "white",
             "startlinecolor": "#2a3f5f"
            },
            "type": "carpet"
           }
          ],
          "choropleth": [
           {
            "colorbar": {
             "outlinewidth": 0,
             "ticks": ""
            },
            "type": "choropleth"
           }
          ],
          "contour": [
           {
            "colorbar": {
             "outlinewidth": 0,
             "ticks": ""
            },
            "colorscale": [
             [
              0,
              "#0d0887"
             ],
             [
              0.1111111111111111,
              "#46039f"
             ],
             [
              0.2222222222222222,
              "#7201a8"
             ],
             [
              0.3333333333333333,
              "#9c179e"
             ],
             [
              0.4444444444444444,
              "#bd3786"
             ],
             [
              0.5555555555555556,
              "#d8576b"
             ],
             [
              0.6666666666666666,
              "#ed7953"
             ],
             [
              0.7777777777777778,
              "#fb9f3a"
             ],
             [
              0.8888888888888888,
              "#fdca26"
             ],
             [
              1,
              "#f0f921"
             ]
            ],
            "type": "contour"
           }
          ],
          "contourcarpet": [
           {
            "colorbar": {
             "outlinewidth": 0,
             "ticks": ""
            },
            "type": "contourcarpet"
           }
          ],
          "heatmap": [
           {
            "colorbar": {
             "outlinewidth": 0,
             "ticks": ""
            },
            "colorscale": [
             [
              0,
              "#0d0887"
             ],
             [
              0.1111111111111111,
              "#46039f"
             ],
             [
              0.2222222222222222,
              "#7201a8"
             ],
             [
              0.3333333333333333,
              "#9c179e"
             ],
             [
              0.4444444444444444,
              "#bd3786"
             ],
             [
              0.5555555555555556,
              "#d8576b"
             ],
             [
              0.6666666666666666,
              "#ed7953"
             ],
             [
              0.7777777777777778,
              "#fb9f3a"
             ],
             [
              0.8888888888888888,
              "#fdca26"
             ],
             [
              1,
              "#f0f921"
             ]
            ],
            "type": "heatmap"
           }
          ],
          "heatmapgl": [
           {
            "colorbar": {
             "outlinewidth": 0,
             "ticks": ""
            },
            "colorscale": [
             [
              0,
              "#0d0887"
             ],
             [
              0.1111111111111111,
              "#46039f"
             ],
             [
              0.2222222222222222,
              "#7201a8"
             ],
             [
              0.3333333333333333,
              "#9c179e"
             ],
             [
              0.4444444444444444,
              "#bd3786"
             ],
             [
              0.5555555555555556,
              "#d8576b"
             ],
             [
              0.6666666666666666,
              "#ed7953"
             ],
             [
              0.7777777777777778,
              "#fb9f3a"
             ],
             [
              0.8888888888888888,
              "#fdca26"
             ],
             [
              1,
              "#f0f921"
             ]
            ],
            "type": "heatmapgl"
           }
          ],
          "histogram": [
           {
            "marker": {
             "colorbar": {
              "outlinewidth": 0,
              "ticks": ""
             }
            },
            "type": "histogram"
           }
          ],
          "histogram2d": [
           {
            "colorbar": {
             "outlinewidth": 0,
             "ticks": ""
            },
            "colorscale": [
             [
              0,
              "#0d0887"
             ],
             [
              0.1111111111111111,
              "#46039f"
             ],
             [
              0.2222222222222222,
              "#7201a8"
             ],
             [
              0.3333333333333333,
              "#9c179e"
             ],
             [
              0.4444444444444444,
              "#bd3786"
             ],
             [
              0.5555555555555556,
              "#d8576b"
             ],
             [
              0.6666666666666666,
              "#ed7953"
             ],
             [
              0.7777777777777778,
              "#fb9f3a"
             ],
             [
              0.8888888888888888,
              "#fdca26"
             ],
             [
              1,
              "#f0f921"
             ]
            ],
            "type": "histogram2d"
           }
          ],
          "histogram2dcontour": [
           {
            "colorbar": {
             "outlinewidth": 0,
             "ticks": ""
            },
            "colorscale": [
             [
              0,
              "#0d0887"
             ],
             [
              0.1111111111111111,
              "#46039f"
             ],
             [
              0.2222222222222222,
              "#7201a8"
             ],
             [
              0.3333333333333333,
              "#9c179e"
             ],
             [
              0.4444444444444444,
              "#bd3786"
             ],
             [
              0.5555555555555556,
              "#d8576b"
             ],
             [
              0.6666666666666666,
              "#ed7953"
             ],
             [
              0.7777777777777778,
              "#fb9f3a"
             ],
             [
              0.8888888888888888,
              "#fdca26"
             ],
             [
              1,
              "#f0f921"
             ]
            ],
            "type": "histogram2dcontour"
           }
          ],
          "mesh3d": [
           {
            "colorbar": {
             "outlinewidth": 0,
             "ticks": ""
            },
            "type": "mesh3d"
           }
          ],
          "parcoords": [
           {
            "line": {
             "colorbar": {
              "outlinewidth": 0,
              "ticks": ""
             }
            },
            "type": "parcoords"
           }
          ],
          "pie": [
           {
            "automargin": true,
            "type": "pie"
           }
          ],
          "scatter": [
           {
            "marker": {
             "colorbar": {
              "outlinewidth": 0,
              "ticks": ""
             }
            },
            "type": "scatter"
           }
          ],
          "scatter3d": [
           {
            "line": {
             "colorbar": {
              "outlinewidth": 0,
              "ticks": ""
             }
            },
            "marker": {
             "colorbar": {
              "outlinewidth": 0,
              "ticks": ""
             }
            },
            "type": "scatter3d"
           }
          ],
          "scattercarpet": [
           {
            "marker": {
             "colorbar": {
              "outlinewidth": 0,
              "ticks": ""
             }
            },
            "type": "scattercarpet"
           }
          ],
          "scattergeo": [
           {
            "marker": {
             "colorbar": {
              "outlinewidth": 0,
              "ticks": ""
             }
            },
            "type": "scattergeo"
           }
          ],
          "scattergl": [
           {
            "marker": {
             "colorbar": {
              "outlinewidth": 0,
              "ticks": ""
             }
            },
            "type": "scattergl"
           }
          ],
          "scattermapbox": [
           {
            "marker": {
             "colorbar": {
              "outlinewidth": 0,
              "ticks": ""
             }
            },
            "type": "scattermapbox"
           }
          ],
          "scatterpolar": [
           {
            "marker": {
             "colorbar": {
              "outlinewidth": 0,
              "ticks": ""
             }
            },
            "type": "scatterpolar"
           }
          ],
          "scatterpolargl": [
           {
            "marker": {
             "colorbar": {
              "outlinewidth": 0,
              "ticks": ""
             }
            },
            "type": "scatterpolargl"
           }
          ],
          "scatterternary": [
           {
            "marker": {
             "colorbar": {
              "outlinewidth": 0,
              "ticks": ""
             }
            },
            "type": "scatterternary"
           }
          ],
          "surface": [
           {
            "colorbar": {
             "outlinewidth": 0,
             "ticks": ""
            },
            "colorscale": [
             [
              0,
              "#0d0887"
             ],
             [
              0.1111111111111111,
              "#46039f"
             ],
             [
              0.2222222222222222,
              "#7201a8"
             ],
             [
              0.3333333333333333,
              "#9c179e"
             ],
             [
              0.4444444444444444,
              "#bd3786"
             ],
             [
              0.5555555555555556,
              "#d8576b"
             ],
             [
              0.6666666666666666,
              "#ed7953"
             ],
             [
              0.7777777777777778,
              "#fb9f3a"
             ],
             [
              0.8888888888888888,
              "#fdca26"
             ],
             [
              1,
              "#f0f921"
             ]
            ],
            "type": "surface"
           }
          ],
          "table": [
           {
            "cells": {
             "fill": {
              "color": "#EBF0F8"
             },
             "line": {
              "color": "white"
             }
            },
            "header": {
             "fill": {
              "color": "#C8D4E3"
             },
             "line": {
              "color": "white"
             }
            },
            "type": "table"
           }
          ]
         },
         "layout": {
          "annotationdefaults": {
           "arrowcolor": "#2a3f5f",
           "arrowhead": 0,
           "arrowwidth": 1
          },
          "autotypenumbers": "strict",
          "coloraxis": {
           "colorbar": {
            "outlinewidth": 0,
            "ticks": ""
           }
          },
          "colorscale": {
           "diverging": [
            [
             0,
             "#8e0152"
            ],
            [
             0.1,
             "#c51b7d"
            ],
            [
             0.2,
             "#de77ae"
            ],
            [
             0.3,
             "#f1b6da"
            ],
            [
             0.4,
             "#fde0ef"
            ],
            [
             0.5,
             "#f7f7f7"
            ],
            [
             0.6,
             "#e6f5d0"
            ],
            [
             0.7,
             "#b8e186"
            ],
            [
             0.8,
             "#7fbc41"
            ],
            [
             0.9,
             "#4d9221"
            ],
            [
             1,
             "#276419"
            ]
           ],
           "sequential": [
            [
             0,
             "#0d0887"
            ],
            [
             0.1111111111111111,
             "#46039f"
            ],
            [
             0.2222222222222222,
             "#7201a8"
            ],
            [
             0.3333333333333333,
             "#9c179e"
            ],
            [
             0.4444444444444444,
             "#bd3786"
            ],
            [
             0.5555555555555556,
             "#d8576b"
            ],
            [
             0.6666666666666666,
             "#ed7953"
            ],
            [
             0.7777777777777778,
             "#fb9f3a"
            ],
            [
             0.8888888888888888,
             "#fdca26"
            ],
            [
             1,
             "#f0f921"
            ]
           ],
           "sequentialminus": [
            [
             0,
             "#0d0887"
            ],
            [
             0.1111111111111111,
             "#46039f"
            ],
            [
             0.2222222222222222,
             "#7201a8"
            ],
            [
             0.3333333333333333,
             "#9c179e"
            ],
            [
             0.4444444444444444,
             "#bd3786"
            ],
            [
             0.5555555555555556,
             "#d8576b"
            ],
            [
             0.6666666666666666,
             "#ed7953"
            ],
            [
             0.7777777777777778,
             "#fb9f3a"
            ],
            [
             0.8888888888888888,
             "#fdca26"
            ],
            [
             1,
             "#f0f921"
            ]
           ]
          },
          "colorway": [
           "#636efa",
           "#EF553B",
           "#00cc96",
           "#ab63fa",
           "#FFA15A",
           "#19d3f3",
           "#FF6692",
           "#B6E880",
           "#FF97FF",
           "#FECB52"
          ],
          "font": {
           "color": "#2a3f5f"
          },
          "geo": {
           "bgcolor": "white",
           "lakecolor": "white",
           "landcolor": "#E5ECF6",
           "showlakes": true,
           "showland": true,
           "subunitcolor": "white"
          },
          "hoverlabel": {
           "align": "left"
          },
          "hovermode": "closest",
          "mapbox": {
           "style": "light"
          },
          "paper_bgcolor": "white",
          "plot_bgcolor": "#E5ECF6",
          "polar": {
           "angularaxis": {
            "gridcolor": "white",
            "linecolor": "white",
            "ticks": ""
           },
           "bgcolor": "#E5ECF6",
           "radialaxis": {
            "gridcolor": "white",
            "linecolor": "white",
            "ticks": ""
           }
          },
          "scene": {
           "xaxis": {
            "backgroundcolor": "#E5ECF6",
            "gridcolor": "white",
            "gridwidth": 2,
            "linecolor": "white",
            "showbackground": true,
            "ticks": "",
            "zerolinecolor": "white"
           },
           "yaxis": {
            "backgroundcolor": "#E5ECF6",
            "gridcolor": "white",
            "gridwidth": 2,
            "linecolor": "white",
            "showbackground": true,
            "ticks": "",
            "zerolinecolor": "white"
           },
           "zaxis": {
            "backgroundcolor": "#E5ECF6",
            "gridcolor": "white",
            "gridwidth": 2,
            "linecolor": "white",
            "showbackground": true,
            "ticks": "",
            "zerolinecolor": "white"
           }
          },
          "shapedefaults": {
           "line": {
            "color": "#2a3f5f"
           }
          },
          "ternary": {
           "aaxis": {
            "gridcolor": "white",
            "linecolor": "white",
            "ticks": ""
           },
           "baxis": {
            "gridcolor": "white",
            "linecolor": "white",
            "ticks": ""
           },
           "bgcolor": "#E5ECF6",
           "caxis": {
            "gridcolor": "white",
            "linecolor": "white",
            "ticks": ""
           }
          },
          "title": {
           "x": 0.05
          },
          "xaxis": {
           "automargin": true,
           "gridcolor": "white",
           "linecolor": "white",
           "ticks": "",
           "title": {
            "standoff": 15
           },
           "zerolinecolor": "white",
           "zerolinewidth": 2
          },
          "yaxis": {
           "automargin": true,
           "gridcolor": "white",
           "linecolor": "white",
           "ticks": "",
           "title": {
            "standoff": 15
           },
           "zerolinecolor": "white",
           "zerolinewidth": 2
          }
         }
        },
        "title": {
         "text": "Влияние курса на пополнения"
        },
        "width": 700,
        "xaxis": {
         "anchor": "y",
         "domain": [
          0,
          1
         ],
         "title": {
          "text": "ex_rate"
         }
        },
        "yaxis": {
         "anchor": "x",
         "domain": [
          0,
          1
         ],
         "title": {
          "text": "volume"
         }
        }
       }
      },
      "text/html": [
       "<div>                            <div id=\"fe040b8d-a885-4054-9654-dc174dc8e52d\" class=\"plotly-graph-div\" style=\"height:400px; width:700px;\"></div>            <script type=\"text/javascript\">                require([\"plotly\"], function(Plotly) {                    window.PLOTLYENV=window.PLOTLYENV || {};                                    if (document.getElementById(\"fe040b8d-a885-4054-9654-dc174dc8e52d\")) {                    Plotly.newPlot(                        \"fe040b8d-a885-4054-9654-dc174dc8e52d\",                        [{\"hovertemplate\": \"ex_rate=%{x}<br>volume=%{y}<extra></extra>\", \"legendgroup\": \"\", \"marker\": {\"color\": \"#636efa\", \"symbol\": \"circle\"}, \"mode\": \"markers\", \"name\": \"\", \"orientation\": \"v\", \"showlegend\": false, \"type\": \"scatter\", \"x\": [-0.04613335539617421, 0.03086489132652618, -0.013098740714814788, -0.007045735173254845, -0.10933156658822216, 0.05005532157604582, 0.14510389104447685, 0.06968440726726571, -0.13707976920199857, 0.10053313298321723, -0.042347051101127145, -0.17450099289619345, 0.005165115534806863, 0.12197749136758008, 0.09027282548305446, -0.022048703785579243, -0.014562270338646627, 0.005718211784592357, -0.01913469509182951, 0.07049431722704977, 0.058120630815709215, 0.2799468121379232, -0.12914830820709747, 0.03575097394085336, 0.007139059078607485, 0.23749681735111022, 0.04936344560211482, 0.19895670582714584, -0.14557152329825426, -0.01464620244632336, 0.006830315200488179, -0.002653031629492355, 0.01956094145462931, -0.016022177243144697, -0.11261268703838162, 0.07235196129591828, -0.0482877967731001, 0.07329380225638574, 0.042229549349449697, 0.00768369223627928, -0.023984958621321807, 0.268596879427518, -0.09475201701874475, 0.17002332778581605, -0.11212490759521229, 0.061108251139066046, 0.0847039719821161, 0.0751279606001062, 0.08058542498395677, 0.071444213226202, -0.05816446703071145, 0.159678456181511, -0.1407570888887331, 0.15456873059008558, 0.04092708875392569, -0.0010254941845671446, -0.1210474734129871, -0.24283153836185606, 0.02691930215493867, -0.15485259648128336, 0.065049953959729, -0.059747676691465204, -0.13681746211000867, 0.06270801413926758, -0.05357751923302369, 0.03651427664662445, 0.022494270440247457, 0.04669846949347618, -0.1039640411910229, -0.02605885515918973, -0.060504043057278155, 0.035991363530024044, 0.2069521451398532, -0.004623569860739553, -0.12289426688820684, -0.08354680317910958, -0.1338909435471401, -0.10608278063625615, 0.2052859844740689, -0.005937605588399758, -0.08850443689049303, 0.16819186799803154, -0.10512747823453684, -0.06652931548848386, -0.04730157927047948, -0.07591789939897359, -0.07518518654003412, -0.10905068360822642, 0.17964432044793416, 0.2860246764322585, 0.04800653343231116, 0.03264511525076971, 0.24446669392731038, -0.15500979119811847, 0.02860695761023829, 0.1342274489117804, -0.040219206090561954, 0.05422399826719569, -0.08991825920448512, -0.11693142927577119, 0.04737392204397099, -0.03166411624270052, 0.04124295777369463, 0.21393424022987884, -0.10642366576827174, -0.17451776091883137, -0.046621679726494614, 0.05584612749509643, -0.10839494062842128, 0.0454331266539807, 0.01070550538220922, -0.02035453049169464, -0.026285723667425757, -0.056519660973140866, -0.14457274882568377, -0.17674869880049565, 0.05304963485166775, -0.022817543455894616, 0.02793878297686104, -0.06525520131872209, 0.1762858108604085, 0.038389274017145016, -0.15121749466635348, -0.07792994354497033, 0.16300910574402494, 0.10663105460523717, -0.1701796790541346, 0.13768828321615345, 0.14333258523763542, -0.049030332061992615, 0.15321742070659758, -0.027034610320462414, -0.00596904394393899, -0.08555763849854317, -0.12339378972095424, 0.12288986397631933, -0.11002965524795358, 0.013475055400941896, 0.015147625070350418, -0.04436776661565191, -0.08602372719346918, 0.0421530738436146, 0.02886560001581781, 0.09653743700798656, -0.07445804351184837, -0.048936197272186496, -0.019397234612599894, -0.08619592737686267, 0.009207147184951423, -0.13480781792699711, 0.07900712021106429, 0.017103907663667754, 0.0033456038172094554, -0.07309198292453682, 0.08795841962373166, -0.06712898139849074, 0.12638212748117122, -0.2206805588060925, 0.03328295149376095, 0.08403393760921835, 0.10404155341838772, -0.033937419542462044, -0.09297011501870993, -0.04002190610337963, -0.012405757187918642, -0.018413215298143777, 0.04962840479469244, 0.03677446390384015, 0.12978919413943485, 0.020362590946935544, -0.013803420641641303, 0.028444970888323942, 0.25565765548794994, -0.10499155897926503, -0.1589267327268809, 0.024712989061050492, -0.028429852798561417, 0.1398617418125251, 0.04575644192755696, 0.11329474486157265, 0.026774907757415395, -0.05964709866353886, 0.014873290387562375, 0.11935415502042807, -0.07445406726339729, -0.0782283099667769, -0.0032057399244855844, 0.08834970293288516, -0.021350011966613625, 0.19318193256264776, -0.20291234213442996, -0.09008656048826921, 0.16970375597626025, 0.12252223073544215, 0.003507706627129282, -0.0845939507082153, 0.034140441689147025, 0.009103382285405158, 0.15700799421737965, 0.10759257051836474, -0.036666853766075536, 0.2811058940752345, -0.018776408894965912, 0.09300061996285339, 0.17587812215821536, -0.12890865540776372, 0.11727553759774809, 0.08408665291898446, 0.011279855550209321, 0.010965087565296391, -0.17453975834946583, 0.04111017410660393, -0.031477165985965117, 0.14692794031650988, -0.11731463175352841, 0.09266667168223228, 0.08716956041751121, -0.014440907567669484, -0.005890131517134568, 0.05118710089173398, 0.09567013507165485, -0.19100709236508942, 0.07901833699305107, 0.06568562428639188, 0.11347652085964492, 0.15980054887766046, 0.05014620642667003, -0.11996676668899175, -0.023252797849635222, -0.19044369390344235, 0.14191530656619017, -0.086089236838364, 0.15799142907991195, -0.009687024422762452, -0.09085285124002083, -0.025579408108389518, -0.08581787010182118, -0.08133231781773148, -0.06485235681420551, 0.002533675006225991, 0.16988404739413715, -0.0335366330994394, -0.046699045009688064, 0.0428658164860585, 0.1702236660955708, -0.15374825829224906, -0.05892592522547665, -0.17553881114198794, 0.0843513125795431, 0.047068908038674404, 0.08685144801196386, -0.10805748726060564, -0.07576002554611215, 0.043404842969055835, 0.19315174624149073, -0.007831459538563235, -0.051377096292513955, 0.15444947424045935, -0.04935984347528192, -0.13458884297304363, 0.03217700936834437, 0.008471505256033232, 0.07268027614155383, -0.08820023857886738, -0.055051599039760105, 0.12368931684487307, -0.0318114432255619, -0.14042275717213562, 0.044194493384179856, -0.08519476432660517, 0.17824666997374622, -0.1705522399671126, 0.1157694214915861, -0.03072702103521841, -0.02835597012535805, -0.08878245399808693, 0.11207833213184261, -0.17354992831965435, -0.10661374418842007, 0.0800022507006295, -0.08513635759599875, 0.12710156340099796, 0.059041217663096765, 0.024671225171594355, 0.05195127120667188, 0.03584967755319145, -0.09240399580381603, -0.004265423832258003, -0.033112181021480315, 0.08692124111673132, 0.114723161718615, -0.14161550200438183, 0.15453366737129426, 0.03567008070546262, -0.10543826381542662, 0.2089094087054752, 0.0071018569001198295, -0.0645245823407607, -0.15736877737280947, 0.1312709752928969, -0.06863492069602987, 0.08165428285773078, 0.09361745355289348, -0.05430055070925912, -0.1588091619919324, 0.024409619440222442, 0.022052728181105437, -0.10516160803324502, 0.1810491412010714, 0.11666054594453497, -0.06463641776191015, 0.018017920257605388, -0.006369802286566112, 0.07400360704135141, -0.10430392484273836, 0.1456981453254802, 0.23983546022120245, -0.034026850763884744, -0.05850980455834982, 0.04299590848211131, -0.06819735770459177, -0.06424303691745173, -0.03564185974538661, 0.1604007232585622, -0.09492734911196259, 0.09158097800841655, 0.11481750146528748, -0.1818109218813445, -0.07460414253006278, -0.044546268291189746, -0.07581523908374711, 0.12404170364977168, -0.0789974957285813, -0.07455082045122431, -0.09802962050711804, -0.11191308889773632, 0.02559482331124396, 0.14891993193794822, 0.008532962414341799, -0.12074987524356703, -0.12687659085986316, 0.04329469793990848, -0.16893103249396044, 0.007984310503370031, 0.11329327149641623, -0.06932883203080398, 0.0018879355971950403, -0.06113389986868211, 0.04335997917945251, 0.08937349695516977, 0.05765813170198042, -0.14842823395724603, 0.06448083209548303, 0.009970306919075366, 0.1153599973210843, -0.0646445884885705, 0.0525166397341961, 0.0882197017232407, -0.14503362451819485, -0.05773198382302873, -0.19189066024258203, -0.03194417608902128, -0.10755882326821056, -0.011132252503722006, 0.07069369733136541, 0.06222840783792584, -0.05517763604309834, 0.012492182544674449, 0.035142432468574555, -0.025962837930426846, -0.027964645234123828, -0.04263397810972608, 0.1255749536316071, 0.05011566848961903, -0.005718641492914178, 0.025557407505792953, -0.030275198628092387, 0.12348451838432839, 0.03368662085017603, -0.13436049884199788, 0.012330562960956554, -0.13867032436145796, -0.07511693139183576, -0.15302351604863146, 0.0511690542843275, -0.09717096801514527, -0.015902269257750495, -0.22185926069673959, -0.11727934677422953, 0.04049619023287903, 0.23046283379487176, 0.053235963227174304, -0.09205197165581822, 0.03517273595811533, -0.17426120469994105, 0.023390495204071916, 0.12419640805763588, -0.10368227468302249, 0.1796010586774612, -0.18851384380229086, -0.10715801633182048, 0.13283563843319185, -0.05195377417069618, 0.026302438168406654, 0.00204664550542686, -0.06490407541977246, 0.13304319155324873, -0.042336230240986185, -0.07669140518512596, 0.17940946395266505, -0.09703356047707602, 0.004122292844376582, 0.04620546175363337, -0.08723494894361035, -0.15477262051346505, 0.06524196884043745, 0.1388366292057013, 0.05214691409290752, 0.16707970456339732, -0.0647973892146324, 0.005929960755449267, -0.02532797418149218, -0.11499687443138888, 0.013050534128199093, 0.15810346693409025, 0.040112436191757375, 0.09405764885374332, 0.001241726043180045, 0.03704708681627567, -0.008464185775298297, 0.20860989166153493, -0.08665035353252472, -0.042909439891383475, 0.0996686839401813, -0.08437746557473055, 0.08038261452920681, -0.1237514533633405, -0.09219216685884024, -0.16530873681333283, 0.023713675638771633, -0.0707135727390034, 0.09132424556790811, 0.037871574375211964, -0.057943402078341914, 0.21645661330730287, 0.07023259766207395, 0.07209020403739515, 0.15429575826620381, 0.17979606004564125, -0.04580520687370351, 0.10974038536808946, -0.03618088398540063, -0.1019196054151906, 0.020312903026419624, 0.022998210301115873, 0.05517397766518167, -0.0726708124602763, -0.08323866126387791, -0.02562096606125915, -0.05216302720136973, 0.00010293484685815202, 0.03629951504011626, 0.00485930267525863, -0.08228802670638385, 0.06273672738462302, -0.10331200483386939, 0.0744259172752045, 0.011689742122445876, -0.04642061566579056, -0.03962895320184902, -0.09606663303404342, -0.03478539168299355, -0.025885722374450956, -0.0858325605003651, -0.012267215592222276, 0.05724658171452844, -0.010445532410445331, 0.07170896568072661, 0.13812632183805343, 0.02391249923376305, -0.055107794946747085, -0.017986879745864284, 0.13211420444639618, -0.1582024033437513, -0.06869614521834953, -0.05261089794666138, -0.21147703630010373, -0.006557821361322998, -0.03140710346819543, 0.025894023266464325, -0.20481138460194004, -0.12348615843212668, 0.024874097435905122, 0.09634323523172991, 0.08130642306501923, -0.011301436606562031, -0.14413201958327224, -0.0004582937382645617, -0.30166687747733556, -0.1642826681382618], \"xaxis\": \"x\", \"y\": [0.0, 0.7433232326429872, 0.9774047425972967, 0.7726702415163742, 0.03928876143736482, 0.0, 0.7181196017849273, 0.9709582392722839, 0.8241885718437671, 0.0, 0.010892099083406007, 0.7501129109186735, 0.9839595505499812, 0.7452243389947042, 0.0004424676236868168, 0.0, 0.7594821889739312, 0.9977784350952693, 0.7307647853013942, 0.0, 0.0, 0.727465229375124, 1.007942793636198, 0.7225893666150941, 0.018731323020972187, 0.0, 0.7422367285281536, 0.9874412198035674, 0.7947432535052172, 0.05569516472775865, 0.025830220739950095, 0.7580894527214936, 1.0480474754320723, 0.8014791010273239, 0.05092773163852208, 0.0, 0.7981851809322086, 0.991755021269524, 0.7877641288384442, 0.038122814255952917, 0.010720386905228751, 0.6906496824436125, 1.0049328147194785, 0.729087055452143, 0.02081329142885218, 0.0, 0.7693547340041862, 1.0077577698743136, 0.733834836195315, 0.0, 0.046119921797648, 0.7819044346935818, 1.0417764390288273, 0.7369494983701484, 0.0, 0.012972886773976199, 0.7961787922459581, 1.109164692256255, 0.7583995912084941, 0.02283445634815302, 0.0, 0.7654345554369477, 1.019814773830882, 0.7605730440597342, 0.02916974161802695, 0.0, 0.7347094858985785, 1.004879337557308, 0.7485817582306844, 0.0, 0.020969714031807224, 0.7998757610729234, 0.9904779251522807, 0.770423419208543, 0.07690902038462795, 0.04585336169477866, 0.7841709252958327, 1.0095914424637973, 0.7512876575551651, 0.031012645961243472, 0.044379218090661476, 0.7275042183469164, 1.0658848878305216, 0.7824623755220942, 0.038980093278685804, 0.0053468061684144655, 0.7557036612130336, 0.9837656731651222, 0.7247185526186902, 0.0, 0.015963865664178387, 0.726405918141206, 0.9428291745012413, 0.8203086243494793, 0.0, 0.0, 0.7812090712465282, 1.0080069015903763, 0.7998403595703065, 0.057214075350198394, 0.0, 0.7735199614656765, 1.016090217104712, 0.7019124555932327, 0.02053963063522242, 0.03912257621203474, 0.7667481086210298, 1.0633073590117976, 0.765073572538918, 0.0, 0.0, 0.7655489313897096, 1.0274339092827964, 0.7877446342214715, 0.03291057826003056, 0.025756015146570242, 0.7732754404996002, 0.9813069560659556, 0.7226417014799529, 0.05197599832658395, 0.0, 0.7540775366259774, 1.07682068832672, 0.7561612241175156, 0.0, 0.0, 0.7963980629273985, 0.969347134592443, 0.7325052464298342, 0.01616635799954945, 0.019103635952906414, 0.7460892443943391, 1.0010038425107846, 0.7994622992808713, 0.02311415404057378, 0.0, 0.7770015341215323, 1.0105232786580982, 0.7796300347927028, 0.009663556924268448, 0.061498869479303074, 0.740320448154599, 0.9745894094968441, 0.7761944797550066, 0.021248600521277576, 0.0, 0.7519463340150586, 1.0349433037195843, 0.7305514632376409, 0.04594029084483256, 0.0, 0.7468879881710054, 1.0378532521572645, 0.790889877578001, 0.005738881782245148, 0.002804591587030833, 0.7565880157798552, 1.046825611830515, 0.7374061630149067, 0.0270750585655759, 0.0, 0.7630330663227307, 1.0092462291341164, 0.7776925525145136, 0.0, 0.046272746730476204, 0.694622687852194, 0.9826321443780591, 0.7298007933104875, 0.05227896734231944, 0.0, 0.8050627819273766, 0.941549664949595, 0.7737694464560473, 0.06406884292868367, 0.008038838110441818, 0.791498624426426, 0.9719860584865012, 0.7157390860115568, 0.0, 0.001329608056596919, 0.7861961620049486, 0.974771874533562, 0.7190916112388697, 0.06751020959336827, 0.06508192960161577, 0.7946244123971702, 0.9928712543176944, 0.8063710149528367, 0.0, 0.05076242603527564, 0.7955917515507156, 1.0089695828082688, 0.772813821832711, 0.022050043299746493, 0.031220668162726457, 0.7322975166386453, 1.045730159310882, 0.6994430194278638, 0.0, 0.016360579935353267, 0.7216534758104266, 1.0003187264794728, 0.6925489283184445, 0.0, 0.053436687876645975, 0.7165192910611269, 1.0253265957557955, 0.7253137013519824, 0.05704383170147616, 0.0194636276870212, 0.738061140172843, 1.0025032960196067, 0.7331308467515265, 0.04005512540504611, 0.03491662028190411, 0.7738274893554757, 0.9596019125312417, 0.7720071454724283, 0.0008833043591345239, 0.0317414672292341, 0.7845013187576193, 0.983874452852444, 0.7345192546835867, 0.027218418627482505, 0.011431380409128663, 0.7365427717555596, 1.0809211250502087, 0.799556373629115, 0.04553029962858537, 0.0, 0.8081151288924554, 0.9814658693945431, 0.7739803484016986, 0.011650061248262414, 0.029738763461977933, 0.797606868432213, 1.0160811708311175, 0.7826476629082602, 0.024692926919757417, 0.0, 0.7294637902541375, 1.0113175172506859, 0.7598912989032368, 0.0, 0.036953694546876734, 0.7774997865830677, 1.0253716574793448, 0.749590882673223, 0.0, 0.0, 0.7688085112829236, 1.034808660394437, 0.7401008798898238, 0.0, 0.019393474035113777, 0.7754846485040647, 0.9538567380909408, 0.8098075912428356, 0.0, 0.0, 0.7647515611218605, 0.9628860615430668, 0.8007253185244462, 0.02462178293207731, 0.0, 0.7516207530937469, 1.0235837280987012, 0.7624225685376879, 0.022446744177224847, 0.0045878066965829405, 0.7605564207690909, 0.9905132594850525, 0.7616212485147942, 0.0, 0.0, 0.7543497449054617, 1.0040981104131208, 0.7571391901649501, 0.0, 0.0, 0.7394739005666695, 1.026265281913899, 0.7608884544064882, 0.02934132698516142, 0.0026539226858651073, 0.7872017920471496, 1.03303114300776, 0.7624549787195063, 0.011100554219417502, 0.005892657175832681, 0.7415500162055396, 0.9575188836272865, 0.7519842151521485, 0.07977603589659593, 0.0, 0.7451498975573124, 0.9906971406874939, 0.7944322645413163, 0.0, 0.0, 0.7195423659024227, 0.9915399681531454, 0.7670213739622399, 0.05423107424690053, 0.0, 0.7844325640621596, 1.0199189188334803, 0.7295266637175889, 0.0, 0.05466079939277582, 0.7616795340843184, 0.9667326909268852, 0.7888081881899782, 0.07042192022146321, 0.011453082413632668, 0.7187774003678108, 1.0132044454049884, 0.7994409307695213, 0.007488486687773067, 0.054905327686073646, 0.7783731735464459, 1.0148633841257024, 0.7363519882408873, 0.03418411847451013, 0.03148289994066169, 0.7486641048294177, 1.0169939351025161, 0.7660313503842692, 0.0, 0.0229662832718246, 0.7362411174941805, 1.0206308902582286, 0.815037602195298, 0.03902924589234309, 0.055225828060644404, 0.7520707903802339, 0.991531671943271, 0.7555378052800867, 0.0654179030812113, 0.08631317350277425, 0.7579992886613243, 1.0207152125666612, 0.7614538978983204, 0.0, 0.02450197431255356, 0.7607666384506593, 1.0295705227101661, 0.723735418476935, 0.0, 0.01180054407493452, 0.7880445426469449, 0.9774638222772684, 0.7457926319024882, 0.0, 0.05578981079089937, 0.7518909743257228, 1.002866858460713, 0.7469122333585314, 0.0, 0.04066486049759082, 0.7693028187863494, 1.0261106513610432, 0.7731262692979879, 0.0, 0.0, 0.7820433013073952, 0.9859544192864246, 0.7299099064390641, 0.005597618062185391, 0.0, 0.7844090869918854, 0.9873524800131402, 0.7507210399440074, 0.0, 0.020144313940323455, 0.7674101285009655, 0.9534161650976323, 0.7474269559929146, 0.005560951097046838, 0.0, 0.7762529145340232, 1.0079840678486087, 0.794145396293493, 0.004911177270158218, 0.07115959418436756, 0.7612525374182381, 1.0526695517000635, 0.7470078958375205, 0.016142096916474287, 0.0, 0.7394089719261943, 1.0441360867290128, 0.7565164072170912, 0.06211163536245163, 0.014140342938575991, 0.7238748690250628, 1.0369471153272325, 0.7115324616961239, 0.0533780075144489, 0.014457822186392612, 0.750579319037476, 1.0342702215303199, 0.7412259971183673, 0.020633495247644414, 0.041464527041091555, 0.7329675844217088, 1.0088640396595245, 0.7419651440359246, 0.0, 0.0425853254162953, 0.7337591487914035, 0.9984328548273858, 0.7975438981202896, 0.02324139966821591, 0.06641592428382517, 0.7272238223868903, 1.0321996538916482, 0.7410816869878892, 0.011670582551972643, 0.03789730532730683, 0.7922510239097369, 1.0550223710123874, 0.7423208479017028, 0.0, 0.004864028797678837, 0.7240955293719488, 1.0038721464990732, 0.7690180530148547, 0.0, 0.0, 0.7413533974523746, 0.9839755052751302, 0.755036802176087, 0.030062540206556587, 0.009015511086931795, 0.7891041492012291, 1.0349693395523294, 0.7790234076137517, 0.00432768259560142, 0.0337352412734556, 0.7370592225412221, 0.995885277485445, 0.8041676599510001, 0.0, 0.0, 0.7622700037066471, 0.923241326669757, 0.7660612511316414, 0.07275331045251603, 0.0, 0.7934844394425634, 1.0448106985337886, 0.7680772464327318, 0.010140364848949753, 0.002616944269525632, 0.7518868333927184, 1.047437063878232, 0.7666251849087906, 0.044650565756368624, 0.0, 0.7535120200692472, 0.9941114436759457, 0.7779892251570464, 0.0, 0.0, 0.7129040937764112, 0.9635351292716232, 0.7888484954850132, 0.0, 0.058452304894219737, 0.7418647763196636, 1.0388608054542157, 0.7859935001945115, 0.0, 0.0, 0.7773541156971346, 1.0085533121123713, 0.729035674151937, 0.0028698713770700345, 0.06532893384973568, 0.7523503033571045, 0.959461753855364, 0.7901701494076675, 0.014050870512645433, 0.051856381185996024, 0.8046815487462536, 1.0035440469744672, 0.7815820602044463, 0.007367097309229145, 0.008440442801802134, 0.7940944177862375, 0.9881211714746905, 0.7556838661607708, 0.0, 0.007183028723810829, 0.7853047289371803, 1.021720027455928, 0.7688569837288385, 0.03560237826971888], \"yaxis\": \"y\"}],                        {\"height\": 400, \"legend\": {\"tracegroupgap\": 0}, \"template\": {\"data\": {\"bar\": [{\"error_x\": {\"color\": \"#2a3f5f\"}, \"error_y\": {\"color\": \"#2a3f5f\"}, \"marker\": {\"line\": {\"color\": \"#E5ECF6\", \"width\": 0.5}}, \"type\": \"bar\"}], \"barpolar\": [{\"marker\": {\"line\": {\"color\": \"#E5ECF6\", \"width\": 0.5}}, \"type\": \"barpolar\"}], \"carpet\": [{\"aaxis\": {\"endlinecolor\": \"#2a3f5f\", \"gridcolor\": \"white\", \"linecolor\": \"white\", \"minorgridcolor\": \"white\", \"startlinecolor\": \"#2a3f5f\"}, \"baxis\": {\"endlinecolor\": \"#2a3f5f\", \"gridcolor\": \"white\", \"linecolor\": \"white\", \"minorgridcolor\": \"white\", \"startlinecolor\": \"#2a3f5f\"}, \"type\": \"carpet\"}], \"choropleth\": [{\"colorbar\": {\"outlinewidth\": 0, \"ticks\": \"\"}, \"type\": \"choropleth\"}], \"contour\": [{\"colorbar\": {\"outlinewidth\": 0, \"ticks\": \"\"}, \"colorscale\": [[0.0, \"#0d0887\"], [0.1111111111111111, \"#46039f\"], [0.2222222222222222, \"#7201a8\"], [0.3333333333333333, \"#9c179e\"], [0.4444444444444444, \"#bd3786\"], [0.5555555555555556, \"#d8576b\"], [0.6666666666666666, \"#ed7953\"], [0.7777777777777778, \"#fb9f3a\"], [0.8888888888888888, \"#fdca26\"], [1.0, \"#f0f921\"]], \"type\": \"contour\"}], \"contourcarpet\": [{\"colorbar\": {\"outlinewidth\": 0, \"ticks\": \"\"}, \"type\": \"contourcarpet\"}], \"heatmap\": [{\"colorbar\": {\"outlinewidth\": 0, \"ticks\": \"\"}, \"colorscale\": [[0.0, \"#0d0887\"], [0.1111111111111111, \"#46039f\"], [0.2222222222222222, \"#7201a8\"], [0.3333333333333333, \"#9c179e\"], [0.4444444444444444, \"#bd3786\"], [0.5555555555555556, \"#d8576b\"], [0.6666666666666666, \"#ed7953\"], [0.7777777777777778, \"#fb9f3a\"], [0.8888888888888888, \"#fdca26\"], [1.0, \"#f0f921\"]], \"type\": \"heatmap\"}], \"heatmapgl\": [{\"colorbar\": {\"outlinewidth\": 0, \"ticks\": \"\"}, \"colorscale\": [[0.0, \"#0d0887\"], [0.1111111111111111, \"#46039f\"], [0.2222222222222222, \"#7201a8\"], [0.3333333333333333, \"#9c179e\"], [0.4444444444444444, \"#bd3786\"], [0.5555555555555556, \"#d8576b\"], [0.6666666666666666, \"#ed7953\"], [0.7777777777777778, \"#fb9f3a\"], [0.8888888888888888, \"#fdca26\"], [1.0, \"#f0f921\"]], \"type\": \"heatmapgl\"}], \"histogram\": [{\"marker\": {\"colorbar\": {\"outlinewidth\": 0, \"ticks\": \"\"}}, \"type\": \"histogram\"}], \"histogram2d\": [{\"colorbar\": {\"outlinewidth\": 0, \"ticks\": \"\"}, \"colorscale\": [[0.0, \"#0d0887\"], [0.1111111111111111, \"#46039f\"], [0.2222222222222222, \"#7201a8\"], [0.3333333333333333, \"#9c179e\"], [0.4444444444444444, \"#bd3786\"], [0.5555555555555556, \"#d8576b\"], [0.6666666666666666, \"#ed7953\"], [0.7777777777777778, \"#fb9f3a\"], [0.8888888888888888, \"#fdca26\"], [1.0, \"#f0f921\"]], \"type\": \"histogram2d\"}], \"histogram2dcontour\": [{\"colorbar\": {\"outlinewidth\": 0, \"ticks\": \"\"}, \"colorscale\": [[0.0, \"#0d0887\"], [0.1111111111111111, \"#46039f\"], [0.2222222222222222, \"#7201a8\"], [0.3333333333333333, \"#9c179e\"], [0.4444444444444444, \"#bd3786\"], [0.5555555555555556, \"#d8576b\"], [0.6666666666666666, \"#ed7953\"], [0.7777777777777778, \"#fb9f3a\"], [0.8888888888888888, \"#fdca26\"], [1.0, \"#f0f921\"]], \"type\": \"histogram2dcontour\"}], \"mesh3d\": [{\"colorbar\": {\"outlinewidth\": 0, \"ticks\": \"\"}, \"type\": \"mesh3d\"}], \"parcoords\": [{\"line\": {\"colorbar\": {\"outlinewidth\": 0, \"ticks\": \"\"}}, \"type\": \"parcoords\"}], \"pie\": [{\"automargin\": true, \"type\": \"pie\"}], \"scatter\": [{\"marker\": {\"colorbar\": {\"outlinewidth\": 0, \"ticks\": \"\"}}, \"type\": \"scatter\"}], \"scatter3d\": [{\"line\": {\"colorbar\": {\"outlinewidth\": 0, \"ticks\": \"\"}}, \"marker\": {\"colorbar\": {\"outlinewidth\": 0, \"ticks\": \"\"}}, \"type\": \"scatter3d\"}], \"scattercarpet\": [{\"marker\": {\"colorbar\": {\"outlinewidth\": 0, \"ticks\": \"\"}}, \"type\": \"scattercarpet\"}], \"scattergeo\": [{\"marker\": {\"colorbar\": {\"outlinewidth\": 0, \"ticks\": \"\"}}, \"type\": \"scattergeo\"}], \"scattergl\": [{\"marker\": {\"colorbar\": {\"outlinewidth\": 0, \"ticks\": \"\"}}, \"type\": \"scattergl\"}], \"scattermapbox\": [{\"marker\": {\"colorbar\": {\"outlinewidth\": 0, \"ticks\": \"\"}}, \"type\": \"scattermapbox\"}], \"scatterpolar\": [{\"marker\": {\"colorbar\": {\"outlinewidth\": 0, \"ticks\": \"\"}}, \"type\": \"scatterpolar\"}], \"scatterpolargl\": [{\"marker\": {\"colorbar\": {\"outlinewidth\": 0, \"ticks\": \"\"}}, \"type\": \"scatterpolargl\"}], \"scatterternary\": [{\"marker\": {\"colorbar\": {\"outlinewidth\": 0, \"ticks\": \"\"}}, \"type\": \"scatterternary\"}], \"surface\": [{\"colorbar\": {\"outlinewidth\": 0, \"ticks\": \"\"}, \"colorscale\": [[0.0, \"#0d0887\"], [0.1111111111111111, \"#46039f\"], [0.2222222222222222, \"#7201a8\"], [0.3333333333333333, \"#9c179e\"], [0.4444444444444444, \"#bd3786\"], [0.5555555555555556, \"#d8576b\"], [0.6666666666666666, \"#ed7953\"], [0.7777777777777778, \"#fb9f3a\"], [0.8888888888888888, \"#fdca26\"], [1.0, \"#f0f921\"]], \"type\": \"surface\"}], \"table\": [{\"cells\": {\"fill\": {\"color\": \"#EBF0F8\"}, \"line\": {\"color\": \"white\"}}, \"header\": {\"fill\": {\"color\": \"#C8D4E3\"}, \"line\": {\"color\": \"white\"}}, \"type\": \"table\"}]}, \"layout\": {\"annotationdefaults\": {\"arrowcolor\": \"#2a3f5f\", \"arrowhead\": 0, \"arrowwidth\": 1}, \"autotypenumbers\": \"strict\", \"coloraxis\": {\"colorbar\": {\"outlinewidth\": 0, \"ticks\": \"\"}}, \"colorscale\": {\"diverging\": [[0, \"#8e0152\"], [0.1, \"#c51b7d\"], [0.2, \"#de77ae\"], [0.3, \"#f1b6da\"], [0.4, \"#fde0ef\"], [0.5, \"#f7f7f7\"], [0.6, \"#e6f5d0\"], [0.7, \"#b8e186\"], [0.8, \"#7fbc41\"], [0.9, \"#4d9221\"], [1, \"#276419\"]], \"sequential\": [[0.0, \"#0d0887\"], [0.1111111111111111, \"#46039f\"], [0.2222222222222222, \"#7201a8\"], [0.3333333333333333, \"#9c179e\"], [0.4444444444444444, \"#bd3786\"], [0.5555555555555556, \"#d8576b\"], [0.6666666666666666, \"#ed7953\"], [0.7777777777777778, \"#fb9f3a\"], [0.8888888888888888, \"#fdca26\"], [1.0, \"#f0f921\"]], \"sequentialminus\": [[0.0, \"#0d0887\"], [0.1111111111111111, \"#46039f\"], [0.2222222222222222, \"#7201a8\"], [0.3333333333333333, \"#9c179e\"], [0.4444444444444444, \"#bd3786\"], [0.5555555555555556, \"#d8576b\"], [0.6666666666666666, \"#ed7953\"], [0.7777777777777778, \"#fb9f3a\"], [0.8888888888888888, \"#fdca26\"], [1.0, \"#f0f921\"]]}, \"colorway\": [\"#636efa\", \"#EF553B\", \"#00cc96\", \"#ab63fa\", \"#FFA15A\", \"#19d3f3\", \"#FF6692\", \"#B6E880\", \"#FF97FF\", \"#FECB52\"], \"font\": {\"color\": \"#2a3f5f\"}, \"geo\": {\"bgcolor\": \"white\", \"lakecolor\": \"white\", \"landcolor\": \"#E5ECF6\", \"showlakes\": true, \"showland\": true, \"subunitcolor\": \"white\"}, \"hoverlabel\": {\"align\": \"left\"}, \"hovermode\": \"closest\", \"mapbox\": {\"style\": \"light\"}, \"paper_bgcolor\": \"white\", \"plot_bgcolor\": \"#E5ECF6\", \"polar\": {\"angularaxis\": {\"gridcolor\": \"white\", \"linecolor\": \"white\", \"ticks\": \"\"}, \"bgcolor\": \"#E5ECF6\", \"radialaxis\": {\"gridcolor\": \"white\", \"linecolor\": \"white\", \"ticks\": \"\"}}, \"scene\": {\"xaxis\": {\"backgroundcolor\": \"#E5ECF6\", \"gridcolor\": \"white\", \"gridwidth\": 2, \"linecolor\": \"white\", \"showbackground\": true, \"ticks\": \"\", \"zerolinecolor\": \"white\"}, \"yaxis\": {\"backgroundcolor\": \"#E5ECF6\", \"gridcolor\": \"white\", \"gridwidth\": 2, \"linecolor\": \"white\", \"showbackground\": true, \"ticks\": \"\", \"zerolinecolor\": \"white\"}, \"zaxis\": {\"backgroundcolor\": \"#E5ECF6\", \"gridcolor\": \"white\", \"gridwidth\": 2, \"linecolor\": \"white\", \"showbackground\": true, \"ticks\": \"\", \"zerolinecolor\": \"white\"}}, \"shapedefaults\": {\"line\": {\"color\": \"#2a3f5f\"}}, \"ternary\": {\"aaxis\": {\"gridcolor\": \"white\", \"linecolor\": \"white\", \"ticks\": \"\"}, \"baxis\": {\"gridcolor\": \"white\", \"linecolor\": \"white\", \"ticks\": \"\"}, \"bgcolor\": \"#E5ECF6\", \"caxis\": {\"gridcolor\": \"white\", \"linecolor\": \"white\", \"ticks\": \"\"}}, \"title\": {\"x\": 0.05}, \"xaxis\": {\"automargin\": true, \"gridcolor\": \"white\", \"linecolor\": \"white\", \"ticks\": \"\", \"title\": {\"standoff\": 15}, \"zerolinecolor\": \"white\", \"zerolinewidth\": 2}, \"yaxis\": {\"automargin\": true, \"gridcolor\": \"white\", \"linecolor\": \"white\", \"ticks\": \"\", \"title\": {\"standoff\": 15}, \"zerolinecolor\": \"white\", \"zerolinewidth\": 2}}}, \"title\": {\"text\": \"\\u0412\\u043b\\u0438\\u044f\\u043d\\u0438\\u0435 \\u043a\\u0443\\u0440\\u0441\\u0430 \\u043d\\u0430 \\u043f\\u043e\\u043f\\u043e\\u043b\\u043d\\u0435\\u043d\\u0438\\u044f\"}, \"width\": 700, \"xaxis\": {\"anchor\": \"y\", \"domain\": [0.0, 1.0], \"title\": {\"text\": \"ex_rate\"}}, \"yaxis\": {\"anchor\": \"x\", \"domain\": [0.0, 1.0], \"title\": {\"text\": \"volume\"}}},                        {\"responsive\": true}                    ).then(function(){\n",
       "                            \n",
       "var gd = document.getElementById('fe040b8d-a885-4054-9654-dc174dc8e52d');\n",
       "var x = new MutationObserver(function (mutations, observer) {{\n",
       "        var display = window.getComputedStyle(gd).display;\n",
       "        if (!display || display === 'none') {{\n",
       "            console.log([gd, 'removed!']);\n",
       "            Plotly.purge(gd);\n",
       "            observer.disconnect();\n",
       "        }}\n",
       "}});\n",
       "\n",
       "// Listen for the removal of the full notebook cells\n",
       "var notebookContainer = gd.closest('#notebook-container');\n",
       "if (notebookContainer) {{\n",
       "    x.observe(notebookContainer, {childList: true});\n",
       "}}\n",
       "\n",
       "// Listen for the clearing of the current output cell\n",
       "var outputEl = gd.closest('.output');\n",
       "if (outputEl) {{\n",
       "    x.observe(outputEl, {childList: true});\n",
       "}}\n",
       "\n",
       "                        })                };                });            </script>        </div>"
      ]
     },
     "metadata": {},
     "output_type": "display_data"
    }
   ],
   "source": [
    "fig = px.scatter(df, y='volume', x='ex_rate', width=700, height=400, \n",
    "                 title='Влияние курса на пополнения')\n",
    "fig.show()"
   ]
  },
  {
   "cell_type": "markdown",
   "metadata": {},
   "source": [
    "Видим 3 основных кластера по величине пополнений:\n",
    "\n",
    "* на уровне ~1\n",
    "* на уровне ~0.8\n",
    "* на уровне 0\n",
    "    \n",
    "Но расположены они вдоль практически всего диапазона значений переменной ex_rate. Вероятно, это не самый сильный фактор."
   ]
  },
  {
   "cell_type": "code",
   "execution_count": 182,
   "metadata": {
    "scrolled": true
   },
   "outputs": [
    {
     "data": {
      "application/vnd.plotly.v1+json": {
       "config": {
        "plotlyServerURL": "https://plot.ly"
       },
       "data": [
        {
         "hovertemplate": "int_rate=%{x}<br>volume=%{y}<extra></extra>",
         "legendgroup": "",
         "marker": {
          "color": "#636efa",
          "symbol": "circle"
         },
         "mode": "markers",
         "name": "",
         "orientation": "v",
         "showlegend": false,
         "type": "scatter",
         "x": [
          0.021498468999329688,
          0.019604830608171253,
          0.08284669981636214,
          -0.025355275446561295,
          -0.10946154972056935,
          0.0861592055612243,
          0.10643750413805675,
          0.0701412969113169,
          -0.2576130913507627,
          0.18402157454902068,
          0.023060475354626842,
          -0.03869765708607918,
          0.10495929566228393,
          0.0362458028592346,
          0.05678442813665366,
          0.09357698758230015,
          0.04402114650386897,
          0.05905046951592553,
          0.060193586378526766,
          0.1002639221367586,
          0.046374680893278196,
          0.16409603783076168,
          -0.018196383719204134,
          0.13228676931328384,
          -0.036202610300565465,
          0.1265337067239179,
          0.03629934483945386,
          0.042470202137110315,
          -0.10549739721127503,
          -0.058277460513049786,
          -0.008744760218623039,
          -0.009068834268385137,
          -0.08142777678483093,
          -0.19043951385680025,
          -0.13497380143573118,
          0.036128614392657174,
          -0.08452095612634075,
          0.016377465799890918,
          -0.05398993184760183,
          -0.12120697463877364,
          -0.045487107618684894,
          0.23059547781611586,
          -0.0057487805665188095,
          0.10749386516560822,
          -0.053647561340239215,
          0.16671578524253639,
          -0.05023518440028221,
          -0.03817393948666084,
          0.07136632034310023,
          0.25099089635380817,
          -0.1365445441528478,
          -0.03006979807027493,
          -0.11713241690628731,
          0.1231488239092473,
          0.11341539233141665,
          -0.027613990080179784,
          -0.08530363642327489,
          -0.33109917488667673,
          -0.007881564634137238,
          -0.05833775780589924,
          0.0893955724996352,
          -0.14418642498300605,
          -0.0880933760841301,
          -0.011745433193320812,
          -0.026959665918214755,
          0.06394203405289682,
          0.039895059487886214,
          0.010466055094081274,
          0.06649225491075555,
          0.014319479188732734,
          -0.08871988600648939,
          -0.08343092767387744,
          0.11778408855527633,
          -0.012438287316239197,
          -0.21984112355867802,
          -0.21748458671255785,
          -0.1167020546907202,
          0.03099626108625635,
          0.007006115591619288,
          -0.10064770873895897,
          -0.0969284135317039,
          0.09026461427618107,
          -0.14999243917440802,
          -0.04171403865856274,
          -0.08156807965716778,
          0.07865415949791887,
          0.03154230934392692,
          0.06922491117094488,
          0.10724833313993161,
          0.1828886347123072,
          0.006389845200194012,
          0.14545385589509477,
          0.26615092166852317,
          -0.17315597257290088,
          0.08495989035310163,
          0.13716775585056742,
          -0.0566917623099818,
          0.06935169998736221,
          -0.1286561028694073,
          -0.14025927870219604,
          0.07651129776469795,
          -0.07279019737754866,
          -0.0218771112190926,
          0.13308712594768532,
          -0.07421429161052571,
          -0.13361513241684322,
          -0.021726973149818387,
          -0.09383346175752533,
          -0.022144613898637987,
          0.0795222348470543,
          0.07979140580160762,
          -0.05295635992227537,
          -0.10584649298417942,
          -0.095451488834738,
          -0.07773504763936484,
          -0.12346650434244942,
          -0.06755638507705557,
          0.04774078179143233,
          0.09604013755420472,
          -0.12583503827189477,
          0.06457384941005659,
          0.032520536962410765,
          -0.1935677793683268,
          -0.04260613616425221,
          0.10376682877411109,
          0.12229089929063511,
          -0.14863729700763903,
          0.16987715731257622,
          0.07051895583900845,
          -0.028281837969368895,
          -0.004452556295999844,
          0.0438843579403533,
          0.07783346993588708,
          -0.10771433158371163,
          -0.002198787607325357,
          0.18940572281751122,
          9.967575414868904e-05,
          -0.016324999586514552,
          -0.12555875761969665,
          -0.03844251886241028,
          -0.17615271127986296,
          0.04942803994808455,
          0.14682603893562357,
          -0.034770509100894784,
          -0.044281264597725106,
          0.013372068274050936,
          0.007248954212977249,
          -0.11012073579576509,
          0.03402687581909394,
          -0.10506241389719916,
          0.05788773595848238,
          0.06947347112912143,
          -0.06789443813666766,
          -0.10058083560641243,
          0.013503807317786982,
          -0.0005409152878064179,
          0.05289654585396361,
          -0.13324689480929428,
          0.09987571667381283,
          -0.05893608654540995,
          0.17144684332145557,
          0.03148091314631418,
          0.012293767119011156,
          -0.02991882348956029,
          0.05630669704660064,
          -0.10997528069030571,
          0.18559499667851265,
          0.09570689240510162,
          0.08220971818572442,
          -0.10192521886066988,
          0.0283301924058237,
          -0.12807289264866067,
          0.22426076476676982,
          -0.04055552750934506,
          -0.22037300396815912,
          -0.013105276748384624,
          -0.14084179684058326,
          0.1385900982365322,
          0.17923335539221208,
          0.09638329660244614,
          0.03966426216858383,
          -0.1119632819026055,
          0.099182972100954,
          0.17354122213283824,
          -0.1703131882571679,
          -0.15619981282358347,
          -0.13808370203194334,
          0.05906021299733183,
          -0.13201097570363263,
          0.16885035703070966,
          -0.1319348042959469,
          -0.09142851157205552,
          0.02838231259168747,
          -0.03894999721462798,
          -0.038677193600866834,
          -0.057972906089129306,
          0.09242129574973142,
          -0.08149639472573163,
          0.1789182434811708,
          0.15832940572984258,
          -0.04012914840925352,
          0.1534183067942709,
          0.03718112148883684,
          0.15800053513406054,
          0.13041986135326109,
          -0.11014953010139439,
          0.16370530232979252,
          -0.02599661795051611,
          0.0682622167889385,
          -0.10351986245284145,
          -0.03558175640796497,
          0.07752958063488402,
          0.04183407999958779,
          0.10199573562765106,
          -0.10431646655117875,
          -0.037257544225227125,
          -0.02353009666590633,
          0.15010069196543577,
          0.034773764758562475,
          0.05852282871780443,
          0.014142657244954088,
          -0.10319949829471325,
          0.12056784740619111,
          0.02803493856969848,
          -0.02483984288338235,
          0.06826882594569843,
          0.02922488731514274,
          -0.21268780512908694,
          -0.07556244379990108,
          -0.12365089578658668,
          0.12494800277365468,
          -0.15019548573348104,
          0.037673991759009096,
          -0.008084115913999764,
          -0.07818647225887154,
          -0.04300750568979411,
          -0.0786624743284009,
          -0.04816584381928565,
          -0.0370551734697699,
          -0.12263174336706922,
          0.16291901504461928,
          0.1017178244936559,
          0.03766206515335954,
          -0.03804364312882054,
          0.16059382010574574,
          -0.05324027471494437,
          -0.055418636511002387,
          -0.09336412089626892,
          0.04549577460162997,
          0.011756055905283846,
          0.1064460485254615,
          -0.003476476412197726,
          -0.06388372473342546,
          0.07976608469296283,
          0.11655743398971014,
          -0.08906613417180269,
          -0.022218735266171158,
          0.14798252635276418,
          -0.13420691612961286,
          0.012592164422485053,
          0.043735448706091994,
          -0.00991228954485448,
          0.1537557078215061,
          -0.13434585266089047,
          -0.03495672486403968,
          0.05558728853874331,
          0.044264780905972995,
          -0.05858036485849697,
          -0.020937827752838183,
          -0.013216643233956474,
          0.11990913760235133,
          -0.054108640070131865,
          0.10252616556169757,
          -0.007792683333486008,
          0.123551034294487,
          0.04084528479958588,
          0.043638781093288656,
          0.010779621057543431,
          -0.02870594641537328,
          0.04648711999268024,
          0.05708718993809378,
          0.060601369092749435,
          -0.02782127577541927,
          -0.020674271400868454,
          -0.005406469891845477,
          0.06767909999914708,
          -0.10221992116278789,
          -0.050609948031132584,
          -0.0321849107689556,
          0.07546538743504032,
          0.03828691331201213,
          0.07659625571477785,
          0.16516433844278647,
          0.010486989694849621,
          -0.21731762628172535,
          0.15503145022649667,
          0.08188589546988527,
          0.031666460921108495,
          -0.0924238609325361,
          0.046852447379213596,
          -0.008978542784635519,
          0.16442243101726975,
          0.051030419251943494,
          0.012961663795736926,
          -0.1587326227966945,
          0.04424488356213579,
          -0.06786177692661512,
          -0.03282192549228602,
          0.09935650536262278,
          0.18124733097296114,
          -0.10232445050659598,
          -0.04983683996935395,
          0.12081474706143369,
          -0.039842061264762585,
          -0.14945793510655758,
          -0.0208235288720969,
          0.1528249326683303,
          -0.014461444905524846,
          -0.09220743474786414,
          0.013604643967226552,
          -0.10162756429971352,
          -0.0649740350039955,
          0.018662054204269956,
          0.050710988586060324,
          -0.11341426317604904,
          -0.026234681936068954,
          0.04981002101042698,
          -0.04933973732302609,
          -0.05258364823523251,
          0.08218911048449222,
          -0.092989374968731,
          0.10489101264124552,
          -0.0902877903463549,
          -0.1622076422709738,
          -0.08425599681394112,
          -0.13585080357756144,
          0.026445380413320143,
          0.07750461768309835,
          -0.019707047552124015,
          -0.1868186778806752,
          -0.20818352530700346,
          -0.0028639140478063487,
          -0.03533366216821908,
          0.02446047123422869,
          0.08118245649416007,
          -0.05647437192289833,
          -0.00570323895240268,
          -0.013072475931667325,
          0.11137877957329648,
          0.17465013374418112,
          0.013892146607868111,
          -0.09724514269709233,
          0.1053360618939363,
          0.056736659408547545,
          0.18786784860976888,
          -0.08794267505221066,
          0.0020537725414766137,
          0.08396117727938364,
          0.032232802359226646,
          0.054462933782991454,
          -0.15553712667437558,
          -0.05225223708146183,
          -0.07217494388648919,
          0.0008892050267087078,
          0.05825445129079252,
          0.04570741887875288,
          -0.053616829288400385,
          0.11178751545313433,
          0.09558062170322529,
          -0.0705559497054888,
          0.07307646924936012,
          -0.08059024482235337,
          0.06667266027870736,
          0.006089750208166971,
          0.1075243299247709,
          0.0025472142338657257,
          -0.05906259413192046,
          0.17975913227314977,
          0.022477616576276803,
          -0.0065374679384542335,
          0.06792973291654211,
          -0.08606968464114505,
          -0.08453344153073587,
          -0.09477993073680585,
          0.031128441424619253,
          -0.16662951836217693,
          0.03599705445267189,
          -0.10235472531441764,
          0.026628395996933087,
          -0.014585630669403797,
          0.20266559184518018,
          0.05417168767703078,
          -0.10020487595583026,
          -0.010898415321884182,
          -0.20624103009687256,
          -0.013152577505618372,
          0.11054637868498488,
          -0.09529596986786079,
          0.16106843535896215,
          -0.12482304860060414,
          -0.037445075808271534,
          0.03036098022823145,
          -0.06894563875347982,
          0.08407397274545307,
          -0.03433641371110187,
          -0.12065508901034774,
          0.09785708438038472,
          8.856513187733513e-05,
          0.10029037255062295,
          0.1701643140689607,
          -0.05418332124173673,
          0.07604051482268127,
          0.06665930895316345,
          -0.10210238118997356,
          -0.06852629771712819,
          -0.07673517681233197,
          0.12128687501235587,
          -0.07421164352430609,
          0.07608739675626015,
          -0.00670142128735535,
          -0.03874896279106239,
          -0.0593850875695146,
          -0.15183282325845626,
          -0.03662010087225708,
          0.1913915179574961,
          0.024100862836987157,
          0.06531587769837505,
          0.045204259425261906,
          -0.03765755182533777,
          0.09567983701967736,
          0.1359414530189762,
          0.06398074478075332,
          0.06239035534476513,
          0.048052812841453255,
          -0.06738310093922206,
          0.040134820509826065,
          -0.06295103553453847,
          -0.0683560846785488,
          -0.11328463084253355,
          0.001914198843876379,
          -0.09887727884444414,
          0.013017859617879077,
          -0.020990533871420143,
          -0.1653037659357818,
          0.048461170209147836,
          0.10840158971531383,
          -0.0043821992212986875,
          0.192122922019377,
          0.04346814920449746,
          -0.1665665545144259,
          0.1748285209716615,
          -0.0994218638710041,
          -0.0869967242255913,
          -0.0819174298637098,
          0.0031313444253123473,
          0.013593117134114187,
          -0.0427871516385991,
          -0.17234642036171988,
          -0.07026802243422957,
          -0.04981059446850305,
          0.07815873985191851,
          0.0498339472396602,
          0.041221960624761765,
          -0.10715016167343668,
          0.09563542799757578,
          0.09394634970978163,
          0.16168534084069458,
          0.1634929387031154,
          -0.049140856573506926,
          0.04447649565804162,
          -0.1568799352771202,
          0.08970744136664277,
          -0.08148399304001203,
          -0.15957770061065488,
          0.04338052480490168,
          0.04989341265220816,
          -0.02570332050671674,
          -0.01156194114260362,
          0.10897183137467459,
          0.005880099399445405,
          -0.2051480611903113,
          0.015236507940631049,
          0.1887679535644606,
          -0.12785475146224884,
          -0.07734854499013366,
          -0.1223378296778019,
          -0.21323464591540706,
          0.07560506899398566,
          -0.05194078238501837,
          0.01175854870448545,
          -0.004539223569036336,
          -0.11702418596299496,
          0.07106171703916428,
          0.06752441559147535,
          0.048670379385622894,
          0.005386841436743893,
          -0.09277403018840436,
          -0.011375270378176754,
          -0.06741457553166466,
          -0.09221294909570497
         ],
         "xaxis": "x",
         "y": [
          0,
          0.7433232326429872,
          0.9774047425972967,
          0.7726702415163742,
          0.03928876143736482,
          0,
          0.7181196017849273,
          0.9709582392722839,
          0.8241885718437671,
          0,
          0.010892099083406007,
          0.7501129109186735,
          0.9839595505499812,
          0.7452243389947042,
          0.0004424676236868168,
          0,
          0.7594821889739312,
          0.9977784350952693,
          0.7307647853013942,
          0,
          0,
          0.727465229375124,
          1.007942793636198,
          0.7225893666150941,
          0.018731323020972187,
          0,
          0.7422367285281536,
          0.9874412198035674,
          0.7947432535052172,
          0.05569516472775865,
          0.025830220739950095,
          0.7580894527214936,
          1.0480474754320723,
          0.8014791010273239,
          0.05092773163852208,
          0,
          0.7981851809322086,
          0.991755021269524,
          0.7877641288384442,
          0.038122814255952917,
          0.010720386905228751,
          0.6906496824436125,
          1.0049328147194785,
          0.729087055452143,
          0.02081329142885218,
          0,
          0.7693547340041862,
          1.0077577698743136,
          0.733834836195315,
          0,
          0.046119921797648,
          0.7819044346935818,
          1.0417764390288273,
          0.7369494983701484,
          0,
          0.012972886773976199,
          0.7961787922459581,
          1.109164692256255,
          0.7583995912084941,
          0.02283445634815302,
          0,
          0.7654345554369477,
          1.019814773830882,
          0.7605730440597342,
          0.02916974161802695,
          0,
          0.7347094858985785,
          1.004879337557308,
          0.7485817582306844,
          0,
          0.020969714031807224,
          0.7998757610729234,
          0.9904779251522807,
          0.770423419208543,
          0.07690902038462795,
          0.04585336169477866,
          0.7841709252958327,
          1.0095914424637973,
          0.7512876575551651,
          0.031012645961243472,
          0.044379218090661476,
          0.7275042183469164,
          1.0658848878305216,
          0.7824623755220942,
          0.038980093278685804,
          0.0053468061684144655,
          0.7557036612130336,
          0.9837656731651222,
          0.7247185526186902,
          0,
          0.015963865664178387,
          0.726405918141206,
          0.9428291745012413,
          0.8203086243494793,
          0,
          0,
          0.7812090712465282,
          1.0080069015903763,
          0.7998403595703065,
          0.057214075350198394,
          0,
          0.7735199614656765,
          1.016090217104712,
          0.7019124555932327,
          0.02053963063522242,
          0.03912257621203474,
          0.7667481086210298,
          1.0633073590117976,
          0.765073572538918,
          0,
          0,
          0.7655489313897096,
          1.0274339092827964,
          0.7877446342214715,
          0.03291057826003056,
          0.025756015146570242,
          0.7732754404996002,
          0.9813069560659556,
          0.7226417014799529,
          0.05197599832658395,
          0,
          0.7540775366259774,
          1.07682068832672,
          0.7561612241175156,
          0,
          0,
          0.7963980629273985,
          0.969347134592443,
          0.7325052464298342,
          0.01616635799954945,
          0.019103635952906414,
          0.7460892443943391,
          1.0010038425107846,
          0.7994622992808713,
          0.02311415404057378,
          0,
          0.7770015341215323,
          1.0105232786580982,
          0.7796300347927028,
          0.009663556924268448,
          0.061498869479303074,
          0.740320448154599,
          0.9745894094968441,
          0.7761944797550066,
          0.021248600521277576,
          0,
          0.7519463340150586,
          1.0349433037195843,
          0.7305514632376409,
          0.04594029084483256,
          0,
          0.7468879881710054,
          1.0378532521572645,
          0.790889877578001,
          0.005738881782245148,
          0.002804591587030833,
          0.7565880157798552,
          1.046825611830515,
          0.7374061630149067,
          0.0270750585655759,
          0,
          0.7630330663227307,
          1.0092462291341164,
          0.7776925525145136,
          0,
          0.046272746730476204,
          0.694622687852194,
          0.9826321443780591,
          0.7298007933104875,
          0.05227896734231944,
          0,
          0.8050627819273766,
          0.941549664949595,
          0.7737694464560473,
          0.06406884292868367,
          0.008038838110441818,
          0.791498624426426,
          0.9719860584865012,
          0.7157390860115568,
          0,
          0.001329608056596919,
          0.7861961620049486,
          0.974771874533562,
          0.7190916112388697,
          0.06751020959336827,
          0.06508192960161577,
          0.7946244123971702,
          0.9928712543176944,
          0.8063710149528367,
          0,
          0.05076242603527564,
          0.7955917515507156,
          1.0089695828082688,
          0.772813821832711,
          0.022050043299746493,
          0.031220668162726457,
          0.7322975166386453,
          1.045730159310882,
          0.6994430194278638,
          0,
          0.016360579935353267,
          0.7216534758104266,
          1.0003187264794728,
          0.6925489283184445,
          0,
          0.053436687876645975,
          0.7165192910611269,
          1.0253265957557955,
          0.7253137013519824,
          0.05704383170147616,
          0.0194636276870212,
          0.738061140172843,
          1.0025032960196067,
          0.7331308467515265,
          0.04005512540504611,
          0.03491662028190411,
          0.7738274893554757,
          0.9596019125312417,
          0.7720071454724283,
          0.0008833043591345239,
          0.0317414672292341,
          0.7845013187576193,
          0.983874452852444,
          0.7345192546835867,
          0.027218418627482505,
          0.011431380409128663,
          0.7365427717555596,
          1.0809211250502087,
          0.799556373629115,
          0.04553029962858537,
          0,
          0.8081151288924554,
          0.9814658693945431,
          0.7739803484016986,
          0.011650061248262414,
          0.029738763461977933,
          0.797606868432213,
          1.0160811708311175,
          0.7826476629082602,
          0.024692926919757417,
          0,
          0.7294637902541375,
          1.0113175172506859,
          0.7598912989032368,
          0,
          0.036953694546876734,
          0.7774997865830677,
          1.0253716574793448,
          0.749590882673223,
          0,
          0,
          0.7688085112829236,
          1.034808660394437,
          0.7401008798898238,
          0,
          0.019393474035113777,
          0.7754846485040647,
          0.9538567380909408,
          0.8098075912428356,
          0,
          0,
          0.7647515611218605,
          0.9628860615430668,
          0.8007253185244462,
          0.02462178293207731,
          0,
          0.7516207530937469,
          1.0235837280987012,
          0.7624225685376879,
          0.022446744177224847,
          0.0045878066965829405,
          0.7605564207690909,
          0.9905132594850525,
          0.7616212485147942,
          0,
          0,
          0.7543497449054617,
          1.0040981104131208,
          0.7571391901649501,
          0,
          0,
          0.7394739005666695,
          1.026265281913899,
          0.7608884544064882,
          0.02934132698516142,
          0.0026539226858651073,
          0.7872017920471496,
          1.03303114300776,
          0.7624549787195063,
          0.011100554219417502,
          0.005892657175832681,
          0.7415500162055396,
          0.9575188836272865,
          0.7519842151521485,
          0.07977603589659593,
          0,
          0.7451498975573124,
          0.9906971406874939,
          0.7944322645413163,
          0,
          0,
          0.7195423659024227,
          0.9915399681531454,
          0.7670213739622399,
          0.05423107424690053,
          0,
          0.7844325640621596,
          1.0199189188334803,
          0.7295266637175889,
          0,
          0.05466079939277582,
          0.7616795340843184,
          0.9667326909268852,
          0.7888081881899782,
          0.07042192022146321,
          0.011453082413632668,
          0.7187774003678108,
          1.0132044454049884,
          0.7994409307695213,
          0.007488486687773067,
          0.054905327686073646,
          0.7783731735464459,
          1.0148633841257024,
          0.7363519882408873,
          0.03418411847451013,
          0.03148289994066169,
          0.7486641048294177,
          1.0169939351025161,
          0.7660313503842692,
          0,
          0.0229662832718246,
          0.7362411174941805,
          1.0206308902582286,
          0.815037602195298,
          0.03902924589234309,
          0.055225828060644404,
          0.7520707903802339,
          0.991531671943271,
          0.7555378052800867,
          0.0654179030812113,
          0.08631317350277425,
          0.7579992886613243,
          1.0207152125666612,
          0.7614538978983204,
          0,
          0.02450197431255356,
          0.7607666384506593,
          1.0295705227101661,
          0.723735418476935,
          0,
          0.01180054407493452,
          0.7880445426469449,
          0.9774638222772684,
          0.7457926319024882,
          0,
          0.05578981079089937,
          0.7518909743257228,
          1.002866858460713,
          0.7469122333585314,
          0,
          0.04066486049759082,
          0.7693028187863494,
          1.0261106513610432,
          0.7731262692979879,
          0,
          0,
          0.7820433013073952,
          0.9859544192864246,
          0.7299099064390641,
          0.005597618062185391,
          0,
          0.7844090869918854,
          0.9873524800131402,
          0.7507210399440074,
          0,
          0.020144313940323455,
          0.7674101285009655,
          0.9534161650976323,
          0.7474269559929146,
          0.005560951097046838,
          0,
          0.7762529145340232,
          1.0079840678486087,
          0.794145396293493,
          0.004911177270158218,
          0.07115959418436756,
          0.7612525374182381,
          1.0526695517000635,
          0.7470078958375205,
          0.016142096916474287,
          0,
          0.7394089719261943,
          1.0441360867290128,
          0.7565164072170912,
          0.06211163536245163,
          0.014140342938575991,
          0.7238748690250628,
          1.0369471153272325,
          0.7115324616961239,
          0.0533780075144489,
          0.014457822186392612,
          0.750579319037476,
          1.0342702215303199,
          0.7412259971183673,
          0.020633495247644414,
          0.041464527041091555,
          0.7329675844217088,
          1.0088640396595245,
          0.7419651440359246,
          0,
          0.0425853254162953,
          0.7337591487914035,
          0.9984328548273858,
          0.7975438981202896,
          0.02324139966821591,
          0.06641592428382517,
          0.7272238223868903,
          1.0321996538916482,
          0.7410816869878892,
          0.011670582551972643,
          0.03789730532730683,
          0.7922510239097369,
          1.0550223710123874,
          0.7423208479017028,
          0,
          0.004864028797678837,
          0.7240955293719488,
          1.0038721464990732,
          0.7690180530148547,
          0,
          0,
          0.7413533974523746,
          0.9839755052751302,
          0.755036802176087,
          0.030062540206556587,
          0.009015511086931795,
          0.7891041492012291,
          1.0349693395523294,
          0.7790234076137517,
          0.00432768259560142,
          0.0337352412734556,
          0.7370592225412221,
          0.995885277485445,
          0.8041676599510001,
          0,
          0,
          0.7622700037066471,
          0.923241326669757,
          0.7660612511316414,
          0.07275331045251603,
          0,
          0.7934844394425634,
          1.0448106985337886,
          0.7680772464327318,
          0.010140364848949753,
          0.002616944269525632,
          0.7518868333927184,
          1.047437063878232,
          0.7666251849087906,
          0.044650565756368624,
          0,
          0.7535120200692472,
          0.9941114436759457,
          0.7779892251570464,
          0,
          0,
          0.7129040937764112,
          0.9635351292716232,
          0.7888484954850132,
          0,
          0.058452304894219737,
          0.7418647763196636,
          1.0388608054542157,
          0.7859935001945115,
          0,
          0,
          0.7773541156971346,
          1.0085533121123713,
          0.729035674151937,
          0.0028698713770700345,
          0.06532893384973568,
          0.7523503033571045,
          0.959461753855364,
          0.7901701494076675,
          0.014050870512645433,
          0.051856381185996024,
          0.8046815487462536,
          1.0035440469744672,
          0.7815820602044463,
          0.007367097309229145,
          0.008440442801802134,
          0.7940944177862375,
          0.9881211714746905,
          0.7556838661607708,
          0,
          0.007183028723810829,
          0.7853047289371803,
          1.021720027455928,
          0.7688569837288385,
          0.03560237826971888
         ],
         "yaxis": "y"
        }
       ],
       "layout": {
        "height": 400,
        "legend": {
         "tracegroupgap": 0
        },
        "template": {
         "data": {
          "bar": [
           {
            "error_x": {
             "color": "#2a3f5f"
            },
            "error_y": {
             "color": "#2a3f5f"
            },
            "marker": {
             "line": {
              "color": "#E5ECF6",
              "width": 0.5
             }
            },
            "type": "bar"
           }
          ],
          "barpolar": [
           {
            "marker": {
             "line": {
              "color": "#E5ECF6",
              "width": 0.5
             }
            },
            "type": "barpolar"
           }
          ],
          "carpet": [
           {
            "aaxis": {
             "endlinecolor": "#2a3f5f",
             "gridcolor": "white",
             "linecolor": "white",
             "minorgridcolor": "white",
             "startlinecolor": "#2a3f5f"
            },
            "baxis": {
             "endlinecolor": "#2a3f5f",
             "gridcolor": "white",
             "linecolor": "white",
             "minorgridcolor": "white",
             "startlinecolor": "#2a3f5f"
            },
            "type": "carpet"
           }
          ],
          "choropleth": [
           {
            "colorbar": {
             "outlinewidth": 0,
             "ticks": ""
            },
            "type": "choropleth"
           }
          ],
          "contour": [
           {
            "colorbar": {
             "outlinewidth": 0,
             "ticks": ""
            },
            "colorscale": [
             [
              0,
              "#0d0887"
             ],
             [
              0.1111111111111111,
              "#46039f"
             ],
             [
              0.2222222222222222,
              "#7201a8"
             ],
             [
              0.3333333333333333,
              "#9c179e"
             ],
             [
              0.4444444444444444,
              "#bd3786"
             ],
             [
              0.5555555555555556,
              "#d8576b"
             ],
             [
              0.6666666666666666,
              "#ed7953"
             ],
             [
              0.7777777777777778,
              "#fb9f3a"
             ],
             [
              0.8888888888888888,
              "#fdca26"
             ],
             [
              1,
              "#f0f921"
             ]
            ],
            "type": "contour"
           }
          ],
          "contourcarpet": [
           {
            "colorbar": {
             "outlinewidth": 0,
             "ticks": ""
            },
            "type": "contourcarpet"
           }
          ],
          "heatmap": [
           {
            "colorbar": {
             "outlinewidth": 0,
             "ticks": ""
            },
            "colorscale": [
             [
              0,
              "#0d0887"
             ],
             [
              0.1111111111111111,
              "#46039f"
             ],
             [
              0.2222222222222222,
              "#7201a8"
             ],
             [
              0.3333333333333333,
              "#9c179e"
             ],
             [
              0.4444444444444444,
              "#bd3786"
             ],
             [
              0.5555555555555556,
              "#d8576b"
             ],
             [
              0.6666666666666666,
              "#ed7953"
             ],
             [
              0.7777777777777778,
              "#fb9f3a"
             ],
             [
              0.8888888888888888,
              "#fdca26"
             ],
             [
              1,
              "#f0f921"
             ]
            ],
            "type": "heatmap"
           }
          ],
          "heatmapgl": [
           {
            "colorbar": {
             "outlinewidth": 0,
             "ticks": ""
            },
            "colorscale": [
             [
              0,
              "#0d0887"
             ],
             [
              0.1111111111111111,
              "#46039f"
             ],
             [
              0.2222222222222222,
              "#7201a8"
             ],
             [
              0.3333333333333333,
              "#9c179e"
             ],
             [
              0.4444444444444444,
              "#bd3786"
             ],
             [
              0.5555555555555556,
              "#d8576b"
             ],
             [
              0.6666666666666666,
              "#ed7953"
             ],
             [
              0.7777777777777778,
              "#fb9f3a"
             ],
             [
              0.8888888888888888,
              "#fdca26"
             ],
             [
              1,
              "#f0f921"
             ]
            ],
            "type": "heatmapgl"
           }
          ],
          "histogram": [
           {
            "marker": {
             "colorbar": {
              "outlinewidth": 0,
              "ticks": ""
             }
            },
            "type": "histogram"
           }
          ],
          "histogram2d": [
           {
            "colorbar": {
             "outlinewidth": 0,
             "ticks": ""
            },
            "colorscale": [
             [
              0,
              "#0d0887"
             ],
             [
              0.1111111111111111,
              "#46039f"
             ],
             [
              0.2222222222222222,
              "#7201a8"
             ],
             [
              0.3333333333333333,
              "#9c179e"
             ],
             [
              0.4444444444444444,
              "#bd3786"
             ],
             [
              0.5555555555555556,
              "#d8576b"
             ],
             [
              0.6666666666666666,
              "#ed7953"
             ],
             [
              0.7777777777777778,
              "#fb9f3a"
             ],
             [
              0.8888888888888888,
              "#fdca26"
             ],
             [
              1,
              "#f0f921"
             ]
            ],
            "type": "histogram2d"
           }
          ],
          "histogram2dcontour": [
           {
            "colorbar": {
             "outlinewidth": 0,
             "ticks": ""
            },
            "colorscale": [
             [
              0,
              "#0d0887"
             ],
             [
              0.1111111111111111,
              "#46039f"
             ],
             [
              0.2222222222222222,
              "#7201a8"
             ],
             [
              0.3333333333333333,
              "#9c179e"
             ],
             [
              0.4444444444444444,
              "#bd3786"
             ],
             [
              0.5555555555555556,
              "#d8576b"
             ],
             [
              0.6666666666666666,
              "#ed7953"
             ],
             [
              0.7777777777777778,
              "#fb9f3a"
             ],
             [
              0.8888888888888888,
              "#fdca26"
             ],
             [
              1,
              "#f0f921"
             ]
            ],
            "type": "histogram2dcontour"
           }
          ],
          "mesh3d": [
           {
            "colorbar": {
             "outlinewidth": 0,
             "ticks": ""
            },
            "type": "mesh3d"
           }
          ],
          "parcoords": [
           {
            "line": {
             "colorbar": {
              "outlinewidth": 0,
              "ticks": ""
             }
            },
            "type": "parcoords"
           }
          ],
          "pie": [
           {
            "automargin": true,
            "type": "pie"
           }
          ],
          "scatter": [
           {
            "marker": {
             "colorbar": {
              "outlinewidth": 0,
              "ticks": ""
             }
            },
            "type": "scatter"
           }
          ],
          "scatter3d": [
           {
            "line": {
             "colorbar": {
              "outlinewidth": 0,
              "ticks": ""
             }
            },
            "marker": {
             "colorbar": {
              "outlinewidth": 0,
              "ticks": ""
             }
            },
            "type": "scatter3d"
           }
          ],
          "scattercarpet": [
           {
            "marker": {
             "colorbar": {
              "outlinewidth": 0,
              "ticks": ""
             }
            },
            "type": "scattercarpet"
           }
          ],
          "scattergeo": [
           {
            "marker": {
             "colorbar": {
              "outlinewidth": 0,
              "ticks": ""
             }
            },
            "type": "scattergeo"
           }
          ],
          "scattergl": [
           {
            "marker": {
             "colorbar": {
              "outlinewidth": 0,
              "ticks": ""
             }
            },
            "type": "scattergl"
           }
          ],
          "scattermapbox": [
           {
            "marker": {
             "colorbar": {
              "outlinewidth": 0,
              "ticks": ""
             }
            },
            "type": "scattermapbox"
           }
          ],
          "scatterpolar": [
           {
            "marker": {
             "colorbar": {
              "outlinewidth": 0,
              "ticks": ""
             }
            },
            "type": "scatterpolar"
           }
          ],
          "scatterpolargl": [
           {
            "marker": {
             "colorbar": {
              "outlinewidth": 0,
              "ticks": ""
             }
            },
            "type": "scatterpolargl"
           }
          ],
          "scatterternary": [
           {
            "marker": {
             "colorbar": {
              "outlinewidth": 0,
              "ticks": ""
             }
            },
            "type": "scatterternary"
           }
          ],
          "surface": [
           {
            "colorbar": {
             "outlinewidth": 0,
             "ticks": ""
            },
            "colorscale": [
             [
              0,
              "#0d0887"
             ],
             [
              0.1111111111111111,
              "#46039f"
             ],
             [
              0.2222222222222222,
              "#7201a8"
             ],
             [
              0.3333333333333333,
              "#9c179e"
             ],
             [
              0.4444444444444444,
              "#bd3786"
             ],
             [
              0.5555555555555556,
              "#d8576b"
             ],
             [
              0.6666666666666666,
              "#ed7953"
             ],
             [
              0.7777777777777778,
              "#fb9f3a"
             ],
             [
              0.8888888888888888,
              "#fdca26"
             ],
             [
              1,
              "#f0f921"
             ]
            ],
            "type": "surface"
           }
          ],
          "table": [
           {
            "cells": {
             "fill": {
              "color": "#EBF0F8"
             },
             "line": {
              "color": "white"
             }
            },
            "header": {
             "fill": {
              "color": "#C8D4E3"
             },
             "line": {
              "color": "white"
             }
            },
            "type": "table"
           }
          ]
         },
         "layout": {
          "annotationdefaults": {
           "arrowcolor": "#2a3f5f",
           "arrowhead": 0,
           "arrowwidth": 1
          },
          "autotypenumbers": "strict",
          "coloraxis": {
           "colorbar": {
            "outlinewidth": 0,
            "ticks": ""
           }
          },
          "colorscale": {
           "diverging": [
            [
             0,
             "#8e0152"
            ],
            [
             0.1,
             "#c51b7d"
            ],
            [
             0.2,
             "#de77ae"
            ],
            [
             0.3,
             "#f1b6da"
            ],
            [
             0.4,
             "#fde0ef"
            ],
            [
             0.5,
             "#f7f7f7"
            ],
            [
             0.6,
             "#e6f5d0"
            ],
            [
             0.7,
             "#b8e186"
            ],
            [
             0.8,
             "#7fbc41"
            ],
            [
             0.9,
             "#4d9221"
            ],
            [
             1,
             "#276419"
            ]
           ],
           "sequential": [
            [
             0,
             "#0d0887"
            ],
            [
             0.1111111111111111,
             "#46039f"
            ],
            [
             0.2222222222222222,
             "#7201a8"
            ],
            [
             0.3333333333333333,
             "#9c179e"
            ],
            [
             0.4444444444444444,
             "#bd3786"
            ],
            [
             0.5555555555555556,
             "#d8576b"
            ],
            [
             0.6666666666666666,
             "#ed7953"
            ],
            [
             0.7777777777777778,
             "#fb9f3a"
            ],
            [
             0.8888888888888888,
             "#fdca26"
            ],
            [
             1,
             "#f0f921"
            ]
           ],
           "sequentialminus": [
            [
             0,
             "#0d0887"
            ],
            [
             0.1111111111111111,
             "#46039f"
            ],
            [
             0.2222222222222222,
             "#7201a8"
            ],
            [
             0.3333333333333333,
             "#9c179e"
            ],
            [
             0.4444444444444444,
             "#bd3786"
            ],
            [
             0.5555555555555556,
             "#d8576b"
            ],
            [
             0.6666666666666666,
             "#ed7953"
            ],
            [
             0.7777777777777778,
             "#fb9f3a"
            ],
            [
             0.8888888888888888,
             "#fdca26"
            ],
            [
             1,
             "#f0f921"
            ]
           ]
          },
          "colorway": [
           "#636efa",
           "#EF553B",
           "#00cc96",
           "#ab63fa",
           "#FFA15A",
           "#19d3f3",
           "#FF6692",
           "#B6E880",
           "#FF97FF",
           "#FECB52"
          ],
          "font": {
           "color": "#2a3f5f"
          },
          "geo": {
           "bgcolor": "white",
           "lakecolor": "white",
           "landcolor": "#E5ECF6",
           "showlakes": true,
           "showland": true,
           "subunitcolor": "white"
          },
          "hoverlabel": {
           "align": "left"
          },
          "hovermode": "closest",
          "mapbox": {
           "style": "light"
          },
          "paper_bgcolor": "white",
          "plot_bgcolor": "#E5ECF6",
          "polar": {
           "angularaxis": {
            "gridcolor": "white",
            "linecolor": "white",
            "ticks": ""
           },
           "bgcolor": "#E5ECF6",
           "radialaxis": {
            "gridcolor": "white",
            "linecolor": "white",
            "ticks": ""
           }
          },
          "scene": {
           "xaxis": {
            "backgroundcolor": "#E5ECF6",
            "gridcolor": "white",
            "gridwidth": 2,
            "linecolor": "white",
            "showbackground": true,
            "ticks": "",
            "zerolinecolor": "white"
           },
           "yaxis": {
            "backgroundcolor": "#E5ECF6",
            "gridcolor": "white",
            "gridwidth": 2,
            "linecolor": "white",
            "showbackground": true,
            "ticks": "",
            "zerolinecolor": "white"
           },
           "zaxis": {
            "backgroundcolor": "#E5ECF6",
            "gridcolor": "white",
            "gridwidth": 2,
            "linecolor": "white",
            "showbackground": true,
            "ticks": "",
            "zerolinecolor": "white"
           }
          },
          "shapedefaults": {
           "line": {
            "color": "#2a3f5f"
           }
          },
          "ternary": {
           "aaxis": {
            "gridcolor": "white",
            "linecolor": "white",
            "ticks": ""
           },
           "baxis": {
            "gridcolor": "white",
            "linecolor": "white",
            "ticks": ""
           },
           "bgcolor": "#E5ECF6",
           "caxis": {
            "gridcolor": "white",
            "linecolor": "white",
            "ticks": ""
           }
          },
          "title": {
           "x": 0.05
          },
          "xaxis": {
           "automargin": true,
           "gridcolor": "white",
           "linecolor": "white",
           "ticks": "",
           "title": {
            "standoff": 15
           },
           "zerolinecolor": "white",
           "zerolinewidth": 2
          },
          "yaxis": {
           "automargin": true,
           "gridcolor": "white",
           "linecolor": "white",
           "ticks": "",
           "title": {
            "standoff": 15
           },
           "zerolinecolor": "white",
           "zerolinewidth": 2
          }
         }
        },
        "title": {
         "text": "Влияние ставок на пополнения"
        },
        "width": 700,
        "xaxis": {
         "anchor": "y",
         "domain": [
          0,
          1
         ],
         "title": {
          "text": "int_rate"
         }
        },
        "yaxis": {
         "anchor": "x",
         "domain": [
          0,
          1
         ],
         "title": {
          "text": "volume"
         }
        }
       }
      },
      "text/html": [
       "<div>                            <div id=\"cb04e5c7-2533-4629-9416-9d61ad656052\" class=\"plotly-graph-div\" style=\"height:400px; width:700px;\"></div>            <script type=\"text/javascript\">                require([\"plotly\"], function(Plotly) {                    window.PLOTLYENV=window.PLOTLYENV || {};                                    if (document.getElementById(\"cb04e5c7-2533-4629-9416-9d61ad656052\")) {                    Plotly.newPlot(                        \"cb04e5c7-2533-4629-9416-9d61ad656052\",                        [{\"hovertemplate\": \"int_rate=%{x}<br>volume=%{y}<extra></extra>\", \"legendgroup\": \"\", \"marker\": {\"color\": \"#636efa\", \"symbol\": \"circle\"}, \"mode\": \"markers\", \"name\": \"\", \"orientation\": \"v\", \"showlegend\": false, \"type\": \"scatter\", \"x\": [0.021498468999329688, 0.019604830608171253, 0.08284669981636214, -0.025355275446561295, -0.10946154972056935, 0.0861592055612243, 0.10643750413805675, 0.0701412969113169, -0.2576130913507627, 0.18402157454902068, 0.023060475354626842, -0.03869765708607918, 0.10495929566228393, 0.0362458028592346, 0.05678442813665366, 0.09357698758230015, 0.04402114650386897, 0.05905046951592553, 0.060193586378526766, 0.1002639221367586, 0.046374680893278196, 0.16409603783076168, -0.018196383719204134, 0.13228676931328384, -0.036202610300565465, 0.1265337067239179, 0.03629934483945386, 0.042470202137110315, -0.10549739721127503, -0.058277460513049786, -0.008744760218623039, -0.009068834268385137, -0.08142777678483093, -0.19043951385680025, -0.13497380143573118, 0.036128614392657174, -0.08452095612634075, 0.016377465799890918, -0.05398993184760183, -0.12120697463877364, -0.045487107618684894, 0.23059547781611586, -0.0057487805665188095, 0.10749386516560822, -0.053647561340239215, 0.16671578524253639, -0.05023518440028221, -0.03817393948666084, 0.07136632034310023, 0.25099089635380817, -0.1365445441528478, -0.03006979807027493, -0.11713241690628731, 0.1231488239092473, 0.11341539233141665, -0.027613990080179784, -0.08530363642327489, -0.33109917488667673, -0.007881564634137238, -0.05833775780589924, 0.0893955724996352, -0.14418642498300605, -0.0880933760841301, -0.011745433193320812, -0.026959665918214755, 0.06394203405289682, 0.039895059487886214, 0.010466055094081274, 0.06649225491075555, 0.014319479188732734, -0.08871988600648939, -0.08343092767387744, 0.11778408855527633, -0.012438287316239197, -0.21984112355867802, -0.21748458671255785, -0.1167020546907202, 0.03099626108625635, 0.007006115591619288, -0.10064770873895897, -0.0969284135317039, 0.09026461427618107, -0.14999243917440802, -0.04171403865856274, -0.08156807965716778, 0.07865415949791887, 0.03154230934392692, 0.06922491117094488, 0.10724833313993161, 0.1828886347123072, 0.006389845200194012, 0.14545385589509477, 0.26615092166852317, -0.17315597257290088, 0.08495989035310163, 0.13716775585056742, -0.0566917623099818, 0.06935169998736221, -0.1286561028694073, -0.14025927870219604, 0.07651129776469795, -0.07279019737754866, -0.0218771112190926, 0.13308712594768532, -0.07421429161052571, -0.13361513241684322, -0.021726973149818387, -0.09383346175752533, -0.022144613898637987, 0.0795222348470543, 0.07979140580160762, -0.05295635992227537, -0.10584649298417942, -0.095451488834738, -0.07773504763936484, -0.12346650434244942, -0.06755638507705557, 0.04774078179143233, 0.09604013755420472, -0.12583503827189477, 0.06457384941005659, 0.032520536962410765, -0.1935677793683268, -0.04260613616425221, 0.10376682877411109, 0.12229089929063511, -0.14863729700763903, 0.16987715731257622, 0.07051895583900845, -0.028281837969368895, -0.004452556295999844, 0.0438843579403533, 0.07783346993588708, -0.10771433158371163, -0.002198787607325357, 0.18940572281751122, 9.967575414868904e-05, -0.016324999586514552, -0.12555875761969665, -0.03844251886241028, -0.17615271127986296, 0.04942803994808455, 0.14682603893562357, -0.034770509100894784, -0.044281264597725106, 0.013372068274050936, 0.007248954212977249, -0.11012073579576509, 0.03402687581909394, -0.10506241389719916, 0.05788773595848238, 0.06947347112912143, -0.06789443813666766, -0.10058083560641243, 0.013503807317786982, -0.0005409152878064179, 0.05289654585396361, -0.13324689480929428, 0.09987571667381283, -0.05893608654540995, 0.17144684332145557, 0.03148091314631418, 0.012293767119011156, -0.02991882348956029, 0.05630669704660064, -0.10997528069030571, 0.18559499667851265, 0.09570689240510162, 0.08220971818572442, -0.10192521886066988, 0.0283301924058237, -0.12807289264866067, 0.22426076476676982, -0.04055552750934506, -0.22037300396815912, -0.013105276748384624, -0.14084179684058326, 0.1385900982365322, 0.17923335539221208, 0.09638329660244614, 0.03966426216858383, -0.1119632819026055, 0.099182972100954, 0.17354122213283824, -0.1703131882571679, -0.15619981282358347, -0.13808370203194334, 0.05906021299733183, -0.13201097570363263, 0.16885035703070966, -0.1319348042959469, -0.09142851157205552, 0.02838231259168747, -0.03894999721462798, -0.038677193600866834, -0.057972906089129306, 0.09242129574973142, -0.08149639472573163, 0.1789182434811708, 0.15832940572984258, -0.04012914840925352, 0.1534183067942709, 0.03718112148883684, 0.15800053513406054, 0.13041986135326109, -0.11014953010139439, 0.16370530232979252, -0.02599661795051611, 0.0682622167889385, -0.10351986245284145, -0.03558175640796497, 0.07752958063488402, 0.04183407999958779, 0.10199573562765106, -0.10431646655117875, -0.037257544225227125, -0.02353009666590633, 0.15010069196543577, 0.034773764758562475, 0.05852282871780443, 0.014142657244954088, -0.10319949829471325, 0.12056784740619111, 0.02803493856969848, -0.02483984288338235, 0.06826882594569843, 0.02922488731514274, -0.21268780512908694, -0.07556244379990108, -0.12365089578658668, 0.12494800277365468, -0.15019548573348104, 0.037673991759009096, -0.008084115913999764, -0.07818647225887154, -0.04300750568979411, -0.0786624743284009, -0.04816584381928565, -0.0370551734697699, -0.12263174336706922, 0.16291901504461928, 0.1017178244936559, 0.03766206515335954, -0.03804364312882054, 0.16059382010574574, -0.05324027471494437, -0.055418636511002387, -0.09336412089626892, 0.04549577460162997, 0.011756055905283846, 0.1064460485254615, -0.003476476412197726, -0.06388372473342546, 0.07976608469296283, 0.11655743398971014, -0.08906613417180269, -0.022218735266171158, 0.14798252635276418, -0.13420691612961286, 0.012592164422485053, 0.043735448706091994, -0.00991228954485448, 0.1537557078215061, -0.13434585266089047, -0.03495672486403968, 0.05558728853874331, 0.044264780905972995, -0.05858036485849697, -0.020937827752838183, -0.013216643233956474, 0.11990913760235133, -0.054108640070131865, 0.10252616556169757, -0.007792683333486008, 0.123551034294487, 0.04084528479958588, 0.043638781093288656, 0.010779621057543431, -0.02870594641537328, 0.04648711999268024, 0.05708718993809378, 0.060601369092749435, -0.02782127577541927, -0.020674271400868454, -0.005406469891845477, 0.06767909999914708, -0.10221992116278789, -0.050609948031132584, -0.0321849107689556, 0.07546538743504032, 0.03828691331201213, 0.07659625571477785, 0.16516433844278647, 0.010486989694849621, -0.21731762628172535, 0.15503145022649667, 0.08188589546988527, 0.031666460921108495, -0.0924238609325361, 0.046852447379213596, -0.008978542784635519, 0.16442243101726975, 0.051030419251943494, 0.012961663795736926, -0.1587326227966945, 0.04424488356213579, -0.06786177692661512, -0.03282192549228602, 0.09935650536262278, 0.18124733097296114, -0.10232445050659598, -0.04983683996935395, 0.12081474706143369, -0.039842061264762585, -0.14945793510655758, -0.0208235288720969, 0.1528249326683303, -0.014461444905524846, -0.09220743474786414, 0.013604643967226552, -0.10162756429971352, -0.0649740350039955, 0.018662054204269956, 0.050710988586060324, -0.11341426317604904, -0.026234681936068954, 0.04981002101042698, -0.04933973732302609, -0.05258364823523251, 0.08218911048449222, -0.092989374968731, 0.10489101264124552, -0.0902877903463549, -0.1622076422709738, -0.08425599681394112, -0.13585080357756144, 0.026445380413320143, 0.07750461768309835, -0.019707047552124015, -0.1868186778806752, -0.20818352530700346, -0.0028639140478063487, -0.03533366216821908, 0.02446047123422869, 0.08118245649416007, -0.05647437192289833, -0.00570323895240268, -0.013072475931667325, 0.11137877957329648, 0.17465013374418112, 0.013892146607868111, -0.09724514269709233, 0.1053360618939363, 0.056736659408547545, 0.18786784860976888, -0.08794267505221066, 0.0020537725414766137, 0.08396117727938364, 0.032232802359226646, 0.054462933782991454, -0.15553712667437558, -0.05225223708146183, -0.07217494388648919, 0.0008892050267087078, 0.05825445129079252, 0.04570741887875288, -0.053616829288400385, 0.11178751545313433, 0.09558062170322529, -0.0705559497054888, 0.07307646924936012, -0.08059024482235337, 0.06667266027870736, 0.006089750208166971, 0.1075243299247709, 0.0025472142338657257, -0.05906259413192046, 0.17975913227314977, 0.022477616576276803, -0.0065374679384542335, 0.06792973291654211, -0.08606968464114505, -0.08453344153073587, -0.09477993073680585, 0.031128441424619253, -0.16662951836217693, 0.03599705445267189, -0.10235472531441764, 0.026628395996933087, -0.014585630669403797, 0.20266559184518018, 0.05417168767703078, -0.10020487595583026, -0.010898415321884182, -0.20624103009687256, -0.013152577505618372, 0.11054637868498488, -0.09529596986786079, 0.16106843535896215, -0.12482304860060414, -0.037445075808271534, 0.03036098022823145, -0.06894563875347982, 0.08407397274545307, -0.03433641371110187, -0.12065508901034774, 0.09785708438038472, 8.856513187733513e-05, 0.10029037255062295, 0.1701643140689607, -0.05418332124173673, 0.07604051482268127, 0.06665930895316345, -0.10210238118997356, -0.06852629771712819, -0.07673517681233197, 0.12128687501235587, -0.07421164352430609, 0.07608739675626015, -0.00670142128735535, -0.03874896279106239, -0.0593850875695146, -0.15183282325845626, -0.03662010087225708, 0.1913915179574961, 0.024100862836987157, 0.06531587769837505, 0.045204259425261906, -0.03765755182533777, 0.09567983701967736, 0.1359414530189762, 0.06398074478075332, 0.06239035534476513, 0.048052812841453255, -0.06738310093922206, 0.040134820509826065, -0.06295103553453847, -0.0683560846785488, -0.11328463084253355, 0.001914198843876379, -0.09887727884444414, 0.013017859617879077, -0.020990533871420143, -0.1653037659357818, 0.048461170209147836, 0.10840158971531383, -0.0043821992212986875, 0.192122922019377, 0.04346814920449746, -0.1665665545144259, 0.1748285209716615, -0.0994218638710041, -0.0869967242255913, -0.0819174298637098, 0.0031313444253123473, 0.013593117134114187, -0.0427871516385991, -0.17234642036171988, -0.07026802243422957, -0.04981059446850305, 0.07815873985191851, 0.0498339472396602, 0.041221960624761765, -0.10715016167343668, 0.09563542799757578, 0.09394634970978163, 0.16168534084069458, 0.1634929387031154, -0.049140856573506926, 0.04447649565804162, -0.1568799352771202, 0.08970744136664277, -0.08148399304001203, -0.15957770061065488, 0.04338052480490168, 0.04989341265220816, -0.02570332050671674, -0.01156194114260362, 0.10897183137467459, 0.005880099399445405, -0.2051480611903113, 0.015236507940631049, 0.1887679535644606, -0.12785475146224884, -0.07734854499013366, -0.1223378296778019, -0.21323464591540706, 0.07560506899398566, -0.05194078238501837, 0.01175854870448545, -0.004539223569036336, -0.11702418596299496, 0.07106171703916428, 0.06752441559147535, 0.048670379385622894, 0.005386841436743893, -0.09277403018840436, -0.011375270378176754, -0.06741457553166466, -0.09221294909570497], \"xaxis\": \"x\", \"y\": [0.0, 0.7433232326429872, 0.9774047425972967, 0.7726702415163742, 0.03928876143736482, 0.0, 0.7181196017849273, 0.9709582392722839, 0.8241885718437671, 0.0, 0.010892099083406007, 0.7501129109186735, 0.9839595505499812, 0.7452243389947042, 0.0004424676236868168, 0.0, 0.7594821889739312, 0.9977784350952693, 0.7307647853013942, 0.0, 0.0, 0.727465229375124, 1.007942793636198, 0.7225893666150941, 0.018731323020972187, 0.0, 0.7422367285281536, 0.9874412198035674, 0.7947432535052172, 0.05569516472775865, 0.025830220739950095, 0.7580894527214936, 1.0480474754320723, 0.8014791010273239, 0.05092773163852208, 0.0, 0.7981851809322086, 0.991755021269524, 0.7877641288384442, 0.038122814255952917, 0.010720386905228751, 0.6906496824436125, 1.0049328147194785, 0.729087055452143, 0.02081329142885218, 0.0, 0.7693547340041862, 1.0077577698743136, 0.733834836195315, 0.0, 0.046119921797648, 0.7819044346935818, 1.0417764390288273, 0.7369494983701484, 0.0, 0.012972886773976199, 0.7961787922459581, 1.109164692256255, 0.7583995912084941, 0.02283445634815302, 0.0, 0.7654345554369477, 1.019814773830882, 0.7605730440597342, 0.02916974161802695, 0.0, 0.7347094858985785, 1.004879337557308, 0.7485817582306844, 0.0, 0.020969714031807224, 0.7998757610729234, 0.9904779251522807, 0.770423419208543, 0.07690902038462795, 0.04585336169477866, 0.7841709252958327, 1.0095914424637973, 0.7512876575551651, 0.031012645961243472, 0.044379218090661476, 0.7275042183469164, 1.0658848878305216, 0.7824623755220942, 0.038980093278685804, 0.0053468061684144655, 0.7557036612130336, 0.9837656731651222, 0.7247185526186902, 0.0, 0.015963865664178387, 0.726405918141206, 0.9428291745012413, 0.8203086243494793, 0.0, 0.0, 0.7812090712465282, 1.0080069015903763, 0.7998403595703065, 0.057214075350198394, 0.0, 0.7735199614656765, 1.016090217104712, 0.7019124555932327, 0.02053963063522242, 0.03912257621203474, 0.7667481086210298, 1.0633073590117976, 0.765073572538918, 0.0, 0.0, 0.7655489313897096, 1.0274339092827964, 0.7877446342214715, 0.03291057826003056, 0.025756015146570242, 0.7732754404996002, 0.9813069560659556, 0.7226417014799529, 0.05197599832658395, 0.0, 0.7540775366259774, 1.07682068832672, 0.7561612241175156, 0.0, 0.0, 0.7963980629273985, 0.969347134592443, 0.7325052464298342, 0.01616635799954945, 0.019103635952906414, 0.7460892443943391, 1.0010038425107846, 0.7994622992808713, 0.02311415404057378, 0.0, 0.7770015341215323, 1.0105232786580982, 0.7796300347927028, 0.009663556924268448, 0.061498869479303074, 0.740320448154599, 0.9745894094968441, 0.7761944797550066, 0.021248600521277576, 0.0, 0.7519463340150586, 1.0349433037195843, 0.7305514632376409, 0.04594029084483256, 0.0, 0.7468879881710054, 1.0378532521572645, 0.790889877578001, 0.005738881782245148, 0.002804591587030833, 0.7565880157798552, 1.046825611830515, 0.7374061630149067, 0.0270750585655759, 0.0, 0.7630330663227307, 1.0092462291341164, 0.7776925525145136, 0.0, 0.046272746730476204, 0.694622687852194, 0.9826321443780591, 0.7298007933104875, 0.05227896734231944, 0.0, 0.8050627819273766, 0.941549664949595, 0.7737694464560473, 0.06406884292868367, 0.008038838110441818, 0.791498624426426, 0.9719860584865012, 0.7157390860115568, 0.0, 0.001329608056596919, 0.7861961620049486, 0.974771874533562, 0.7190916112388697, 0.06751020959336827, 0.06508192960161577, 0.7946244123971702, 0.9928712543176944, 0.8063710149528367, 0.0, 0.05076242603527564, 0.7955917515507156, 1.0089695828082688, 0.772813821832711, 0.022050043299746493, 0.031220668162726457, 0.7322975166386453, 1.045730159310882, 0.6994430194278638, 0.0, 0.016360579935353267, 0.7216534758104266, 1.0003187264794728, 0.6925489283184445, 0.0, 0.053436687876645975, 0.7165192910611269, 1.0253265957557955, 0.7253137013519824, 0.05704383170147616, 0.0194636276870212, 0.738061140172843, 1.0025032960196067, 0.7331308467515265, 0.04005512540504611, 0.03491662028190411, 0.7738274893554757, 0.9596019125312417, 0.7720071454724283, 0.0008833043591345239, 0.0317414672292341, 0.7845013187576193, 0.983874452852444, 0.7345192546835867, 0.027218418627482505, 0.011431380409128663, 0.7365427717555596, 1.0809211250502087, 0.799556373629115, 0.04553029962858537, 0.0, 0.8081151288924554, 0.9814658693945431, 0.7739803484016986, 0.011650061248262414, 0.029738763461977933, 0.797606868432213, 1.0160811708311175, 0.7826476629082602, 0.024692926919757417, 0.0, 0.7294637902541375, 1.0113175172506859, 0.7598912989032368, 0.0, 0.036953694546876734, 0.7774997865830677, 1.0253716574793448, 0.749590882673223, 0.0, 0.0, 0.7688085112829236, 1.034808660394437, 0.7401008798898238, 0.0, 0.019393474035113777, 0.7754846485040647, 0.9538567380909408, 0.8098075912428356, 0.0, 0.0, 0.7647515611218605, 0.9628860615430668, 0.8007253185244462, 0.02462178293207731, 0.0, 0.7516207530937469, 1.0235837280987012, 0.7624225685376879, 0.022446744177224847, 0.0045878066965829405, 0.7605564207690909, 0.9905132594850525, 0.7616212485147942, 0.0, 0.0, 0.7543497449054617, 1.0040981104131208, 0.7571391901649501, 0.0, 0.0, 0.7394739005666695, 1.026265281913899, 0.7608884544064882, 0.02934132698516142, 0.0026539226858651073, 0.7872017920471496, 1.03303114300776, 0.7624549787195063, 0.011100554219417502, 0.005892657175832681, 0.7415500162055396, 0.9575188836272865, 0.7519842151521485, 0.07977603589659593, 0.0, 0.7451498975573124, 0.9906971406874939, 0.7944322645413163, 0.0, 0.0, 0.7195423659024227, 0.9915399681531454, 0.7670213739622399, 0.05423107424690053, 0.0, 0.7844325640621596, 1.0199189188334803, 0.7295266637175889, 0.0, 0.05466079939277582, 0.7616795340843184, 0.9667326909268852, 0.7888081881899782, 0.07042192022146321, 0.011453082413632668, 0.7187774003678108, 1.0132044454049884, 0.7994409307695213, 0.007488486687773067, 0.054905327686073646, 0.7783731735464459, 1.0148633841257024, 0.7363519882408873, 0.03418411847451013, 0.03148289994066169, 0.7486641048294177, 1.0169939351025161, 0.7660313503842692, 0.0, 0.0229662832718246, 0.7362411174941805, 1.0206308902582286, 0.815037602195298, 0.03902924589234309, 0.055225828060644404, 0.7520707903802339, 0.991531671943271, 0.7555378052800867, 0.0654179030812113, 0.08631317350277425, 0.7579992886613243, 1.0207152125666612, 0.7614538978983204, 0.0, 0.02450197431255356, 0.7607666384506593, 1.0295705227101661, 0.723735418476935, 0.0, 0.01180054407493452, 0.7880445426469449, 0.9774638222772684, 0.7457926319024882, 0.0, 0.05578981079089937, 0.7518909743257228, 1.002866858460713, 0.7469122333585314, 0.0, 0.04066486049759082, 0.7693028187863494, 1.0261106513610432, 0.7731262692979879, 0.0, 0.0, 0.7820433013073952, 0.9859544192864246, 0.7299099064390641, 0.005597618062185391, 0.0, 0.7844090869918854, 0.9873524800131402, 0.7507210399440074, 0.0, 0.020144313940323455, 0.7674101285009655, 0.9534161650976323, 0.7474269559929146, 0.005560951097046838, 0.0, 0.7762529145340232, 1.0079840678486087, 0.794145396293493, 0.004911177270158218, 0.07115959418436756, 0.7612525374182381, 1.0526695517000635, 0.7470078958375205, 0.016142096916474287, 0.0, 0.7394089719261943, 1.0441360867290128, 0.7565164072170912, 0.06211163536245163, 0.014140342938575991, 0.7238748690250628, 1.0369471153272325, 0.7115324616961239, 0.0533780075144489, 0.014457822186392612, 0.750579319037476, 1.0342702215303199, 0.7412259971183673, 0.020633495247644414, 0.041464527041091555, 0.7329675844217088, 1.0088640396595245, 0.7419651440359246, 0.0, 0.0425853254162953, 0.7337591487914035, 0.9984328548273858, 0.7975438981202896, 0.02324139966821591, 0.06641592428382517, 0.7272238223868903, 1.0321996538916482, 0.7410816869878892, 0.011670582551972643, 0.03789730532730683, 0.7922510239097369, 1.0550223710123874, 0.7423208479017028, 0.0, 0.004864028797678837, 0.7240955293719488, 1.0038721464990732, 0.7690180530148547, 0.0, 0.0, 0.7413533974523746, 0.9839755052751302, 0.755036802176087, 0.030062540206556587, 0.009015511086931795, 0.7891041492012291, 1.0349693395523294, 0.7790234076137517, 0.00432768259560142, 0.0337352412734556, 0.7370592225412221, 0.995885277485445, 0.8041676599510001, 0.0, 0.0, 0.7622700037066471, 0.923241326669757, 0.7660612511316414, 0.07275331045251603, 0.0, 0.7934844394425634, 1.0448106985337886, 0.7680772464327318, 0.010140364848949753, 0.002616944269525632, 0.7518868333927184, 1.047437063878232, 0.7666251849087906, 0.044650565756368624, 0.0, 0.7535120200692472, 0.9941114436759457, 0.7779892251570464, 0.0, 0.0, 0.7129040937764112, 0.9635351292716232, 0.7888484954850132, 0.0, 0.058452304894219737, 0.7418647763196636, 1.0388608054542157, 0.7859935001945115, 0.0, 0.0, 0.7773541156971346, 1.0085533121123713, 0.729035674151937, 0.0028698713770700345, 0.06532893384973568, 0.7523503033571045, 0.959461753855364, 0.7901701494076675, 0.014050870512645433, 0.051856381185996024, 0.8046815487462536, 1.0035440469744672, 0.7815820602044463, 0.007367097309229145, 0.008440442801802134, 0.7940944177862375, 0.9881211714746905, 0.7556838661607708, 0.0, 0.007183028723810829, 0.7853047289371803, 1.021720027455928, 0.7688569837288385, 0.03560237826971888], \"yaxis\": \"y\"}],                        {\"height\": 400, \"legend\": {\"tracegroupgap\": 0}, \"template\": {\"data\": {\"bar\": [{\"error_x\": {\"color\": \"#2a3f5f\"}, \"error_y\": {\"color\": \"#2a3f5f\"}, \"marker\": {\"line\": {\"color\": \"#E5ECF6\", \"width\": 0.5}}, \"type\": \"bar\"}], \"barpolar\": [{\"marker\": {\"line\": {\"color\": \"#E5ECF6\", \"width\": 0.5}}, \"type\": \"barpolar\"}], \"carpet\": [{\"aaxis\": {\"endlinecolor\": \"#2a3f5f\", \"gridcolor\": \"white\", \"linecolor\": \"white\", \"minorgridcolor\": \"white\", \"startlinecolor\": \"#2a3f5f\"}, \"baxis\": {\"endlinecolor\": \"#2a3f5f\", \"gridcolor\": \"white\", \"linecolor\": \"white\", \"minorgridcolor\": \"white\", \"startlinecolor\": \"#2a3f5f\"}, \"type\": \"carpet\"}], \"choropleth\": [{\"colorbar\": {\"outlinewidth\": 0, \"ticks\": \"\"}, \"type\": \"choropleth\"}], \"contour\": [{\"colorbar\": {\"outlinewidth\": 0, \"ticks\": \"\"}, \"colorscale\": [[0.0, \"#0d0887\"], [0.1111111111111111, \"#46039f\"], [0.2222222222222222, \"#7201a8\"], [0.3333333333333333, \"#9c179e\"], [0.4444444444444444, \"#bd3786\"], [0.5555555555555556, \"#d8576b\"], [0.6666666666666666, \"#ed7953\"], [0.7777777777777778, \"#fb9f3a\"], [0.8888888888888888, \"#fdca26\"], [1.0, \"#f0f921\"]], \"type\": \"contour\"}], \"contourcarpet\": [{\"colorbar\": {\"outlinewidth\": 0, \"ticks\": \"\"}, \"type\": \"contourcarpet\"}], \"heatmap\": [{\"colorbar\": {\"outlinewidth\": 0, \"ticks\": \"\"}, \"colorscale\": [[0.0, \"#0d0887\"], [0.1111111111111111, \"#46039f\"], [0.2222222222222222, \"#7201a8\"], [0.3333333333333333, \"#9c179e\"], [0.4444444444444444, \"#bd3786\"], [0.5555555555555556, \"#d8576b\"], [0.6666666666666666, \"#ed7953\"], [0.7777777777777778, \"#fb9f3a\"], [0.8888888888888888, \"#fdca26\"], [1.0, \"#f0f921\"]], \"type\": \"heatmap\"}], \"heatmapgl\": [{\"colorbar\": {\"outlinewidth\": 0, \"ticks\": \"\"}, \"colorscale\": [[0.0, \"#0d0887\"], [0.1111111111111111, \"#46039f\"], [0.2222222222222222, \"#7201a8\"], [0.3333333333333333, \"#9c179e\"], [0.4444444444444444, \"#bd3786\"], [0.5555555555555556, \"#d8576b\"], [0.6666666666666666, \"#ed7953\"], [0.7777777777777778, \"#fb9f3a\"], [0.8888888888888888, \"#fdca26\"], [1.0, \"#f0f921\"]], \"type\": \"heatmapgl\"}], \"histogram\": [{\"marker\": {\"colorbar\": {\"outlinewidth\": 0, \"ticks\": \"\"}}, \"type\": \"histogram\"}], \"histogram2d\": [{\"colorbar\": {\"outlinewidth\": 0, \"ticks\": \"\"}, \"colorscale\": [[0.0, \"#0d0887\"], [0.1111111111111111, \"#46039f\"], [0.2222222222222222, \"#7201a8\"], [0.3333333333333333, \"#9c179e\"], [0.4444444444444444, \"#bd3786\"], [0.5555555555555556, \"#d8576b\"], [0.6666666666666666, \"#ed7953\"], [0.7777777777777778, \"#fb9f3a\"], [0.8888888888888888, \"#fdca26\"], [1.0, \"#f0f921\"]], \"type\": \"histogram2d\"}], \"histogram2dcontour\": [{\"colorbar\": {\"outlinewidth\": 0, \"ticks\": \"\"}, \"colorscale\": [[0.0, \"#0d0887\"], [0.1111111111111111, \"#46039f\"], [0.2222222222222222, \"#7201a8\"], [0.3333333333333333, \"#9c179e\"], [0.4444444444444444, \"#bd3786\"], [0.5555555555555556, \"#d8576b\"], [0.6666666666666666, \"#ed7953\"], [0.7777777777777778, \"#fb9f3a\"], [0.8888888888888888, \"#fdca26\"], [1.0, \"#f0f921\"]], \"type\": \"histogram2dcontour\"}], \"mesh3d\": [{\"colorbar\": {\"outlinewidth\": 0, \"ticks\": \"\"}, \"type\": \"mesh3d\"}], \"parcoords\": [{\"line\": {\"colorbar\": {\"outlinewidth\": 0, \"ticks\": \"\"}}, \"type\": \"parcoords\"}], \"pie\": [{\"automargin\": true, \"type\": \"pie\"}], \"scatter\": [{\"marker\": {\"colorbar\": {\"outlinewidth\": 0, \"ticks\": \"\"}}, \"type\": \"scatter\"}], \"scatter3d\": [{\"line\": {\"colorbar\": {\"outlinewidth\": 0, \"ticks\": \"\"}}, \"marker\": {\"colorbar\": {\"outlinewidth\": 0, \"ticks\": \"\"}}, \"type\": \"scatter3d\"}], \"scattercarpet\": [{\"marker\": {\"colorbar\": {\"outlinewidth\": 0, \"ticks\": \"\"}}, \"type\": \"scattercarpet\"}], \"scattergeo\": [{\"marker\": {\"colorbar\": {\"outlinewidth\": 0, \"ticks\": \"\"}}, \"type\": \"scattergeo\"}], \"scattergl\": [{\"marker\": {\"colorbar\": {\"outlinewidth\": 0, \"ticks\": \"\"}}, \"type\": \"scattergl\"}], \"scattermapbox\": [{\"marker\": {\"colorbar\": {\"outlinewidth\": 0, \"ticks\": \"\"}}, \"type\": \"scattermapbox\"}], \"scatterpolar\": [{\"marker\": {\"colorbar\": {\"outlinewidth\": 0, \"ticks\": \"\"}}, \"type\": \"scatterpolar\"}], \"scatterpolargl\": [{\"marker\": {\"colorbar\": {\"outlinewidth\": 0, \"ticks\": \"\"}}, \"type\": \"scatterpolargl\"}], \"scatterternary\": [{\"marker\": {\"colorbar\": {\"outlinewidth\": 0, \"ticks\": \"\"}}, \"type\": \"scatterternary\"}], \"surface\": [{\"colorbar\": {\"outlinewidth\": 0, \"ticks\": \"\"}, \"colorscale\": [[0.0, \"#0d0887\"], [0.1111111111111111, \"#46039f\"], [0.2222222222222222, \"#7201a8\"], [0.3333333333333333, \"#9c179e\"], [0.4444444444444444, \"#bd3786\"], [0.5555555555555556, \"#d8576b\"], [0.6666666666666666, \"#ed7953\"], [0.7777777777777778, \"#fb9f3a\"], [0.8888888888888888, \"#fdca26\"], [1.0, \"#f0f921\"]], \"type\": \"surface\"}], \"table\": [{\"cells\": {\"fill\": {\"color\": \"#EBF0F8\"}, \"line\": {\"color\": \"white\"}}, \"header\": {\"fill\": {\"color\": \"#C8D4E3\"}, \"line\": {\"color\": \"white\"}}, \"type\": \"table\"}]}, \"layout\": {\"annotationdefaults\": {\"arrowcolor\": \"#2a3f5f\", \"arrowhead\": 0, \"arrowwidth\": 1}, \"autotypenumbers\": \"strict\", \"coloraxis\": {\"colorbar\": {\"outlinewidth\": 0, \"ticks\": \"\"}}, \"colorscale\": {\"diverging\": [[0, \"#8e0152\"], [0.1, \"#c51b7d\"], [0.2, \"#de77ae\"], [0.3, \"#f1b6da\"], [0.4, \"#fde0ef\"], [0.5, \"#f7f7f7\"], [0.6, \"#e6f5d0\"], [0.7, \"#b8e186\"], [0.8, \"#7fbc41\"], [0.9, \"#4d9221\"], [1, \"#276419\"]], \"sequential\": [[0.0, \"#0d0887\"], [0.1111111111111111, \"#46039f\"], [0.2222222222222222, \"#7201a8\"], [0.3333333333333333, \"#9c179e\"], [0.4444444444444444, \"#bd3786\"], [0.5555555555555556, \"#d8576b\"], [0.6666666666666666, \"#ed7953\"], [0.7777777777777778, \"#fb9f3a\"], [0.8888888888888888, \"#fdca26\"], [1.0, \"#f0f921\"]], \"sequentialminus\": [[0.0, \"#0d0887\"], [0.1111111111111111, \"#46039f\"], [0.2222222222222222, \"#7201a8\"], [0.3333333333333333, \"#9c179e\"], [0.4444444444444444, \"#bd3786\"], [0.5555555555555556, \"#d8576b\"], [0.6666666666666666, \"#ed7953\"], [0.7777777777777778, \"#fb9f3a\"], [0.8888888888888888, \"#fdca26\"], [1.0, \"#f0f921\"]]}, \"colorway\": [\"#636efa\", \"#EF553B\", \"#00cc96\", \"#ab63fa\", \"#FFA15A\", \"#19d3f3\", \"#FF6692\", \"#B6E880\", \"#FF97FF\", \"#FECB52\"], \"font\": {\"color\": \"#2a3f5f\"}, \"geo\": {\"bgcolor\": \"white\", \"lakecolor\": \"white\", \"landcolor\": \"#E5ECF6\", \"showlakes\": true, \"showland\": true, \"subunitcolor\": \"white\"}, \"hoverlabel\": {\"align\": \"left\"}, \"hovermode\": \"closest\", \"mapbox\": {\"style\": \"light\"}, \"paper_bgcolor\": \"white\", \"plot_bgcolor\": \"#E5ECF6\", \"polar\": {\"angularaxis\": {\"gridcolor\": \"white\", \"linecolor\": \"white\", \"ticks\": \"\"}, \"bgcolor\": \"#E5ECF6\", \"radialaxis\": {\"gridcolor\": \"white\", \"linecolor\": \"white\", \"ticks\": \"\"}}, \"scene\": {\"xaxis\": {\"backgroundcolor\": \"#E5ECF6\", \"gridcolor\": \"white\", \"gridwidth\": 2, \"linecolor\": \"white\", \"showbackground\": true, \"ticks\": \"\", \"zerolinecolor\": \"white\"}, \"yaxis\": {\"backgroundcolor\": \"#E5ECF6\", \"gridcolor\": \"white\", \"gridwidth\": 2, \"linecolor\": \"white\", \"showbackground\": true, \"ticks\": \"\", \"zerolinecolor\": \"white\"}, \"zaxis\": {\"backgroundcolor\": \"#E5ECF6\", \"gridcolor\": \"white\", \"gridwidth\": 2, \"linecolor\": \"white\", \"showbackground\": true, \"ticks\": \"\", \"zerolinecolor\": \"white\"}}, \"shapedefaults\": {\"line\": {\"color\": \"#2a3f5f\"}}, \"ternary\": {\"aaxis\": {\"gridcolor\": \"white\", \"linecolor\": \"white\", \"ticks\": \"\"}, \"baxis\": {\"gridcolor\": \"white\", \"linecolor\": \"white\", \"ticks\": \"\"}, \"bgcolor\": \"#E5ECF6\", \"caxis\": {\"gridcolor\": \"white\", \"linecolor\": \"white\", \"ticks\": \"\"}}, \"title\": {\"x\": 0.05}, \"xaxis\": {\"automargin\": true, \"gridcolor\": \"white\", \"linecolor\": \"white\", \"ticks\": \"\", \"title\": {\"standoff\": 15}, \"zerolinecolor\": \"white\", \"zerolinewidth\": 2}, \"yaxis\": {\"automargin\": true, \"gridcolor\": \"white\", \"linecolor\": \"white\", \"ticks\": \"\", \"title\": {\"standoff\": 15}, \"zerolinecolor\": \"white\", \"zerolinewidth\": 2}}}, \"title\": {\"text\": \"\\u0412\\u043b\\u0438\\u044f\\u043d\\u0438\\u0435 \\u0441\\u0442\\u0430\\u0432\\u043e\\u043a \\u043d\\u0430 \\u043f\\u043e\\u043f\\u043e\\u043b\\u043d\\u0435\\u043d\\u0438\\u044f\"}, \"width\": 700, \"xaxis\": {\"anchor\": \"y\", \"domain\": [0.0, 1.0], \"title\": {\"text\": \"int_rate\"}}, \"yaxis\": {\"anchor\": \"x\", \"domain\": [0.0, 1.0], \"title\": {\"text\": \"volume\"}}},                        {\"responsive\": true}                    ).then(function(){\n",
       "                            \n",
       "var gd = document.getElementById('cb04e5c7-2533-4629-9416-9d61ad656052');\n",
       "var x = new MutationObserver(function (mutations, observer) {{\n",
       "        var display = window.getComputedStyle(gd).display;\n",
       "        if (!display || display === 'none') {{\n",
       "            console.log([gd, 'removed!']);\n",
       "            Plotly.purge(gd);\n",
       "            observer.disconnect();\n",
       "        }}\n",
       "}});\n",
       "\n",
       "// Listen for the removal of the full notebook cells\n",
       "var notebookContainer = gd.closest('#notebook-container');\n",
       "if (notebookContainer) {{\n",
       "    x.observe(notebookContainer, {childList: true});\n",
       "}}\n",
       "\n",
       "// Listen for the clearing of the current output cell\n",
       "var outputEl = gd.closest('.output');\n",
       "if (outputEl) {{\n",
       "    x.observe(outputEl, {childList: true});\n",
       "}}\n",
       "\n",
       "                        })                };                });            </script>        </div>"
      ]
     },
     "metadata": {},
     "output_type": "display_data"
    }
   ],
   "source": [
    "fig = px.scatter(df, x='int_rate', y='volume', width=700, height=400,\n",
    "                title='Влияние ставок на пополнения')\n",
    "fig.show()"
   ]
  },
  {
   "cell_type": "markdown",
   "metadata": {},
   "source": [
    "Похожая ситуация с переменной int_rate. Влияние переменной изменения % ставок относительно начала срока депозита не самое очевидное."
   ]
  },
  {
   "cell_type": "code",
   "execution_count": 183,
   "metadata": {
    "scrolled": true
   },
   "outputs": [
    {
     "data": {
      "application/vnd.plotly.v1+json": {
       "config": {
        "plotlyServerURL": "https://plot.ly"
       },
       "data": [
        {
         "hovertemplate": "generation=%{x}<br>volume=%{y}<extra></extra>",
         "legendgroup": "",
         "marker": {
          "color": "#636efa",
          "symbol": "circle"
         },
         "mode": "markers",
         "name": "",
         "orientation": "v",
         "showlegend": false,
         "type": "scatter",
         "x": [
          1,
          2,
          3,
          4,
          5,
          1,
          2,
          3,
          4,
          5,
          1,
          2,
          3,
          4,
          5,
          1,
          2,
          3,
          4,
          5,
          1,
          2,
          3,
          4,
          5,
          1,
          2,
          3,
          4,
          5,
          1,
          2,
          3,
          4,
          5,
          1,
          2,
          3,
          4,
          5,
          1,
          2,
          3,
          4,
          5,
          1,
          2,
          3,
          4,
          5,
          1,
          2,
          3,
          4,
          5,
          1,
          2,
          3,
          4,
          5,
          1,
          2,
          3,
          4,
          5,
          1,
          2,
          3,
          4,
          5,
          1,
          2,
          3,
          4,
          5,
          1,
          2,
          3,
          4,
          5,
          1,
          2,
          3,
          4,
          5,
          1,
          2,
          3,
          4,
          5,
          1,
          2,
          3,
          4,
          5,
          1,
          2,
          3,
          4,
          5,
          1,
          2,
          3,
          4,
          5,
          1,
          2,
          3,
          4,
          5,
          1,
          2,
          3,
          4,
          5,
          1,
          2,
          3,
          4,
          5,
          1,
          2,
          3,
          4,
          5,
          1,
          2,
          3,
          4,
          5,
          1,
          2,
          3,
          4,
          5,
          1,
          2,
          3,
          4,
          5,
          1,
          2,
          3,
          4,
          5,
          1,
          2,
          3,
          4,
          5,
          1,
          2,
          3,
          4,
          5,
          1,
          2,
          3,
          4,
          5,
          1,
          2,
          3,
          4,
          5,
          1,
          2,
          3,
          4,
          5,
          1,
          2,
          3,
          4,
          5,
          1,
          2,
          3,
          4,
          5,
          1,
          2,
          3,
          4,
          5,
          1,
          2,
          3,
          4,
          5,
          1,
          2,
          3,
          4,
          5,
          1,
          2,
          3,
          4,
          5,
          1,
          2,
          3,
          4,
          5,
          1,
          2,
          3,
          4,
          5,
          1,
          2,
          3,
          4,
          5,
          1,
          2,
          3,
          4,
          5,
          1,
          2,
          3,
          4,
          5,
          1,
          2,
          3,
          4,
          5,
          1,
          2,
          3,
          4,
          5,
          1,
          2,
          3,
          4,
          5,
          1,
          2,
          3,
          4,
          5,
          1,
          2,
          3,
          4,
          5,
          1,
          2,
          3,
          4,
          5,
          1,
          2,
          3,
          4,
          5,
          1,
          2,
          3,
          4,
          5,
          1,
          2,
          3,
          4,
          5,
          1,
          2,
          3,
          4,
          5,
          1,
          2,
          3,
          4,
          5,
          1,
          2,
          3,
          4,
          5,
          1,
          2,
          3,
          4,
          5,
          1,
          2,
          3,
          4,
          5,
          1,
          2,
          3,
          4,
          5,
          1,
          2,
          3,
          4,
          5,
          1,
          2,
          3,
          4,
          5,
          1,
          2,
          3,
          4,
          5,
          1,
          2,
          3,
          4,
          5,
          1,
          2,
          3,
          4,
          5,
          1,
          2,
          3,
          4,
          5,
          1,
          2,
          3,
          4,
          5,
          1,
          2,
          3,
          4,
          5,
          1,
          2,
          3,
          4,
          5,
          1,
          2,
          3,
          4,
          5,
          1,
          2,
          3,
          4,
          5,
          1,
          2,
          3,
          4,
          5,
          1,
          2,
          3,
          4,
          5,
          1,
          2,
          3,
          4,
          5,
          1,
          2,
          3,
          4,
          5,
          1,
          2,
          3,
          4,
          5,
          1,
          2,
          3,
          4,
          5,
          1,
          2,
          3,
          4,
          5,
          1,
          2,
          3,
          4,
          5,
          1,
          2,
          3,
          4,
          5,
          1,
          2,
          3,
          4,
          5,
          1,
          2,
          3,
          4,
          5,
          1,
          2,
          3,
          4,
          5,
          1,
          2,
          3,
          4,
          5,
          1,
          2,
          3,
          4,
          5,
          1,
          2,
          3,
          4,
          5,
          1,
          2,
          3,
          4,
          5,
          1,
          2,
          3,
          4,
          5,
          1,
          2,
          3,
          4,
          5,
          1,
          2,
          3,
          4,
          5,
          1,
          2,
          3,
          4,
          5,
          1,
          2,
          3,
          4,
          5,
          1,
          2,
          3,
          4,
          5,
          1,
          2,
          3,
          4,
          5,
          1,
          2,
          3,
          4,
          5,
          1,
          2,
          3,
          4,
          5,
          1,
          2,
          3,
          4,
          5,
          1,
          2,
          3,
          4,
          5,
          1,
          2,
          3,
          4,
          5,
          1,
          2,
          3,
          4,
          5
         ],
         "xaxis": "x",
         "y": [
          0,
          0.7433232326429872,
          0.9774047425972967,
          0.7726702415163742,
          0.03928876143736482,
          0,
          0.7181196017849273,
          0.9709582392722839,
          0.8241885718437671,
          0,
          0.010892099083406007,
          0.7501129109186735,
          0.9839595505499812,
          0.7452243389947042,
          0.0004424676236868168,
          0,
          0.7594821889739312,
          0.9977784350952693,
          0.7307647853013942,
          0,
          0,
          0.727465229375124,
          1.007942793636198,
          0.7225893666150941,
          0.018731323020972187,
          0,
          0.7422367285281536,
          0.9874412198035674,
          0.7947432535052172,
          0.05569516472775865,
          0.025830220739950095,
          0.7580894527214936,
          1.0480474754320723,
          0.8014791010273239,
          0.05092773163852208,
          0,
          0.7981851809322086,
          0.991755021269524,
          0.7877641288384442,
          0.038122814255952917,
          0.010720386905228751,
          0.6906496824436125,
          1.0049328147194785,
          0.729087055452143,
          0.02081329142885218,
          0,
          0.7693547340041862,
          1.0077577698743136,
          0.733834836195315,
          0,
          0.046119921797648,
          0.7819044346935818,
          1.0417764390288273,
          0.7369494983701484,
          0,
          0.012972886773976199,
          0.7961787922459581,
          1.109164692256255,
          0.7583995912084941,
          0.02283445634815302,
          0,
          0.7654345554369477,
          1.019814773830882,
          0.7605730440597342,
          0.02916974161802695,
          0,
          0.7347094858985785,
          1.004879337557308,
          0.7485817582306844,
          0,
          0.020969714031807224,
          0.7998757610729234,
          0.9904779251522807,
          0.770423419208543,
          0.07690902038462795,
          0.04585336169477866,
          0.7841709252958327,
          1.0095914424637973,
          0.7512876575551651,
          0.031012645961243472,
          0.044379218090661476,
          0.7275042183469164,
          1.0658848878305216,
          0.7824623755220942,
          0.038980093278685804,
          0.0053468061684144655,
          0.7557036612130336,
          0.9837656731651222,
          0.7247185526186902,
          0,
          0.015963865664178387,
          0.726405918141206,
          0.9428291745012413,
          0.8203086243494793,
          0,
          0,
          0.7812090712465282,
          1.0080069015903763,
          0.7998403595703065,
          0.057214075350198394,
          0,
          0.7735199614656765,
          1.016090217104712,
          0.7019124555932327,
          0.02053963063522242,
          0.03912257621203474,
          0.7667481086210298,
          1.0633073590117976,
          0.765073572538918,
          0,
          0,
          0.7655489313897096,
          1.0274339092827964,
          0.7877446342214715,
          0.03291057826003056,
          0.025756015146570242,
          0.7732754404996002,
          0.9813069560659556,
          0.7226417014799529,
          0.05197599832658395,
          0,
          0.7540775366259774,
          1.07682068832672,
          0.7561612241175156,
          0,
          0,
          0.7963980629273985,
          0.969347134592443,
          0.7325052464298342,
          0.01616635799954945,
          0.019103635952906414,
          0.7460892443943391,
          1.0010038425107846,
          0.7994622992808713,
          0.02311415404057378,
          0,
          0.7770015341215323,
          1.0105232786580982,
          0.7796300347927028,
          0.009663556924268448,
          0.061498869479303074,
          0.740320448154599,
          0.9745894094968441,
          0.7761944797550066,
          0.021248600521277576,
          0,
          0.7519463340150586,
          1.0349433037195843,
          0.7305514632376409,
          0.04594029084483256,
          0,
          0.7468879881710054,
          1.0378532521572645,
          0.790889877578001,
          0.005738881782245148,
          0.002804591587030833,
          0.7565880157798552,
          1.046825611830515,
          0.7374061630149067,
          0.0270750585655759,
          0,
          0.7630330663227307,
          1.0092462291341164,
          0.7776925525145136,
          0,
          0.046272746730476204,
          0.694622687852194,
          0.9826321443780591,
          0.7298007933104875,
          0.05227896734231944,
          0,
          0.8050627819273766,
          0.941549664949595,
          0.7737694464560473,
          0.06406884292868367,
          0.008038838110441818,
          0.791498624426426,
          0.9719860584865012,
          0.7157390860115568,
          0,
          0.001329608056596919,
          0.7861961620049486,
          0.974771874533562,
          0.7190916112388697,
          0.06751020959336827,
          0.06508192960161577,
          0.7946244123971702,
          0.9928712543176944,
          0.8063710149528367,
          0,
          0.05076242603527564,
          0.7955917515507156,
          1.0089695828082688,
          0.772813821832711,
          0.022050043299746493,
          0.031220668162726457,
          0.7322975166386453,
          1.045730159310882,
          0.6994430194278638,
          0,
          0.016360579935353267,
          0.7216534758104266,
          1.0003187264794728,
          0.6925489283184445,
          0,
          0.053436687876645975,
          0.7165192910611269,
          1.0253265957557955,
          0.7253137013519824,
          0.05704383170147616,
          0.0194636276870212,
          0.738061140172843,
          1.0025032960196067,
          0.7331308467515265,
          0.04005512540504611,
          0.03491662028190411,
          0.7738274893554757,
          0.9596019125312417,
          0.7720071454724283,
          0.0008833043591345239,
          0.0317414672292341,
          0.7845013187576193,
          0.983874452852444,
          0.7345192546835867,
          0.027218418627482505,
          0.011431380409128663,
          0.7365427717555596,
          1.0809211250502087,
          0.799556373629115,
          0.04553029962858537,
          0,
          0.8081151288924554,
          0.9814658693945431,
          0.7739803484016986,
          0.011650061248262414,
          0.029738763461977933,
          0.797606868432213,
          1.0160811708311175,
          0.7826476629082602,
          0.024692926919757417,
          0,
          0.7294637902541375,
          1.0113175172506859,
          0.7598912989032368,
          0,
          0.036953694546876734,
          0.7774997865830677,
          1.0253716574793448,
          0.749590882673223,
          0,
          0,
          0.7688085112829236,
          1.034808660394437,
          0.7401008798898238,
          0,
          0.019393474035113777,
          0.7754846485040647,
          0.9538567380909408,
          0.8098075912428356,
          0,
          0,
          0.7647515611218605,
          0.9628860615430668,
          0.8007253185244462,
          0.02462178293207731,
          0,
          0.7516207530937469,
          1.0235837280987012,
          0.7624225685376879,
          0.022446744177224847,
          0.0045878066965829405,
          0.7605564207690909,
          0.9905132594850525,
          0.7616212485147942,
          0,
          0,
          0.7543497449054617,
          1.0040981104131208,
          0.7571391901649501,
          0,
          0,
          0.7394739005666695,
          1.026265281913899,
          0.7608884544064882,
          0.02934132698516142,
          0.0026539226858651073,
          0.7872017920471496,
          1.03303114300776,
          0.7624549787195063,
          0.011100554219417502,
          0.005892657175832681,
          0.7415500162055396,
          0.9575188836272865,
          0.7519842151521485,
          0.07977603589659593,
          0,
          0.7451498975573124,
          0.9906971406874939,
          0.7944322645413163,
          0,
          0,
          0.7195423659024227,
          0.9915399681531454,
          0.7670213739622399,
          0.05423107424690053,
          0,
          0.7844325640621596,
          1.0199189188334803,
          0.7295266637175889,
          0,
          0.05466079939277582,
          0.7616795340843184,
          0.9667326909268852,
          0.7888081881899782,
          0.07042192022146321,
          0.011453082413632668,
          0.7187774003678108,
          1.0132044454049884,
          0.7994409307695213,
          0.007488486687773067,
          0.054905327686073646,
          0.7783731735464459,
          1.0148633841257024,
          0.7363519882408873,
          0.03418411847451013,
          0.03148289994066169,
          0.7486641048294177,
          1.0169939351025161,
          0.7660313503842692,
          0,
          0.0229662832718246,
          0.7362411174941805,
          1.0206308902582286,
          0.815037602195298,
          0.03902924589234309,
          0.055225828060644404,
          0.7520707903802339,
          0.991531671943271,
          0.7555378052800867,
          0.0654179030812113,
          0.08631317350277425,
          0.7579992886613243,
          1.0207152125666612,
          0.7614538978983204,
          0,
          0.02450197431255356,
          0.7607666384506593,
          1.0295705227101661,
          0.723735418476935,
          0,
          0.01180054407493452,
          0.7880445426469449,
          0.9774638222772684,
          0.7457926319024882,
          0,
          0.05578981079089937,
          0.7518909743257228,
          1.002866858460713,
          0.7469122333585314,
          0,
          0.04066486049759082,
          0.7693028187863494,
          1.0261106513610432,
          0.7731262692979879,
          0,
          0,
          0.7820433013073952,
          0.9859544192864246,
          0.7299099064390641,
          0.005597618062185391,
          0,
          0.7844090869918854,
          0.9873524800131402,
          0.7507210399440074,
          0,
          0.020144313940323455,
          0.7674101285009655,
          0.9534161650976323,
          0.7474269559929146,
          0.005560951097046838,
          0,
          0.7762529145340232,
          1.0079840678486087,
          0.794145396293493,
          0.004911177270158218,
          0.07115959418436756,
          0.7612525374182381,
          1.0526695517000635,
          0.7470078958375205,
          0.016142096916474287,
          0,
          0.7394089719261943,
          1.0441360867290128,
          0.7565164072170912,
          0.06211163536245163,
          0.014140342938575991,
          0.7238748690250628,
          1.0369471153272325,
          0.7115324616961239,
          0.0533780075144489,
          0.014457822186392612,
          0.750579319037476,
          1.0342702215303199,
          0.7412259971183673,
          0.020633495247644414,
          0.041464527041091555,
          0.7329675844217088,
          1.0088640396595245,
          0.7419651440359246,
          0,
          0.0425853254162953,
          0.7337591487914035,
          0.9984328548273858,
          0.7975438981202896,
          0.02324139966821591,
          0.06641592428382517,
          0.7272238223868903,
          1.0321996538916482,
          0.7410816869878892,
          0.011670582551972643,
          0.03789730532730683,
          0.7922510239097369,
          1.0550223710123874,
          0.7423208479017028,
          0,
          0.004864028797678837,
          0.7240955293719488,
          1.0038721464990732,
          0.7690180530148547,
          0,
          0,
          0.7413533974523746,
          0.9839755052751302,
          0.755036802176087,
          0.030062540206556587,
          0.009015511086931795,
          0.7891041492012291,
          1.0349693395523294,
          0.7790234076137517,
          0.00432768259560142,
          0.0337352412734556,
          0.7370592225412221,
          0.995885277485445,
          0.8041676599510001,
          0,
          0,
          0.7622700037066471,
          0.923241326669757,
          0.7660612511316414,
          0.07275331045251603,
          0,
          0.7934844394425634,
          1.0448106985337886,
          0.7680772464327318,
          0.010140364848949753,
          0.002616944269525632,
          0.7518868333927184,
          1.047437063878232,
          0.7666251849087906,
          0.044650565756368624,
          0,
          0.7535120200692472,
          0.9941114436759457,
          0.7779892251570464,
          0,
          0,
          0.7129040937764112,
          0.9635351292716232,
          0.7888484954850132,
          0,
          0.058452304894219737,
          0.7418647763196636,
          1.0388608054542157,
          0.7859935001945115,
          0,
          0,
          0.7773541156971346,
          1.0085533121123713,
          0.729035674151937,
          0.0028698713770700345,
          0.06532893384973568,
          0.7523503033571045,
          0.959461753855364,
          0.7901701494076675,
          0.014050870512645433,
          0.051856381185996024,
          0.8046815487462536,
          1.0035440469744672,
          0.7815820602044463,
          0.007367097309229145,
          0.008440442801802134,
          0.7940944177862375,
          0.9881211714746905,
          0.7556838661607708,
          0,
          0.007183028723810829,
          0.7853047289371803,
          1.021720027455928,
          0.7688569837288385,
          0.03560237826971888
         ],
         "yaxis": "y"
        }
       ],
       "layout": {
        "height": 400,
        "legend": {
         "tracegroupgap": 0
        },
        "template": {
         "data": {
          "bar": [
           {
            "error_x": {
             "color": "#2a3f5f"
            },
            "error_y": {
             "color": "#2a3f5f"
            },
            "marker": {
             "line": {
              "color": "#E5ECF6",
              "width": 0.5
             }
            },
            "type": "bar"
           }
          ],
          "barpolar": [
           {
            "marker": {
             "line": {
              "color": "#E5ECF6",
              "width": 0.5
             }
            },
            "type": "barpolar"
           }
          ],
          "carpet": [
           {
            "aaxis": {
             "endlinecolor": "#2a3f5f",
             "gridcolor": "white",
             "linecolor": "white",
             "minorgridcolor": "white",
             "startlinecolor": "#2a3f5f"
            },
            "baxis": {
             "endlinecolor": "#2a3f5f",
             "gridcolor": "white",
             "linecolor": "white",
             "minorgridcolor": "white",
             "startlinecolor": "#2a3f5f"
            },
            "type": "carpet"
           }
          ],
          "choropleth": [
           {
            "colorbar": {
             "outlinewidth": 0,
             "ticks": ""
            },
            "type": "choropleth"
           }
          ],
          "contour": [
           {
            "colorbar": {
             "outlinewidth": 0,
             "ticks": ""
            },
            "colorscale": [
             [
              0,
              "#0d0887"
             ],
             [
              0.1111111111111111,
              "#46039f"
             ],
             [
              0.2222222222222222,
              "#7201a8"
             ],
             [
              0.3333333333333333,
              "#9c179e"
             ],
             [
              0.4444444444444444,
              "#bd3786"
             ],
             [
              0.5555555555555556,
              "#d8576b"
             ],
             [
              0.6666666666666666,
              "#ed7953"
             ],
             [
              0.7777777777777778,
              "#fb9f3a"
             ],
             [
              0.8888888888888888,
              "#fdca26"
             ],
             [
              1,
              "#f0f921"
             ]
            ],
            "type": "contour"
           }
          ],
          "contourcarpet": [
           {
            "colorbar": {
             "outlinewidth": 0,
             "ticks": ""
            },
            "type": "contourcarpet"
           }
          ],
          "heatmap": [
           {
            "colorbar": {
             "outlinewidth": 0,
             "ticks": ""
            },
            "colorscale": [
             [
              0,
              "#0d0887"
             ],
             [
              0.1111111111111111,
              "#46039f"
             ],
             [
              0.2222222222222222,
              "#7201a8"
             ],
             [
              0.3333333333333333,
              "#9c179e"
             ],
             [
              0.4444444444444444,
              "#bd3786"
             ],
             [
              0.5555555555555556,
              "#d8576b"
             ],
             [
              0.6666666666666666,
              "#ed7953"
             ],
             [
              0.7777777777777778,
              "#fb9f3a"
             ],
             [
              0.8888888888888888,
              "#fdca26"
             ],
             [
              1,
              "#f0f921"
             ]
            ],
            "type": "heatmap"
           }
          ],
          "heatmapgl": [
           {
            "colorbar": {
             "outlinewidth": 0,
             "ticks": ""
            },
            "colorscale": [
             [
              0,
              "#0d0887"
             ],
             [
              0.1111111111111111,
              "#46039f"
             ],
             [
              0.2222222222222222,
              "#7201a8"
             ],
             [
              0.3333333333333333,
              "#9c179e"
             ],
             [
              0.4444444444444444,
              "#bd3786"
             ],
             [
              0.5555555555555556,
              "#d8576b"
             ],
             [
              0.6666666666666666,
              "#ed7953"
             ],
             [
              0.7777777777777778,
              "#fb9f3a"
             ],
             [
              0.8888888888888888,
              "#fdca26"
             ],
             [
              1,
              "#f0f921"
             ]
            ],
            "type": "heatmapgl"
           }
          ],
          "histogram": [
           {
            "marker": {
             "colorbar": {
              "outlinewidth": 0,
              "ticks": ""
             }
            },
            "type": "histogram"
           }
          ],
          "histogram2d": [
           {
            "colorbar": {
             "outlinewidth": 0,
             "ticks": ""
            },
            "colorscale": [
             [
              0,
              "#0d0887"
             ],
             [
              0.1111111111111111,
              "#46039f"
             ],
             [
              0.2222222222222222,
              "#7201a8"
             ],
             [
              0.3333333333333333,
              "#9c179e"
             ],
             [
              0.4444444444444444,
              "#bd3786"
             ],
             [
              0.5555555555555556,
              "#d8576b"
             ],
             [
              0.6666666666666666,
              "#ed7953"
             ],
             [
              0.7777777777777778,
              "#fb9f3a"
             ],
             [
              0.8888888888888888,
              "#fdca26"
             ],
             [
              1,
              "#f0f921"
             ]
            ],
            "type": "histogram2d"
           }
          ],
          "histogram2dcontour": [
           {
            "colorbar": {
             "outlinewidth": 0,
             "ticks": ""
            },
            "colorscale": [
             [
              0,
              "#0d0887"
             ],
             [
              0.1111111111111111,
              "#46039f"
             ],
             [
              0.2222222222222222,
              "#7201a8"
             ],
             [
              0.3333333333333333,
              "#9c179e"
             ],
             [
              0.4444444444444444,
              "#bd3786"
             ],
             [
              0.5555555555555556,
              "#d8576b"
             ],
             [
              0.6666666666666666,
              "#ed7953"
             ],
             [
              0.7777777777777778,
              "#fb9f3a"
             ],
             [
              0.8888888888888888,
              "#fdca26"
             ],
             [
              1,
              "#f0f921"
             ]
            ],
            "type": "histogram2dcontour"
           }
          ],
          "mesh3d": [
           {
            "colorbar": {
             "outlinewidth": 0,
             "ticks": ""
            },
            "type": "mesh3d"
           }
          ],
          "parcoords": [
           {
            "line": {
             "colorbar": {
              "outlinewidth": 0,
              "ticks": ""
             }
            },
            "type": "parcoords"
           }
          ],
          "pie": [
           {
            "automargin": true,
            "type": "pie"
           }
          ],
          "scatter": [
           {
            "marker": {
             "colorbar": {
              "outlinewidth": 0,
              "ticks": ""
             }
            },
            "type": "scatter"
           }
          ],
          "scatter3d": [
           {
            "line": {
             "colorbar": {
              "outlinewidth": 0,
              "ticks": ""
             }
            },
            "marker": {
             "colorbar": {
              "outlinewidth": 0,
              "ticks": ""
             }
            },
            "type": "scatter3d"
           }
          ],
          "scattercarpet": [
           {
            "marker": {
             "colorbar": {
              "outlinewidth": 0,
              "ticks": ""
             }
            },
            "type": "scattercarpet"
           }
          ],
          "scattergeo": [
           {
            "marker": {
             "colorbar": {
              "outlinewidth": 0,
              "ticks": ""
             }
            },
            "type": "scattergeo"
           }
          ],
          "scattergl": [
           {
            "marker": {
             "colorbar": {
              "outlinewidth": 0,
              "ticks": ""
             }
            },
            "type": "scattergl"
           }
          ],
          "scattermapbox": [
           {
            "marker": {
             "colorbar": {
              "outlinewidth": 0,
              "ticks": ""
             }
            },
            "type": "scattermapbox"
           }
          ],
          "scatterpolar": [
           {
            "marker": {
             "colorbar": {
              "outlinewidth": 0,
              "ticks": ""
             }
            },
            "type": "scatterpolar"
           }
          ],
          "scatterpolargl": [
           {
            "marker": {
             "colorbar": {
              "outlinewidth": 0,
              "ticks": ""
             }
            },
            "type": "scatterpolargl"
           }
          ],
          "scatterternary": [
           {
            "marker": {
             "colorbar": {
              "outlinewidth": 0,
              "ticks": ""
             }
            },
            "type": "scatterternary"
           }
          ],
          "surface": [
           {
            "colorbar": {
             "outlinewidth": 0,
             "ticks": ""
            },
            "colorscale": [
             [
              0,
              "#0d0887"
             ],
             [
              0.1111111111111111,
              "#46039f"
             ],
             [
              0.2222222222222222,
              "#7201a8"
             ],
             [
              0.3333333333333333,
              "#9c179e"
             ],
             [
              0.4444444444444444,
              "#bd3786"
             ],
             [
              0.5555555555555556,
              "#d8576b"
             ],
             [
              0.6666666666666666,
              "#ed7953"
             ],
             [
              0.7777777777777778,
              "#fb9f3a"
             ],
             [
              0.8888888888888888,
              "#fdca26"
             ],
             [
              1,
              "#f0f921"
             ]
            ],
            "type": "surface"
           }
          ],
          "table": [
           {
            "cells": {
             "fill": {
              "color": "#EBF0F8"
             },
             "line": {
              "color": "white"
             }
            },
            "header": {
             "fill": {
              "color": "#C8D4E3"
             },
             "line": {
              "color": "white"
             }
            },
            "type": "table"
           }
          ]
         },
         "layout": {
          "annotationdefaults": {
           "arrowcolor": "#2a3f5f",
           "arrowhead": 0,
           "arrowwidth": 1
          },
          "autotypenumbers": "strict",
          "coloraxis": {
           "colorbar": {
            "outlinewidth": 0,
            "ticks": ""
           }
          },
          "colorscale": {
           "diverging": [
            [
             0,
             "#8e0152"
            ],
            [
             0.1,
             "#c51b7d"
            ],
            [
             0.2,
             "#de77ae"
            ],
            [
             0.3,
             "#f1b6da"
            ],
            [
             0.4,
             "#fde0ef"
            ],
            [
             0.5,
             "#f7f7f7"
            ],
            [
             0.6,
             "#e6f5d0"
            ],
            [
             0.7,
             "#b8e186"
            ],
            [
             0.8,
             "#7fbc41"
            ],
            [
             0.9,
             "#4d9221"
            ],
            [
             1,
             "#276419"
            ]
           ],
           "sequential": [
            [
             0,
             "#0d0887"
            ],
            [
             0.1111111111111111,
             "#46039f"
            ],
            [
             0.2222222222222222,
             "#7201a8"
            ],
            [
             0.3333333333333333,
             "#9c179e"
            ],
            [
             0.4444444444444444,
             "#bd3786"
            ],
            [
             0.5555555555555556,
             "#d8576b"
            ],
            [
             0.6666666666666666,
             "#ed7953"
            ],
            [
             0.7777777777777778,
             "#fb9f3a"
            ],
            [
             0.8888888888888888,
             "#fdca26"
            ],
            [
             1,
             "#f0f921"
            ]
           ],
           "sequentialminus": [
            [
             0,
             "#0d0887"
            ],
            [
             0.1111111111111111,
             "#46039f"
            ],
            [
             0.2222222222222222,
             "#7201a8"
            ],
            [
             0.3333333333333333,
             "#9c179e"
            ],
            [
             0.4444444444444444,
             "#bd3786"
            ],
            [
             0.5555555555555556,
             "#d8576b"
            ],
            [
             0.6666666666666666,
             "#ed7953"
            ],
            [
             0.7777777777777778,
             "#fb9f3a"
            ],
            [
             0.8888888888888888,
             "#fdca26"
            ],
            [
             1,
             "#f0f921"
            ]
           ]
          },
          "colorway": [
           "#636efa",
           "#EF553B",
           "#00cc96",
           "#ab63fa",
           "#FFA15A",
           "#19d3f3",
           "#FF6692",
           "#B6E880",
           "#FF97FF",
           "#FECB52"
          ],
          "font": {
           "color": "#2a3f5f"
          },
          "geo": {
           "bgcolor": "white",
           "lakecolor": "white",
           "landcolor": "#E5ECF6",
           "showlakes": true,
           "showland": true,
           "subunitcolor": "white"
          },
          "hoverlabel": {
           "align": "left"
          },
          "hovermode": "closest",
          "mapbox": {
           "style": "light"
          },
          "paper_bgcolor": "white",
          "plot_bgcolor": "#E5ECF6",
          "polar": {
           "angularaxis": {
            "gridcolor": "white",
            "linecolor": "white",
            "ticks": ""
           },
           "bgcolor": "#E5ECF6",
           "radialaxis": {
            "gridcolor": "white",
            "linecolor": "white",
            "ticks": ""
           }
          },
          "scene": {
           "xaxis": {
            "backgroundcolor": "#E5ECF6",
            "gridcolor": "white",
            "gridwidth": 2,
            "linecolor": "white",
            "showbackground": true,
            "ticks": "",
            "zerolinecolor": "white"
           },
           "yaxis": {
            "backgroundcolor": "#E5ECF6",
            "gridcolor": "white",
            "gridwidth": 2,
            "linecolor": "white",
            "showbackground": true,
            "ticks": "",
            "zerolinecolor": "white"
           },
           "zaxis": {
            "backgroundcolor": "#E5ECF6",
            "gridcolor": "white",
            "gridwidth": 2,
            "linecolor": "white",
            "showbackground": true,
            "ticks": "",
            "zerolinecolor": "white"
           }
          },
          "shapedefaults": {
           "line": {
            "color": "#2a3f5f"
           }
          },
          "ternary": {
           "aaxis": {
            "gridcolor": "white",
            "linecolor": "white",
            "ticks": ""
           },
           "baxis": {
            "gridcolor": "white",
            "linecolor": "white",
            "ticks": ""
           },
           "bgcolor": "#E5ECF6",
           "caxis": {
            "gridcolor": "white",
            "linecolor": "white",
            "ticks": ""
           }
          },
          "title": {
           "x": 0.05
          },
          "xaxis": {
           "automargin": true,
           "gridcolor": "white",
           "linecolor": "white",
           "ticks": "",
           "title": {
            "standoff": 15
           },
           "zerolinecolor": "white",
           "zerolinewidth": 2
          },
          "yaxis": {
           "automargin": true,
           "gridcolor": "white",
           "linecolor": "white",
           "ticks": "",
           "title": {
            "standoff": 15
           },
           "zerolinecolor": "white",
           "zerolinewidth": 2
          }
         }
        },
        "title": {
         "text": "Влияние недели жизни на пополнения"
        },
        "width": 700,
        "xaxis": {
         "anchor": "y",
         "domain": [
          0,
          1
         ],
         "title": {
          "text": "generation"
         }
        },
        "yaxis": {
         "anchor": "x",
         "domain": [
          0,
          1
         ],
         "title": {
          "text": "volume"
         }
        }
       }
      },
      "text/html": [
       "<div>                            <div id=\"ab6448ce-44cc-472c-88ec-0ba8f69ba544\" class=\"plotly-graph-div\" style=\"height:400px; width:700px;\"></div>            <script type=\"text/javascript\">                require([\"plotly\"], function(Plotly) {                    window.PLOTLYENV=window.PLOTLYENV || {};                                    if (document.getElementById(\"ab6448ce-44cc-472c-88ec-0ba8f69ba544\")) {                    Plotly.newPlot(                        \"ab6448ce-44cc-472c-88ec-0ba8f69ba544\",                        [{\"hovertemplate\": \"generation=%{x}<br>volume=%{y}<extra></extra>\", \"legendgroup\": \"\", \"marker\": {\"color\": \"#636efa\", \"symbol\": \"circle\"}, \"mode\": \"markers\", \"name\": \"\", \"orientation\": \"v\", \"showlegend\": false, \"type\": \"scatter\", \"x\": [1, 2, 3, 4, 5, 1, 2, 3, 4, 5, 1, 2, 3, 4, 5, 1, 2, 3, 4, 5, 1, 2, 3, 4, 5, 1, 2, 3, 4, 5, 1, 2, 3, 4, 5, 1, 2, 3, 4, 5, 1, 2, 3, 4, 5, 1, 2, 3, 4, 5, 1, 2, 3, 4, 5, 1, 2, 3, 4, 5, 1, 2, 3, 4, 5, 1, 2, 3, 4, 5, 1, 2, 3, 4, 5, 1, 2, 3, 4, 5, 1, 2, 3, 4, 5, 1, 2, 3, 4, 5, 1, 2, 3, 4, 5, 1, 2, 3, 4, 5, 1, 2, 3, 4, 5, 1, 2, 3, 4, 5, 1, 2, 3, 4, 5, 1, 2, 3, 4, 5, 1, 2, 3, 4, 5, 1, 2, 3, 4, 5, 1, 2, 3, 4, 5, 1, 2, 3, 4, 5, 1, 2, 3, 4, 5, 1, 2, 3, 4, 5, 1, 2, 3, 4, 5, 1, 2, 3, 4, 5, 1, 2, 3, 4, 5, 1, 2, 3, 4, 5, 1, 2, 3, 4, 5, 1, 2, 3, 4, 5, 1, 2, 3, 4, 5, 1, 2, 3, 4, 5, 1, 2, 3, 4, 5, 1, 2, 3, 4, 5, 1, 2, 3, 4, 5, 1, 2, 3, 4, 5, 1, 2, 3, 4, 5, 1, 2, 3, 4, 5, 1, 2, 3, 4, 5, 1, 2, 3, 4, 5, 1, 2, 3, 4, 5, 1, 2, 3, 4, 5, 1, 2, 3, 4, 5, 1, 2, 3, 4, 5, 1, 2, 3, 4, 5, 1, 2, 3, 4, 5, 1, 2, 3, 4, 5, 1, 2, 3, 4, 5, 1, 2, 3, 4, 5, 1, 2, 3, 4, 5, 1, 2, 3, 4, 5, 1, 2, 3, 4, 5, 1, 2, 3, 4, 5, 1, 2, 3, 4, 5, 1, 2, 3, 4, 5, 1, 2, 3, 4, 5, 1, 2, 3, 4, 5, 1, 2, 3, 4, 5, 1, 2, 3, 4, 5, 1, 2, 3, 4, 5, 1, 2, 3, 4, 5, 1, 2, 3, 4, 5, 1, 2, 3, 4, 5, 1, 2, 3, 4, 5, 1, 2, 3, 4, 5, 1, 2, 3, 4, 5, 1, 2, 3, 4, 5, 1, 2, 3, 4, 5, 1, 2, 3, 4, 5, 1, 2, 3, 4, 5, 1, 2, 3, 4, 5, 1, 2, 3, 4, 5, 1, 2, 3, 4, 5, 1, 2, 3, 4, 5, 1, 2, 3, 4, 5, 1, 2, 3, 4, 5, 1, 2, 3, 4, 5, 1, 2, 3, 4, 5, 1, 2, 3, 4, 5, 1, 2, 3, 4, 5, 1, 2, 3, 4, 5, 1, 2, 3, 4, 5, 1, 2, 3, 4, 5, 1, 2, 3, 4, 5, 1, 2, 3, 4, 5, 1, 2, 3, 4, 5, 1, 2, 3, 4, 5, 1, 2, 3, 4, 5, 1, 2, 3, 4, 5, 1, 2, 3, 4, 5, 1, 2, 3, 4, 5, 1, 2, 3, 4, 5, 1, 2, 3, 4, 5, 1, 2, 3, 4, 5], \"xaxis\": \"x\", \"y\": [0.0, 0.7433232326429872, 0.9774047425972967, 0.7726702415163742, 0.03928876143736482, 0.0, 0.7181196017849273, 0.9709582392722839, 0.8241885718437671, 0.0, 0.010892099083406007, 0.7501129109186735, 0.9839595505499812, 0.7452243389947042, 0.0004424676236868168, 0.0, 0.7594821889739312, 0.9977784350952693, 0.7307647853013942, 0.0, 0.0, 0.727465229375124, 1.007942793636198, 0.7225893666150941, 0.018731323020972187, 0.0, 0.7422367285281536, 0.9874412198035674, 0.7947432535052172, 0.05569516472775865, 0.025830220739950095, 0.7580894527214936, 1.0480474754320723, 0.8014791010273239, 0.05092773163852208, 0.0, 0.7981851809322086, 0.991755021269524, 0.7877641288384442, 0.038122814255952917, 0.010720386905228751, 0.6906496824436125, 1.0049328147194785, 0.729087055452143, 0.02081329142885218, 0.0, 0.7693547340041862, 1.0077577698743136, 0.733834836195315, 0.0, 0.046119921797648, 0.7819044346935818, 1.0417764390288273, 0.7369494983701484, 0.0, 0.012972886773976199, 0.7961787922459581, 1.109164692256255, 0.7583995912084941, 0.02283445634815302, 0.0, 0.7654345554369477, 1.019814773830882, 0.7605730440597342, 0.02916974161802695, 0.0, 0.7347094858985785, 1.004879337557308, 0.7485817582306844, 0.0, 0.020969714031807224, 0.7998757610729234, 0.9904779251522807, 0.770423419208543, 0.07690902038462795, 0.04585336169477866, 0.7841709252958327, 1.0095914424637973, 0.7512876575551651, 0.031012645961243472, 0.044379218090661476, 0.7275042183469164, 1.0658848878305216, 0.7824623755220942, 0.038980093278685804, 0.0053468061684144655, 0.7557036612130336, 0.9837656731651222, 0.7247185526186902, 0.0, 0.015963865664178387, 0.726405918141206, 0.9428291745012413, 0.8203086243494793, 0.0, 0.0, 0.7812090712465282, 1.0080069015903763, 0.7998403595703065, 0.057214075350198394, 0.0, 0.7735199614656765, 1.016090217104712, 0.7019124555932327, 0.02053963063522242, 0.03912257621203474, 0.7667481086210298, 1.0633073590117976, 0.765073572538918, 0.0, 0.0, 0.7655489313897096, 1.0274339092827964, 0.7877446342214715, 0.03291057826003056, 0.025756015146570242, 0.7732754404996002, 0.9813069560659556, 0.7226417014799529, 0.05197599832658395, 0.0, 0.7540775366259774, 1.07682068832672, 0.7561612241175156, 0.0, 0.0, 0.7963980629273985, 0.969347134592443, 0.7325052464298342, 0.01616635799954945, 0.019103635952906414, 0.7460892443943391, 1.0010038425107846, 0.7994622992808713, 0.02311415404057378, 0.0, 0.7770015341215323, 1.0105232786580982, 0.7796300347927028, 0.009663556924268448, 0.061498869479303074, 0.740320448154599, 0.9745894094968441, 0.7761944797550066, 0.021248600521277576, 0.0, 0.7519463340150586, 1.0349433037195843, 0.7305514632376409, 0.04594029084483256, 0.0, 0.7468879881710054, 1.0378532521572645, 0.790889877578001, 0.005738881782245148, 0.002804591587030833, 0.7565880157798552, 1.046825611830515, 0.7374061630149067, 0.0270750585655759, 0.0, 0.7630330663227307, 1.0092462291341164, 0.7776925525145136, 0.0, 0.046272746730476204, 0.694622687852194, 0.9826321443780591, 0.7298007933104875, 0.05227896734231944, 0.0, 0.8050627819273766, 0.941549664949595, 0.7737694464560473, 0.06406884292868367, 0.008038838110441818, 0.791498624426426, 0.9719860584865012, 0.7157390860115568, 0.0, 0.001329608056596919, 0.7861961620049486, 0.974771874533562, 0.7190916112388697, 0.06751020959336827, 0.06508192960161577, 0.7946244123971702, 0.9928712543176944, 0.8063710149528367, 0.0, 0.05076242603527564, 0.7955917515507156, 1.0089695828082688, 0.772813821832711, 0.022050043299746493, 0.031220668162726457, 0.7322975166386453, 1.045730159310882, 0.6994430194278638, 0.0, 0.016360579935353267, 0.7216534758104266, 1.0003187264794728, 0.6925489283184445, 0.0, 0.053436687876645975, 0.7165192910611269, 1.0253265957557955, 0.7253137013519824, 0.05704383170147616, 0.0194636276870212, 0.738061140172843, 1.0025032960196067, 0.7331308467515265, 0.04005512540504611, 0.03491662028190411, 0.7738274893554757, 0.9596019125312417, 0.7720071454724283, 0.0008833043591345239, 0.0317414672292341, 0.7845013187576193, 0.983874452852444, 0.7345192546835867, 0.027218418627482505, 0.011431380409128663, 0.7365427717555596, 1.0809211250502087, 0.799556373629115, 0.04553029962858537, 0.0, 0.8081151288924554, 0.9814658693945431, 0.7739803484016986, 0.011650061248262414, 0.029738763461977933, 0.797606868432213, 1.0160811708311175, 0.7826476629082602, 0.024692926919757417, 0.0, 0.7294637902541375, 1.0113175172506859, 0.7598912989032368, 0.0, 0.036953694546876734, 0.7774997865830677, 1.0253716574793448, 0.749590882673223, 0.0, 0.0, 0.7688085112829236, 1.034808660394437, 0.7401008798898238, 0.0, 0.019393474035113777, 0.7754846485040647, 0.9538567380909408, 0.8098075912428356, 0.0, 0.0, 0.7647515611218605, 0.9628860615430668, 0.8007253185244462, 0.02462178293207731, 0.0, 0.7516207530937469, 1.0235837280987012, 0.7624225685376879, 0.022446744177224847, 0.0045878066965829405, 0.7605564207690909, 0.9905132594850525, 0.7616212485147942, 0.0, 0.0, 0.7543497449054617, 1.0040981104131208, 0.7571391901649501, 0.0, 0.0, 0.7394739005666695, 1.026265281913899, 0.7608884544064882, 0.02934132698516142, 0.0026539226858651073, 0.7872017920471496, 1.03303114300776, 0.7624549787195063, 0.011100554219417502, 0.005892657175832681, 0.7415500162055396, 0.9575188836272865, 0.7519842151521485, 0.07977603589659593, 0.0, 0.7451498975573124, 0.9906971406874939, 0.7944322645413163, 0.0, 0.0, 0.7195423659024227, 0.9915399681531454, 0.7670213739622399, 0.05423107424690053, 0.0, 0.7844325640621596, 1.0199189188334803, 0.7295266637175889, 0.0, 0.05466079939277582, 0.7616795340843184, 0.9667326909268852, 0.7888081881899782, 0.07042192022146321, 0.011453082413632668, 0.7187774003678108, 1.0132044454049884, 0.7994409307695213, 0.007488486687773067, 0.054905327686073646, 0.7783731735464459, 1.0148633841257024, 0.7363519882408873, 0.03418411847451013, 0.03148289994066169, 0.7486641048294177, 1.0169939351025161, 0.7660313503842692, 0.0, 0.0229662832718246, 0.7362411174941805, 1.0206308902582286, 0.815037602195298, 0.03902924589234309, 0.055225828060644404, 0.7520707903802339, 0.991531671943271, 0.7555378052800867, 0.0654179030812113, 0.08631317350277425, 0.7579992886613243, 1.0207152125666612, 0.7614538978983204, 0.0, 0.02450197431255356, 0.7607666384506593, 1.0295705227101661, 0.723735418476935, 0.0, 0.01180054407493452, 0.7880445426469449, 0.9774638222772684, 0.7457926319024882, 0.0, 0.05578981079089937, 0.7518909743257228, 1.002866858460713, 0.7469122333585314, 0.0, 0.04066486049759082, 0.7693028187863494, 1.0261106513610432, 0.7731262692979879, 0.0, 0.0, 0.7820433013073952, 0.9859544192864246, 0.7299099064390641, 0.005597618062185391, 0.0, 0.7844090869918854, 0.9873524800131402, 0.7507210399440074, 0.0, 0.020144313940323455, 0.7674101285009655, 0.9534161650976323, 0.7474269559929146, 0.005560951097046838, 0.0, 0.7762529145340232, 1.0079840678486087, 0.794145396293493, 0.004911177270158218, 0.07115959418436756, 0.7612525374182381, 1.0526695517000635, 0.7470078958375205, 0.016142096916474287, 0.0, 0.7394089719261943, 1.0441360867290128, 0.7565164072170912, 0.06211163536245163, 0.014140342938575991, 0.7238748690250628, 1.0369471153272325, 0.7115324616961239, 0.0533780075144489, 0.014457822186392612, 0.750579319037476, 1.0342702215303199, 0.7412259971183673, 0.020633495247644414, 0.041464527041091555, 0.7329675844217088, 1.0088640396595245, 0.7419651440359246, 0.0, 0.0425853254162953, 0.7337591487914035, 0.9984328548273858, 0.7975438981202896, 0.02324139966821591, 0.06641592428382517, 0.7272238223868903, 1.0321996538916482, 0.7410816869878892, 0.011670582551972643, 0.03789730532730683, 0.7922510239097369, 1.0550223710123874, 0.7423208479017028, 0.0, 0.004864028797678837, 0.7240955293719488, 1.0038721464990732, 0.7690180530148547, 0.0, 0.0, 0.7413533974523746, 0.9839755052751302, 0.755036802176087, 0.030062540206556587, 0.009015511086931795, 0.7891041492012291, 1.0349693395523294, 0.7790234076137517, 0.00432768259560142, 0.0337352412734556, 0.7370592225412221, 0.995885277485445, 0.8041676599510001, 0.0, 0.0, 0.7622700037066471, 0.923241326669757, 0.7660612511316414, 0.07275331045251603, 0.0, 0.7934844394425634, 1.0448106985337886, 0.7680772464327318, 0.010140364848949753, 0.002616944269525632, 0.7518868333927184, 1.047437063878232, 0.7666251849087906, 0.044650565756368624, 0.0, 0.7535120200692472, 0.9941114436759457, 0.7779892251570464, 0.0, 0.0, 0.7129040937764112, 0.9635351292716232, 0.7888484954850132, 0.0, 0.058452304894219737, 0.7418647763196636, 1.0388608054542157, 0.7859935001945115, 0.0, 0.0, 0.7773541156971346, 1.0085533121123713, 0.729035674151937, 0.0028698713770700345, 0.06532893384973568, 0.7523503033571045, 0.959461753855364, 0.7901701494076675, 0.014050870512645433, 0.051856381185996024, 0.8046815487462536, 1.0035440469744672, 0.7815820602044463, 0.007367097309229145, 0.008440442801802134, 0.7940944177862375, 0.9881211714746905, 0.7556838661607708, 0.0, 0.007183028723810829, 0.7853047289371803, 1.021720027455928, 0.7688569837288385, 0.03560237826971888], \"yaxis\": \"y\"}],                        {\"height\": 400, \"legend\": {\"tracegroupgap\": 0}, \"template\": {\"data\": {\"bar\": [{\"error_x\": {\"color\": \"#2a3f5f\"}, \"error_y\": {\"color\": \"#2a3f5f\"}, \"marker\": {\"line\": {\"color\": \"#E5ECF6\", \"width\": 0.5}}, \"type\": \"bar\"}], \"barpolar\": [{\"marker\": {\"line\": {\"color\": \"#E5ECF6\", \"width\": 0.5}}, \"type\": \"barpolar\"}], \"carpet\": [{\"aaxis\": {\"endlinecolor\": \"#2a3f5f\", \"gridcolor\": \"white\", \"linecolor\": \"white\", \"minorgridcolor\": \"white\", \"startlinecolor\": \"#2a3f5f\"}, \"baxis\": {\"endlinecolor\": \"#2a3f5f\", \"gridcolor\": \"white\", \"linecolor\": \"white\", \"minorgridcolor\": \"white\", \"startlinecolor\": \"#2a3f5f\"}, \"type\": \"carpet\"}], \"choropleth\": [{\"colorbar\": {\"outlinewidth\": 0, \"ticks\": \"\"}, \"type\": \"choropleth\"}], \"contour\": [{\"colorbar\": {\"outlinewidth\": 0, \"ticks\": \"\"}, \"colorscale\": [[0.0, \"#0d0887\"], [0.1111111111111111, \"#46039f\"], [0.2222222222222222, \"#7201a8\"], [0.3333333333333333, \"#9c179e\"], [0.4444444444444444, \"#bd3786\"], [0.5555555555555556, \"#d8576b\"], [0.6666666666666666, \"#ed7953\"], [0.7777777777777778, \"#fb9f3a\"], [0.8888888888888888, \"#fdca26\"], [1.0, \"#f0f921\"]], \"type\": \"contour\"}], \"contourcarpet\": [{\"colorbar\": {\"outlinewidth\": 0, \"ticks\": \"\"}, \"type\": \"contourcarpet\"}], \"heatmap\": [{\"colorbar\": {\"outlinewidth\": 0, \"ticks\": \"\"}, \"colorscale\": [[0.0, \"#0d0887\"], [0.1111111111111111, \"#46039f\"], [0.2222222222222222, \"#7201a8\"], [0.3333333333333333, \"#9c179e\"], [0.4444444444444444, \"#bd3786\"], [0.5555555555555556, \"#d8576b\"], [0.6666666666666666, \"#ed7953\"], [0.7777777777777778, \"#fb9f3a\"], [0.8888888888888888, \"#fdca26\"], [1.0, \"#f0f921\"]], \"type\": \"heatmap\"}], \"heatmapgl\": [{\"colorbar\": {\"outlinewidth\": 0, \"ticks\": \"\"}, \"colorscale\": [[0.0, \"#0d0887\"], [0.1111111111111111, \"#46039f\"], [0.2222222222222222, \"#7201a8\"], [0.3333333333333333, \"#9c179e\"], [0.4444444444444444, \"#bd3786\"], [0.5555555555555556, \"#d8576b\"], [0.6666666666666666, \"#ed7953\"], [0.7777777777777778, \"#fb9f3a\"], [0.8888888888888888, \"#fdca26\"], [1.0, \"#f0f921\"]], \"type\": \"heatmapgl\"}], \"histogram\": [{\"marker\": {\"colorbar\": {\"outlinewidth\": 0, \"ticks\": \"\"}}, \"type\": \"histogram\"}], \"histogram2d\": [{\"colorbar\": {\"outlinewidth\": 0, \"ticks\": \"\"}, \"colorscale\": [[0.0, \"#0d0887\"], [0.1111111111111111, \"#46039f\"], [0.2222222222222222, \"#7201a8\"], [0.3333333333333333, \"#9c179e\"], [0.4444444444444444, \"#bd3786\"], [0.5555555555555556, \"#d8576b\"], [0.6666666666666666, \"#ed7953\"], [0.7777777777777778, \"#fb9f3a\"], [0.8888888888888888, \"#fdca26\"], [1.0, \"#f0f921\"]], \"type\": \"histogram2d\"}], \"histogram2dcontour\": [{\"colorbar\": {\"outlinewidth\": 0, \"ticks\": \"\"}, \"colorscale\": [[0.0, \"#0d0887\"], [0.1111111111111111, \"#46039f\"], [0.2222222222222222, \"#7201a8\"], [0.3333333333333333, \"#9c179e\"], [0.4444444444444444, \"#bd3786\"], [0.5555555555555556, \"#d8576b\"], [0.6666666666666666, \"#ed7953\"], [0.7777777777777778, \"#fb9f3a\"], [0.8888888888888888, \"#fdca26\"], [1.0, \"#f0f921\"]], \"type\": \"histogram2dcontour\"}], \"mesh3d\": [{\"colorbar\": {\"outlinewidth\": 0, \"ticks\": \"\"}, \"type\": \"mesh3d\"}], \"parcoords\": [{\"line\": {\"colorbar\": {\"outlinewidth\": 0, \"ticks\": \"\"}}, \"type\": \"parcoords\"}], \"pie\": [{\"automargin\": true, \"type\": \"pie\"}], \"scatter\": [{\"marker\": {\"colorbar\": {\"outlinewidth\": 0, \"ticks\": \"\"}}, \"type\": \"scatter\"}], \"scatter3d\": [{\"line\": {\"colorbar\": {\"outlinewidth\": 0, \"ticks\": \"\"}}, \"marker\": {\"colorbar\": {\"outlinewidth\": 0, \"ticks\": \"\"}}, \"type\": \"scatter3d\"}], \"scattercarpet\": [{\"marker\": {\"colorbar\": {\"outlinewidth\": 0, \"ticks\": \"\"}}, \"type\": \"scattercarpet\"}], \"scattergeo\": [{\"marker\": {\"colorbar\": {\"outlinewidth\": 0, \"ticks\": \"\"}}, \"type\": \"scattergeo\"}], \"scattergl\": [{\"marker\": {\"colorbar\": {\"outlinewidth\": 0, \"ticks\": \"\"}}, \"type\": \"scattergl\"}], \"scattermapbox\": [{\"marker\": {\"colorbar\": {\"outlinewidth\": 0, \"ticks\": \"\"}}, \"type\": \"scattermapbox\"}], \"scatterpolar\": [{\"marker\": {\"colorbar\": {\"outlinewidth\": 0, \"ticks\": \"\"}}, \"type\": \"scatterpolar\"}], \"scatterpolargl\": [{\"marker\": {\"colorbar\": {\"outlinewidth\": 0, \"ticks\": \"\"}}, \"type\": \"scatterpolargl\"}], \"scatterternary\": [{\"marker\": {\"colorbar\": {\"outlinewidth\": 0, \"ticks\": \"\"}}, \"type\": \"scatterternary\"}], \"surface\": [{\"colorbar\": {\"outlinewidth\": 0, \"ticks\": \"\"}, \"colorscale\": [[0.0, \"#0d0887\"], [0.1111111111111111, \"#46039f\"], [0.2222222222222222, \"#7201a8\"], [0.3333333333333333, \"#9c179e\"], [0.4444444444444444, \"#bd3786\"], [0.5555555555555556, \"#d8576b\"], [0.6666666666666666, \"#ed7953\"], [0.7777777777777778, \"#fb9f3a\"], [0.8888888888888888, \"#fdca26\"], [1.0, \"#f0f921\"]], \"type\": \"surface\"}], \"table\": [{\"cells\": {\"fill\": {\"color\": \"#EBF0F8\"}, \"line\": {\"color\": \"white\"}}, \"header\": {\"fill\": {\"color\": \"#C8D4E3\"}, \"line\": {\"color\": \"white\"}}, \"type\": \"table\"}]}, \"layout\": {\"annotationdefaults\": {\"arrowcolor\": \"#2a3f5f\", \"arrowhead\": 0, \"arrowwidth\": 1}, \"autotypenumbers\": \"strict\", \"coloraxis\": {\"colorbar\": {\"outlinewidth\": 0, \"ticks\": \"\"}}, \"colorscale\": {\"diverging\": [[0, \"#8e0152\"], [0.1, \"#c51b7d\"], [0.2, \"#de77ae\"], [0.3, \"#f1b6da\"], [0.4, \"#fde0ef\"], [0.5, \"#f7f7f7\"], [0.6, \"#e6f5d0\"], [0.7, \"#b8e186\"], [0.8, \"#7fbc41\"], [0.9, \"#4d9221\"], [1, \"#276419\"]], \"sequential\": [[0.0, \"#0d0887\"], [0.1111111111111111, \"#46039f\"], [0.2222222222222222, \"#7201a8\"], [0.3333333333333333, \"#9c179e\"], [0.4444444444444444, \"#bd3786\"], [0.5555555555555556, \"#d8576b\"], [0.6666666666666666, \"#ed7953\"], [0.7777777777777778, \"#fb9f3a\"], [0.8888888888888888, \"#fdca26\"], [1.0, \"#f0f921\"]], \"sequentialminus\": [[0.0, \"#0d0887\"], [0.1111111111111111, \"#46039f\"], [0.2222222222222222, \"#7201a8\"], [0.3333333333333333, \"#9c179e\"], [0.4444444444444444, \"#bd3786\"], [0.5555555555555556, \"#d8576b\"], [0.6666666666666666, \"#ed7953\"], [0.7777777777777778, \"#fb9f3a\"], [0.8888888888888888, \"#fdca26\"], [1.0, \"#f0f921\"]]}, \"colorway\": [\"#636efa\", \"#EF553B\", \"#00cc96\", \"#ab63fa\", \"#FFA15A\", \"#19d3f3\", \"#FF6692\", \"#B6E880\", \"#FF97FF\", \"#FECB52\"], \"font\": {\"color\": \"#2a3f5f\"}, \"geo\": {\"bgcolor\": \"white\", \"lakecolor\": \"white\", \"landcolor\": \"#E5ECF6\", \"showlakes\": true, \"showland\": true, \"subunitcolor\": \"white\"}, \"hoverlabel\": {\"align\": \"left\"}, \"hovermode\": \"closest\", \"mapbox\": {\"style\": \"light\"}, \"paper_bgcolor\": \"white\", \"plot_bgcolor\": \"#E5ECF6\", \"polar\": {\"angularaxis\": {\"gridcolor\": \"white\", \"linecolor\": \"white\", \"ticks\": \"\"}, \"bgcolor\": \"#E5ECF6\", \"radialaxis\": {\"gridcolor\": \"white\", \"linecolor\": \"white\", \"ticks\": \"\"}}, \"scene\": {\"xaxis\": {\"backgroundcolor\": \"#E5ECF6\", \"gridcolor\": \"white\", \"gridwidth\": 2, \"linecolor\": \"white\", \"showbackground\": true, \"ticks\": \"\", \"zerolinecolor\": \"white\"}, \"yaxis\": {\"backgroundcolor\": \"#E5ECF6\", \"gridcolor\": \"white\", \"gridwidth\": 2, \"linecolor\": \"white\", \"showbackground\": true, \"ticks\": \"\", \"zerolinecolor\": \"white\"}, \"zaxis\": {\"backgroundcolor\": \"#E5ECF6\", \"gridcolor\": \"white\", \"gridwidth\": 2, \"linecolor\": \"white\", \"showbackground\": true, \"ticks\": \"\", \"zerolinecolor\": \"white\"}}, \"shapedefaults\": {\"line\": {\"color\": \"#2a3f5f\"}}, \"ternary\": {\"aaxis\": {\"gridcolor\": \"white\", \"linecolor\": \"white\", \"ticks\": \"\"}, \"baxis\": {\"gridcolor\": \"white\", \"linecolor\": \"white\", \"ticks\": \"\"}, \"bgcolor\": \"#E5ECF6\", \"caxis\": {\"gridcolor\": \"white\", \"linecolor\": \"white\", \"ticks\": \"\"}}, \"title\": {\"x\": 0.05}, \"xaxis\": {\"automargin\": true, \"gridcolor\": \"white\", \"linecolor\": \"white\", \"ticks\": \"\", \"title\": {\"standoff\": 15}, \"zerolinecolor\": \"white\", \"zerolinewidth\": 2}, \"yaxis\": {\"automargin\": true, \"gridcolor\": \"white\", \"linecolor\": \"white\", \"ticks\": \"\", \"title\": {\"standoff\": 15}, \"zerolinecolor\": \"white\", \"zerolinewidth\": 2}}}, \"title\": {\"text\": \"\\u0412\\u043b\\u0438\\u044f\\u043d\\u0438\\u0435 \\u043d\\u0435\\u0434\\u0435\\u043b\\u0438 \\u0436\\u0438\\u0437\\u043d\\u0438 \\u043d\\u0430 \\u043f\\u043e\\u043f\\u043e\\u043b\\u043d\\u0435\\u043d\\u0438\\u044f\"}, \"width\": 700, \"xaxis\": {\"anchor\": \"y\", \"domain\": [0.0, 1.0], \"title\": {\"text\": \"generation\"}}, \"yaxis\": {\"anchor\": \"x\", \"domain\": [0.0, 1.0], \"title\": {\"text\": \"volume\"}}},                        {\"responsive\": true}                    ).then(function(){\n",
       "                            \n",
       "var gd = document.getElementById('ab6448ce-44cc-472c-88ec-0ba8f69ba544');\n",
       "var x = new MutationObserver(function (mutations, observer) {{\n",
       "        var display = window.getComputedStyle(gd).display;\n",
       "        if (!display || display === 'none') {{\n",
       "            console.log([gd, 'removed!']);\n",
       "            Plotly.purge(gd);\n",
       "            observer.disconnect();\n",
       "        }}\n",
       "}});\n",
       "\n",
       "// Listen for the removal of the full notebook cells\n",
       "var notebookContainer = gd.closest('#notebook-container');\n",
       "if (notebookContainer) {{\n",
       "    x.observe(notebookContainer, {childList: true});\n",
       "}}\n",
       "\n",
       "// Listen for the clearing of the current output cell\n",
       "var outputEl = gd.closest('.output');\n",
       "if (outputEl) {{\n",
       "    x.observe(outputEl, {childList: true});\n",
       "}}\n",
       "\n",
       "                        })                };                });            </script>        </div>"
      ]
     },
     "metadata": {},
     "output_type": "display_data"
    }
   ],
   "source": [
    "fig = px.scatter(df, y='volume', x='generation', width=700, height=400, \n",
    "                 title='Влияние недели жизни на пополнения')\n",
    "fig.show()"
   ]
  },
  {
   "cell_type": "code",
   "execution_count": 184,
   "metadata": {},
   "outputs": [
    {
     "data": {
      "application/vnd.plotly.v1+json": {
       "config": {
        "plotlyServerURL": "https://plot.ly"
       },
       "data": [
        {
         "alignmentgroup": "True",
         "boxpoints": "all",
         "hovertemplate": "generation=1<br>volume=%{y}<extra></extra>",
         "legendgroup": "1",
         "marker": {
          "color": "#636efa"
         },
         "name": "1",
         "notched": false,
         "offsetgroup": "1",
         "orientation": "v",
         "showlegend": true,
         "type": "box",
         "x0": " ",
         "xaxis": "x",
         "y": [
          0,
          0,
          0.010892099083406007,
          0,
          0,
          0,
          0.025830220739950095,
          0,
          0.010720386905228751,
          0,
          0.046119921797648,
          0.012972886773976199,
          0,
          0,
          0.020969714031807224,
          0.04585336169477866,
          0.044379218090661476,
          0.0053468061684144655,
          0.015963865664178387,
          0,
          0,
          0.03912257621203474,
          0,
          0.025756015146570242,
          0,
          0,
          0.019103635952906414,
          0,
          0.061498869479303074,
          0,
          0,
          0.002804591587030833,
          0,
          0.046272746730476204,
          0,
          0.008038838110441818,
          0.001329608056596919,
          0.06508192960161577,
          0.05076242603527564,
          0.031220668162726457,
          0.016360579935353267,
          0.053436687876645975,
          0.0194636276870212,
          0.03491662028190411,
          0.0317414672292341,
          0.011431380409128663,
          0,
          0.029738763461977933,
          0,
          0.036953694546876734,
          0,
          0.019393474035113777,
          0,
          0,
          0.0045878066965829405,
          0,
          0,
          0.0026539226858651073,
          0.005892657175832681,
          0,
          0,
          0,
          0.05466079939277582,
          0.011453082413632668,
          0.054905327686073646,
          0.03148289994066169,
          0.0229662832718246,
          0.055225828060644404,
          0.08631317350277425,
          0.02450197431255356,
          0.01180054407493452,
          0.05578981079089937,
          0.04066486049759082,
          0,
          0,
          0.020144313940323455,
          0,
          0.07115959418436756,
          0,
          0.014140342938575991,
          0.014457822186392612,
          0.041464527041091555,
          0.0425853254162953,
          0.06641592428382517,
          0.03789730532730683,
          0.004864028797678837,
          0,
          0.009015511086931795,
          0.0337352412734556,
          0,
          0,
          0.002616944269525632,
          0,
          0,
          0.058452304894219737,
          0,
          0.06532893384973568,
          0.051856381185996024,
          0.008440442801802134,
          0.007183028723810829
         ],
         "y0": " ",
         "yaxis": "y"
        },
        {
         "alignmentgroup": "True",
         "boxpoints": "all",
         "hovertemplate": "generation=2<br>volume=%{y}<extra></extra>",
         "legendgroup": "2",
         "marker": {
          "color": "#EF553B"
         },
         "name": "2",
         "notched": false,
         "offsetgroup": "2",
         "orientation": "v",
         "showlegend": true,
         "type": "box",
         "x0": " ",
         "xaxis": "x",
         "y": [
          0.7433232326429872,
          0.7181196017849273,
          0.7501129109186735,
          0.7594821889739312,
          0.727465229375124,
          0.7422367285281536,
          0.7580894527214936,
          0.7981851809322086,
          0.6906496824436125,
          0.7693547340041862,
          0.7819044346935818,
          0.7961787922459581,
          0.7654345554369477,
          0.7347094858985785,
          0.7998757610729234,
          0.7841709252958327,
          0.7275042183469164,
          0.7557036612130336,
          0.726405918141206,
          0.7812090712465282,
          0.7735199614656765,
          0.7667481086210298,
          0.7655489313897096,
          0.7732754404996002,
          0.7540775366259774,
          0.7963980629273985,
          0.7460892443943391,
          0.7770015341215323,
          0.740320448154599,
          0.7519463340150586,
          0.7468879881710054,
          0.7565880157798552,
          0.7630330663227307,
          0.694622687852194,
          0.8050627819273766,
          0.791498624426426,
          0.7861961620049486,
          0.7946244123971702,
          0.7955917515507156,
          0.7322975166386453,
          0.7216534758104266,
          0.7165192910611269,
          0.738061140172843,
          0.7738274893554757,
          0.7845013187576193,
          0.7365427717555596,
          0.8081151288924554,
          0.797606868432213,
          0.7294637902541375,
          0.7774997865830677,
          0.7688085112829236,
          0.7754846485040647,
          0.7647515611218605,
          0.7516207530937469,
          0.7605564207690909,
          0.7543497449054617,
          0.7394739005666695,
          0.7872017920471496,
          0.7415500162055396,
          0.7451498975573124,
          0.7195423659024227,
          0.7844325640621596,
          0.7616795340843184,
          0.7187774003678108,
          0.7783731735464459,
          0.7486641048294177,
          0.7362411174941805,
          0.7520707903802339,
          0.7579992886613243,
          0.7607666384506593,
          0.7880445426469449,
          0.7518909743257228,
          0.7693028187863494,
          0.7820433013073952,
          0.7844090869918854,
          0.7674101285009655,
          0.7762529145340232,
          0.7612525374182381,
          0.7394089719261943,
          0.7238748690250628,
          0.750579319037476,
          0.7329675844217088,
          0.7337591487914035,
          0.7272238223868903,
          0.7922510239097369,
          0.7240955293719488,
          0.7413533974523746,
          0.7891041492012291,
          0.7370592225412221,
          0.7622700037066471,
          0.7934844394425634,
          0.7518868333927184,
          0.7535120200692472,
          0.7129040937764112,
          0.7418647763196636,
          0.7773541156971346,
          0.7523503033571045,
          0.8046815487462536,
          0.7940944177862375,
          0.7853047289371803
         ],
         "y0": " ",
         "yaxis": "y"
        },
        {
         "alignmentgroup": "True",
         "boxpoints": "all",
         "hovertemplate": "generation=3<br>volume=%{y}<extra></extra>",
         "legendgroup": "3",
         "marker": {
          "color": "#00cc96"
         },
         "name": "3",
         "notched": false,
         "offsetgroup": "3",
         "orientation": "v",
         "showlegend": true,
         "type": "box",
         "x0": " ",
         "xaxis": "x",
         "y": [
          0.9774047425972967,
          0.9709582392722839,
          0.9839595505499812,
          0.9977784350952693,
          1.007942793636198,
          0.9874412198035674,
          1.0480474754320723,
          0.991755021269524,
          1.0049328147194785,
          1.0077577698743136,
          1.0417764390288273,
          1.109164692256255,
          1.019814773830882,
          1.004879337557308,
          0.9904779251522807,
          1.0095914424637973,
          1.0658848878305216,
          0.9837656731651222,
          0.9428291745012413,
          1.0080069015903763,
          1.016090217104712,
          1.0633073590117976,
          1.0274339092827964,
          0.9813069560659556,
          1.07682068832672,
          0.969347134592443,
          1.0010038425107846,
          1.0105232786580982,
          0.9745894094968441,
          1.0349433037195843,
          1.0378532521572645,
          1.046825611830515,
          1.0092462291341164,
          0.9826321443780591,
          0.941549664949595,
          0.9719860584865012,
          0.974771874533562,
          0.9928712543176944,
          1.0089695828082688,
          1.045730159310882,
          1.0003187264794728,
          1.0253265957557955,
          1.0025032960196067,
          0.9596019125312417,
          0.983874452852444,
          1.0809211250502087,
          0.9814658693945431,
          1.0160811708311175,
          1.0113175172506859,
          1.0253716574793448,
          1.034808660394437,
          0.9538567380909408,
          0.9628860615430668,
          1.0235837280987012,
          0.9905132594850525,
          1.0040981104131208,
          1.026265281913899,
          1.03303114300776,
          0.9575188836272865,
          0.9906971406874939,
          0.9915399681531454,
          1.0199189188334803,
          0.9667326909268852,
          1.0132044454049884,
          1.0148633841257024,
          1.0169939351025161,
          1.0206308902582286,
          0.991531671943271,
          1.0207152125666612,
          1.0295705227101661,
          0.9774638222772684,
          1.002866858460713,
          1.0261106513610432,
          0.9859544192864246,
          0.9873524800131402,
          0.9534161650976323,
          1.0079840678486087,
          1.0526695517000635,
          1.0441360867290128,
          1.0369471153272325,
          1.0342702215303199,
          1.0088640396595245,
          0.9984328548273858,
          1.0321996538916482,
          1.0550223710123874,
          1.0038721464990732,
          0.9839755052751302,
          1.0349693395523294,
          0.995885277485445,
          0.923241326669757,
          1.0448106985337886,
          1.047437063878232,
          0.9941114436759457,
          0.9635351292716232,
          1.0388608054542157,
          1.0085533121123713,
          0.959461753855364,
          1.0035440469744672,
          0.9881211714746905,
          1.021720027455928
         ],
         "y0": " ",
         "yaxis": "y"
        },
        {
         "alignmentgroup": "True",
         "boxpoints": "all",
         "hovertemplate": "generation=4<br>volume=%{y}<extra></extra>",
         "legendgroup": "4",
         "marker": {
          "color": "#ab63fa"
         },
         "name": "4",
         "notched": false,
         "offsetgroup": "4",
         "orientation": "v",
         "showlegend": true,
         "type": "box",
         "x0": " ",
         "xaxis": "x",
         "y": [
          0.7726702415163742,
          0.8241885718437671,
          0.7452243389947042,
          0.7307647853013942,
          0.7225893666150941,
          0.7947432535052172,
          0.8014791010273239,
          0.7877641288384442,
          0.729087055452143,
          0.733834836195315,
          0.7369494983701484,
          0.7583995912084941,
          0.7605730440597342,
          0.7485817582306844,
          0.770423419208543,
          0.7512876575551651,
          0.7824623755220942,
          0.7247185526186902,
          0.8203086243494793,
          0.7998403595703065,
          0.7019124555932327,
          0.765073572538918,
          0.7877446342214715,
          0.7226417014799529,
          0.7561612241175156,
          0.7325052464298342,
          0.7994622992808713,
          0.7796300347927028,
          0.7761944797550066,
          0.7305514632376409,
          0.790889877578001,
          0.7374061630149067,
          0.7776925525145136,
          0.7298007933104875,
          0.7737694464560473,
          0.7157390860115568,
          0.7190916112388697,
          0.8063710149528367,
          0.772813821832711,
          0.6994430194278638,
          0.6925489283184445,
          0.7253137013519824,
          0.7331308467515265,
          0.7720071454724283,
          0.7345192546835867,
          0.799556373629115,
          0.7739803484016986,
          0.7826476629082602,
          0.7598912989032368,
          0.749590882673223,
          0.7401008798898238,
          0.8098075912428356,
          0.8007253185244462,
          0.7624225685376879,
          0.7616212485147942,
          0.7571391901649501,
          0.7608884544064882,
          0.7624549787195063,
          0.7519842151521485,
          0.7944322645413163,
          0.7670213739622399,
          0.7295266637175889,
          0.7888081881899782,
          0.7994409307695213,
          0.7363519882408873,
          0.7660313503842692,
          0.815037602195298,
          0.7555378052800867,
          0.7614538978983204,
          0.723735418476935,
          0.7457926319024882,
          0.7469122333585314,
          0.7731262692979879,
          0.7299099064390641,
          0.7507210399440074,
          0.7474269559929146,
          0.794145396293493,
          0.7470078958375205,
          0.7565164072170912,
          0.7115324616961239,
          0.7412259971183673,
          0.7419651440359246,
          0.7975438981202896,
          0.7410816869878892,
          0.7423208479017028,
          0.7690180530148547,
          0.755036802176087,
          0.7790234076137517,
          0.8041676599510001,
          0.7660612511316414,
          0.7680772464327318,
          0.7666251849087906,
          0.7779892251570464,
          0.7888484954850132,
          0.7859935001945115,
          0.729035674151937,
          0.7901701494076675,
          0.7815820602044463,
          0.7556838661607708,
          0.7688569837288385
         ],
         "y0": " ",
         "yaxis": "y"
        },
        {
         "alignmentgroup": "True",
         "boxpoints": "all",
         "hovertemplate": "generation=5<br>volume=%{y}<extra></extra>",
         "legendgroup": "5",
         "marker": {
          "color": "#FFA15A"
         },
         "name": "5",
         "notched": false,
         "offsetgroup": "5",
         "orientation": "v",
         "showlegend": true,
         "type": "box",
         "x0": " ",
         "xaxis": "x",
         "y": [
          0.03928876143736482,
          0,
          0.0004424676236868168,
          0,
          0.018731323020972187,
          0.05569516472775865,
          0.05092773163852208,
          0.038122814255952917,
          0.02081329142885218,
          0,
          0,
          0.02283445634815302,
          0.02916974161802695,
          0,
          0.07690902038462795,
          0.031012645961243472,
          0.038980093278685804,
          0,
          0,
          0.057214075350198394,
          0.02053963063522242,
          0,
          0.03291057826003056,
          0.05197599832658395,
          0,
          0.01616635799954945,
          0.02311415404057378,
          0.009663556924268448,
          0.021248600521277576,
          0.04594029084483256,
          0.005738881782245148,
          0.0270750585655759,
          0,
          0.05227896734231944,
          0.06406884292868367,
          0,
          0.06751020959336827,
          0,
          0.022050043299746493,
          0,
          0,
          0.05704383170147616,
          0.04005512540504611,
          0.0008833043591345239,
          0.027218418627482505,
          0.04553029962858537,
          0.011650061248262414,
          0.024692926919757417,
          0,
          0,
          0,
          0,
          0.02462178293207731,
          0.022446744177224847,
          0,
          0,
          0.02934132698516142,
          0.011100554219417502,
          0.07977603589659593,
          0,
          0.05423107424690053,
          0,
          0.07042192022146321,
          0.007488486687773067,
          0.03418411847451013,
          0,
          0.03902924589234309,
          0.0654179030812113,
          0,
          0,
          0,
          0,
          0,
          0.005597618062185391,
          0,
          0.005560951097046838,
          0.004911177270158218,
          0.016142096916474287,
          0.06211163536245163,
          0.0533780075144489,
          0.020633495247644414,
          0,
          0.02324139966821591,
          0.011670582551972643,
          0,
          0,
          0.030062540206556587,
          0.00432768259560142,
          0,
          0.07275331045251603,
          0.010140364848949753,
          0.044650565756368624,
          0,
          0,
          0,
          0.0028698713770700345,
          0.014050870512645433,
          0.007367097309229145,
          0,
          0.03560237826971888
         ],
         "y0": " ",
         "yaxis": "y"
        }
       ],
       "layout": {
        "boxmode": "group",
        "height": 400,
        "legend": {
         "title": {
          "text": "generation"
         },
         "tracegroupgap": 0
        },
        "template": {
         "data": {
          "bar": [
           {
            "error_x": {
             "color": "#2a3f5f"
            },
            "error_y": {
             "color": "#2a3f5f"
            },
            "marker": {
             "line": {
              "color": "#E5ECF6",
              "width": 0.5
             }
            },
            "type": "bar"
           }
          ],
          "barpolar": [
           {
            "marker": {
             "line": {
              "color": "#E5ECF6",
              "width": 0.5
             }
            },
            "type": "barpolar"
           }
          ],
          "carpet": [
           {
            "aaxis": {
             "endlinecolor": "#2a3f5f",
             "gridcolor": "white",
             "linecolor": "white",
             "minorgridcolor": "white",
             "startlinecolor": "#2a3f5f"
            },
            "baxis": {
             "endlinecolor": "#2a3f5f",
             "gridcolor": "white",
             "linecolor": "white",
             "minorgridcolor": "white",
             "startlinecolor": "#2a3f5f"
            },
            "type": "carpet"
           }
          ],
          "choropleth": [
           {
            "colorbar": {
             "outlinewidth": 0,
             "ticks": ""
            },
            "type": "choropleth"
           }
          ],
          "contour": [
           {
            "colorbar": {
             "outlinewidth": 0,
             "ticks": ""
            },
            "colorscale": [
             [
              0,
              "#0d0887"
             ],
             [
              0.1111111111111111,
              "#46039f"
             ],
             [
              0.2222222222222222,
              "#7201a8"
             ],
             [
              0.3333333333333333,
              "#9c179e"
             ],
             [
              0.4444444444444444,
              "#bd3786"
             ],
             [
              0.5555555555555556,
              "#d8576b"
             ],
             [
              0.6666666666666666,
              "#ed7953"
             ],
             [
              0.7777777777777778,
              "#fb9f3a"
             ],
             [
              0.8888888888888888,
              "#fdca26"
             ],
             [
              1,
              "#f0f921"
             ]
            ],
            "type": "contour"
           }
          ],
          "contourcarpet": [
           {
            "colorbar": {
             "outlinewidth": 0,
             "ticks": ""
            },
            "type": "contourcarpet"
           }
          ],
          "heatmap": [
           {
            "colorbar": {
             "outlinewidth": 0,
             "ticks": ""
            },
            "colorscale": [
             [
              0,
              "#0d0887"
             ],
             [
              0.1111111111111111,
              "#46039f"
             ],
             [
              0.2222222222222222,
              "#7201a8"
             ],
             [
              0.3333333333333333,
              "#9c179e"
             ],
             [
              0.4444444444444444,
              "#bd3786"
             ],
             [
              0.5555555555555556,
              "#d8576b"
             ],
             [
              0.6666666666666666,
              "#ed7953"
             ],
             [
              0.7777777777777778,
              "#fb9f3a"
             ],
             [
              0.8888888888888888,
              "#fdca26"
             ],
             [
              1,
              "#f0f921"
             ]
            ],
            "type": "heatmap"
           }
          ],
          "heatmapgl": [
           {
            "colorbar": {
             "outlinewidth": 0,
             "ticks": ""
            },
            "colorscale": [
             [
              0,
              "#0d0887"
             ],
             [
              0.1111111111111111,
              "#46039f"
             ],
             [
              0.2222222222222222,
              "#7201a8"
             ],
             [
              0.3333333333333333,
              "#9c179e"
             ],
             [
              0.4444444444444444,
              "#bd3786"
             ],
             [
              0.5555555555555556,
              "#d8576b"
             ],
             [
              0.6666666666666666,
              "#ed7953"
             ],
             [
              0.7777777777777778,
              "#fb9f3a"
             ],
             [
              0.8888888888888888,
              "#fdca26"
             ],
             [
              1,
              "#f0f921"
             ]
            ],
            "type": "heatmapgl"
           }
          ],
          "histogram": [
           {
            "marker": {
             "colorbar": {
              "outlinewidth": 0,
              "ticks": ""
             }
            },
            "type": "histogram"
           }
          ],
          "histogram2d": [
           {
            "colorbar": {
             "outlinewidth": 0,
             "ticks": ""
            },
            "colorscale": [
             [
              0,
              "#0d0887"
             ],
             [
              0.1111111111111111,
              "#46039f"
             ],
             [
              0.2222222222222222,
              "#7201a8"
             ],
             [
              0.3333333333333333,
              "#9c179e"
             ],
             [
              0.4444444444444444,
              "#bd3786"
             ],
             [
              0.5555555555555556,
              "#d8576b"
             ],
             [
              0.6666666666666666,
              "#ed7953"
             ],
             [
              0.7777777777777778,
              "#fb9f3a"
             ],
             [
              0.8888888888888888,
              "#fdca26"
             ],
             [
              1,
              "#f0f921"
             ]
            ],
            "type": "histogram2d"
           }
          ],
          "histogram2dcontour": [
           {
            "colorbar": {
             "outlinewidth": 0,
             "ticks": ""
            },
            "colorscale": [
             [
              0,
              "#0d0887"
             ],
             [
              0.1111111111111111,
              "#46039f"
             ],
             [
              0.2222222222222222,
              "#7201a8"
             ],
             [
              0.3333333333333333,
              "#9c179e"
             ],
             [
              0.4444444444444444,
              "#bd3786"
             ],
             [
              0.5555555555555556,
              "#d8576b"
             ],
             [
              0.6666666666666666,
              "#ed7953"
             ],
             [
              0.7777777777777778,
              "#fb9f3a"
             ],
             [
              0.8888888888888888,
              "#fdca26"
             ],
             [
              1,
              "#f0f921"
             ]
            ],
            "type": "histogram2dcontour"
           }
          ],
          "mesh3d": [
           {
            "colorbar": {
             "outlinewidth": 0,
             "ticks": ""
            },
            "type": "mesh3d"
           }
          ],
          "parcoords": [
           {
            "line": {
             "colorbar": {
              "outlinewidth": 0,
              "ticks": ""
             }
            },
            "type": "parcoords"
           }
          ],
          "pie": [
           {
            "automargin": true,
            "type": "pie"
           }
          ],
          "scatter": [
           {
            "marker": {
             "colorbar": {
              "outlinewidth": 0,
              "ticks": ""
             }
            },
            "type": "scatter"
           }
          ],
          "scatter3d": [
           {
            "line": {
             "colorbar": {
              "outlinewidth": 0,
              "ticks": ""
             }
            },
            "marker": {
             "colorbar": {
              "outlinewidth": 0,
              "ticks": ""
             }
            },
            "type": "scatter3d"
           }
          ],
          "scattercarpet": [
           {
            "marker": {
             "colorbar": {
              "outlinewidth": 0,
              "ticks": ""
             }
            },
            "type": "scattercarpet"
           }
          ],
          "scattergeo": [
           {
            "marker": {
             "colorbar": {
              "outlinewidth": 0,
              "ticks": ""
             }
            },
            "type": "scattergeo"
           }
          ],
          "scattergl": [
           {
            "marker": {
             "colorbar": {
              "outlinewidth": 0,
              "ticks": ""
             }
            },
            "type": "scattergl"
           }
          ],
          "scattermapbox": [
           {
            "marker": {
             "colorbar": {
              "outlinewidth": 0,
              "ticks": ""
             }
            },
            "type": "scattermapbox"
           }
          ],
          "scatterpolar": [
           {
            "marker": {
             "colorbar": {
              "outlinewidth": 0,
              "ticks": ""
             }
            },
            "type": "scatterpolar"
           }
          ],
          "scatterpolargl": [
           {
            "marker": {
             "colorbar": {
              "outlinewidth": 0,
              "ticks": ""
             }
            },
            "type": "scatterpolargl"
           }
          ],
          "scatterternary": [
           {
            "marker": {
             "colorbar": {
              "outlinewidth": 0,
              "ticks": ""
             }
            },
            "type": "scatterternary"
           }
          ],
          "surface": [
           {
            "colorbar": {
             "outlinewidth": 0,
             "ticks": ""
            },
            "colorscale": [
             [
              0,
              "#0d0887"
             ],
             [
              0.1111111111111111,
              "#46039f"
             ],
             [
              0.2222222222222222,
              "#7201a8"
             ],
             [
              0.3333333333333333,
              "#9c179e"
             ],
             [
              0.4444444444444444,
              "#bd3786"
             ],
             [
              0.5555555555555556,
              "#d8576b"
             ],
             [
              0.6666666666666666,
              "#ed7953"
             ],
             [
              0.7777777777777778,
              "#fb9f3a"
             ],
             [
              0.8888888888888888,
              "#fdca26"
             ],
             [
              1,
              "#f0f921"
             ]
            ],
            "type": "surface"
           }
          ],
          "table": [
           {
            "cells": {
             "fill": {
              "color": "#EBF0F8"
             },
             "line": {
              "color": "white"
             }
            },
            "header": {
             "fill": {
              "color": "#C8D4E3"
             },
             "line": {
              "color": "white"
             }
            },
            "type": "table"
           }
          ]
         },
         "layout": {
          "annotationdefaults": {
           "arrowcolor": "#2a3f5f",
           "arrowhead": 0,
           "arrowwidth": 1
          },
          "autotypenumbers": "strict",
          "coloraxis": {
           "colorbar": {
            "outlinewidth": 0,
            "ticks": ""
           }
          },
          "colorscale": {
           "diverging": [
            [
             0,
             "#8e0152"
            ],
            [
             0.1,
             "#c51b7d"
            ],
            [
             0.2,
             "#de77ae"
            ],
            [
             0.3,
             "#f1b6da"
            ],
            [
             0.4,
             "#fde0ef"
            ],
            [
             0.5,
             "#f7f7f7"
            ],
            [
             0.6,
             "#e6f5d0"
            ],
            [
             0.7,
             "#b8e186"
            ],
            [
             0.8,
             "#7fbc41"
            ],
            [
             0.9,
             "#4d9221"
            ],
            [
             1,
             "#276419"
            ]
           ],
           "sequential": [
            [
             0,
             "#0d0887"
            ],
            [
             0.1111111111111111,
             "#46039f"
            ],
            [
             0.2222222222222222,
             "#7201a8"
            ],
            [
             0.3333333333333333,
             "#9c179e"
            ],
            [
             0.4444444444444444,
             "#bd3786"
            ],
            [
             0.5555555555555556,
             "#d8576b"
            ],
            [
             0.6666666666666666,
             "#ed7953"
            ],
            [
             0.7777777777777778,
             "#fb9f3a"
            ],
            [
             0.8888888888888888,
             "#fdca26"
            ],
            [
             1,
             "#f0f921"
            ]
           ],
           "sequentialminus": [
            [
             0,
             "#0d0887"
            ],
            [
             0.1111111111111111,
             "#46039f"
            ],
            [
             0.2222222222222222,
             "#7201a8"
            ],
            [
             0.3333333333333333,
             "#9c179e"
            ],
            [
             0.4444444444444444,
             "#bd3786"
            ],
            [
             0.5555555555555556,
             "#d8576b"
            ],
            [
             0.6666666666666666,
             "#ed7953"
            ],
            [
             0.7777777777777778,
             "#fb9f3a"
            ],
            [
             0.8888888888888888,
             "#fdca26"
            ],
            [
             1,
             "#f0f921"
            ]
           ]
          },
          "colorway": [
           "#636efa",
           "#EF553B",
           "#00cc96",
           "#ab63fa",
           "#FFA15A",
           "#19d3f3",
           "#FF6692",
           "#B6E880",
           "#FF97FF",
           "#FECB52"
          ],
          "font": {
           "color": "#2a3f5f"
          },
          "geo": {
           "bgcolor": "white",
           "lakecolor": "white",
           "landcolor": "#E5ECF6",
           "showlakes": true,
           "showland": true,
           "subunitcolor": "white"
          },
          "hoverlabel": {
           "align": "left"
          },
          "hovermode": "closest",
          "mapbox": {
           "style": "light"
          },
          "paper_bgcolor": "white",
          "plot_bgcolor": "#E5ECF6",
          "polar": {
           "angularaxis": {
            "gridcolor": "white",
            "linecolor": "white",
            "ticks": ""
           },
           "bgcolor": "#E5ECF6",
           "radialaxis": {
            "gridcolor": "white",
            "linecolor": "white",
            "ticks": ""
           }
          },
          "scene": {
           "xaxis": {
            "backgroundcolor": "#E5ECF6",
            "gridcolor": "white",
            "gridwidth": 2,
            "linecolor": "white",
            "showbackground": true,
            "ticks": "",
            "zerolinecolor": "white"
           },
           "yaxis": {
            "backgroundcolor": "#E5ECF6",
            "gridcolor": "white",
            "gridwidth": 2,
            "linecolor": "white",
            "showbackground": true,
            "ticks": "",
            "zerolinecolor": "white"
           },
           "zaxis": {
            "backgroundcolor": "#E5ECF6",
            "gridcolor": "white",
            "gridwidth": 2,
            "linecolor": "white",
            "showbackground": true,
            "ticks": "",
            "zerolinecolor": "white"
           }
          },
          "shapedefaults": {
           "line": {
            "color": "#2a3f5f"
           }
          },
          "ternary": {
           "aaxis": {
            "gridcolor": "white",
            "linecolor": "white",
            "ticks": ""
           },
           "baxis": {
            "gridcolor": "white",
            "linecolor": "white",
            "ticks": ""
           },
           "bgcolor": "#E5ECF6",
           "caxis": {
            "gridcolor": "white",
            "linecolor": "white",
            "ticks": ""
           }
          },
          "title": {
           "x": 0.05
          },
          "xaxis": {
           "automargin": true,
           "gridcolor": "white",
           "linecolor": "white",
           "ticks": "",
           "title": {
            "standoff": 15
           },
           "zerolinecolor": "white",
           "zerolinewidth": 2
          },
          "yaxis": {
           "automargin": true,
           "gridcolor": "white",
           "linecolor": "white",
           "ticks": "",
           "title": {
            "standoff": 15
           },
           "zerolinecolor": "white",
           "zerolinewidth": 2
          }
         }
        },
        "title": {
         "text": "Влияние недели жизни на пополнения"
        },
        "width": 700,
        "xaxis": {
         "anchor": "y",
         "domain": [
          0,
          1
         ]
        },
        "yaxis": {
         "anchor": "x",
         "domain": [
          0,
          1
         ],
         "title": {
          "text": "volume"
         }
        }
       }
      },
      "text/html": [
       "<div>                            <div id=\"fa508c29-3cb0-403f-a3e7-11893c48244b\" class=\"plotly-graph-div\" style=\"height:400px; width:700px;\"></div>            <script type=\"text/javascript\">                require([\"plotly\"], function(Plotly) {                    window.PLOTLYENV=window.PLOTLYENV || {};                                    if (document.getElementById(\"fa508c29-3cb0-403f-a3e7-11893c48244b\")) {                    Plotly.newPlot(                        \"fa508c29-3cb0-403f-a3e7-11893c48244b\",                        [{\"alignmentgroup\": \"True\", \"boxpoints\": \"all\", \"hovertemplate\": \"generation=1<br>volume=%{y}<extra></extra>\", \"legendgroup\": \"1\", \"marker\": {\"color\": \"#636efa\"}, \"name\": \"1\", \"notched\": false, \"offsetgroup\": \"1\", \"orientation\": \"v\", \"showlegend\": true, \"type\": \"box\", \"x0\": \" \", \"xaxis\": \"x\", \"y\": [0.0, 0.0, 0.010892099083406007, 0.0, 0.0, 0.0, 0.025830220739950095, 0.0, 0.010720386905228751, 0.0, 0.046119921797648, 0.012972886773976199, 0.0, 0.0, 0.020969714031807224, 0.04585336169477866, 0.044379218090661476, 0.0053468061684144655, 0.015963865664178387, 0.0, 0.0, 0.03912257621203474, 0.0, 0.025756015146570242, 0.0, 0.0, 0.019103635952906414, 0.0, 0.061498869479303074, 0.0, 0.0, 0.002804591587030833, 0.0, 0.046272746730476204, 0.0, 0.008038838110441818, 0.001329608056596919, 0.06508192960161577, 0.05076242603527564, 0.031220668162726457, 0.016360579935353267, 0.053436687876645975, 0.0194636276870212, 0.03491662028190411, 0.0317414672292341, 0.011431380409128663, 0.0, 0.029738763461977933, 0.0, 0.036953694546876734, 0.0, 0.019393474035113777, 0.0, 0.0, 0.0045878066965829405, 0.0, 0.0, 0.0026539226858651073, 0.005892657175832681, 0.0, 0.0, 0.0, 0.05466079939277582, 0.011453082413632668, 0.054905327686073646, 0.03148289994066169, 0.0229662832718246, 0.055225828060644404, 0.08631317350277425, 0.02450197431255356, 0.01180054407493452, 0.05578981079089937, 0.04066486049759082, 0.0, 0.0, 0.020144313940323455, 0.0, 0.07115959418436756, 0.0, 0.014140342938575991, 0.014457822186392612, 0.041464527041091555, 0.0425853254162953, 0.06641592428382517, 0.03789730532730683, 0.004864028797678837, 0.0, 0.009015511086931795, 0.0337352412734556, 0.0, 0.0, 0.002616944269525632, 0.0, 0.0, 0.058452304894219737, 0.0, 0.06532893384973568, 0.051856381185996024, 0.008440442801802134, 0.007183028723810829], \"y0\": \" \", \"yaxis\": \"y\"}, {\"alignmentgroup\": \"True\", \"boxpoints\": \"all\", \"hovertemplate\": \"generation=2<br>volume=%{y}<extra></extra>\", \"legendgroup\": \"2\", \"marker\": {\"color\": \"#EF553B\"}, \"name\": \"2\", \"notched\": false, \"offsetgroup\": \"2\", \"orientation\": \"v\", \"showlegend\": true, \"type\": \"box\", \"x0\": \" \", \"xaxis\": \"x\", \"y\": [0.7433232326429872, 0.7181196017849273, 0.7501129109186735, 0.7594821889739312, 0.727465229375124, 0.7422367285281536, 0.7580894527214936, 0.7981851809322086, 0.6906496824436125, 0.7693547340041862, 0.7819044346935818, 0.7961787922459581, 0.7654345554369477, 0.7347094858985785, 0.7998757610729234, 0.7841709252958327, 0.7275042183469164, 0.7557036612130336, 0.726405918141206, 0.7812090712465282, 0.7735199614656765, 0.7667481086210298, 0.7655489313897096, 0.7732754404996002, 0.7540775366259774, 0.7963980629273985, 0.7460892443943391, 0.7770015341215323, 0.740320448154599, 0.7519463340150586, 0.7468879881710054, 0.7565880157798552, 0.7630330663227307, 0.694622687852194, 0.8050627819273766, 0.791498624426426, 0.7861961620049486, 0.7946244123971702, 0.7955917515507156, 0.7322975166386453, 0.7216534758104266, 0.7165192910611269, 0.738061140172843, 0.7738274893554757, 0.7845013187576193, 0.7365427717555596, 0.8081151288924554, 0.797606868432213, 0.7294637902541375, 0.7774997865830677, 0.7688085112829236, 0.7754846485040647, 0.7647515611218605, 0.7516207530937469, 0.7605564207690909, 0.7543497449054617, 0.7394739005666695, 0.7872017920471496, 0.7415500162055396, 0.7451498975573124, 0.7195423659024227, 0.7844325640621596, 0.7616795340843184, 0.7187774003678108, 0.7783731735464459, 0.7486641048294177, 0.7362411174941805, 0.7520707903802339, 0.7579992886613243, 0.7607666384506593, 0.7880445426469449, 0.7518909743257228, 0.7693028187863494, 0.7820433013073952, 0.7844090869918854, 0.7674101285009655, 0.7762529145340232, 0.7612525374182381, 0.7394089719261943, 0.7238748690250628, 0.750579319037476, 0.7329675844217088, 0.7337591487914035, 0.7272238223868903, 0.7922510239097369, 0.7240955293719488, 0.7413533974523746, 0.7891041492012291, 0.7370592225412221, 0.7622700037066471, 0.7934844394425634, 0.7518868333927184, 0.7535120200692472, 0.7129040937764112, 0.7418647763196636, 0.7773541156971346, 0.7523503033571045, 0.8046815487462536, 0.7940944177862375, 0.7853047289371803], \"y0\": \" \", \"yaxis\": \"y\"}, {\"alignmentgroup\": \"True\", \"boxpoints\": \"all\", \"hovertemplate\": \"generation=3<br>volume=%{y}<extra></extra>\", \"legendgroup\": \"3\", \"marker\": {\"color\": \"#00cc96\"}, \"name\": \"3\", \"notched\": false, \"offsetgroup\": \"3\", \"orientation\": \"v\", \"showlegend\": true, \"type\": \"box\", \"x0\": \" \", \"xaxis\": \"x\", \"y\": [0.9774047425972967, 0.9709582392722839, 0.9839595505499812, 0.9977784350952693, 1.007942793636198, 0.9874412198035674, 1.0480474754320723, 0.991755021269524, 1.0049328147194785, 1.0077577698743136, 1.0417764390288273, 1.109164692256255, 1.019814773830882, 1.004879337557308, 0.9904779251522807, 1.0095914424637973, 1.0658848878305216, 0.9837656731651222, 0.9428291745012413, 1.0080069015903763, 1.016090217104712, 1.0633073590117976, 1.0274339092827964, 0.9813069560659556, 1.07682068832672, 0.969347134592443, 1.0010038425107846, 1.0105232786580982, 0.9745894094968441, 1.0349433037195843, 1.0378532521572645, 1.046825611830515, 1.0092462291341164, 0.9826321443780591, 0.941549664949595, 0.9719860584865012, 0.974771874533562, 0.9928712543176944, 1.0089695828082688, 1.045730159310882, 1.0003187264794728, 1.0253265957557955, 1.0025032960196067, 0.9596019125312417, 0.983874452852444, 1.0809211250502087, 0.9814658693945431, 1.0160811708311175, 1.0113175172506859, 1.0253716574793448, 1.034808660394437, 0.9538567380909408, 0.9628860615430668, 1.0235837280987012, 0.9905132594850525, 1.0040981104131208, 1.026265281913899, 1.03303114300776, 0.9575188836272865, 0.9906971406874939, 0.9915399681531454, 1.0199189188334803, 0.9667326909268852, 1.0132044454049884, 1.0148633841257024, 1.0169939351025161, 1.0206308902582286, 0.991531671943271, 1.0207152125666612, 1.0295705227101661, 0.9774638222772684, 1.002866858460713, 1.0261106513610432, 0.9859544192864246, 0.9873524800131402, 0.9534161650976323, 1.0079840678486087, 1.0526695517000635, 1.0441360867290128, 1.0369471153272325, 1.0342702215303199, 1.0088640396595245, 0.9984328548273858, 1.0321996538916482, 1.0550223710123874, 1.0038721464990732, 0.9839755052751302, 1.0349693395523294, 0.995885277485445, 0.923241326669757, 1.0448106985337886, 1.047437063878232, 0.9941114436759457, 0.9635351292716232, 1.0388608054542157, 1.0085533121123713, 0.959461753855364, 1.0035440469744672, 0.9881211714746905, 1.021720027455928], \"y0\": \" \", \"yaxis\": \"y\"}, {\"alignmentgroup\": \"True\", \"boxpoints\": \"all\", \"hovertemplate\": \"generation=4<br>volume=%{y}<extra></extra>\", \"legendgroup\": \"4\", \"marker\": {\"color\": \"#ab63fa\"}, \"name\": \"4\", \"notched\": false, \"offsetgroup\": \"4\", \"orientation\": \"v\", \"showlegend\": true, \"type\": \"box\", \"x0\": \" \", \"xaxis\": \"x\", \"y\": [0.7726702415163742, 0.8241885718437671, 0.7452243389947042, 0.7307647853013942, 0.7225893666150941, 0.7947432535052172, 0.8014791010273239, 0.7877641288384442, 0.729087055452143, 0.733834836195315, 0.7369494983701484, 0.7583995912084941, 0.7605730440597342, 0.7485817582306844, 0.770423419208543, 0.7512876575551651, 0.7824623755220942, 0.7247185526186902, 0.8203086243494793, 0.7998403595703065, 0.7019124555932327, 0.765073572538918, 0.7877446342214715, 0.7226417014799529, 0.7561612241175156, 0.7325052464298342, 0.7994622992808713, 0.7796300347927028, 0.7761944797550066, 0.7305514632376409, 0.790889877578001, 0.7374061630149067, 0.7776925525145136, 0.7298007933104875, 0.7737694464560473, 0.7157390860115568, 0.7190916112388697, 0.8063710149528367, 0.772813821832711, 0.6994430194278638, 0.6925489283184445, 0.7253137013519824, 0.7331308467515265, 0.7720071454724283, 0.7345192546835867, 0.799556373629115, 0.7739803484016986, 0.7826476629082602, 0.7598912989032368, 0.749590882673223, 0.7401008798898238, 0.8098075912428356, 0.8007253185244462, 0.7624225685376879, 0.7616212485147942, 0.7571391901649501, 0.7608884544064882, 0.7624549787195063, 0.7519842151521485, 0.7944322645413163, 0.7670213739622399, 0.7295266637175889, 0.7888081881899782, 0.7994409307695213, 0.7363519882408873, 0.7660313503842692, 0.815037602195298, 0.7555378052800867, 0.7614538978983204, 0.723735418476935, 0.7457926319024882, 0.7469122333585314, 0.7731262692979879, 0.7299099064390641, 0.7507210399440074, 0.7474269559929146, 0.794145396293493, 0.7470078958375205, 0.7565164072170912, 0.7115324616961239, 0.7412259971183673, 0.7419651440359246, 0.7975438981202896, 0.7410816869878892, 0.7423208479017028, 0.7690180530148547, 0.755036802176087, 0.7790234076137517, 0.8041676599510001, 0.7660612511316414, 0.7680772464327318, 0.7666251849087906, 0.7779892251570464, 0.7888484954850132, 0.7859935001945115, 0.729035674151937, 0.7901701494076675, 0.7815820602044463, 0.7556838661607708, 0.7688569837288385], \"y0\": \" \", \"yaxis\": \"y\"}, {\"alignmentgroup\": \"True\", \"boxpoints\": \"all\", \"hovertemplate\": \"generation=5<br>volume=%{y}<extra></extra>\", \"legendgroup\": \"5\", \"marker\": {\"color\": \"#FFA15A\"}, \"name\": \"5\", \"notched\": false, \"offsetgroup\": \"5\", \"orientation\": \"v\", \"showlegend\": true, \"type\": \"box\", \"x0\": \" \", \"xaxis\": \"x\", \"y\": [0.03928876143736482, 0.0, 0.0004424676236868168, 0.0, 0.018731323020972187, 0.05569516472775865, 0.05092773163852208, 0.038122814255952917, 0.02081329142885218, 0.0, 0.0, 0.02283445634815302, 0.02916974161802695, 0.0, 0.07690902038462795, 0.031012645961243472, 0.038980093278685804, 0.0, 0.0, 0.057214075350198394, 0.02053963063522242, 0.0, 0.03291057826003056, 0.05197599832658395, 0.0, 0.01616635799954945, 0.02311415404057378, 0.009663556924268448, 0.021248600521277576, 0.04594029084483256, 0.005738881782245148, 0.0270750585655759, 0.0, 0.05227896734231944, 0.06406884292868367, 0.0, 0.06751020959336827, 0.0, 0.022050043299746493, 0.0, 0.0, 0.05704383170147616, 0.04005512540504611, 0.0008833043591345239, 0.027218418627482505, 0.04553029962858537, 0.011650061248262414, 0.024692926919757417, 0.0, 0.0, 0.0, 0.0, 0.02462178293207731, 0.022446744177224847, 0.0, 0.0, 0.02934132698516142, 0.011100554219417502, 0.07977603589659593, 0.0, 0.05423107424690053, 0.0, 0.07042192022146321, 0.007488486687773067, 0.03418411847451013, 0.0, 0.03902924589234309, 0.0654179030812113, 0.0, 0.0, 0.0, 0.0, 0.0, 0.005597618062185391, 0.0, 0.005560951097046838, 0.004911177270158218, 0.016142096916474287, 0.06211163536245163, 0.0533780075144489, 0.020633495247644414, 0.0, 0.02324139966821591, 0.011670582551972643, 0.0, 0.0, 0.030062540206556587, 0.00432768259560142, 0.0, 0.07275331045251603, 0.010140364848949753, 0.044650565756368624, 0.0, 0.0, 0.0, 0.0028698713770700345, 0.014050870512645433, 0.007367097309229145, 0.0, 0.03560237826971888], \"y0\": \" \", \"yaxis\": \"y\"}],                        {\"boxmode\": \"group\", \"height\": 400, \"legend\": {\"title\": {\"text\": \"generation\"}, \"tracegroupgap\": 0}, \"template\": {\"data\": {\"bar\": [{\"error_x\": {\"color\": \"#2a3f5f\"}, \"error_y\": {\"color\": \"#2a3f5f\"}, \"marker\": {\"line\": {\"color\": \"#E5ECF6\", \"width\": 0.5}}, \"type\": \"bar\"}], \"barpolar\": [{\"marker\": {\"line\": {\"color\": \"#E5ECF6\", \"width\": 0.5}}, \"type\": \"barpolar\"}], \"carpet\": [{\"aaxis\": {\"endlinecolor\": \"#2a3f5f\", \"gridcolor\": \"white\", \"linecolor\": \"white\", \"minorgridcolor\": \"white\", \"startlinecolor\": \"#2a3f5f\"}, \"baxis\": {\"endlinecolor\": \"#2a3f5f\", \"gridcolor\": \"white\", \"linecolor\": \"white\", \"minorgridcolor\": \"white\", \"startlinecolor\": \"#2a3f5f\"}, \"type\": \"carpet\"}], \"choropleth\": [{\"colorbar\": {\"outlinewidth\": 0, \"ticks\": \"\"}, \"type\": \"choropleth\"}], \"contour\": [{\"colorbar\": {\"outlinewidth\": 0, \"ticks\": \"\"}, \"colorscale\": [[0.0, \"#0d0887\"], [0.1111111111111111, \"#46039f\"], [0.2222222222222222, \"#7201a8\"], [0.3333333333333333, \"#9c179e\"], [0.4444444444444444, \"#bd3786\"], [0.5555555555555556, \"#d8576b\"], [0.6666666666666666, \"#ed7953\"], [0.7777777777777778, \"#fb9f3a\"], [0.8888888888888888, \"#fdca26\"], [1.0, \"#f0f921\"]], \"type\": \"contour\"}], \"contourcarpet\": [{\"colorbar\": {\"outlinewidth\": 0, \"ticks\": \"\"}, \"type\": \"contourcarpet\"}], \"heatmap\": [{\"colorbar\": {\"outlinewidth\": 0, \"ticks\": \"\"}, \"colorscale\": [[0.0, \"#0d0887\"], [0.1111111111111111, \"#46039f\"], [0.2222222222222222, \"#7201a8\"], [0.3333333333333333, \"#9c179e\"], [0.4444444444444444, \"#bd3786\"], [0.5555555555555556, \"#d8576b\"], [0.6666666666666666, \"#ed7953\"], [0.7777777777777778, \"#fb9f3a\"], [0.8888888888888888, \"#fdca26\"], [1.0, \"#f0f921\"]], \"type\": \"heatmap\"}], \"heatmapgl\": [{\"colorbar\": {\"outlinewidth\": 0, \"ticks\": \"\"}, \"colorscale\": [[0.0, \"#0d0887\"], [0.1111111111111111, \"#46039f\"], [0.2222222222222222, \"#7201a8\"], [0.3333333333333333, \"#9c179e\"], [0.4444444444444444, \"#bd3786\"], [0.5555555555555556, \"#d8576b\"], [0.6666666666666666, \"#ed7953\"], [0.7777777777777778, \"#fb9f3a\"], [0.8888888888888888, \"#fdca26\"], [1.0, \"#f0f921\"]], \"type\": \"heatmapgl\"}], \"histogram\": [{\"marker\": {\"colorbar\": {\"outlinewidth\": 0, \"ticks\": \"\"}}, \"type\": \"histogram\"}], \"histogram2d\": [{\"colorbar\": {\"outlinewidth\": 0, \"ticks\": \"\"}, \"colorscale\": [[0.0, \"#0d0887\"], [0.1111111111111111, \"#46039f\"], [0.2222222222222222, \"#7201a8\"], [0.3333333333333333, \"#9c179e\"], [0.4444444444444444, \"#bd3786\"], [0.5555555555555556, \"#d8576b\"], [0.6666666666666666, \"#ed7953\"], [0.7777777777777778, \"#fb9f3a\"], [0.8888888888888888, \"#fdca26\"], [1.0, \"#f0f921\"]], \"type\": \"histogram2d\"}], \"histogram2dcontour\": [{\"colorbar\": {\"outlinewidth\": 0, \"ticks\": \"\"}, \"colorscale\": [[0.0, \"#0d0887\"], [0.1111111111111111, \"#46039f\"], [0.2222222222222222, \"#7201a8\"], [0.3333333333333333, \"#9c179e\"], [0.4444444444444444, \"#bd3786\"], [0.5555555555555556, \"#d8576b\"], [0.6666666666666666, \"#ed7953\"], [0.7777777777777778, \"#fb9f3a\"], [0.8888888888888888, \"#fdca26\"], [1.0, \"#f0f921\"]], \"type\": \"histogram2dcontour\"}], \"mesh3d\": [{\"colorbar\": {\"outlinewidth\": 0, \"ticks\": \"\"}, \"type\": \"mesh3d\"}], \"parcoords\": [{\"line\": {\"colorbar\": {\"outlinewidth\": 0, \"ticks\": \"\"}}, \"type\": \"parcoords\"}], \"pie\": [{\"automargin\": true, \"type\": \"pie\"}], \"scatter\": [{\"marker\": {\"colorbar\": {\"outlinewidth\": 0, \"ticks\": \"\"}}, \"type\": \"scatter\"}], \"scatter3d\": [{\"line\": {\"colorbar\": {\"outlinewidth\": 0, \"ticks\": \"\"}}, \"marker\": {\"colorbar\": {\"outlinewidth\": 0, \"ticks\": \"\"}}, \"type\": \"scatter3d\"}], \"scattercarpet\": [{\"marker\": {\"colorbar\": {\"outlinewidth\": 0, \"ticks\": \"\"}}, \"type\": \"scattercarpet\"}], \"scattergeo\": [{\"marker\": {\"colorbar\": {\"outlinewidth\": 0, \"ticks\": \"\"}}, \"type\": \"scattergeo\"}], \"scattergl\": [{\"marker\": {\"colorbar\": {\"outlinewidth\": 0, \"ticks\": \"\"}}, \"type\": \"scattergl\"}], \"scattermapbox\": [{\"marker\": {\"colorbar\": {\"outlinewidth\": 0, \"ticks\": \"\"}}, \"type\": \"scattermapbox\"}], \"scatterpolar\": [{\"marker\": {\"colorbar\": {\"outlinewidth\": 0, \"ticks\": \"\"}}, \"type\": \"scatterpolar\"}], \"scatterpolargl\": [{\"marker\": {\"colorbar\": {\"outlinewidth\": 0, \"ticks\": \"\"}}, \"type\": \"scatterpolargl\"}], \"scatterternary\": [{\"marker\": {\"colorbar\": {\"outlinewidth\": 0, \"ticks\": \"\"}}, \"type\": \"scatterternary\"}], \"surface\": [{\"colorbar\": {\"outlinewidth\": 0, \"ticks\": \"\"}, \"colorscale\": [[0.0, \"#0d0887\"], [0.1111111111111111, \"#46039f\"], [0.2222222222222222, \"#7201a8\"], [0.3333333333333333, \"#9c179e\"], [0.4444444444444444, \"#bd3786\"], [0.5555555555555556, \"#d8576b\"], [0.6666666666666666, \"#ed7953\"], [0.7777777777777778, \"#fb9f3a\"], [0.8888888888888888, \"#fdca26\"], [1.0, \"#f0f921\"]], \"type\": \"surface\"}], \"table\": [{\"cells\": {\"fill\": {\"color\": \"#EBF0F8\"}, \"line\": {\"color\": \"white\"}}, \"header\": {\"fill\": {\"color\": \"#C8D4E3\"}, \"line\": {\"color\": \"white\"}}, \"type\": \"table\"}]}, \"layout\": {\"annotationdefaults\": {\"arrowcolor\": \"#2a3f5f\", \"arrowhead\": 0, \"arrowwidth\": 1}, \"autotypenumbers\": \"strict\", \"coloraxis\": {\"colorbar\": {\"outlinewidth\": 0, \"ticks\": \"\"}}, \"colorscale\": {\"diverging\": [[0, \"#8e0152\"], [0.1, \"#c51b7d\"], [0.2, \"#de77ae\"], [0.3, \"#f1b6da\"], [0.4, \"#fde0ef\"], [0.5, \"#f7f7f7\"], [0.6, \"#e6f5d0\"], [0.7, \"#b8e186\"], [0.8, \"#7fbc41\"], [0.9, \"#4d9221\"], [1, \"#276419\"]], \"sequential\": [[0.0, \"#0d0887\"], [0.1111111111111111, \"#46039f\"], [0.2222222222222222, \"#7201a8\"], [0.3333333333333333, \"#9c179e\"], [0.4444444444444444, \"#bd3786\"], [0.5555555555555556, \"#d8576b\"], [0.6666666666666666, \"#ed7953\"], [0.7777777777777778, \"#fb9f3a\"], [0.8888888888888888, \"#fdca26\"], [1.0, \"#f0f921\"]], \"sequentialminus\": [[0.0, \"#0d0887\"], [0.1111111111111111, \"#46039f\"], [0.2222222222222222, \"#7201a8\"], [0.3333333333333333, \"#9c179e\"], [0.4444444444444444, \"#bd3786\"], [0.5555555555555556, \"#d8576b\"], [0.6666666666666666, \"#ed7953\"], [0.7777777777777778, \"#fb9f3a\"], [0.8888888888888888, \"#fdca26\"], [1.0, \"#f0f921\"]]}, \"colorway\": [\"#636efa\", \"#EF553B\", \"#00cc96\", \"#ab63fa\", \"#FFA15A\", \"#19d3f3\", \"#FF6692\", \"#B6E880\", \"#FF97FF\", \"#FECB52\"], \"font\": {\"color\": \"#2a3f5f\"}, \"geo\": {\"bgcolor\": \"white\", \"lakecolor\": \"white\", \"landcolor\": \"#E5ECF6\", \"showlakes\": true, \"showland\": true, \"subunitcolor\": \"white\"}, \"hoverlabel\": {\"align\": \"left\"}, \"hovermode\": \"closest\", \"mapbox\": {\"style\": \"light\"}, \"paper_bgcolor\": \"white\", \"plot_bgcolor\": \"#E5ECF6\", \"polar\": {\"angularaxis\": {\"gridcolor\": \"white\", \"linecolor\": \"white\", \"ticks\": \"\"}, \"bgcolor\": \"#E5ECF6\", \"radialaxis\": {\"gridcolor\": \"white\", \"linecolor\": \"white\", \"ticks\": \"\"}}, \"scene\": {\"xaxis\": {\"backgroundcolor\": \"#E5ECF6\", \"gridcolor\": \"white\", \"gridwidth\": 2, \"linecolor\": \"white\", \"showbackground\": true, \"ticks\": \"\", \"zerolinecolor\": \"white\"}, \"yaxis\": {\"backgroundcolor\": \"#E5ECF6\", \"gridcolor\": \"white\", \"gridwidth\": 2, \"linecolor\": \"white\", \"showbackground\": true, \"ticks\": \"\", \"zerolinecolor\": \"white\"}, \"zaxis\": {\"backgroundcolor\": \"#E5ECF6\", \"gridcolor\": \"white\", \"gridwidth\": 2, \"linecolor\": \"white\", \"showbackground\": true, \"ticks\": \"\", \"zerolinecolor\": \"white\"}}, \"shapedefaults\": {\"line\": {\"color\": \"#2a3f5f\"}}, \"ternary\": {\"aaxis\": {\"gridcolor\": \"white\", \"linecolor\": \"white\", \"ticks\": \"\"}, \"baxis\": {\"gridcolor\": \"white\", \"linecolor\": \"white\", \"ticks\": \"\"}, \"bgcolor\": \"#E5ECF6\", \"caxis\": {\"gridcolor\": \"white\", \"linecolor\": \"white\", \"ticks\": \"\"}}, \"title\": {\"x\": 0.05}, \"xaxis\": {\"automargin\": true, \"gridcolor\": \"white\", \"linecolor\": \"white\", \"ticks\": \"\", \"title\": {\"standoff\": 15}, \"zerolinecolor\": \"white\", \"zerolinewidth\": 2}, \"yaxis\": {\"automargin\": true, \"gridcolor\": \"white\", \"linecolor\": \"white\", \"ticks\": \"\", \"title\": {\"standoff\": 15}, \"zerolinecolor\": \"white\", \"zerolinewidth\": 2}}}, \"title\": {\"text\": \"\\u0412\\u043b\\u0438\\u044f\\u043d\\u0438\\u0435 \\u043d\\u0435\\u0434\\u0435\\u043b\\u0438 \\u0436\\u0438\\u0437\\u043d\\u0438 \\u043d\\u0430 \\u043f\\u043e\\u043f\\u043e\\u043b\\u043d\\u0435\\u043d\\u0438\\u044f\"}, \"width\": 700, \"xaxis\": {\"anchor\": \"y\", \"domain\": [0.0, 1.0]}, \"yaxis\": {\"anchor\": \"x\", \"domain\": [0.0, 1.0], \"title\": {\"text\": \"volume\"}}},                        {\"responsive\": true}                    ).then(function(){\n",
       "                            \n",
       "var gd = document.getElementById('fa508c29-3cb0-403f-a3e7-11893c48244b');\n",
       "var x = new MutationObserver(function (mutations, observer) {{\n",
       "        var display = window.getComputedStyle(gd).display;\n",
       "        if (!display || display === 'none') {{\n",
       "            console.log([gd, 'removed!']);\n",
       "            Plotly.purge(gd);\n",
       "            observer.disconnect();\n",
       "        }}\n",
       "}});\n",
       "\n",
       "// Listen for the removal of the full notebook cells\n",
       "var notebookContainer = gd.closest('#notebook-container');\n",
       "if (notebookContainer) {{\n",
       "    x.observe(notebookContainer, {childList: true});\n",
       "}}\n",
       "\n",
       "// Listen for the clearing of the current output cell\n",
       "var outputEl = gd.closest('.output');\n",
       "if (outputEl) {{\n",
       "    x.observe(outputEl, {childList: true});\n",
       "}}\n",
       "\n",
       "                        })                };                });            </script>        </div>"
      ]
     },
     "metadata": {},
     "output_type": "display_data"
    }
   ],
   "source": [
    "fig = px.box(df, y='volume', points='all', color='generation', title='Влияние недели жизни на пополнения',\n",
    "            width=700, height=400)\n",
    "fig.show()"
   ]
  },
  {
   "cell_type": "markdown",
   "metadata": {},
   "source": [
    "Однако, с переменной \"неделя жизни депозита\" ситуация обратная. Видим достаточно четкую квадратичную зависимость срока жизни от пополнения. Пик приходится на 3 неделю, затем на 2 и 4 неделю, меньше всего клиенты производят пополнения на 1 и 5 неделе.\n",
    "\n",
    "**Возможные объяснения:**\n",
    "1. \"Короткие\" депозиты юрлица открывают для накопления на какую-либо покупку (например, основных средств, оборудования и т.п.) Клиент открывает депозит с минимальной суммой, имеющейся в распоряжении, затем при наличии свободных средств пополняет депозит на 2 и 4 неделе. Когда на депозите сумма достаточна, клиент не пополняет его и снимает в конце срока.\n",
    "2. Депозит открывается для сохранения стоимости денежных средств с учетом инфляции (хотя срок и маленьких, но при больших суммах влияние может быть значительное). Логика такая же: клиент открывает депозит с вложением всех доступных средств, потом идет приток cashflow, и клиент сразу пополняет депозит за счет прибыли. Затем, вероятно, переоткрывает депозит.\n",
    "3. Частая особенность депозитов юридических лиц - короткие сроки и возможность пополнения/снятия. Т.к. бизнесу средства могут пригодиться в любой момент."
   ]
  },
  {
   "cell_type": "markdown",
   "metadata": {},
   "source": [
    "Произведем группировку признаков % ставка и обменный курс на бакеты, чтобы посмотреть, в каких из них происходит больше всего пополнений."
   ]
  },
  {
   "cell_type": "code",
   "execution_count": 185,
   "metadata": {},
   "outputs": [],
   "source": [
    "def grouping(x):\n",
    "    grp = ''\n",
    "    if x <= -0.1: \n",
    "        grp = '<-1'\n",
    "    elif -0.1 < x <= 0: \n",
    "        grp = '(-0.1;0]'\n",
    "    elif 0 < x <= 0.1: \n",
    "        grp = '(0;0.1]'\n",
    "    else: \n",
    "        grp = '>0.1'\n",
    "    return grp"
   ]
  },
  {
   "cell_type": "code",
   "execution_count": 186,
   "metadata": {},
   "outputs": [
    {
     "data": {
      "text/html": [
       "<div>\n",
       "<style scoped>\n",
       "    .dataframe tbody tr th:only-of-type {\n",
       "        vertical-align: middle;\n",
       "    }\n",
       "\n",
       "    .dataframe tbody tr th {\n",
       "        vertical-align: top;\n",
       "    }\n",
       "\n",
       "    .dataframe thead th {\n",
       "        text-align: right;\n",
       "    }\n",
       "</style>\n",
       "<table border=\"1\" class=\"dataframe\">\n",
       "  <thead>\n",
       "    <tr style=\"text-align: right;\">\n",
       "      <th></th>\n",
       "      <th>N</th>\n",
       "      <th>generation</th>\n",
       "      <th>int_rate</th>\n",
       "      <th>ex_rate</th>\n",
       "      <th>volume</th>\n",
       "      <th>int_rate_grp</th>\n",
       "      <th>ex_rate_grp</th>\n",
       "    </tr>\n",
       "  </thead>\n",
       "  <tbody>\n",
       "    <tr>\n",
       "      <th>0</th>\n",
       "      <td>1</td>\n",
       "      <td>1</td>\n",
       "      <td>0.021498</td>\n",
       "      <td>-0.046133</td>\n",
       "      <td>0.000000</td>\n",
       "      <td>(0;0.1]</td>\n",
       "      <td>(-0.1;0]</td>\n",
       "    </tr>\n",
       "    <tr>\n",
       "      <th>1</th>\n",
       "      <td>1</td>\n",
       "      <td>2</td>\n",
       "      <td>0.019605</td>\n",
       "      <td>0.030865</td>\n",
       "      <td>0.743323</td>\n",
       "      <td>(0;0.1]</td>\n",
       "      <td>(0;0.1]</td>\n",
       "    </tr>\n",
       "    <tr>\n",
       "      <th>2</th>\n",
       "      <td>1</td>\n",
       "      <td>3</td>\n",
       "      <td>0.082847</td>\n",
       "      <td>-0.013099</td>\n",
       "      <td>0.977405</td>\n",
       "      <td>(0;0.1]</td>\n",
       "      <td>(-0.1;0]</td>\n",
       "    </tr>\n",
       "    <tr>\n",
       "      <th>3</th>\n",
       "      <td>1</td>\n",
       "      <td>4</td>\n",
       "      <td>-0.025355</td>\n",
       "      <td>-0.007046</td>\n",
       "      <td>0.772670</td>\n",
       "      <td>(-0.1;0]</td>\n",
       "      <td>(-0.1;0]</td>\n",
       "    </tr>\n",
       "    <tr>\n",
       "      <th>4</th>\n",
       "      <td>1</td>\n",
       "      <td>5</td>\n",
       "      <td>-0.109462</td>\n",
       "      <td>-0.109332</td>\n",
       "      <td>0.039289</td>\n",
       "      <td>&lt;-1</td>\n",
       "      <td>&lt;-1</td>\n",
       "    </tr>\n",
       "    <tr>\n",
       "      <th>...</th>\n",
       "      <td>...</td>\n",
       "      <td>...</td>\n",
       "      <td>...</td>\n",
       "      <td>...</td>\n",
       "      <td>...</td>\n",
       "      <td>...</td>\n",
       "      <td>...</td>\n",
       "    </tr>\n",
       "    <tr>\n",
       "      <th>495</th>\n",
       "      <td>100</td>\n",
       "      <td>1</td>\n",
       "      <td>0.005387</td>\n",
       "      <td>-0.011301</td>\n",
       "      <td>0.007183</td>\n",
       "      <td>(0;0.1]</td>\n",
       "      <td>(-0.1;0]</td>\n",
       "    </tr>\n",
       "    <tr>\n",
       "      <th>496</th>\n",
       "      <td>100</td>\n",
       "      <td>2</td>\n",
       "      <td>-0.092774</td>\n",
       "      <td>-0.144132</td>\n",
       "      <td>0.785305</td>\n",
       "      <td>(-0.1;0]</td>\n",
       "      <td>&lt;-1</td>\n",
       "    </tr>\n",
       "    <tr>\n",
       "      <th>497</th>\n",
       "      <td>100</td>\n",
       "      <td>3</td>\n",
       "      <td>-0.011375</td>\n",
       "      <td>-0.000458</td>\n",
       "      <td>1.021720</td>\n",
       "      <td>(-0.1;0]</td>\n",
       "      <td>(-0.1;0]</td>\n",
       "    </tr>\n",
       "    <tr>\n",
       "      <th>498</th>\n",
       "      <td>100</td>\n",
       "      <td>4</td>\n",
       "      <td>-0.067415</td>\n",
       "      <td>-0.301667</td>\n",
       "      <td>0.768857</td>\n",
       "      <td>(-0.1;0]</td>\n",
       "      <td>&lt;-1</td>\n",
       "    </tr>\n",
       "    <tr>\n",
       "      <th>499</th>\n",
       "      <td>100</td>\n",
       "      <td>5</td>\n",
       "      <td>-0.092213</td>\n",
       "      <td>-0.164283</td>\n",
       "      <td>0.035602</td>\n",
       "      <td>(-0.1;0]</td>\n",
       "      <td>&lt;-1</td>\n",
       "    </tr>\n",
       "  </tbody>\n",
       "</table>\n",
       "<p>500 rows × 7 columns</p>\n",
       "</div>"
      ],
      "text/plain": [
       "       N  generation  int_rate   ex_rate    volume int_rate_grp ex_rate_grp\n",
       "0      1           1  0.021498 -0.046133  0.000000      (0;0.1]    (-0.1;0]\n",
       "1      1           2  0.019605  0.030865  0.743323      (0;0.1]     (0;0.1]\n",
       "2      1           3  0.082847 -0.013099  0.977405      (0;0.1]    (-0.1;0]\n",
       "3      1           4 -0.025355 -0.007046  0.772670     (-0.1;0]    (-0.1;0]\n",
       "4      1           5 -0.109462 -0.109332  0.039289          <-1         <-1\n",
       "..   ...         ...       ...       ...       ...          ...         ...\n",
       "495  100           1  0.005387 -0.011301  0.007183      (0;0.1]    (-0.1;0]\n",
       "496  100           2 -0.092774 -0.144132  0.785305     (-0.1;0]         <-1\n",
       "497  100           3 -0.011375 -0.000458  1.021720     (-0.1;0]    (-0.1;0]\n",
       "498  100           4 -0.067415 -0.301667  0.768857     (-0.1;0]         <-1\n",
       "499  100           5 -0.092213 -0.164283  0.035602     (-0.1;0]         <-1\n",
       "\n",
       "[500 rows x 7 columns]"
      ]
     },
     "execution_count": 186,
     "metadata": {},
     "output_type": "execute_result"
    }
   ],
   "source": [
    "df['int_rate_grp'] = df['int_rate'].apply(lambda x: grouping(x))\n",
    "df['ex_rate_grp'] = df['ex_rate'].apply(lambda x: grouping(x))\n",
    "df"
   ]
  },
  {
   "cell_type": "code",
   "execution_count": 187,
   "metadata": {},
   "outputs": [
    {
     "data": {
      "application/vnd.plotly.v1+json": {
       "config": {
        "plotlyServerURL": "https://plot.ly"
       },
       "data": [
        {
         "name": "Пополнения vs изменение курса",
         "type": "histogram",
         "x": [
          "(-0.1;0]",
          "(0;0.1]",
          "(-0.1;0]",
          "(-0.1;0]",
          "<-1",
          "(0;0.1]",
          ">0.1",
          "(0;0.1]",
          "<-1",
          ">0.1",
          "(-0.1;0]",
          "<-1",
          "(0;0.1]",
          ">0.1",
          "(0;0.1]",
          "(-0.1;0]",
          "(-0.1;0]",
          "(0;0.1]",
          "(-0.1;0]",
          "(0;0.1]",
          "(0;0.1]",
          ">0.1",
          "<-1",
          "(0;0.1]",
          "(0;0.1]",
          ">0.1",
          "(0;0.1]",
          ">0.1",
          "<-1",
          "(-0.1;0]",
          "(0;0.1]",
          "(-0.1;0]",
          "(0;0.1]",
          "(-0.1;0]",
          "<-1",
          "(0;0.1]",
          "(-0.1;0]",
          "(0;0.1]",
          "(0;0.1]",
          "(0;0.1]",
          "(-0.1;0]",
          ">0.1",
          "(-0.1;0]",
          ">0.1",
          "<-1",
          "(0;0.1]",
          "(0;0.1]",
          "(0;0.1]",
          "(0;0.1]",
          "(0;0.1]",
          "(-0.1;0]",
          ">0.1",
          "<-1",
          ">0.1",
          "(0;0.1]",
          "(-0.1;0]",
          "<-1",
          "<-1",
          "(0;0.1]",
          "<-1",
          "(0;0.1]",
          "(-0.1;0]",
          "<-1",
          "(0;0.1]",
          "(-0.1;0]",
          "(0;0.1]",
          "(0;0.1]",
          "(0;0.1]",
          "<-1",
          "(-0.1;0]",
          "(-0.1;0]",
          "(0;0.1]",
          ">0.1",
          "(-0.1;0]",
          "<-1",
          "(-0.1;0]",
          "<-1",
          "<-1",
          ">0.1",
          "(-0.1;0]",
          "(-0.1;0]",
          ">0.1",
          "<-1",
          "(-0.1;0]",
          "(-0.1;0]",
          "(-0.1;0]",
          "(-0.1;0]",
          "<-1",
          ">0.1",
          ">0.1",
          "(0;0.1]",
          "(0;0.1]",
          ">0.1",
          "<-1",
          "(0;0.1]",
          ">0.1",
          "(-0.1;0]",
          "(0;0.1]",
          "(-0.1;0]",
          "<-1",
          "(0;0.1]",
          "(-0.1;0]",
          "(0;0.1]",
          ">0.1",
          "<-1",
          "<-1",
          "(-0.1;0]",
          "(0;0.1]",
          "<-1",
          "(0;0.1]",
          "(0;0.1]",
          "(-0.1;0]",
          "(-0.1;0]",
          "(-0.1;0]",
          "<-1",
          "<-1",
          "(0;0.1]",
          "(-0.1;0]",
          "(0;0.1]",
          "(-0.1;0]",
          ">0.1",
          "(0;0.1]",
          "<-1",
          "(-0.1;0]",
          ">0.1",
          ">0.1",
          "<-1",
          ">0.1",
          ">0.1",
          "(-0.1;0]",
          ">0.1",
          "(-0.1;0]",
          "(-0.1;0]",
          "(-0.1;0]",
          "<-1",
          ">0.1",
          "<-1",
          "(0;0.1]",
          "(0;0.1]",
          "(-0.1;0]",
          "(-0.1;0]",
          "(0;0.1]",
          "(0;0.1]",
          "(0;0.1]",
          "(-0.1;0]",
          "(-0.1;0]",
          "(-0.1;0]",
          "(-0.1;0]",
          "(0;0.1]",
          "<-1",
          "(0;0.1]",
          "(0;0.1]",
          "(0;0.1]",
          "(-0.1;0]",
          "(0;0.1]",
          "(-0.1;0]",
          ">0.1",
          "<-1",
          "(0;0.1]",
          "(0;0.1]",
          ">0.1",
          "(-0.1;0]",
          "(-0.1;0]",
          "(-0.1;0]",
          "(-0.1;0]",
          "(-0.1;0]",
          "(0;0.1]",
          "(0;0.1]",
          ">0.1",
          "(0;0.1]",
          "(-0.1;0]",
          "(0;0.1]",
          ">0.1",
          "<-1",
          "<-1",
          "(0;0.1]",
          "(-0.1;0]",
          ">0.1",
          "(0;0.1]",
          ">0.1",
          "(0;0.1]",
          "(-0.1;0]",
          "(0;0.1]",
          ">0.1",
          "(-0.1;0]",
          "(-0.1;0]",
          "(-0.1;0]",
          "(0;0.1]",
          "(-0.1;0]",
          ">0.1",
          "<-1",
          "(-0.1;0]",
          ">0.1",
          ">0.1",
          "(0;0.1]",
          "(-0.1;0]",
          "(0;0.1]",
          "(0;0.1]",
          ">0.1",
          ">0.1",
          "(-0.1;0]",
          ">0.1",
          "(-0.1;0]",
          "(0;0.1]",
          ">0.1",
          "<-1",
          ">0.1",
          "(0;0.1]",
          "(0;0.1]",
          "(0;0.1]",
          "<-1",
          "(0;0.1]",
          "(-0.1;0]",
          ">0.1",
          "<-1",
          "(0;0.1]",
          "(0;0.1]",
          "(-0.1;0]",
          "(-0.1;0]",
          "(0;0.1]",
          "(0;0.1]",
          "<-1",
          "(0;0.1]",
          "(0;0.1]",
          ">0.1",
          ">0.1",
          "(0;0.1]",
          "<-1",
          "(-0.1;0]",
          "<-1",
          ">0.1",
          "(-0.1;0]",
          ">0.1",
          "(-0.1;0]",
          "(-0.1;0]",
          "(-0.1;0]",
          "(-0.1;0]",
          "(-0.1;0]",
          "(-0.1;0]",
          "(0;0.1]",
          ">0.1",
          "(-0.1;0]",
          "(-0.1;0]",
          "(0;0.1]",
          ">0.1",
          "<-1",
          "(-0.1;0]",
          "<-1",
          "(0;0.1]",
          "(0;0.1]",
          "(0;0.1]",
          "<-1",
          "(-0.1;0]",
          "(0;0.1]",
          ">0.1",
          "(-0.1;0]",
          "(-0.1;0]",
          ">0.1",
          "(-0.1;0]",
          "<-1",
          "(0;0.1]",
          "(0;0.1]",
          "(0;0.1]",
          "(-0.1;0]",
          "(-0.1;0]",
          ">0.1",
          "(-0.1;0]",
          "<-1",
          "(0;0.1]",
          "(-0.1;0]",
          ">0.1",
          "<-1",
          ">0.1",
          "(-0.1;0]",
          "(-0.1;0]",
          "(-0.1;0]",
          ">0.1",
          "<-1",
          "<-1",
          "(0;0.1]",
          "(-0.1;0]",
          ">0.1",
          "(0;0.1]",
          "(0;0.1]",
          "(0;0.1]",
          "(0;0.1]",
          "(-0.1;0]",
          "(-0.1;0]",
          "(-0.1;0]",
          "(0;0.1]",
          ">0.1",
          "<-1",
          ">0.1",
          "(0;0.1]",
          "<-1",
          ">0.1",
          "(0;0.1]",
          "(-0.1;0]",
          "<-1",
          ">0.1",
          "(-0.1;0]",
          "(0;0.1]",
          "(0;0.1]",
          "(-0.1;0]",
          "<-1",
          "(0;0.1]",
          "(0;0.1]",
          "<-1",
          ">0.1",
          ">0.1",
          "(-0.1;0]",
          "(0;0.1]",
          "(-0.1;0]",
          "(0;0.1]",
          "<-1",
          ">0.1",
          ">0.1",
          "(-0.1;0]",
          "(-0.1;0]",
          "(0;0.1]",
          "(-0.1;0]",
          "(-0.1;0]",
          "(-0.1;0]",
          ">0.1",
          "(-0.1;0]",
          "(0;0.1]",
          ">0.1",
          "<-1",
          "(-0.1;0]",
          "(-0.1;0]",
          "(-0.1;0]",
          ">0.1",
          "(-0.1;0]",
          "(-0.1;0]",
          "(-0.1;0]",
          "<-1",
          "(0;0.1]",
          ">0.1",
          "(0;0.1]",
          "<-1",
          "<-1",
          "(0;0.1]",
          "<-1",
          "(0;0.1]",
          ">0.1",
          "(-0.1;0]",
          "(0;0.1]",
          "(-0.1;0]",
          "(0;0.1]",
          "(0;0.1]",
          "(0;0.1]",
          "<-1",
          "(0;0.1]",
          "(0;0.1]",
          ">0.1",
          "(-0.1;0]",
          "(0;0.1]",
          "(0;0.1]",
          "<-1",
          "(-0.1;0]",
          "<-1",
          "(-0.1;0]",
          "<-1",
          "(-0.1;0]",
          "(0;0.1]",
          "(0;0.1]",
          "(-0.1;0]",
          "(0;0.1]",
          "(0;0.1]",
          "(-0.1;0]",
          "(-0.1;0]",
          "(-0.1;0]",
          ">0.1",
          "(0;0.1]",
          "(-0.1;0]",
          "(0;0.1]",
          "(-0.1;0]",
          ">0.1",
          "(0;0.1]",
          "<-1",
          "(0;0.1]",
          "<-1",
          "(-0.1;0]",
          "<-1",
          "(0;0.1]",
          "(-0.1;0]",
          "(-0.1;0]",
          "<-1",
          "<-1",
          "(0;0.1]",
          ">0.1",
          "(0;0.1]",
          "(-0.1;0]",
          "(0;0.1]",
          "<-1",
          "(0;0.1]",
          ">0.1",
          "<-1",
          ">0.1",
          "<-1",
          "<-1",
          ">0.1",
          "(-0.1;0]",
          "(0;0.1]",
          "(0;0.1]",
          "(-0.1;0]",
          ">0.1",
          "(-0.1;0]",
          "(-0.1;0]",
          ">0.1",
          "(-0.1;0]",
          "(0;0.1]",
          "(0;0.1]",
          "(-0.1;0]",
          "<-1",
          "(0;0.1]",
          ">0.1",
          "(0;0.1]",
          ">0.1",
          "(-0.1;0]",
          "(0;0.1]",
          "(-0.1;0]",
          "<-1",
          "(0;0.1]",
          ">0.1",
          "(0;0.1]",
          "(0;0.1]",
          "(0;0.1]",
          "(0;0.1]",
          "(-0.1;0]",
          ">0.1",
          "(-0.1;0]",
          "(-0.1;0]",
          "(0;0.1]",
          "(-0.1;0]",
          "(0;0.1]",
          "<-1",
          "(-0.1;0]",
          "<-1",
          "(0;0.1]",
          "(-0.1;0]",
          "(0;0.1]",
          "(0;0.1]",
          "(-0.1;0]",
          ">0.1",
          "(0;0.1]",
          "(0;0.1]",
          ">0.1",
          ">0.1",
          "(-0.1;0]",
          ">0.1",
          "(-0.1;0]",
          "<-1",
          "(0;0.1]",
          "(0;0.1]",
          "(0;0.1]",
          "(-0.1;0]",
          "(-0.1;0]",
          "(-0.1;0]",
          "(-0.1;0]",
          "(0;0.1]",
          "(0;0.1]",
          "(0;0.1]",
          "(-0.1;0]",
          "(0;0.1]",
          "<-1",
          "(0;0.1]",
          "(0;0.1]",
          "(-0.1;0]",
          "(-0.1;0]",
          "(-0.1;0]",
          "(-0.1;0]",
          "(-0.1;0]",
          "(-0.1;0]",
          "(-0.1;0]",
          "(0;0.1]",
          "(-0.1;0]",
          "(0;0.1]",
          ">0.1",
          "(0;0.1]",
          "(-0.1;0]",
          "(-0.1;0]",
          ">0.1",
          "<-1",
          "(-0.1;0]",
          "(-0.1;0]",
          "<-1",
          "(-0.1;0]",
          "(-0.1;0]",
          "(0;0.1]",
          "<-1",
          "<-1",
          "(0;0.1]",
          "(0;0.1]",
          "(0;0.1]",
          "(-0.1;0]",
          "<-1",
          "(-0.1;0]",
          "<-1",
          "<-1"
         ],
         "xaxis": "x",
         "y": [
          0,
          0.7433232326429872,
          0.9774047425972967,
          0.7726702415163742,
          0.03928876143736482,
          0,
          0.7181196017849273,
          0.9709582392722839,
          0.8241885718437671,
          0,
          0.010892099083406007,
          0.7501129109186735,
          0.9839595505499812,
          0.7452243389947042,
          0.0004424676236868168,
          0,
          0.7594821889739312,
          0.9977784350952693,
          0.7307647853013942,
          0,
          0,
          0.727465229375124,
          1.007942793636198,
          0.7225893666150941,
          0.018731323020972187,
          0,
          0.7422367285281536,
          0.9874412198035674,
          0.7947432535052172,
          0.05569516472775865,
          0.025830220739950095,
          0.7580894527214936,
          1.0480474754320723,
          0.8014791010273239,
          0.05092773163852208,
          0,
          0.7981851809322086,
          0.991755021269524,
          0.7877641288384442,
          0.038122814255952917,
          0.010720386905228751,
          0.6906496824436125,
          1.0049328147194785,
          0.729087055452143,
          0.02081329142885218,
          0,
          0.7693547340041862,
          1.0077577698743136,
          0.733834836195315,
          0,
          0.046119921797648,
          0.7819044346935818,
          1.0417764390288273,
          0.7369494983701484,
          0,
          0.012972886773976199,
          0.7961787922459581,
          1.109164692256255,
          0.7583995912084941,
          0.02283445634815302,
          0,
          0.7654345554369477,
          1.019814773830882,
          0.7605730440597342,
          0.02916974161802695,
          0,
          0.7347094858985785,
          1.004879337557308,
          0.7485817582306844,
          0,
          0.020969714031807224,
          0.7998757610729234,
          0.9904779251522807,
          0.770423419208543,
          0.07690902038462795,
          0.04585336169477866,
          0.7841709252958327,
          1.0095914424637973,
          0.7512876575551651,
          0.031012645961243472,
          0.044379218090661476,
          0.7275042183469164,
          1.0658848878305216,
          0.7824623755220942,
          0.038980093278685804,
          0.0053468061684144655,
          0.7557036612130336,
          0.9837656731651222,
          0.7247185526186902,
          0,
          0.015963865664178387,
          0.726405918141206,
          0.9428291745012413,
          0.8203086243494793,
          0,
          0,
          0.7812090712465282,
          1.0080069015903763,
          0.7998403595703065,
          0.057214075350198394,
          0,
          0.7735199614656765,
          1.016090217104712,
          0.7019124555932327,
          0.02053963063522242,
          0.03912257621203474,
          0.7667481086210298,
          1.0633073590117976,
          0.765073572538918,
          0,
          0,
          0.7655489313897096,
          1.0274339092827964,
          0.7877446342214715,
          0.03291057826003056,
          0.025756015146570242,
          0.7732754404996002,
          0.9813069560659556,
          0.7226417014799529,
          0.05197599832658395,
          0,
          0.7540775366259774,
          1.07682068832672,
          0.7561612241175156,
          0,
          0,
          0.7963980629273985,
          0.969347134592443,
          0.7325052464298342,
          0.01616635799954945,
          0.019103635952906414,
          0.7460892443943391,
          1.0010038425107846,
          0.7994622992808713,
          0.02311415404057378,
          0,
          0.7770015341215323,
          1.0105232786580982,
          0.7796300347927028,
          0.009663556924268448,
          0.061498869479303074,
          0.740320448154599,
          0.9745894094968441,
          0.7761944797550066,
          0.021248600521277576,
          0,
          0.7519463340150586,
          1.0349433037195843,
          0.7305514632376409,
          0.04594029084483256,
          0,
          0.7468879881710054,
          1.0378532521572645,
          0.790889877578001,
          0.005738881782245148,
          0.002804591587030833,
          0.7565880157798552,
          1.046825611830515,
          0.7374061630149067,
          0.0270750585655759,
          0,
          0.7630330663227307,
          1.0092462291341164,
          0.7776925525145136,
          0,
          0.046272746730476204,
          0.694622687852194,
          0.9826321443780591,
          0.7298007933104875,
          0.05227896734231944,
          0,
          0.8050627819273766,
          0.941549664949595,
          0.7737694464560473,
          0.06406884292868367,
          0.008038838110441818,
          0.791498624426426,
          0.9719860584865012,
          0.7157390860115568,
          0,
          0.001329608056596919,
          0.7861961620049486,
          0.974771874533562,
          0.7190916112388697,
          0.06751020959336827,
          0.06508192960161577,
          0.7946244123971702,
          0.9928712543176944,
          0.8063710149528367,
          0,
          0.05076242603527564,
          0.7955917515507156,
          1.0089695828082688,
          0.772813821832711,
          0.022050043299746493,
          0.031220668162726457,
          0.7322975166386453,
          1.045730159310882,
          0.6994430194278638,
          0,
          0.016360579935353267,
          0.7216534758104266,
          1.0003187264794728,
          0.6925489283184445,
          0,
          0.053436687876645975,
          0.7165192910611269,
          1.0253265957557955,
          0.7253137013519824,
          0.05704383170147616,
          0.0194636276870212,
          0.738061140172843,
          1.0025032960196067,
          0.7331308467515265,
          0.04005512540504611,
          0.03491662028190411,
          0.7738274893554757,
          0.9596019125312417,
          0.7720071454724283,
          0.0008833043591345239,
          0.0317414672292341,
          0.7845013187576193,
          0.983874452852444,
          0.7345192546835867,
          0.027218418627482505,
          0.011431380409128663,
          0.7365427717555596,
          1.0809211250502087,
          0.799556373629115,
          0.04553029962858537,
          0,
          0.8081151288924554,
          0.9814658693945431,
          0.7739803484016986,
          0.011650061248262414,
          0.029738763461977933,
          0.797606868432213,
          1.0160811708311175,
          0.7826476629082602,
          0.024692926919757417,
          0,
          0.7294637902541375,
          1.0113175172506859,
          0.7598912989032368,
          0,
          0.036953694546876734,
          0.7774997865830677,
          1.0253716574793448,
          0.749590882673223,
          0,
          0,
          0.7688085112829236,
          1.034808660394437,
          0.7401008798898238,
          0,
          0.019393474035113777,
          0.7754846485040647,
          0.9538567380909408,
          0.8098075912428356,
          0,
          0,
          0.7647515611218605,
          0.9628860615430668,
          0.8007253185244462,
          0.02462178293207731,
          0,
          0.7516207530937469,
          1.0235837280987012,
          0.7624225685376879,
          0.022446744177224847,
          0.0045878066965829405,
          0.7605564207690909,
          0.9905132594850525,
          0.7616212485147942,
          0,
          0,
          0.7543497449054617,
          1.0040981104131208,
          0.7571391901649501,
          0,
          0,
          0.7394739005666695,
          1.026265281913899,
          0.7608884544064882,
          0.02934132698516142,
          0.0026539226858651073,
          0.7872017920471496,
          1.03303114300776,
          0.7624549787195063,
          0.011100554219417502,
          0.005892657175832681,
          0.7415500162055396,
          0.9575188836272865,
          0.7519842151521485,
          0.07977603589659593,
          0,
          0.7451498975573124,
          0.9906971406874939,
          0.7944322645413163,
          0,
          0,
          0.7195423659024227,
          0.9915399681531454,
          0.7670213739622399,
          0.05423107424690053,
          0,
          0.7844325640621596,
          1.0199189188334803,
          0.7295266637175889,
          0,
          0.05466079939277582,
          0.7616795340843184,
          0.9667326909268852,
          0.7888081881899782,
          0.07042192022146321,
          0.011453082413632668,
          0.7187774003678108,
          1.0132044454049884,
          0.7994409307695213,
          0.007488486687773067,
          0.054905327686073646,
          0.7783731735464459,
          1.0148633841257024,
          0.7363519882408873,
          0.03418411847451013,
          0.03148289994066169,
          0.7486641048294177,
          1.0169939351025161,
          0.7660313503842692,
          0,
          0.0229662832718246,
          0.7362411174941805,
          1.0206308902582286,
          0.815037602195298,
          0.03902924589234309,
          0.055225828060644404,
          0.7520707903802339,
          0.991531671943271,
          0.7555378052800867,
          0.0654179030812113,
          0.08631317350277425,
          0.7579992886613243,
          1.0207152125666612,
          0.7614538978983204,
          0,
          0.02450197431255356,
          0.7607666384506593,
          1.0295705227101661,
          0.723735418476935,
          0,
          0.01180054407493452,
          0.7880445426469449,
          0.9774638222772684,
          0.7457926319024882,
          0,
          0.05578981079089937,
          0.7518909743257228,
          1.002866858460713,
          0.7469122333585314,
          0,
          0.04066486049759082,
          0.7693028187863494,
          1.0261106513610432,
          0.7731262692979879,
          0,
          0,
          0.7820433013073952,
          0.9859544192864246,
          0.7299099064390641,
          0.005597618062185391,
          0,
          0.7844090869918854,
          0.9873524800131402,
          0.7507210399440074,
          0,
          0.020144313940323455,
          0.7674101285009655,
          0.9534161650976323,
          0.7474269559929146,
          0.005560951097046838,
          0,
          0.7762529145340232,
          1.0079840678486087,
          0.794145396293493,
          0.004911177270158218,
          0.07115959418436756,
          0.7612525374182381,
          1.0526695517000635,
          0.7470078958375205,
          0.016142096916474287,
          0,
          0.7394089719261943,
          1.0441360867290128,
          0.7565164072170912,
          0.06211163536245163,
          0.014140342938575991,
          0.7238748690250628,
          1.0369471153272325,
          0.7115324616961239,
          0.0533780075144489,
          0.014457822186392612,
          0.750579319037476,
          1.0342702215303199,
          0.7412259971183673,
          0.020633495247644414,
          0.041464527041091555,
          0.7329675844217088,
          1.0088640396595245,
          0.7419651440359246,
          0,
          0.0425853254162953,
          0.7337591487914035,
          0.9984328548273858,
          0.7975438981202896,
          0.02324139966821591,
          0.06641592428382517,
          0.7272238223868903,
          1.0321996538916482,
          0.7410816869878892,
          0.011670582551972643,
          0.03789730532730683,
          0.7922510239097369,
          1.0550223710123874,
          0.7423208479017028,
          0,
          0.004864028797678837,
          0.7240955293719488,
          1.0038721464990732,
          0.7690180530148547,
          0,
          0,
          0.7413533974523746,
          0.9839755052751302,
          0.755036802176087,
          0.030062540206556587,
          0.009015511086931795,
          0.7891041492012291,
          1.0349693395523294,
          0.7790234076137517,
          0.00432768259560142,
          0.0337352412734556,
          0.7370592225412221,
          0.995885277485445,
          0.8041676599510001,
          0,
          0,
          0.7622700037066471,
          0.923241326669757,
          0.7660612511316414,
          0.07275331045251603,
          0,
          0.7934844394425634,
          1.0448106985337886,
          0.7680772464327318,
          0.010140364848949753,
          0.002616944269525632,
          0.7518868333927184,
          1.047437063878232,
          0.7666251849087906,
          0.044650565756368624,
          0,
          0.7535120200692472,
          0.9941114436759457,
          0.7779892251570464,
          0,
          0,
          0.7129040937764112,
          0.9635351292716232,
          0.7888484954850132,
          0,
          0.058452304894219737,
          0.7418647763196636,
          1.0388608054542157,
          0.7859935001945115,
          0,
          0,
          0.7773541156971346,
          1.0085533121123713,
          0.729035674151937,
          0.0028698713770700345,
          0.06532893384973568,
          0.7523503033571045,
          0.959461753855364,
          0.7901701494076675,
          0.014050870512645433,
          0.051856381185996024,
          0.8046815487462536,
          1.0035440469744672,
          0.7815820602044463,
          0.007367097309229145,
          0.008440442801802134,
          0.7940944177862375,
          0.9881211714746905,
          0.7556838661607708,
          0,
          0.007183028723810829,
          0.7853047289371803,
          1.021720027455928,
          0.7688569837288385,
          0.03560237826971888
         ],
         "yaxis": "y"
        },
        {
         "name": "Пополнения vs изменение ставок",
         "type": "histogram",
         "x": [
          "(0;0.1]",
          "(0;0.1]",
          "(0;0.1]",
          "(-0.1;0]",
          "<-1",
          "(0;0.1]",
          ">0.1",
          "(0;0.1]",
          "<-1",
          ">0.1",
          "(0;0.1]",
          "(-0.1;0]",
          ">0.1",
          "(0;0.1]",
          "(0;0.1]",
          "(0;0.1]",
          "(0;0.1]",
          "(0;0.1]",
          "(0;0.1]",
          ">0.1",
          "(0;0.1]",
          ">0.1",
          "(-0.1;0]",
          ">0.1",
          "(-0.1;0]",
          ">0.1",
          "(0;0.1]",
          "(0;0.1]",
          "<-1",
          "(-0.1;0]",
          "(-0.1;0]",
          "(-0.1;0]",
          "(-0.1;0]",
          "<-1",
          "<-1",
          "(0;0.1]",
          "(-0.1;0]",
          "(0;0.1]",
          "(-0.1;0]",
          "<-1",
          "(-0.1;0]",
          ">0.1",
          "(-0.1;0]",
          ">0.1",
          "(-0.1;0]",
          ">0.1",
          "(-0.1;0]",
          "(-0.1;0]",
          "(0;0.1]",
          ">0.1",
          "<-1",
          "(-0.1;0]",
          "<-1",
          ">0.1",
          ">0.1",
          "(-0.1;0]",
          "(-0.1;0]",
          "<-1",
          "(-0.1;0]",
          "(-0.1;0]",
          "(0;0.1]",
          "<-1",
          "(-0.1;0]",
          "(-0.1;0]",
          "(-0.1;0]",
          "(0;0.1]",
          "(0;0.1]",
          "(0;0.1]",
          "(0;0.1]",
          "(0;0.1]",
          "(-0.1;0]",
          "(-0.1;0]",
          ">0.1",
          "(-0.1;0]",
          "<-1",
          "<-1",
          "<-1",
          "(0;0.1]",
          "(0;0.1]",
          "<-1",
          "(-0.1;0]",
          "(0;0.1]",
          "<-1",
          "(-0.1;0]",
          "(-0.1;0]",
          "(0;0.1]",
          "(0;0.1]",
          "(0;0.1]",
          ">0.1",
          ">0.1",
          "(0;0.1]",
          ">0.1",
          ">0.1",
          "<-1",
          "(0;0.1]",
          ">0.1",
          "(-0.1;0]",
          "(0;0.1]",
          "<-1",
          "<-1",
          "(0;0.1]",
          "(-0.1;0]",
          "(-0.1;0]",
          ">0.1",
          "(-0.1;0]",
          "<-1",
          "(-0.1;0]",
          "(-0.1;0]",
          "(-0.1;0]",
          "(0;0.1]",
          "(0;0.1]",
          "(-0.1;0]",
          "<-1",
          "(-0.1;0]",
          "(-0.1;0]",
          "<-1",
          "(-0.1;0]",
          "(0;0.1]",
          "(0;0.1]",
          "<-1",
          "(0;0.1]",
          "(0;0.1]",
          "<-1",
          "(-0.1;0]",
          ">0.1",
          ">0.1",
          "<-1",
          ">0.1",
          "(0;0.1]",
          "(-0.1;0]",
          "(-0.1;0]",
          "(0;0.1]",
          "(0;0.1]",
          "<-1",
          "(-0.1;0]",
          ">0.1",
          "(0;0.1]",
          "(-0.1;0]",
          "<-1",
          "(-0.1;0]",
          "<-1",
          "(0;0.1]",
          ">0.1",
          "(-0.1;0]",
          "(-0.1;0]",
          "(0;0.1]",
          "(0;0.1]",
          "<-1",
          "(0;0.1]",
          "<-1",
          "(0;0.1]",
          "(0;0.1]",
          "(-0.1;0]",
          "<-1",
          "(0;0.1]",
          "(-0.1;0]",
          "(0;0.1]",
          "<-1",
          "(0;0.1]",
          "(-0.1;0]",
          ">0.1",
          "(0;0.1]",
          "(0;0.1]",
          "(-0.1;0]",
          "(0;0.1]",
          "<-1",
          ">0.1",
          "(0;0.1]",
          "(0;0.1]",
          "<-1",
          "(0;0.1]",
          "<-1",
          ">0.1",
          "(-0.1;0]",
          "<-1",
          "(-0.1;0]",
          "<-1",
          ">0.1",
          ">0.1",
          "(0;0.1]",
          "(0;0.1]",
          "<-1",
          "(0;0.1]",
          ">0.1",
          "<-1",
          "<-1",
          "<-1",
          "(0;0.1]",
          "<-1",
          ">0.1",
          "<-1",
          "(-0.1;0]",
          "(0;0.1]",
          "(-0.1;0]",
          "(-0.1;0]",
          "(-0.1;0]",
          "(0;0.1]",
          "(-0.1;0]",
          ">0.1",
          ">0.1",
          "(-0.1;0]",
          ">0.1",
          "(0;0.1]",
          ">0.1",
          ">0.1",
          "<-1",
          ">0.1",
          "(-0.1;0]",
          "(0;0.1]",
          "<-1",
          "(-0.1;0]",
          "(0;0.1]",
          "(0;0.1]",
          ">0.1",
          "<-1",
          "(-0.1;0]",
          "(-0.1;0]",
          ">0.1",
          "(0;0.1]",
          "(0;0.1]",
          "(0;0.1]",
          "<-1",
          ">0.1",
          "(0;0.1]",
          "(-0.1;0]",
          "(0;0.1]",
          "(0;0.1]",
          "<-1",
          "(-0.1;0]",
          "<-1",
          ">0.1",
          "<-1",
          "(0;0.1]",
          "(-0.1;0]",
          "(-0.1;0]",
          "(-0.1;0]",
          "(-0.1;0]",
          "(-0.1;0]",
          "(-0.1;0]",
          "<-1",
          ">0.1",
          ">0.1",
          "(0;0.1]",
          "(-0.1;0]",
          ">0.1",
          "(-0.1;0]",
          "(-0.1;0]",
          "(-0.1;0]",
          "(0;0.1]",
          "(0;0.1]",
          ">0.1",
          "(-0.1;0]",
          "(-0.1;0]",
          "(0;0.1]",
          ">0.1",
          "(-0.1;0]",
          "(-0.1;0]",
          ">0.1",
          "<-1",
          "(0;0.1]",
          "(0;0.1]",
          "(-0.1;0]",
          ">0.1",
          "<-1",
          "(-0.1;0]",
          "(0;0.1]",
          "(0;0.1]",
          "(-0.1;0]",
          "(-0.1;0]",
          "(-0.1;0]",
          ">0.1",
          "(-0.1;0]",
          ">0.1",
          "(-0.1;0]",
          ">0.1",
          "(0;0.1]",
          "(0;0.1]",
          "(0;0.1]",
          "(-0.1;0]",
          "(0;0.1]",
          "(0;0.1]",
          "(0;0.1]",
          "(-0.1;0]",
          "(-0.1;0]",
          "(-0.1;0]",
          "(0;0.1]",
          "<-1",
          "(-0.1;0]",
          "(-0.1;0]",
          "(0;0.1]",
          "(0;0.1]",
          "(0;0.1]",
          ">0.1",
          "(0;0.1]",
          "<-1",
          ">0.1",
          "(0;0.1]",
          "(0;0.1]",
          "(-0.1;0]",
          "(0;0.1]",
          "(-0.1;0]",
          ">0.1",
          "(0;0.1]",
          "(0;0.1]",
          "<-1",
          "(0;0.1]",
          "(-0.1;0]",
          "(-0.1;0]",
          "(0;0.1]",
          ">0.1",
          "<-1",
          "(-0.1;0]",
          ">0.1",
          "(-0.1;0]",
          "<-1",
          "(-0.1;0]",
          ">0.1",
          "(-0.1;0]",
          "(-0.1;0]",
          "(0;0.1]",
          "<-1",
          "(-0.1;0]",
          "(0;0.1]",
          "(0;0.1]",
          "<-1",
          "(-0.1;0]",
          "(0;0.1]",
          "(-0.1;0]",
          "(-0.1;0]",
          "(0;0.1]",
          "(-0.1;0]",
          ">0.1",
          "(-0.1;0]",
          "<-1",
          "(-0.1;0]",
          "<-1",
          "(0;0.1]",
          "(0;0.1]",
          "(-0.1;0]",
          "<-1",
          "<-1",
          "(-0.1;0]",
          "(-0.1;0]",
          "(0;0.1]",
          "(0;0.1]",
          "(-0.1;0]",
          "(-0.1;0]",
          "(-0.1;0]",
          ">0.1",
          ">0.1",
          "(0;0.1]",
          "(-0.1;0]",
          ">0.1",
          "(0;0.1]",
          ">0.1",
          "(-0.1;0]",
          "(0;0.1]",
          "(0;0.1]",
          "(0;0.1]",
          "(0;0.1]",
          "<-1",
          "(-0.1;0]",
          "(-0.1;0]",
          "(0;0.1]",
          "(0;0.1]",
          "(0;0.1]",
          "(-0.1;0]",
          ">0.1",
          "(0;0.1]",
          "(-0.1;0]",
          "(0;0.1]",
          "(-0.1;0]",
          "(0;0.1]",
          "(0;0.1]",
          ">0.1",
          "(0;0.1]",
          "(-0.1;0]",
          ">0.1",
          "(0;0.1]",
          "(-0.1;0]",
          "(0;0.1]",
          "(-0.1;0]",
          "(-0.1;0]",
          "(-0.1;0]",
          "(0;0.1]",
          "<-1",
          "(0;0.1]",
          "<-1",
          "(0;0.1]",
          "(-0.1;0]",
          ">0.1",
          "(0;0.1]",
          "<-1",
          "(-0.1;0]",
          "<-1",
          "(-0.1;0]",
          ">0.1",
          "(-0.1;0]",
          ">0.1",
          "<-1",
          "(-0.1;0]",
          "(0;0.1]",
          "(-0.1;0]",
          "(0;0.1]",
          "(-0.1;0]",
          "<-1",
          "(0;0.1]",
          "(0;0.1]",
          ">0.1",
          ">0.1",
          "(-0.1;0]",
          "(0;0.1]",
          "(0;0.1]",
          "<-1",
          "(-0.1;0]",
          "(-0.1;0]",
          ">0.1",
          "(-0.1;0]",
          "(0;0.1]",
          "(-0.1;0]",
          "(-0.1;0]",
          "(-0.1;0]",
          "<-1",
          "(-0.1;0]",
          ">0.1",
          "(0;0.1]",
          "(0;0.1]",
          "(0;0.1]",
          "(-0.1;0]",
          "(0;0.1]",
          ">0.1",
          "(0;0.1]",
          "(0;0.1]",
          "(0;0.1]",
          "(-0.1;0]",
          "(0;0.1]",
          "(-0.1;0]",
          "(-0.1;0]",
          "<-1",
          "(0;0.1]",
          "(-0.1;0]",
          "(0;0.1]",
          "(-0.1;0]",
          "<-1",
          "(0;0.1]",
          ">0.1",
          "(-0.1;0]",
          ">0.1",
          "(0;0.1]",
          "<-1",
          ">0.1",
          "(-0.1;0]",
          "(-0.1;0]",
          "(-0.1;0]",
          "(0;0.1]",
          "(0;0.1]",
          "(-0.1;0]",
          "<-1",
          "(-0.1;0]",
          "(-0.1;0]",
          "(0;0.1]",
          "(0;0.1]",
          "(0;0.1]",
          "<-1",
          "(0;0.1]",
          "(0;0.1]",
          ">0.1",
          ">0.1",
          "(-0.1;0]",
          "(0;0.1]",
          "<-1",
          "(0;0.1]",
          "(-0.1;0]",
          "<-1",
          "(0;0.1]",
          "(0;0.1]",
          "(-0.1;0]",
          "(-0.1;0]",
          ">0.1",
          "(0;0.1]",
          "<-1",
          "(0;0.1]",
          ">0.1",
          "<-1",
          "(-0.1;0]",
          "<-1",
          "<-1",
          "(0;0.1]",
          "(-0.1;0]",
          "(0;0.1]",
          "(-0.1;0]",
          "<-1",
          "(0;0.1]",
          "(0;0.1]",
          "(0;0.1]",
          "(0;0.1]",
          "(-0.1;0]",
          "(-0.1;0]",
          "(-0.1;0]",
          "(-0.1;0]"
         ],
         "xaxis": "x2",
         "y": [
          0,
          0.7433232326429872,
          0.9774047425972967,
          0.7726702415163742,
          0.03928876143736482,
          0,
          0.7181196017849273,
          0.9709582392722839,
          0.8241885718437671,
          0,
          0.010892099083406007,
          0.7501129109186735,
          0.9839595505499812,
          0.7452243389947042,
          0.0004424676236868168,
          0,
          0.7594821889739312,
          0.9977784350952693,
          0.7307647853013942,
          0,
          0,
          0.727465229375124,
          1.007942793636198,
          0.7225893666150941,
          0.018731323020972187,
          0,
          0.7422367285281536,
          0.9874412198035674,
          0.7947432535052172,
          0.05569516472775865,
          0.025830220739950095,
          0.7580894527214936,
          1.0480474754320723,
          0.8014791010273239,
          0.05092773163852208,
          0,
          0.7981851809322086,
          0.991755021269524,
          0.7877641288384442,
          0.038122814255952917,
          0.010720386905228751,
          0.6906496824436125,
          1.0049328147194785,
          0.729087055452143,
          0.02081329142885218,
          0,
          0.7693547340041862,
          1.0077577698743136,
          0.733834836195315,
          0,
          0.046119921797648,
          0.7819044346935818,
          1.0417764390288273,
          0.7369494983701484,
          0,
          0.012972886773976199,
          0.7961787922459581,
          1.109164692256255,
          0.7583995912084941,
          0.02283445634815302,
          0,
          0.7654345554369477,
          1.019814773830882,
          0.7605730440597342,
          0.02916974161802695,
          0,
          0.7347094858985785,
          1.004879337557308,
          0.7485817582306844,
          0,
          0.020969714031807224,
          0.7998757610729234,
          0.9904779251522807,
          0.770423419208543,
          0.07690902038462795,
          0.04585336169477866,
          0.7841709252958327,
          1.0095914424637973,
          0.7512876575551651,
          0.031012645961243472,
          0.044379218090661476,
          0.7275042183469164,
          1.0658848878305216,
          0.7824623755220942,
          0.038980093278685804,
          0.0053468061684144655,
          0.7557036612130336,
          0.9837656731651222,
          0.7247185526186902,
          0,
          0.015963865664178387,
          0.726405918141206,
          0.9428291745012413,
          0.8203086243494793,
          0,
          0,
          0.7812090712465282,
          1.0080069015903763,
          0.7998403595703065,
          0.057214075350198394,
          0,
          0.7735199614656765,
          1.016090217104712,
          0.7019124555932327,
          0.02053963063522242,
          0.03912257621203474,
          0.7667481086210298,
          1.0633073590117976,
          0.765073572538918,
          0,
          0,
          0.7655489313897096,
          1.0274339092827964,
          0.7877446342214715,
          0.03291057826003056,
          0.025756015146570242,
          0.7732754404996002,
          0.9813069560659556,
          0.7226417014799529,
          0.05197599832658395,
          0,
          0.7540775366259774,
          1.07682068832672,
          0.7561612241175156,
          0,
          0,
          0.7963980629273985,
          0.969347134592443,
          0.7325052464298342,
          0.01616635799954945,
          0.019103635952906414,
          0.7460892443943391,
          1.0010038425107846,
          0.7994622992808713,
          0.02311415404057378,
          0,
          0.7770015341215323,
          1.0105232786580982,
          0.7796300347927028,
          0.009663556924268448,
          0.061498869479303074,
          0.740320448154599,
          0.9745894094968441,
          0.7761944797550066,
          0.021248600521277576,
          0,
          0.7519463340150586,
          1.0349433037195843,
          0.7305514632376409,
          0.04594029084483256,
          0,
          0.7468879881710054,
          1.0378532521572645,
          0.790889877578001,
          0.005738881782245148,
          0.002804591587030833,
          0.7565880157798552,
          1.046825611830515,
          0.7374061630149067,
          0.0270750585655759,
          0,
          0.7630330663227307,
          1.0092462291341164,
          0.7776925525145136,
          0,
          0.046272746730476204,
          0.694622687852194,
          0.9826321443780591,
          0.7298007933104875,
          0.05227896734231944,
          0,
          0.8050627819273766,
          0.941549664949595,
          0.7737694464560473,
          0.06406884292868367,
          0.008038838110441818,
          0.791498624426426,
          0.9719860584865012,
          0.7157390860115568,
          0,
          0.001329608056596919,
          0.7861961620049486,
          0.974771874533562,
          0.7190916112388697,
          0.06751020959336827,
          0.06508192960161577,
          0.7946244123971702,
          0.9928712543176944,
          0.8063710149528367,
          0,
          0.05076242603527564,
          0.7955917515507156,
          1.0089695828082688,
          0.772813821832711,
          0.022050043299746493,
          0.031220668162726457,
          0.7322975166386453,
          1.045730159310882,
          0.6994430194278638,
          0,
          0.016360579935353267,
          0.7216534758104266,
          1.0003187264794728,
          0.6925489283184445,
          0,
          0.053436687876645975,
          0.7165192910611269,
          1.0253265957557955,
          0.7253137013519824,
          0.05704383170147616,
          0.0194636276870212,
          0.738061140172843,
          1.0025032960196067,
          0.7331308467515265,
          0.04005512540504611,
          0.03491662028190411,
          0.7738274893554757,
          0.9596019125312417,
          0.7720071454724283,
          0.0008833043591345239,
          0.0317414672292341,
          0.7845013187576193,
          0.983874452852444,
          0.7345192546835867,
          0.027218418627482505,
          0.011431380409128663,
          0.7365427717555596,
          1.0809211250502087,
          0.799556373629115,
          0.04553029962858537,
          0,
          0.8081151288924554,
          0.9814658693945431,
          0.7739803484016986,
          0.011650061248262414,
          0.029738763461977933,
          0.797606868432213,
          1.0160811708311175,
          0.7826476629082602,
          0.024692926919757417,
          0,
          0.7294637902541375,
          1.0113175172506859,
          0.7598912989032368,
          0,
          0.036953694546876734,
          0.7774997865830677,
          1.0253716574793448,
          0.749590882673223,
          0,
          0,
          0.7688085112829236,
          1.034808660394437,
          0.7401008798898238,
          0,
          0.019393474035113777,
          0.7754846485040647,
          0.9538567380909408,
          0.8098075912428356,
          0,
          0,
          0.7647515611218605,
          0.9628860615430668,
          0.8007253185244462,
          0.02462178293207731,
          0,
          0.7516207530937469,
          1.0235837280987012,
          0.7624225685376879,
          0.022446744177224847,
          0.0045878066965829405,
          0.7605564207690909,
          0.9905132594850525,
          0.7616212485147942,
          0,
          0,
          0.7543497449054617,
          1.0040981104131208,
          0.7571391901649501,
          0,
          0,
          0.7394739005666695,
          1.026265281913899,
          0.7608884544064882,
          0.02934132698516142,
          0.0026539226858651073,
          0.7872017920471496,
          1.03303114300776,
          0.7624549787195063,
          0.011100554219417502,
          0.005892657175832681,
          0.7415500162055396,
          0.9575188836272865,
          0.7519842151521485,
          0.07977603589659593,
          0,
          0.7451498975573124,
          0.9906971406874939,
          0.7944322645413163,
          0,
          0,
          0.7195423659024227,
          0.9915399681531454,
          0.7670213739622399,
          0.05423107424690053,
          0,
          0.7844325640621596,
          1.0199189188334803,
          0.7295266637175889,
          0,
          0.05466079939277582,
          0.7616795340843184,
          0.9667326909268852,
          0.7888081881899782,
          0.07042192022146321,
          0.011453082413632668,
          0.7187774003678108,
          1.0132044454049884,
          0.7994409307695213,
          0.007488486687773067,
          0.054905327686073646,
          0.7783731735464459,
          1.0148633841257024,
          0.7363519882408873,
          0.03418411847451013,
          0.03148289994066169,
          0.7486641048294177,
          1.0169939351025161,
          0.7660313503842692,
          0,
          0.0229662832718246,
          0.7362411174941805,
          1.0206308902582286,
          0.815037602195298,
          0.03902924589234309,
          0.055225828060644404,
          0.7520707903802339,
          0.991531671943271,
          0.7555378052800867,
          0.0654179030812113,
          0.08631317350277425,
          0.7579992886613243,
          1.0207152125666612,
          0.7614538978983204,
          0,
          0.02450197431255356,
          0.7607666384506593,
          1.0295705227101661,
          0.723735418476935,
          0,
          0.01180054407493452,
          0.7880445426469449,
          0.9774638222772684,
          0.7457926319024882,
          0,
          0.05578981079089937,
          0.7518909743257228,
          1.002866858460713,
          0.7469122333585314,
          0,
          0.04066486049759082,
          0.7693028187863494,
          1.0261106513610432,
          0.7731262692979879,
          0,
          0,
          0.7820433013073952,
          0.9859544192864246,
          0.7299099064390641,
          0.005597618062185391,
          0,
          0.7844090869918854,
          0.9873524800131402,
          0.7507210399440074,
          0,
          0.020144313940323455,
          0.7674101285009655,
          0.9534161650976323,
          0.7474269559929146,
          0.005560951097046838,
          0,
          0.7762529145340232,
          1.0079840678486087,
          0.794145396293493,
          0.004911177270158218,
          0.07115959418436756,
          0.7612525374182381,
          1.0526695517000635,
          0.7470078958375205,
          0.016142096916474287,
          0,
          0.7394089719261943,
          1.0441360867290128,
          0.7565164072170912,
          0.06211163536245163,
          0.014140342938575991,
          0.7238748690250628,
          1.0369471153272325,
          0.7115324616961239,
          0.0533780075144489,
          0.014457822186392612,
          0.750579319037476,
          1.0342702215303199,
          0.7412259971183673,
          0.020633495247644414,
          0.041464527041091555,
          0.7329675844217088,
          1.0088640396595245,
          0.7419651440359246,
          0,
          0.0425853254162953,
          0.7337591487914035,
          0.9984328548273858,
          0.7975438981202896,
          0.02324139966821591,
          0.06641592428382517,
          0.7272238223868903,
          1.0321996538916482,
          0.7410816869878892,
          0.011670582551972643,
          0.03789730532730683,
          0.7922510239097369,
          1.0550223710123874,
          0.7423208479017028,
          0,
          0.004864028797678837,
          0.7240955293719488,
          1.0038721464990732,
          0.7690180530148547,
          0,
          0,
          0.7413533974523746,
          0.9839755052751302,
          0.755036802176087,
          0.030062540206556587,
          0.009015511086931795,
          0.7891041492012291,
          1.0349693395523294,
          0.7790234076137517,
          0.00432768259560142,
          0.0337352412734556,
          0.7370592225412221,
          0.995885277485445,
          0.8041676599510001,
          0,
          0,
          0.7622700037066471,
          0.923241326669757,
          0.7660612511316414,
          0.07275331045251603,
          0,
          0.7934844394425634,
          1.0448106985337886,
          0.7680772464327318,
          0.010140364848949753,
          0.002616944269525632,
          0.7518868333927184,
          1.047437063878232,
          0.7666251849087906,
          0.044650565756368624,
          0,
          0.7535120200692472,
          0.9941114436759457,
          0.7779892251570464,
          0,
          0,
          0.7129040937764112,
          0.9635351292716232,
          0.7888484954850132,
          0,
          0.058452304894219737,
          0.7418647763196636,
          1.0388608054542157,
          0.7859935001945115,
          0,
          0,
          0.7773541156971346,
          1.0085533121123713,
          0.729035674151937,
          0.0028698713770700345,
          0.06532893384973568,
          0.7523503033571045,
          0.959461753855364,
          0.7901701494076675,
          0.014050870512645433,
          0.051856381185996024,
          0.8046815487462536,
          1.0035440469744672,
          0.7815820602044463,
          0.007367097309229145,
          0.008440442801802134,
          0.7940944177862375,
          0.9881211714746905,
          0.7556838661607708,
          0,
          0.007183028723810829,
          0.7853047289371803,
          1.021720027455928,
          0.7688569837288385,
          0.03560237826971888
         ],
         "yaxis": "y2"
        }
       ],
       "layout": {
        "height": 400,
        "template": {
         "data": {
          "bar": [
           {
            "error_x": {
             "color": "#2a3f5f"
            },
            "error_y": {
             "color": "#2a3f5f"
            },
            "marker": {
             "line": {
              "color": "#E5ECF6",
              "width": 0.5
             }
            },
            "type": "bar"
           }
          ],
          "barpolar": [
           {
            "marker": {
             "line": {
              "color": "#E5ECF6",
              "width": 0.5
             }
            },
            "type": "barpolar"
           }
          ],
          "carpet": [
           {
            "aaxis": {
             "endlinecolor": "#2a3f5f",
             "gridcolor": "white",
             "linecolor": "white",
             "minorgridcolor": "white",
             "startlinecolor": "#2a3f5f"
            },
            "baxis": {
             "endlinecolor": "#2a3f5f",
             "gridcolor": "white",
             "linecolor": "white",
             "minorgridcolor": "white",
             "startlinecolor": "#2a3f5f"
            },
            "type": "carpet"
           }
          ],
          "choropleth": [
           {
            "colorbar": {
             "outlinewidth": 0,
             "ticks": ""
            },
            "type": "choropleth"
           }
          ],
          "contour": [
           {
            "colorbar": {
             "outlinewidth": 0,
             "ticks": ""
            },
            "colorscale": [
             [
              0,
              "#0d0887"
             ],
             [
              0.1111111111111111,
              "#46039f"
             ],
             [
              0.2222222222222222,
              "#7201a8"
             ],
             [
              0.3333333333333333,
              "#9c179e"
             ],
             [
              0.4444444444444444,
              "#bd3786"
             ],
             [
              0.5555555555555556,
              "#d8576b"
             ],
             [
              0.6666666666666666,
              "#ed7953"
             ],
             [
              0.7777777777777778,
              "#fb9f3a"
             ],
             [
              0.8888888888888888,
              "#fdca26"
             ],
             [
              1,
              "#f0f921"
             ]
            ],
            "type": "contour"
           }
          ],
          "contourcarpet": [
           {
            "colorbar": {
             "outlinewidth": 0,
             "ticks": ""
            },
            "type": "contourcarpet"
           }
          ],
          "heatmap": [
           {
            "colorbar": {
             "outlinewidth": 0,
             "ticks": ""
            },
            "colorscale": [
             [
              0,
              "#0d0887"
             ],
             [
              0.1111111111111111,
              "#46039f"
             ],
             [
              0.2222222222222222,
              "#7201a8"
             ],
             [
              0.3333333333333333,
              "#9c179e"
             ],
             [
              0.4444444444444444,
              "#bd3786"
             ],
             [
              0.5555555555555556,
              "#d8576b"
             ],
             [
              0.6666666666666666,
              "#ed7953"
             ],
             [
              0.7777777777777778,
              "#fb9f3a"
             ],
             [
              0.8888888888888888,
              "#fdca26"
             ],
             [
              1,
              "#f0f921"
             ]
            ],
            "type": "heatmap"
           }
          ],
          "heatmapgl": [
           {
            "colorbar": {
             "outlinewidth": 0,
             "ticks": ""
            },
            "colorscale": [
             [
              0,
              "#0d0887"
             ],
             [
              0.1111111111111111,
              "#46039f"
             ],
             [
              0.2222222222222222,
              "#7201a8"
             ],
             [
              0.3333333333333333,
              "#9c179e"
             ],
             [
              0.4444444444444444,
              "#bd3786"
             ],
             [
              0.5555555555555556,
              "#d8576b"
             ],
             [
              0.6666666666666666,
              "#ed7953"
             ],
             [
              0.7777777777777778,
              "#fb9f3a"
             ],
             [
              0.8888888888888888,
              "#fdca26"
             ],
             [
              1,
              "#f0f921"
             ]
            ],
            "type": "heatmapgl"
           }
          ],
          "histogram": [
           {
            "marker": {
             "colorbar": {
              "outlinewidth": 0,
              "ticks": ""
             }
            },
            "type": "histogram"
           }
          ],
          "histogram2d": [
           {
            "colorbar": {
             "outlinewidth": 0,
             "ticks": ""
            },
            "colorscale": [
             [
              0,
              "#0d0887"
             ],
             [
              0.1111111111111111,
              "#46039f"
             ],
             [
              0.2222222222222222,
              "#7201a8"
             ],
             [
              0.3333333333333333,
              "#9c179e"
             ],
             [
              0.4444444444444444,
              "#bd3786"
             ],
             [
              0.5555555555555556,
              "#d8576b"
             ],
             [
              0.6666666666666666,
              "#ed7953"
             ],
             [
              0.7777777777777778,
              "#fb9f3a"
             ],
             [
              0.8888888888888888,
              "#fdca26"
             ],
             [
              1,
              "#f0f921"
             ]
            ],
            "type": "histogram2d"
           }
          ],
          "histogram2dcontour": [
           {
            "colorbar": {
             "outlinewidth": 0,
             "ticks": ""
            },
            "colorscale": [
             [
              0,
              "#0d0887"
             ],
             [
              0.1111111111111111,
              "#46039f"
             ],
             [
              0.2222222222222222,
              "#7201a8"
             ],
             [
              0.3333333333333333,
              "#9c179e"
             ],
             [
              0.4444444444444444,
              "#bd3786"
             ],
             [
              0.5555555555555556,
              "#d8576b"
             ],
             [
              0.6666666666666666,
              "#ed7953"
             ],
             [
              0.7777777777777778,
              "#fb9f3a"
             ],
             [
              0.8888888888888888,
              "#fdca26"
             ],
             [
              1,
              "#f0f921"
             ]
            ],
            "type": "histogram2dcontour"
           }
          ],
          "mesh3d": [
           {
            "colorbar": {
             "outlinewidth": 0,
             "ticks": ""
            },
            "type": "mesh3d"
           }
          ],
          "parcoords": [
           {
            "line": {
             "colorbar": {
              "outlinewidth": 0,
              "ticks": ""
             }
            },
            "type": "parcoords"
           }
          ],
          "pie": [
           {
            "automargin": true,
            "type": "pie"
           }
          ],
          "scatter": [
           {
            "marker": {
             "colorbar": {
              "outlinewidth": 0,
              "ticks": ""
             }
            },
            "type": "scatter"
           }
          ],
          "scatter3d": [
           {
            "line": {
             "colorbar": {
              "outlinewidth": 0,
              "ticks": ""
             }
            },
            "marker": {
             "colorbar": {
              "outlinewidth": 0,
              "ticks": ""
             }
            },
            "type": "scatter3d"
           }
          ],
          "scattercarpet": [
           {
            "marker": {
             "colorbar": {
              "outlinewidth": 0,
              "ticks": ""
             }
            },
            "type": "scattercarpet"
           }
          ],
          "scattergeo": [
           {
            "marker": {
             "colorbar": {
              "outlinewidth": 0,
              "ticks": ""
             }
            },
            "type": "scattergeo"
           }
          ],
          "scattergl": [
           {
            "marker": {
             "colorbar": {
              "outlinewidth": 0,
              "ticks": ""
             }
            },
            "type": "scattergl"
           }
          ],
          "scattermapbox": [
           {
            "marker": {
             "colorbar": {
              "outlinewidth": 0,
              "ticks": ""
             }
            },
            "type": "scattermapbox"
           }
          ],
          "scatterpolar": [
           {
            "marker": {
             "colorbar": {
              "outlinewidth": 0,
              "ticks": ""
             }
            },
            "type": "scatterpolar"
           }
          ],
          "scatterpolargl": [
           {
            "marker": {
             "colorbar": {
              "outlinewidth": 0,
              "ticks": ""
             }
            },
            "type": "scatterpolargl"
           }
          ],
          "scatterternary": [
           {
            "marker": {
             "colorbar": {
              "outlinewidth": 0,
              "ticks": ""
             }
            },
            "type": "scatterternary"
           }
          ],
          "surface": [
           {
            "colorbar": {
             "outlinewidth": 0,
             "ticks": ""
            },
            "colorscale": [
             [
              0,
              "#0d0887"
             ],
             [
              0.1111111111111111,
              "#46039f"
             ],
             [
              0.2222222222222222,
              "#7201a8"
             ],
             [
              0.3333333333333333,
              "#9c179e"
             ],
             [
              0.4444444444444444,
              "#bd3786"
             ],
             [
              0.5555555555555556,
              "#d8576b"
             ],
             [
              0.6666666666666666,
              "#ed7953"
             ],
             [
              0.7777777777777778,
              "#fb9f3a"
             ],
             [
              0.8888888888888888,
              "#fdca26"
             ],
             [
              1,
              "#f0f921"
             ]
            ],
            "type": "surface"
           }
          ],
          "table": [
           {
            "cells": {
             "fill": {
              "color": "#EBF0F8"
             },
             "line": {
              "color": "white"
             }
            },
            "header": {
             "fill": {
              "color": "#C8D4E3"
             },
             "line": {
              "color": "white"
             }
            },
            "type": "table"
           }
          ]
         },
         "layout": {
          "annotationdefaults": {
           "arrowcolor": "#2a3f5f",
           "arrowhead": 0,
           "arrowwidth": 1
          },
          "autotypenumbers": "strict",
          "coloraxis": {
           "colorbar": {
            "outlinewidth": 0,
            "ticks": ""
           }
          },
          "colorscale": {
           "diverging": [
            [
             0,
             "#8e0152"
            ],
            [
             0.1,
             "#c51b7d"
            ],
            [
             0.2,
             "#de77ae"
            ],
            [
             0.3,
             "#f1b6da"
            ],
            [
             0.4,
             "#fde0ef"
            ],
            [
             0.5,
             "#f7f7f7"
            ],
            [
             0.6,
             "#e6f5d0"
            ],
            [
             0.7,
             "#b8e186"
            ],
            [
             0.8,
             "#7fbc41"
            ],
            [
             0.9,
             "#4d9221"
            ],
            [
             1,
             "#276419"
            ]
           ],
           "sequential": [
            [
             0,
             "#0d0887"
            ],
            [
             0.1111111111111111,
             "#46039f"
            ],
            [
             0.2222222222222222,
             "#7201a8"
            ],
            [
             0.3333333333333333,
             "#9c179e"
            ],
            [
             0.4444444444444444,
             "#bd3786"
            ],
            [
             0.5555555555555556,
             "#d8576b"
            ],
            [
             0.6666666666666666,
             "#ed7953"
            ],
            [
             0.7777777777777778,
             "#fb9f3a"
            ],
            [
             0.8888888888888888,
             "#fdca26"
            ],
            [
             1,
             "#f0f921"
            ]
           ],
           "sequentialminus": [
            [
             0,
             "#0d0887"
            ],
            [
             0.1111111111111111,
             "#46039f"
            ],
            [
             0.2222222222222222,
             "#7201a8"
            ],
            [
             0.3333333333333333,
             "#9c179e"
            ],
            [
             0.4444444444444444,
             "#bd3786"
            ],
            [
             0.5555555555555556,
             "#d8576b"
            ],
            [
             0.6666666666666666,
             "#ed7953"
            ],
            [
             0.7777777777777778,
             "#fb9f3a"
            ],
            [
             0.8888888888888888,
             "#fdca26"
            ],
            [
             1,
             "#f0f921"
            ]
           ]
          },
          "colorway": [
           "#636efa",
           "#EF553B",
           "#00cc96",
           "#ab63fa",
           "#FFA15A",
           "#19d3f3",
           "#FF6692",
           "#B6E880",
           "#FF97FF",
           "#FECB52"
          ],
          "font": {
           "color": "#2a3f5f"
          },
          "geo": {
           "bgcolor": "white",
           "lakecolor": "white",
           "landcolor": "#E5ECF6",
           "showlakes": true,
           "showland": true,
           "subunitcolor": "white"
          },
          "hoverlabel": {
           "align": "left"
          },
          "hovermode": "closest",
          "mapbox": {
           "style": "light"
          },
          "paper_bgcolor": "white",
          "plot_bgcolor": "#E5ECF6",
          "polar": {
           "angularaxis": {
            "gridcolor": "white",
            "linecolor": "white",
            "ticks": ""
           },
           "bgcolor": "#E5ECF6",
           "radialaxis": {
            "gridcolor": "white",
            "linecolor": "white",
            "ticks": ""
           }
          },
          "scene": {
           "xaxis": {
            "backgroundcolor": "#E5ECF6",
            "gridcolor": "white",
            "gridwidth": 2,
            "linecolor": "white",
            "showbackground": true,
            "ticks": "",
            "zerolinecolor": "white"
           },
           "yaxis": {
            "backgroundcolor": "#E5ECF6",
            "gridcolor": "white",
            "gridwidth": 2,
            "linecolor": "white",
            "showbackground": true,
            "ticks": "",
            "zerolinecolor": "white"
           },
           "zaxis": {
            "backgroundcolor": "#E5ECF6",
            "gridcolor": "white",
            "gridwidth": 2,
            "linecolor": "white",
            "showbackground": true,
            "ticks": "",
            "zerolinecolor": "white"
           }
          },
          "shapedefaults": {
           "line": {
            "color": "#2a3f5f"
           }
          },
          "ternary": {
           "aaxis": {
            "gridcolor": "white",
            "linecolor": "white",
            "ticks": ""
           },
           "baxis": {
            "gridcolor": "white",
            "linecolor": "white",
            "ticks": ""
           },
           "bgcolor": "#E5ECF6",
           "caxis": {
            "gridcolor": "white",
            "linecolor": "white",
            "ticks": ""
           }
          },
          "title": {
           "x": 0.05
          },
          "xaxis": {
           "automargin": true,
           "gridcolor": "white",
           "linecolor": "white",
           "ticks": "",
           "title": {
            "standoff": 15
           },
           "zerolinecolor": "white",
           "zerolinewidth": 2
          },
          "yaxis": {
           "automargin": true,
           "gridcolor": "white",
           "linecolor": "white",
           "ticks": "",
           "title": {
            "standoff": 15
           },
           "zerolinecolor": "white",
           "zerolinewidth": 2
          }
         }
        },
        "title": {
         "text": "Влияние параметров на объемы пополнений. Гистограмма"
        },
        "width": 800,
        "xaxis": {
         "anchor": "y",
         "domain": [
          0,
          1
         ]
        },
        "xaxis2": {
         "anchor": "y2",
         "domain": [
          0,
          1
         ]
        },
        "yaxis": {
         "anchor": "x",
         "domain": [
          0.575,
          1
         ]
        },
        "yaxis2": {
         "anchor": "x2",
         "domain": [
          0,
          0.425
         ]
        }
       }
      },
      "text/html": [
       "<div>                            <div id=\"510493b9-8b49-4767-b386-c58573497505\" class=\"plotly-graph-div\" style=\"height:400px; width:800px;\"></div>            <script type=\"text/javascript\">                require([\"plotly\"], function(Plotly) {                    window.PLOTLYENV=window.PLOTLYENV || {};                                    if (document.getElementById(\"510493b9-8b49-4767-b386-c58573497505\")) {                    Plotly.newPlot(                        \"510493b9-8b49-4767-b386-c58573497505\",                        [{\"name\": \"\\u041f\\u043e\\u043f\\u043e\\u043b\\u043d\\u0435\\u043d\\u0438\\u044f vs \\u0438\\u0437\\u043c\\u0435\\u043d\\u0435\\u043d\\u0438\\u0435 \\u043a\\u0443\\u0440\\u0441\\u0430\", \"type\": \"histogram\", \"x\": [\"(-0.1;0]\", \"(0;0.1]\", \"(-0.1;0]\", \"(-0.1;0]\", \"<-1\", \"(0;0.1]\", \">0.1\", \"(0;0.1]\", \"<-1\", \">0.1\", \"(-0.1;0]\", \"<-1\", \"(0;0.1]\", \">0.1\", \"(0;0.1]\", \"(-0.1;0]\", \"(-0.1;0]\", \"(0;0.1]\", \"(-0.1;0]\", \"(0;0.1]\", \"(0;0.1]\", \">0.1\", \"<-1\", \"(0;0.1]\", \"(0;0.1]\", \">0.1\", \"(0;0.1]\", \">0.1\", \"<-1\", \"(-0.1;0]\", \"(0;0.1]\", \"(-0.1;0]\", \"(0;0.1]\", \"(-0.1;0]\", \"<-1\", \"(0;0.1]\", \"(-0.1;0]\", \"(0;0.1]\", \"(0;0.1]\", \"(0;0.1]\", \"(-0.1;0]\", \">0.1\", \"(-0.1;0]\", \">0.1\", \"<-1\", \"(0;0.1]\", \"(0;0.1]\", \"(0;0.1]\", \"(0;0.1]\", \"(0;0.1]\", \"(-0.1;0]\", \">0.1\", \"<-1\", \">0.1\", \"(0;0.1]\", \"(-0.1;0]\", \"<-1\", \"<-1\", \"(0;0.1]\", \"<-1\", \"(0;0.1]\", \"(-0.1;0]\", \"<-1\", \"(0;0.1]\", \"(-0.1;0]\", \"(0;0.1]\", \"(0;0.1]\", \"(0;0.1]\", \"<-1\", \"(-0.1;0]\", \"(-0.1;0]\", \"(0;0.1]\", \">0.1\", \"(-0.1;0]\", \"<-1\", \"(-0.1;0]\", \"<-1\", \"<-1\", \">0.1\", \"(-0.1;0]\", \"(-0.1;0]\", \">0.1\", \"<-1\", \"(-0.1;0]\", \"(-0.1;0]\", \"(-0.1;0]\", \"(-0.1;0]\", \"<-1\", \">0.1\", \">0.1\", \"(0;0.1]\", \"(0;0.1]\", \">0.1\", \"<-1\", \"(0;0.1]\", \">0.1\", \"(-0.1;0]\", \"(0;0.1]\", \"(-0.1;0]\", \"<-1\", \"(0;0.1]\", \"(-0.1;0]\", \"(0;0.1]\", \">0.1\", \"<-1\", \"<-1\", \"(-0.1;0]\", \"(0;0.1]\", \"<-1\", \"(0;0.1]\", \"(0;0.1]\", \"(-0.1;0]\", \"(-0.1;0]\", \"(-0.1;0]\", \"<-1\", \"<-1\", \"(0;0.1]\", \"(-0.1;0]\", \"(0;0.1]\", \"(-0.1;0]\", \">0.1\", \"(0;0.1]\", \"<-1\", \"(-0.1;0]\", \">0.1\", \">0.1\", \"<-1\", \">0.1\", \">0.1\", \"(-0.1;0]\", \">0.1\", \"(-0.1;0]\", \"(-0.1;0]\", \"(-0.1;0]\", \"<-1\", \">0.1\", \"<-1\", \"(0;0.1]\", \"(0;0.1]\", \"(-0.1;0]\", \"(-0.1;0]\", \"(0;0.1]\", \"(0;0.1]\", \"(0;0.1]\", \"(-0.1;0]\", \"(-0.1;0]\", \"(-0.1;0]\", \"(-0.1;0]\", \"(0;0.1]\", \"<-1\", \"(0;0.1]\", \"(0;0.1]\", \"(0;0.1]\", \"(-0.1;0]\", \"(0;0.1]\", \"(-0.1;0]\", \">0.1\", \"<-1\", \"(0;0.1]\", \"(0;0.1]\", \">0.1\", \"(-0.1;0]\", \"(-0.1;0]\", \"(-0.1;0]\", \"(-0.1;0]\", \"(-0.1;0]\", \"(0;0.1]\", \"(0;0.1]\", \">0.1\", \"(0;0.1]\", \"(-0.1;0]\", \"(0;0.1]\", \">0.1\", \"<-1\", \"<-1\", \"(0;0.1]\", \"(-0.1;0]\", \">0.1\", \"(0;0.1]\", \">0.1\", \"(0;0.1]\", \"(-0.1;0]\", \"(0;0.1]\", \">0.1\", \"(-0.1;0]\", \"(-0.1;0]\", \"(-0.1;0]\", \"(0;0.1]\", \"(-0.1;0]\", \">0.1\", \"<-1\", \"(-0.1;0]\", \">0.1\", \">0.1\", \"(0;0.1]\", \"(-0.1;0]\", \"(0;0.1]\", \"(0;0.1]\", \">0.1\", \">0.1\", \"(-0.1;0]\", \">0.1\", \"(-0.1;0]\", \"(0;0.1]\", \">0.1\", \"<-1\", \">0.1\", \"(0;0.1]\", \"(0;0.1]\", \"(0;0.1]\", \"<-1\", \"(0;0.1]\", \"(-0.1;0]\", \">0.1\", \"<-1\", \"(0;0.1]\", \"(0;0.1]\", \"(-0.1;0]\", \"(-0.1;0]\", \"(0;0.1]\", \"(0;0.1]\", \"<-1\", \"(0;0.1]\", \"(0;0.1]\", \">0.1\", \">0.1\", \"(0;0.1]\", \"<-1\", \"(-0.1;0]\", \"<-1\", \">0.1\", \"(-0.1;0]\", \">0.1\", \"(-0.1;0]\", \"(-0.1;0]\", \"(-0.1;0]\", \"(-0.1;0]\", \"(-0.1;0]\", \"(-0.1;0]\", \"(0;0.1]\", \">0.1\", \"(-0.1;0]\", \"(-0.1;0]\", \"(0;0.1]\", \">0.1\", \"<-1\", \"(-0.1;0]\", \"<-1\", \"(0;0.1]\", \"(0;0.1]\", \"(0;0.1]\", \"<-1\", \"(-0.1;0]\", \"(0;0.1]\", \">0.1\", \"(-0.1;0]\", \"(-0.1;0]\", \">0.1\", \"(-0.1;0]\", \"<-1\", \"(0;0.1]\", \"(0;0.1]\", \"(0;0.1]\", \"(-0.1;0]\", \"(-0.1;0]\", \">0.1\", \"(-0.1;0]\", \"<-1\", \"(0;0.1]\", \"(-0.1;0]\", \">0.1\", \"<-1\", \">0.1\", \"(-0.1;0]\", \"(-0.1;0]\", \"(-0.1;0]\", \">0.1\", \"<-1\", \"<-1\", \"(0;0.1]\", \"(-0.1;0]\", \">0.1\", \"(0;0.1]\", \"(0;0.1]\", \"(0;0.1]\", \"(0;0.1]\", \"(-0.1;0]\", \"(-0.1;0]\", \"(-0.1;0]\", \"(0;0.1]\", \">0.1\", \"<-1\", \">0.1\", \"(0;0.1]\", \"<-1\", \">0.1\", \"(0;0.1]\", \"(-0.1;0]\", \"<-1\", \">0.1\", \"(-0.1;0]\", \"(0;0.1]\", \"(0;0.1]\", \"(-0.1;0]\", \"<-1\", \"(0;0.1]\", \"(0;0.1]\", \"<-1\", \">0.1\", \">0.1\", \"(-0.1;0]\", \"(0;0.1]\", \"(-0.1;0]\", \"(0;0.1]\", \"<-1\", \">0.1\", \">0.1\", \"(-0.1;0]\", \"(-0.1;0]\", \"(0;0.1]\", \"(-0.1;0]\", \"(-0.1;0]\", \"(-0.1;0]\", \">0.1\", \"(-0.1;0]\", \"(0;0.1]\", \">0.1\", \"<-1\", \"(-0.1;0]\", \"(-0.1;0]\", \"(-0.1;0]\", \">0.1\", \"(-0.1;0]\", \"(-0.1;0]\", \"(-0.1;0]\", \"<-1\", \"(0;0.1]\", \">0.1\", \"(0;0.1]\", \"<-1\", \"<-1\", \"(0;0.1]\", \"<-1\", \"(0;0.1]\", \">0.1\", \"(-0.1;0]\", \"(0;0.1]\", \"(-0.1;0]\", \"(0;0.1]\", \"(0;0.1]\", \"(0;0.1]\", \"<-1\", \"(0;0.1]\", \"(0;0.1]\", \">0.1\", \"(-0.1;0]\", \"(0;0.1]\", \"(0;0.1]\", \"<-1\", \"(-0.1;0]\", \"<-1\", \"(-0.1;0]\", \"<-1\", \"(-0.1;0]\", \"(0;0.1]\", \"(0;0.1]\", \"(-0.1;0]\", \"(0;0.1]\", \"(0;0.1]\", \"(-0.1;0]\", \"(-0.1;0]\", \"(-0.1;0]\", \">0.1\", \"(0;0.1]\", \"(-0.1;0]\", \"(0;0.1]\", \"(-0.1;0]\", \">0.1\", \"(0;0.1]\", \"<-1\", \"(0;0.1]\", \"<-1\", \"(-0.1;0]\", \"<-1\", \"(0;0.1]\", \"(-0.1;0]\", \"(-0.1;0]\", \"<-1\", \"<-1\", \"(0;0.1]\", \">0.1\", \"(0;0.1]\", \"(-0.1;0]\", \"(0;0.1]\", \"<-1\", \"(0;0.1]\", \">0.1\", \"<-1\", \">0.1\", \"<-1\", \"<-1\", \">0.1\", \"(-0.1;0]\", \"(0;0.1]\", \"(0;0.1]\", \"(-0.1;0]\", \">0.1\", \"(-0.1;0]\", \"(-0.1;0]\", \">0.1\", \"(-0.1;0]\", \"(0;0.1]\", \"(0;0.1]\", \"(-0.1;0]\", \"<-1\", \"(0;0.1]\", \">0.1\", \"(0;0.1]\", \">0.1\", \"(-0.1;0]\", \"(0;0.1]\", \"(-0.1;0]\", \"<-1\", \"(0;0.1]\", \">0.1\", \"(0;0.1]\", \"(0;0.1]\", \"(0;0.1]\", \"(0;0.1]\", \"(-0.1;0]\", \">0.1\", \"(-0.1;0]\", \"(-0.1;0]\", \"(0;0.1]\", \"(-0.1;0]\", \"(0;0.1]\", \"<-1\", \"(-0.1;0]\", \"<-1\", \"(0;0.1]\", \"(-0.1;0]\", \"(0;0.1]\", \"(0;0.1]\", \"(-0.1;0]\", \">0.1\", \"(0;0.1]\", \"(0;0.1]\", \">0.1\", \">0.1\", \"(-0.1;0]\", \">0.1\", \"(-0.1;0]\", \"<-1\", \"(0;0.1]\", \"(0;0.1]\", \"(0;0.1]\", \"(-0.1;0]\", \"(-0.1;0]\", \"(-0.1;0]\", \"(-0.1;0]\", \"(0;0.1]\", \"(0;0.1]\", \"(0;0.1]\", \"(-0.1;0]\", \"(0;0.1]\", \"<-1\", \"(0;0.1]\", \"(0;0.1]\", \"(-0.1;0]\", \"(-0.1;0]\", \"(-0.1;0]\", \"(-0.1;0]\", \"(-0.1;0]\", \"(-0.1;0]\", \"(-0.1;0]\", \"(0;0.1]\", \"(-0.1;0]\", \"(0;0.1]\", \">0.1\", \"(0;0.1]\", \"(-0.1;0]\", \"(-0.1;0]\", \">0.1\", \"<-1\", \"(-0.1;0]\", \"(-0.1;0]\", \"<-1\", \"(-0.1;0]\", \"(-0.1;0]\", \"(0;0.1]\", \"<-1\", \"<-1\", \"(0;0.1]\", \"(0;0.1]\", \"(0;0.1]\", \"(-0.1;0]\", \"<-1\", \"(-0.1;0]\", \"<-1\", \"<-1\"], \"xaxis\": \"x\", \"y\": [0.0, 0.7433232326429872, 0.9774047425972967, 0.7726702415163742, 0.03928876143736482, 0.0, 0.7181196017849273, 0.9709582392722839, 0.8241885718437671, 0.0, 0.010892099083406007, 0.7501129109186735, 0.9839595505499812, 0.7452243389947042, 0.0004424676236868168, 0.0, 0.7594821889739312, 0.9977784350952693, 0.7307647853013942, 0.0, 0.0, 0.727465229375124, 1.007942793636198, 0.7225893666150941, 0.018731323020972187, 0.0, 0.7422367285281536, 0.9874412198035674, 0.7947432535052172, 0.05569516472775865, 0.025830220739950095, 0.7580894527214936, 1.0480474754320723, 0.8014791010273239, 0.05092773163852208, 0.0, 0.7981851809322086, 0.991755021269524, 0.7877641288384442, 0.038122814255952917, 0.010720386905228751, 0.6906496824436125, 1.0049328147194785, 0.729087055452143, 0.02081329142885218, 0.0, 0.7693547340041862, 1.0077577698743136, 0.733834836195315, 0.0, 0.046119921797648, 0.7819044346935818, 1.0417764390288273, 0.7369494983701484, 0.0, 0.012972886773976199, 0.7961787922459581, 1.109164692256255, 0.7583995912084941, 0.02283445634815302, 0.0, 0.7654345554369477, 1.019814773830882, 0.7605730440597342, 0.02916974161802695, 0.0, 0.7347094858985785, 1.004879337557308, 0.7485817582306844, 0.0, 0.020969714031807224, 0.7998757610729234, 0.9904779251522807, 0.770423419208543, 0.07690902038462795, 0.04585336169477866, 0.7841709252958327, 1.0095914424637973, 0.7512876575551651, 0.031012645961243472, 0.044379218090661476, 0.7275042183469164, 1.0658848878305216, 0.7824623755220942, 0.038980093278685804, 0.0053468061684144655, 0.7557036612130336, 0.9837656731651222, 0.7247185526186902, 0.0, 0.015963865664178387, 0.726405918141206, 0.9428291745012413, 0.8203086243494793, 0.0, 0.0, 0.7812090712465282, 1.0080069015903763, 0.7998403595703065, 0.057214075350198394, 0.0, 0.7735199614656765, 1.016090217104712, 0.7019124555932327, 0.02053963063522242, 0.03912257621203474, 0.7667481086210298, 1.0633073590117976, 0.765073572538918, 0.0, 0.0, 0.7655489313897096, 1.0274339092827964, 0.7877446342214715, 0.03291057826003056, 0.025756015146570242, 0.7732754404996002, 0.9813069560659556, 0.7226417014799529, 0.05197599832658395, 0.0, 0.7540775366259774, 1.07682068832672, 0.7561612241175156, 0.0, 0.0, 0.7963980629273985, 0.969347134592443, 0.7325052464298342, 0.01616635799954945, 0.019103635952906414, 0.7460892443943391, 1.0010038425107846, 0.7994622992808713, 0.02311415404057378, 0.0, 0.7770015341215323, 1.0105232786580982, 0.7796300347927028, 0.009663556924268448, 0.061498869479303074, 0.740320448154599, 0.9745894094968441, 0.7761944797550066, 0.021248600521277576, 0.0, 0.7519463340150586, 1.0349433037195843, 0.7305514632376409, 0.04594029084483256, 0.0, 0.7468879881710054, 1.0378532521572645, 0.790889877578001, 0.005738881782245148, 0.002804591587030833, 0.7565880157798552, 1.046825611830515, 0.7374061630149067, 0.0270750585655759, 0.0, 0.7630330663227307, 1.0092462291341164, 0.7776925525145136, 0.0, 0.046272746730476204, 0.694622687852194, 0.9826321443780591, 0.7298007933104875, 0.05227896734231944, 0.0, 0.8050627819273766, 0.941549664949595, 0.7737694464560473, 0.06406884292868367, 0.008038838110441818, 0.791498624426426, 0.9719860584865012, 0.7157390860115568, 0.0, 0.001329608056596919, 0.7861961620049486, 0.974771874533562, 0.7190916112388697, 0.06751020959336827, 0.06508192960161577, 0.7946244123971702, 0.9928712543176944, 0.8063710149528367, 0.0, 0.05076242603527564, 0.7955917515507156, 1.0089695828082688, 0.772813821832711, 0.022050043299746493, 0.031220668162726457, 0.7322975166386453, 1.045730159310882, 0.6994430194278638, 0.0, 0.016360579935353267, 0.7216534758104266, 1.0003187264794728, 0.6925489283184445, 0.0, 0.053436687876645975, 0.7165192910611269, 1.0253265957557955, 0.7253137013519824, 0.05704383170147616, 0.0194636276870212, 0.738061140172843, 1.0025032960196067, 0.7331308467515265, 0.04005512540504611, 0.03491662028190411, 0.7738274893554757, 0.9596019125312417, 0.7720071454724283, 0.0008833043591345239, 0.0317414672292341, 0.7845013187576193, 0.983874452852444, 0.7345192546835867, 0.027218418627482505, 0.011431380409128663, 0.7365427717555596, 1.0809211250502087, 0.799556373629115, 0.04553029962858537, 0.0, 0.8081151288924554, 0.9814658693945431, 0.7739803484016986, 0.011650061248262414, 0.029738763461977933, 0.797606868432213, 1.0160811708311175, 0.7826476629082602, 0.024692926919757417, 0.0, 0.7294637902541375, 1.0113175172506859, 0.7598912989032368, 0.0, 0.036953694546876734, 0.7774997865830677, 1.0253716574793448, 0.749590882673223, 0.0, 0.0, 0.7688085112829236, 1.034808660394437, 0.7401008798898238, 0.0, 0.019393474035113777, 0.7754846485040647, 0.9538567380909408, 0.8098075912428356, 0.0, 0.0, 0.7647515611218605, 0.9628860615430668, 0.8007253185244462, 0.02462178293207731, 0.0, 0.7516207530937469, 1.0235837280987012, 0.7624225685376879, 0.022446744177224847, 0.0045878066965829405, 0.7605564207690909, 0.9905132594850525, 0.7616212485147942, 0.0, 0.0, 0.7543497449054617, 1.0040981104131208, 0.7571391901649501, 0.0, 0.0, 0.7394739005666695, 1.026265281913899, 0.7608884544064882, 0.02934132698516142, 0.0026539226858651073, 0.7872017920471496, 1.03303114300776, 0.7624549787195063, 0.011100554219417502, 0.005892657175832681, 0.7415500162055396, 0.9575188836272865, 0.7519842151521485, 0.07977603589659593, 0.0, 0.7451498975573124, 0.9906971406874939, 0.7944322645413163, 0.0, 0.0, 0.7195423659024227, 0.9915399681531454, 0.7670213739622399, 0.05423107424690053, 0.0, 0.7844325640621596, 1.0199189188334803, 0.7295266637175889, 0.0, 0.05466079939277582, 0.7616795340843184, 0.9667326909268852, 0.7888081881899782, 0.07042192022146321, 0.011453082413632668, 0.7187774003678108, 1.0132044454049884, 0.7994409307695213, 0.007488486687773067, 0.054905327686073646, 0.7783731735464459, 1.0148633841257024, 0.7363519882408873, 0.03418411847451013, 0.03148289994066169, 0.7486641048294177, 1.0169939351025161, 0.7660313503842692, 0.0, 0.0229662832718246, 0.7362411174941805, 1.0206308902582286, 0.815037602195298, 0.03902924589234309, 0.055225828060644404, 0.7520707903802339, 0.991531671943271, 0.7555378052800867, 0.0654179030812113, 0.08631317350277425, 0.7579992886613243, 1.0207152125666612, 0.7614538978983204, 0.0, 0.02450197431255356, 0.7607666384506593, 1.0295705227101661, 0.723735418476935, 0.0, 0.01180054407493452, 0.7880445426469449, 0.9774638222772684, 0.7457926319024882, 0.0, 0.05578981079089937, 0.7518909743257228, 1.002866858460713, 0.7469122333585314, 0.0, 0.04066486049759082, 0.7693028187863494, 1.0261106513610432, 0.7731262692979879, 0.0, 0.0, 0.7820433013073952, 0.9859544192864246, 0.7299099064390641, 0.005597618062185391, 0.0, 0.7844090869918854, 0.9873524800131402, 0.7507210399440074, 0.0, 0.020144313940323455, 0.7674101285009655, 0.9534161650976323, 0.7474269559929146, 0.005560951097046838, 0.0, 0.7762529145340232, 1.0079840678486087, 0.794145396293493, 0.004911177270158218, 0.07115959418436756, 0.7612525374182381, 1.0526695517000635, 0.7470078958375205, 0.016142096916474287, 0.0, 0.7394089719261943, 1.0441360867290128, 0.7565164072170912, 0.06211163536245163, 0.014140342938575991, 0.7238748690250628, 1.0369471153272325, 0.7115324616961239, 0.0533780075144489, 0.014457822186392612, 0.750579319037476, 1.0342702215303199, 0.7412259971183673, 0.020633495247644414, 0.041464527041091555, 0.7329675844217088, 1.0088640396595245, 0.7419651440359246, 0.0, 0.0425853254162953, 0.7337591487914035, 0.9984328548273858, 0.7975438981202896, 0.02324139966821591, 0.06641592428382517, 0.7272238223868903, 1.0321996538916482, 0.7410816869878892, 0.011670582551972643, 0.03789730532730683, 0.7922510239097369, 1.0550223710123874, 0.7423208479017028, 0.0, 0.004864028797678837, 0.7240955293719488, 1.0038721464990732, 0.7690180530148547, 0.0, 0.0, 0.7413533974523746, 0.9839755052751302, 0.755036802176087, 0.030062540206556587, 0.009015511086931795, 0.7891041492012291, 1.0349693395523294, 0.7790234076137517, 0.00432768259560142, 0.0337352412734556, 0.7370592225412221, 0.995885277485445, 0.8041676599510001, 0.0, 0.0, 0.7622700037066471, 0.923241326669757, 0.7660612511316414, 0.07275331045251603, 0.0, 0.7934844394425634, 1.0448106985337886, 0.7680772464327318, 0.010140364848949753, 0.002616944269525632, 0.7518868333927184, 1.047437063878232, 0.7666251849087906, 0.044650565756368624, 0.0, 0.7535120200692472, 0.9941114436759457, 0.7779892251570464, 0.0, 0.0, 0.7129040937764112, 0.9635351292716232, 0.7888484954850132, 0.0, 0.058452304894219737, 0.7418647763196636, 1.0388608054542157, 0.7859935001945115, 0.0, 0.0, 0.7773541156971346, 1.0085533121123713, 0.729035674151937, 0.0028698713770700345, 0.06532893384973568, 0.7523503033571045, 0.959461753855364, 0.7901701494076675, 0.014050870512645433, 0.051856381185996024, 0.8046815487462536, 1.0035440469744672, 0.7815820602044463, 0.007367097309229145, 0.008440442801802134, 0.7940944177862375, 0.9881211714746905, 0.7556838661607708, 0.0, 0.007183028723810829, 0.7853047289371803, 1.021720027455928, 0.7688569837288385, 0.03560237826971888], \"yaxis\": \"y\"}, {\"name\": \"\\u041f\\u043e\\u043f\\u043e\\u043b\\u043d\\u0435\\u043d\\u0438\\u044f vs \\u0438\\u0437\\u043c\\u0435\\u043d\\u0435\\u043d\\u0438\\u0435 \\u0441\\u0442\\u0430\\u0432\\u043e\\u043a\", \"type\": \"histogram\", \"x\": [\"(0;0.1]\", \"(0;0.1]\", \"(0;0.1]\", \"(-0.1;0]\", \"<-1\", \"(0;0.1]\", \">0.1\", \"(0;0.1]\", \"<-1\", \">0.1\", \"(0;0.1]\", \"(-0.1;0]\", \">0.1\", \"(0;0.1]\", \"(0;0.1]\", \"(0;0.1]\", \"(0;0.1]\", \"(0;0.1]\", \"(0;0.1]\", \">0.1\", \"(0;0.1]\", \">0.1\", \"(-0.1;0]\", \">0.1\", \"(-0.1;0]\", \">0.1\", \"(0;0.1]\", \"(0;0.1]\", \"<-1\", \"(-0.1;0]\", \"(-0.1;0]\", \"(-0.1;0]\", \"(-0.1;0]\", \"<-1\", \"<-1\", \"(0;0.1]\", \"(-0.1;0]\", \"(0;0.1]\", \"(-0.1;0]\", \"<-1\", \"(-0.1;0]\", \">0.1\", \"(-0.1;0]\", \">0.1\", \"(-0.1;0]\", \">0.1\", \"(-0.1;0]\", \"(-0.1;0]\", \"(0;0.1]\", \">0.1\", \"<-1\", \"(-0.1;0]\", \"<-1\", \">0.1\", \">0.1\", \"(-0.1;0]\", \"(-0.1;0]\", \"<-1\", \"(-0.1;0]\", \"(-0.1;0]\", \"(0;0.1]\", \"<-1\", \"(-0.1;0]\", \"(-0.1;0]\", \"(-0.1;0]\", \"(0;0.1]\", \"(0;0.1]\", \"(0;0.1]\", \"(0;0.1]\", \"(0;0.1]\", \"(-0.1;0]\", \"(-0.1;0]\", \">0.1\", \"(-0.1;0]\", \"<-1\", \"<-1\", \"<-1\", \"(0;0.1]\", \"(0;0.1]\", \"<-1\", \"(-0.1;0]\", \"(0;0.1]\", \"<-1\", \"(-0.1;0]\", \"(-0.1;0]\", \"(0;0.1]\", \"(0;0.1]\", \"(0;0.1]\", \">0.1\", \">0.1\", \"(0;0.1]\", \">0.1\", \">0.1\", \"<-1\", \"(0;0.1]\", \">0.1\", \"(-0.1;0]\", \"(0;0.1]\", \"<-1\", \"<-1\", \"(0;0.1]\", \"(-0.1;0]\", \"(-0.1;0]\", \">0.1\", \"(-0.1;0]\", \"<-1\", \"(-0.1;0]\", \"(-0.1;0]\", \"(-0.1;0]\", \"(0;0.1]\", \"(0;0.1]\", \"(-0.1;0]\", \"<-1\", \"(-0.1;0]\", \"(-0.1;0]\", \"<-1\", \"(-0.1;0]\", \"(0;0.1]\", \"(0;0.1]\", \"<-1\", \"(0;0.1]\", \"(0;0.1]\", \"<-1\", \"(-0.1;0]\", \">0.1\", \">0.1\", \"<-1\", \">0.1\", \"(0;0.1]\", \"(-0.1;0]\", \"(-0.1;0]\", \"(0;0.1]\", \"(0;0.1]\", \"<-1\", \"(-0.1;0]\", \">0.1\", \"(0;0.1]\", \"(-0.1;0]\", \"<-1\", \"(-0.1;0]\", \"<-1\", \"(0;0.1]\", \">0.1\", \"(-0.1;0]\", \"(-0.1;0]\", \"(0;0.1]\", \"(0;0.1]\", \"<-1\", \"(0;0.1]\", \"<-1\", \"(0;0.1]\", \"(0;0.1]\", \"(-0.1;0]\", \"<-1\", \"(0;0.1]\", \"(-0.1;0]\", \"(0;0.1]\", \"<-1\", \"(0;0.1]\", \"(-0.1;0]\", \">0.1\", \"(0;0.1]\", \"(0;0.1]\", \"(-0.1;0]\", \"(0;0.1]\", \"<-1\", \">0.1\", \"(0;0.1]\", \"(0;0.1]\", \"<-1\", \"(0;0.1]\", \"<-1\", \">0.1\", \"(-0.1;0]\", \"<-1\", \"(-0.1;0]\", \"<-1\", \">0.1\", \">0.1\", \"(0;0.1]\", \"(0;0.1]\", \"<-1\", \"(0;0.1]\", \">0.1\", \"<-1\", \"<-1\", \"<-1\", \"(0;0.1]\", \"<-1\", \">0.1\", \"<-1\", \"(-0.1;0]\", \"(0;0.1]\", \"(-0.1;0]\", \"(-0.1;0]\", \"(-0.1;0]\", \"(0;0.1]\", \"(-0.1;0]\", \">0.1\", \">0.1\", \"(-0.1;0]\", \">0.1\", \"(0;0.1]\", \">0.1\", \">0.1\", \"<-1\", \">0.1\", \"(-0.1;0]\", \"(0;0.1]\", \"<-1\", \"(-0.1;0]\", \"(0;0.1]\", \"(0;0.1]\", \">0.1\", \"<-1\", \"(-0.1;0]\", \"(-0.1;0]\", \">0.1\", \"(0;0.1]\", \"(0;0.1]\", \"(0;0.1]\", \"<-1\", \">0.1\", \"(0;0.1]\", \"(-0.1;0]\", \"(0;0.1]\", \"(0;0.1]\", \"<-1\", \"(-0.1;0]\", \"<-1\", \">0.1\", \"<-1\", \"(0;0.1]\", \"(-0.1;0]\", \"(-0.1;0]\", \"(-0.1;0]\", \"(-0.1;0]\", \"(-0.1;0]\", \"(-0.1;0]\", \"<-1\", \">0.1\", \">0.1\", \"(0;0.1]\", \"(-0.1;0]\", \">0.1\", \"(-0.1;0]\", \"(-0.1;0]\", \"(-0.1;0]\", \"(0;0.1]\", \"(0;0.1]\", \">0.1\", \"(-0.1;0]\", \"(-0.1;0]\", \"(0;0.1]\", \">0.1\", \"(-0.1;0]\", \"(-0.1;0]\", \">0.1\", \"<-1\", \"(0;0.1]\", \"(0;0.1]\", \"(-0.1;0]\", \">0.1\", \"<-1\", \"(-0.1;0]\", \"(0;0.1]\", \"(0;0.1]\", \"(-0.1;0]\", \"(-0.1;0]\", \"(-0.1;0]\", \">0.1\", \"(-0.1;0]\", \">0.1\", \"(-0.1;0]\", \">0.1\", \"(0;0.1]\", \"(0;0.1]\", \"(0;0.1]\", \"(-0.1;0]\", \"(0;0.1]\", \"(0;0.1]\", \"(0;0.1]\", \"(-0.1;0]\", \"(-0.1;0]\", \"(-0.1;0]\", \"(0;0.1]\", \"<-1\", \"(-0.1;0]\", \"(-0.1;0]\", \"(0;0.1]\", \"(0;0.1]\", \"(0;0.1]\", \">0.1\", \"(0;0.1]\", \"<-1\", \">0.1\", \"(0;0.1]\", \"(0;0.1]\", \"(-0.1;0]\", \"(0;0.1]\", \"(-0.1;0]\", \">0.1\", \"(0;0.1]\", \"(0;0.1]\", \"<-1\", \"(0;0.1]\", \"(-0.1;0]\", \"(-0.1;0]\", \"(0;0.1]\", \">0.1\", \"<-1\", \"(-0.1;0]\", \">0.1\", \"(-0.1;0]\", \"<-1\", \"(-0.1;0]\", \">0.1\", \"(-0.1;0]\", \"(-0.1;0]\", \"(0;0.1]\", \"<-1\", \"(-0.1;0]\", \"(0;0.1]\", \"(0;0.1]\", \"<-1\", \"(-0.1;0]\", \"(0;0.1]\", \"(-0.1;0]\", \"(-0.1;0]\", \"(0;0.1]\", \"(-0.1;0]\", \">0.1\", \"(-0.1;0]\", \"<-1\", \"(-0.1;0]\", \"<-1\", \"(0;0.1]\", \"(0;0.1]\", \"(-0.1;0]\", \"<-1\", \"<-1\", \"(-0.1;0]\", \"(-0.1;0]\", \"(0;0.1]\", \"(0;0.1]\", \"(-0.1;0]\", \"(-0.1;0]\", \"(-0.1;0]\", \">0.1\", \">0.1\", \"(0;0.1]\", \"(-0.1;0]\", \">0.1\", \"(0;0.1]\", \">0.1\", \"(-0.1;0]\", \"(0;0.1]\", \"(0;0.1]\", \"(0;0.1]\", \"(0;0.1]\", \"<-1\", \"(-0.1;0]\", \"(-0.1;0]\", \"(0;0.1]\", \"(0;0.1]\", \"(0;0.1]\", \"(-0.1;0]\", \">0.1\", \"(0;0.1]\", \"(-0.1;0]\", \"(0;0.1]\", \"(-0.1;0]\", \"(0;0.1]\", \"(0;0.1]\", \">0.1\", \"(0;0.1]\", \"(-0.1;0]\", \">0.1\", \"(0;0.1]\", \"(-0.1;0]\", \"(0;0.1]\", \"(-0.1;0]\", \"(-0.1;0]\", \"(-0.1;0]\", \"(0;0.1]\", \"<-1\", \"(0;0.1]\", \"<-1\", \"(0;0.1]\", \"(-0.1;0]\", \">0.1\", \"(0;0.1]\", \"<-1\", \"(-0.1;0]\", \"<-1\", \"(-0.1;0]\", \">0.1\", \"(-0.1;0]\", \">0.1\", \"<-1\", \"(-0.1;0]\", \"(0;0.1]\", \"(-0.1;0]\", \"(0;0.1]\", \"(-0.1;0]\", \"<-1\", \"(0;0.1]\", \"(0;0.1]\", \">0.1\", \">0.1\", \"(-0.1;0]\", \"(0;0.1]\", \"(0;0.1]\", \"<-1\", \"(-0.1;0]\", \"(-0.1;0]\", \">0.1\", \"(-0.1;0]\", \"(0;0.1]\", \"(-0.1;0]\", \"(-0.1;0]\", \"(-0.1;0]\", \"<-1\", \"(-0.1;0]\", \">0.1\", \"(0;0.1]\", \"(0;0.1]\", \"(0;0.1]\", \"(-0.1;0]\", \"(0;0.1]\", \">0.1\", \"(0;0.1]\", \"(0;0.1]\", \"(0;0.1]\", \"(-0.1;0]\", \"(0;0.1]\", \"(-0.1;0]\", \"(-0.1;0]\", \"<-1\", \"(0;0.1]\", \"(-0.1;0]\", \"(0;0.1]\", \"(-0.1;0]\", \"<-1\", \"(0;0.1]\", \">0.1\", \"(-0.1;0]\", \">0.1\", \"(0;0.1]\", \"<-1\", \">0.1\", \"(-0.1;0]\", \"(-0.1;0]\", \"(-0.1;0]\", \"(0;0.1]\", \"(0;0.1]\", \"(-0.1;0]\", \"<-1\", \"(-0.1;0]\", \"(-0.1;0]\", \"(0;0.1]\", \"(0;0.1]\", \"(0;0.1]\", \"<-1\", \"(0;0.1]\", \"(0;0.1]\", \">0.1\", \">0.1\", \"(-0.1;0]\", \"(0;0.1]\", \"<-1\", \"(0;0.1]\", \"(-0.1;0]\", \"<-1\", \"(0;0.1]\", \"(0;0.1]\", \"(-0.1;0]\", \"(-0.1;0]\", \">0.1\", \"(0;0.1]\", \"<-1\", \"(0;0.1]\", \">0.1\", \"<-1\", \"(-0.1;0]\", \"<-1\", \"<-1\", \"(0;0.1]\", \"(-0.1;0]\", \"(0;0.1]\", \"(-0.1;0]\", \"<-1\", \"(0;0.1]\", \"(0;0.1]\", \"(0;0.1]\", \"(0;0.1]\", \"(-0.1;0]\", \"(-0.1;0]\", \"(-0.1;0]\", \"(-0.1;0]\"], \"xaxis\": \"x2\", \"y\": [0.0, 0.7433232326429872, 0.9774047425972967, 0.7726702415163742, 0.03928876143736482, 0.0, 0.7181196017849273, 0.9709582392722839, 0.8241885718437671, 0.0, 0.010892099083406007, 0.7501129109186735, 0.9839595505499812, 0.7452243389947042, 0.0004424676236868168, 0.0, 0.7594821889739312, 0.9977784350952693, 0.7307647853013942, 0.0, 0.0, 0.727465229375124, 1.007942793636198, 0.7225893666150941, 0.018731323020972187, 0.0, 0.7422367285281536, 0.9874412198035674, 0.7947432535052172, 0.05569516472775865, 0.025830220739950095, 0.7580894527214936, 1.0480474754320723, 0.8014791010273239, 0.05092773163852208, 0.0, 0.7981851809322086, 0.991755021269524, 0.7877641288384442, 0.038122814255952917, 0.010720386905228751, 0.6906496824436125, 1.0049328147194785, 0.729087055452143, 0.02081329142885218, 0.0, 0.7693547340041862, 1.0077577698743136, 0.733834836195315, 0.0, 0.046119921797648, 0.7819044346935818, 1.0417764390288273, 0.7369494983701484, 0.0, 0.012972886773976199, 0.7961787922459581, 1.109164692256255, 0.7583995912084941, 0.02283445634815302, 0.0, 0.7654345554369477, 1.019814773830882, 0.7605730440597342, 0.02916974161802695, 0.0, 0.7347094858985785, 1.004879337557308, 0.7485817582306844, 0.0, 0.020969714031807224, 0.7998757610729234, 0.9904779251522807, 0.770423419208543, 0.07690902038462795, 0.04585336169477866, 0.7841709252958327, 1.0095914424637973, 0.7512876575551651, 0.031012645961243472, 0.044379218090661476, 0.7275042183469164, 1.0658848878305216, 0.7824623755220942, 0.038980093278685804, 0.0053468061684144655, 0.7557036612130336, 0.9837656731651222, 0.7247185526186902, 0.0, 0.015963865664178387, 0.726405918141206, 0.9428291745012413, 0.8203086243494793, 0.0, 0.0, 0.7812090712465282, 1.0080069015903763, 0.7998403595703065, 0.057214075350198394, 0.0, 0.7735199614656765, 1.016090217104712, 0.7019124555932327, 0.02053963063522242, 0.03912257621203474, 0.7667481086210298, 1.0633073590117976, 0.765073572538918, 0.0, 0.0, 0.7655489313897096, 1.0274339092827964, 0.7877446342214715, 0.03291057826003056, 0.025756015146570242, 0.7732754404996002, 0.9813069560659556, 0.7226417014799529, 0.05197599832658395, 0.0, 0.7540775366259774, 1.07682068832672, 0.7561612241175156, 0.0, 0.0, 0.7963980629273985, 0.969347134592443, 0.7325052464298342, 0.01616635799954945, 0.019103635952906414, 0.7460892443943391, 1.0010038425107846, 0.7994622992808713, 0.02311415404057378, 0.0, 0.7770015341215323, 1.0105232786580982, 0.7796300347927028, 0.009663556924268448, 0.061498869479303074, 0.740320448154599, 0.9745894094968441, 0.7761944797550066, 0.021248600521277576, 0.0, 0.7519463340150586, 1.0349433037195843, 0.7305514632376409, 0.04594029084483256, 0.0, 0.7468879881710054, 1.0378532521572645, 0.790889877578001, 0.005738881782245148, 0.002804591587030833, 0.7565880157798552, 1.046825611830515, 0.7374061630149067, 0.0270750585655759, 0.0, 0.7630330663227307, 1.0092462291341164, 0.7776925525145136, 0.0, 0.046272746730476204, 0.694622687852194, 0.9826321443780591, 0.7298007933104875, 0.05227896734231944, 0.0, 0.8050627819273766, 0.941549664949595, 0.7737694464560473, 0.06406884292868367, 0.008038838110441818, 0.791498624426426, 0.9719860584865012, 0.7157390860115568, 0.0, 0.001329608056596919, 0.7861961620049486, 0.974771874533562, 0.7190916112388697, 0.06751020959336827, 0.06508192960161577, 0.7946244123971702, 0.9928712543176944, 0.8063710149528367, 0.0, 0.05076242603527564, 0.7955917515507156, 1.0089695828082688, 0.772813821832711, 0.022050043299746493, 0.031220668162726457, 0.7322975166386453, 1.045730159310882, 0.6994430194278638, 0.0, 0.016360579935353267, 0.7216534758104266, 1.0003187264794728, 0.6925489283184445, 0.0, 0.053436687876645975, 0.7165192910611269, 1.0253265957557955, 0.7253137013519824, 0.05704383170147616, 0.0194636276870212, 0.738061140172843, 1.0025032960196067, 0.7331308467515265, 0.04005512540504611, 0.03491662028190411, 0.7738274893554757, 0.9596019125312417, 0.7720071454724283, 0.0008833043591345239, 0.0317414672292341, 0.7845013187576193, 0.983874452852444, 0.7345192546835867, 0.027218418627482505, 0.011431380409128663, 0.7365427717555596, 1.0809211250502087, 0.799556373629115, 0.04553029962858537, 0.0, 0.8081151288924554, 0.9814658693945431, 0.7739803484016986, 0.011650061248262414, 0.029738763461977933, 0.797606868432213, 1.0160811708311175, 0.7826476629082602, 0.024692926919757417, 0.0, 0.7294637902541375, 1.0113175172506859, 0.7598912989032368, 0.0, 0.036953694546876734, 0.7774997865830677, 1.0253716574793448, 0.749590882673223, 0.0, 0.0, 0.7688085112829236, 1.034808660394437, 0.7401008798898238, 0.0, 0.019393474035113777, 0.7754846485040647, 0.9538567380909408, 0.8098075912428356, 0.0, 0.0, 0.7647515611218605, 0.9628860615430668, 0.8007253185244462, 0.02462178293207731, 0.0, 0.7516207530937469, 1.0235837280987012, 0.7624225685376879, 0.022446744177224847, 0.0045878066965829405, 0.7605564207690909, 0.9905132594850525, 0.7616212485147942, 0.0, 0.0, 0.7543497449054617, 1.0040981104131208, 0.7571391901649501, 0.0, 0.0, 0.7394739005666695, 1.026265281913899, 0.7608884544064882, 0.02934132698516142, 0.0026539226858651073, 0.7872017920471496, 1.03303114300776, 0.7624549787195063, 0.011100554219417502, 0.005892657175832681, 0.7415500162055396, 0.9575188836272865, 0.7519842151521485, 0.07977603589659593, 0.0, 0.7451498975573124, 0.9906971406874939, 0.7944322645413163, 0.0, 0.0, 0.7195423659024227, 0.9915399681531454, 0.7670213739622399, 0.05423107424690053, 0.0, 0.7844325640621596, 1.0199189188334803, 0.7295266637175889, 0.0, 0.05466079939277582, 0.7616795340843184, 0.9667326909268852, 0.7888081881899782, 0.07042192022146321, 0.011453082413632668, 0.7187774003678108, 1.0132044454049884, 0.7994409307695213, 0.007488486687773067, 0.054905327686073646, 0.7783731735464459, 1.0148633841257024, 0.7363519882408873, 0.03418411847451013, 0.03148289994066169, 0.7486641048294177, 1.0169939351025161, 0.7660313503842692, 0.0, 0.0229662832718246, 0.7362411174941805, 1.0206308902582286, 0.815037602195298, 0.03902924589234309, 0.055225828060644404, 0.7520707903802339, 0.991531671943271, 0.7555378052800867, 0.0654179030812113, 0.08631317350277425, 0.7579992886613243, 1.0207152125666612, 0.7614538978983204, 0.0, 0.02450197431255356, 0.7607666384506593, 1.0295705227101661, 0.723735418476935, 0.0, 0.01180054407493452, 0.7880445426469449, 0.9774638222772684, 0.7457926319024882, 0.0, 0.05578981079089937, 0.7518909743257228, 1.002866858460713, 0.7469122333585314, 0.0, 0.04066486049759082, 0.7693028187863494, 1.0261106513610432, 0.7731262692979879, 0.0, 0.0, 0.7820433013073952, 0.9859544192864246, 0.7299099064390641, 0.005597618062185391, 0.0, 0.7844090869918854, 0.9873524800131402, 0.7507210399440074, 0.0, 0.020144313940323455, 0.7674101285009655, 0.9534161650976323, 0.7474269559929146, 0.005560951097046838, 0.0, 0.7762529145340232, 1.0079840678486087, 0.794145396293493, 0.004911177270158218, 0.07115959418436756, 0.7612525374182381, 1.0526695517000635, 0.7470078958375205, 0.016142096916474287, 0.0, 0.7394089719261943, 1.0441360867290128, 0.7565164072170912, 0.06211163536245163, 0.014140342938575991, 0.7238748690250628, 1.0369471153272325, 0.7115324616961239, 0.0533780075144489, 0.014457822186392612, 0.750579319037476, 1.0342702215303199, 0.7412259971183673, 0.020633495247644414, 0.041464527041091555, 0.7329675844217088, 1.0088640396595245, 0.7419651440359246, 0.0, 0.0425853254162953, 0.7337591487914035, 0.9984328548273858, 0.7975438981202896, 0.02324139966821591, 0.06641592428382517, 0.7272238223868903, 1.0321996538916482, 0.7410816869878892, 0.011670582551972643, 0.03789730532730683, 0.7922510239097369, 1.0550223710123874, 0.7423208479017028, 0.0, 0.004864028797678837, 0.7240955293719488, 1.0038721464990732, 0.7690180530148547, 0.0, 0.0, 0.7413533974523746, 0.9839755052751302, 0.755036802176087, 0.030062540206556587, 0.009015511086931795, 0.7891041492012291, 1.0349693395523294, 0.7790234076137517, 0.00432768259560142, 0.0337352412734556, 0.7370592225412221, 0.995885277485445, 0.8041676599510001, 0.0, 0.0, 0.7622700037066471, 0.923241326669757, 0.7660612511316414, 0.07275331045251603, 0.0, 0.7934844394425634, 1.0448106985337886, 0.7680772464327318, 0.010140364848949753, 0.002616944269525632, 0.7518868333927184, 1.047437063878232, 0.7666251849087906, 0.044650565756368624, 0.0, 0.7535120200692472, 0.9941114436759457, 0.7779892251570464, 0.0, 0.0, 0.7129040937764112, 0.9635351292716232, 0.7888484954850132, 0.0, 0.058452304894219737, 0.7418647763196636, 1.0388608054542157, 0.7859935001945115, 0.0, 0.0, 0.7773541156971346, 1.0085533121123713, 0.729035674151937, 0.0028698713770700345, 0.06532893384973568, 0.7523503033571045, 0.959461753855364, 0.7901701494076675, 0.014050870512645433, 0.051856381185996024, 0.8046815487462536, 1.0035440469744672, 0.7815820602044463, 0.007367097309229145, 0.008440442801802134, 0.7940944177862375, 0.9881211714746905, 0.7556838661607708, 0.0, 0.007183028723810829, 0.7853047289371803, 1.021720027455928, 0.7688569837288385, 0.03560237826971888], \"yaxis\": \"y2\"}],                        {\"height\": 400, \"template\": {\"data\": {\"bar\": [{\"error_x\": {\"color\": \"#2a3f5f\"}, \"error_y\": {\"color\": \"#2a3f5f\"}, \"marker\": {\"line\": {\"color\": \"#E5ECF6\", \"width\": 0.5}}, \"type\": \"bar\"}], \"barpolar\": [{\"marker\": {\"line\": {\"color\": \"#E5ECF6\", \"width\": 0.5}}, \"type\": \"barpolar\"}], \"carpet\": [{\"aaxis\": {\"endlinecolor\": \"#2a3f5f\", \"gridcolor\": \"white\", \"linecolor\": \"white\", \"minorgridcolor\": \"white\", \"startlinecolor\": \"#2a3f5f\"}, \"baxis\": {\"endlinecolor\": \"#2a3f5f\", \"gridcolor\": \"white\", \"linecolor\": \"white\", \"minorgridcolor\": \"white\", \"startlinecolor\": \"#2a3f5f\"}, \"type\": \"carpet\"}], \"choropleth\": [{\"colorbar\": {\"outlinewidth\": 0, \"ticks\": \"\"}, \"type\": \"choropleth\"}], \"contour\": [{\"colorbar\": {\"outlinewidth\": 0, \"ticks\": \"\"}, \"colorscale\": [[0.0, \"#0d0887\"], [0.1111111111111111, \"#46039f\"], [0.2222222222222222, \"#7201a8\"], [0.3333333333333333, \"#9c179e\"], [0.4444444444444444, \"#bd3786\"], [0.5555555555555556, \"#d8576b\"], [0.6666666666666666, \"#ed7953\"], [0.7777777777777778, \"#fb9f3a\"], [0.8888888888888888, \"#fdca26\"], [1.0, \"#f0f921\"]], \"type\": \"contour\"}], \"contourcarpet\": [{\"colorbar\": {\"outlinewidth\": 0, \"ticks\": \"\"}, \"type\": \"contourcarpet\"}], \"heatmap\": [{\"colorbar\": {\"outlinewidth\": 0, \"ticks\": \"\"}, \"colorscale\": [[0.0, \"#0d0887\"], [0.1111111111111111, \"#46039f\"], [0.2222222222222222, \"#7201a8\"], [0.3333333333333333, \"#9c179e\"], [0.4444444444444444, \"#bd3786\"], [0.5555555555555556, \"#d8576b\"], [0.6666666666666666, \"#ed7953\"], [0.7777777777777778, \"#fb9f3a\"], [0.8888888888888888, \"#fdca26\"], [1.0, \"#f0f921\"]], \"type\": \"heatmap\"}], \"heatmapgl\": [{\"colorbar\": {\"outlinewidth\": 0, \"ticks\": \"\"}, \"colorscale\": [[0.0, \"#0d0887\"], [0.1111111111111111, \"#46039f\"], [0.2222222222222222, \"#7201a8\"], [0.3333333333333333, \"#9c179e\"], [0.4444444444444444, \"#bd3786\"], [0.5555555555555556, \"#d8576b\"], [0.6666666666666666, \"#ed7953\"], [0.7777777777777778, \"#fb9f3a\"], [0.8888888888888888, \"#fdca26\"], [1.0, \"#f0f921\"]], \"type\": \"heatmapgl\"}], \"histogram\": [{\"marker\": {\"colorbar\": {\"outlinewidth\": 0, \"ticks\": \"\"}}, \"type\": \"histogram\"}], \"histogram2d\": [{\"colorbar\": {\"outlinewidth\": 0, \"ticks\": \"\"}, \"colorscale\": [[0.0, \"#0d0887\"], [0.1111111111111111, \"#46039f\"], [0.2222222222222222, \"#7201a8\"], [0.3333333333333333, \"#9c179e\"], [0.4444444444444444, \"#bd3786\"], [0.5555555555555556, \"#d8576b\"], [0.6666666666666666, \"#ed7953\"], [0.7777777777777778, \"#fb9f3a\"], [0.8888888888888888, \"#fdca26\"], [1.0, \"#f0f921\"]], \"type\": \"histogram2d\"}], \"histogram2dcontour\": [{\"colorbar\": {\"outlinewidth\": 0, \"ticks\": \"\"}, \"colorscale\": [[0.0, \"#0d0887\"], [0.1111111111111111, \"#46039f\"], [0.2222222222222222, \"#7201a8\"], [0.3333333333333333, \"#9c179e\"], [0.4444444444444444, \"#bd3786\"], [0.5555555555555556, \"#d8576b\"], [0.6666666666666666, \"#ed7953\"], [0.7777777777777778, \"#fb9f3a\"], [0.8888888888888888, \"#fdca26\"], [1.0, \"#f0f921\"]], \"type\": \"histogram2dcontour\"}], \"mesh3d\": [{\"colorbar\": {\"outlinewidth\": 0, \"ticks\": \"\"}, \"type\": \"mesh3d\"}], \"parcoords\": [{\"line\": {\"colorbar\": {\"outlinewidth\": 0, \"ticks\": \"\"}}, \"type\": \"parcoords\"}], \"pie\": [{\"automargin\": true, \"type\": \"pie\"}], \"scatter\": [{\"marker\": {\"colorbar\": {\"outlinewidth\": 0, \"ticks\": \"\"}}, \"type\": \"scatter\"}], \"scatter3d\": [{\"line\": {\"colorbar\": {\"outlinewidth\": 0, \"ticks\": \"\"}}, \"marker\": {\"colorbar\": {\"outlinewidth\": 0, \"ticks\": \"\"}}, \"type\": \"scatter3d\"}], \"scattercarpet\": [{\"marker\": {\"colorbar\": {\"outlinewidth\": 0, \"ticks\": \"\"}}, \"type\": \"scattercarpet\"}], \"scattergeo\": [{\"marker\": {\"colorbar\": {\"outlinewidth\": 0, \"ticks\": \"\"}}, \"type\": \"scattergeo\"}], \"scattergl\": [{\"marker\": {\"colorbar\": {\"outlinewidth\": 0, \"ticks\": \"\"}}, \"type\": \"scattergl\"}], \"scattermapbox\": [{\"marker\": {\"colorbar\": {\"outlinewidth\": 0, \"ticks\": \"\"}}, \"type\": \"scattermapbox\"}], \"scatterpolar\": [{\"marker\": {\"colorbar\": {\"outlinewidth\": 0, \"ticks\": \"\"}}, \"type\": \"scatterpolar\"}], \"scatterpolargl\": [{\"marker\": {\"colorbar\": {\"outlinewidth\": 0, \"ticks\": \"\"}}, \"type\": \"scatterpolargl\"}], \"scatterternary\": [{\"marker\": {\"colorbar\": {\"outlinewidth\": 0, \"ticks\": \"\"}}, \"type\": \"scatterternary\"}], \"surface\": [{\"colorbar\": {\"outlinewidth\": 0, \"ticks\": \"\"}, \"colorscale\": [[0.0, \"#0d0887\"], [0.1111111111111111, \"#46039f\"], [0.2222222222222222, \"#7201a8\"], [0.3333333333333333, \"#9c179e\"], [0.4444444444444444, \"#bd3786\"], [0.5555555555555556, \"#d8576b\"], [0.6666666666666666, \"#ed7953\"], [0.7777777777777778, \"#fb9f3a\"], [0.8888888888888888, \"#fdca26\"], [1.0, \"#f0f921\"]], \"type\": \"surface\"}], \"table\": [{\"cells\": {\"fill\": {\"color\": \"#EBF0F8\"}, \"line\": {\"color\": \"white\"}}, \"header\": {\"fill\": {\"color\": \"#C8D4E3\"}, \"line\": {\"color\": \"white\"}}, \"type\": \"table\"}]}, \"layout\": {\"annotationdefaults\": {\"arrowcolor\": \"#2a3f5f\", \"arrowhead\": 0, \"arrowwidth\": 1}, \"autotypenumbers\": \"strict\", \"coloraxis\": {\"colorbar\": {\"outlinewidth\": 0, \"ticks\": \"\"}}, \"colorscale\": {\"diverging\": [[0, \"#8e0152\"], [0.1, \"#c51b7d\"], [0.2, \"#de77ae\"], [0.3, \"#f1b6da\"], [0.4, \"#fde0ef\"], [0.5, \"#f7f7f7\"], [0.6, \"#e6f5d0\"], [0.7, \"#b8e186\"], [0.8, \"#7fbc41\"], [0.9, \"#4d9221\"], [1, \"#276419\"]], \"sequential\": [[0.0, \"#0d0887\"], [0.1111111111111111, \"#46039f\"], [0.2222222222222222, \"#7201a8\"], [0.3333333333333333, \"#9c179e\"], [0.4444444444444444, \"#bd3786\"], [0.5555555555555556, \"#d8576b\"], [0.6666666666666666, \"#ed7953\"], [0.7777777777777778, \"#fb9f3a\"], [0.8888888888888888, \"#fdca26\"], [1.0, \"#f0f921\"]], \"sequentialminus\": [[0.0, \"#0d0887\"], [0.1111111111111111, \"#46039f\"], [0.2222222222222222, \"#7201a8\"], [0.3333333333333333, \"#9c179e\"], [0.4444444444444444, \"#bd3786\"], [0.5555555555555556, \"#d8576b\"], [0.6666666666666666, \"#ed7953\"], [0.7777777777777778, \"#fb9f3a\"], [0.8888888888888888, \"#fdca26\"], [1.0, \"#f0f921\"]]}, \"colorway\": [\"#636efa\", \"#EF553B\", \"#00cc96\", \"#ab63fa\", \"#FFA15A\", \"#19d3f3\", \"#FF6692\", \"#B6E880\", \"#FF97FF\", \"#FECB52\"], \"font\": {\"color\": \"#2a3f5f\"}, \"geo\": {\"bgcolor\": \"white\", \"lakecolor\": \"white\", \"landcolor\": \"#E5ECF6\", \"showlakes\": true, \"showland\": true, \"subunitcolor\": \"white\"}, \"hoverlabel\": {\"align\": \"left\"}, \"hovermode\": \"closest\", \"mapbox\": {\"style\": \"light\"}, \"paper_bgcolor\": \"white\", \"plot_bgcolor\": \"#E5ECF6\", \"polar\": {\"angularaxis\": {\"gridcolor\": \"white\", \"linecolor\": \"white\", \"ticks\": \"\"}, \"bgcolor\": \"#E5ECF6\", \"radialaxis\": {\"gridcolor\": \"white\", \"linecolor\": \"white\", \"ticks\": \"\"}}, \"scene\": {\"xaxis\": {\"backgroundcolor\": \"#E5ECF6\", \"gridcolor\": \"white\", \"gridwidth\": 2, \"linecolor\": \"white\", \"showbackground\": true, \"ticks\": \"\", \"zerolinecolor\": \"white\"}, \"yaxis\": {\"backgroundcolor\": \"#E5ECF6\", \"gridcolor\": \"white\", \"gridwidth\": 2, \"linecolor\": \"white\", \"showbackground\": true, \"ticks\": \"\", \"zerolinecolor\": \"white\"}, \"zaxis\": {\"backgroundcolor\": \"#E5ECF6\", \"gridcolor\": \"white\", \"gridwidth\": 2, \"linecolor\": \"white\", \"showbackground\": true, \"ticks\": \"\", \"zerolinecolor\": \"white\"}}, \"shapedefaults\": {\"line\": {\"color\": \"#2a3f5f\"}}, \"ternary\": {\"aaxis\": {\"gridcolor\": \"white\", \"linecolor\": \"white\", \"ticks\": \"\"}, \"baxis\": {\"gridcolor\": \"white\", \"linecolor\": \"white\", \"ticks\": \"\"}, \"bgcolor\": \"#E5ECF6\", \"caxis\": {\"gridcolor\": \"white\", \"linecolor\": \"white\", \"ticks\": \"\"}}, \"title\": {\"x\": 0.05}, \"xaxis\": {\"automargin\": true, \"gridcolor\": \"white\", \"linecolor\": \"white\", \"ticks\": \"\", \"title\": {\"standoff\": 15}, \"zerolinecolor\": \"white\", \"zerolinewidth\": 2}, \"yaxis\": {\"automargin\": true, \"gridcolor\": \"white\", \"linecolor\": \"white\", \"ticks\": \"\", \"title\": {\"standoff\": 15}, \"zerolinecolor\": \"white\", \"zerolinewidth\": 2}}}, \"title\": {\"text\": \"\\u0412\\u043b\\u0438\\u044f\\u043d\\u0438\\u0435 \\u043f\\u0430\\u0440\\u0430\\u043c\\u0435\\u0442\\u0440\\u043e\\u0432 \\u043d\\u0430 \\u043e\\u0431\\u044a\\u0435\\u043c\\u044b \\u043f\\u043e\\u043f\\u043e\\u043b\\u043d\\u0435\\u043d\\u0438\\u0439. \\u0413\\u0438\\u0441\\u0442\\u043e\\u0433\\u0440\\u0430\\u043c\\u043c\\u0430\"}, \"width\": 800, \"xaxis\": {\"anchor\": \"y\", \"domain\": [0.0, 1.0]}, \"xaxis2\": {\"anchor\": \"y2\", \"domain\": [0.0, 1.0]}, \"yaxis\": {\"anchor\": \"x\", \"domain\": [0.575, 1.0]}, \"yaxis2\": {\"anchor\": \"x2\", \"domain\": [0.0, 0.425]}},                        {\"responsive\": true}                    ).then(function(){\n",
       "                            \n",
       "var gd = document.getElementById('510493b9-8b49-4767-b386-c58573497505');\n",
       "var x = new MutationObserver(function (mutations, observer) {{\n",
       "        var display = window.getComputedStyle(gd).display;\n",
       "        if (!display || display === 'none') {{\n",
       "            console.log([gd, 'removed!']);\n",
       "            Plotly.purge(gd);\n",
       "            observer.disconnect();\n",
       "        }}\n",
       "}});\n",
       "\n",
       "// Listen for the removal of the full notebook cells\n",
       "var notebookContainer = gd.closest('#notebook-container');\n",
       "if (notebookContainer) {{\n",
       "    x.observe(notebookContainer, {childList: true});\n",
       "}}\n",
       "\n",
       "// Listen for the clearing of the current output cell\n",
       "var outputEl = gd.closest('.output');\n",
       "if (outputEl) {{\n",
       "    x.observe(outputEl, {childList: true});\n",
       "}}\n",
       "\n",
       "                        })                };                });            </script>        </div>"
      ]
     },
     "metadata": {},
     "output_type": "display_data"
    }
   ],
   "source": [
    "import plotly.express as px\n",
    "from plotly.subplots import make_subplots\n",
    "import plotly.graph_objects as go\n",
    "\n",
    "fig = make_subplots(rows=2, cols=1)\n",
    "fig.update_layout(title='Влияние параметров на объемы пополнений. Гистограмма', width=800, height=400)\n",
    "\n",
    "fig.add_trace(go.Histogram(y=df.volume, x=df.ex_rate_grp, name='Пополнения vs изменение курса'),\n",
    "              row=1, col=1)\n",
    "\n",
    "fig.add_trace(go.Histogram(y=df.volume, x=df.int_rate_grp, name='Пополнения vs изменение ставок'),\n",
    "              row=2, col=1)"
   ]
  },
  {
   "cell_type": "markdown",
   "metadata": {},
   "source": [
    "Опять же видим достаточно равномерное распределение по бакетам изменений <0 и >0. Вряд ли эти переменные имеют какое-либо сильное влияние на зависимую переменную. Проверим, имеют ли они взаимную зависимость между собой? Проведем тест на мультиколлинеарность факторов."
   ]
  },
  {
   "cell_type": "markdown",
   "metadata": {},
   "source": [
    "## 3.3 Тест на гетероскедастичность"
   ]
  },
  {
   "cell_type": "markdown",
   "metadata": {},
   "source": [
    "Проведем тест Уайта, он является более универсальным. Для теста возьмем модель со всеми признаками и модель только с признаком *generation* (срок жизни депозита)."
   ]
  },
  {
   "cell_type": "code",
   "execution_count": 188,
   "metadata": {},
   "outputs": [],
   "source": [
    "f = 'volume~generation+int_rate+ex_rate'\n",
    "# f = 'volume~generation+int_rate+ex_rate'\n",
    "model = ols(formula=f, data=df).fit()"
   ]
  },
  {
   "cell_type": "code",
   "execution_count": 189,
   "metadata": {},
   "outputs": [
    {
     "name": "stdout",
     "output_type": "stream",
     "text": [
      "{'LM-статистика': 120.58929411370018, 'p-значение LM-теста': 1.0120824934209388e-21, 'F-статистика': 17.304248462444853, 'F-тест': 6.343442753904431e-25}\n"
     ]
    }
   ],
   "source": [
    "white_test = het_white(model.resid, model.model.exog)\n",
    "labels = ['LM-статистика', 'p-значение LM-теста', 'F-статистика', 'F-тест', 'p-значение']\n",
    "\n",
    "print(dict(zip(labels, white_test)))"
   ]
  },
  {
   "cell_type": "markdown",
   "metadata": {},
   "source": [
    "Смотрим на p-значения LM-теста или F-теста. Гетероскедастичность выявляется при **p<0.05**. В нашем случае этого не произошло, принимаем гипотезу H0 о гомокедастичности"
   ]
  },
  {
   "cell_type": "markdown",
   "metadata": {},
   "source": [
    "<a id=\"no4\"></a>"
   ]
  },
  {
   "cell_type": "markdown",
   "metadata": {},
   "source": [
    "# 4. Построение модели"
   ]
  },
  {
   "cell_type": "markdown",
   "metadata": {},
   "source": [
    "## 4.1 Бейзлайн линейной регрессии"
   ]
  },
  {
   "cell_type": "markdown",
   "metadata": {},
   "source": [
    "Построим простую линейную регрессию с учетом всех факторов (в дальнейшем мы изменим этот подход). "
   ]
  },
  {
   "cell_type": "code",
   "execution_count": 190,
   "metadata": {},
   "outputs": [
    {
     "name": "stdout",
     "output_type": "stream",
     "text": [
      "                            OLS Regression Results                            \n",
      "==============================================================================\n",
      "Dep. Variable:                 volume   R-squared:                       0.000\n",
      "Model:                            OLS   Adj. R-squared:                 -0.002\n",
      "Method:                 Least Squares   F-statistic:                  0.001374\n",
      "Date:                Sun, 06 Jun 2021   Prob (F-statistic):              0.970\n",
      "Time:                        17:00:29   Log-Likelihood:                -268.50\n",
      "No. Observations:                 500   AIC:                             541.0\n",
      "Df Residuals:                     498   BIC:                             549.4\n",
      "Df Model:                           1                                         \n",
      "Covariance Type:            nonrobust                                         \n",
      "==============================================================================\n",
      "                 coef    std err          t      P>|t|      [0.025      0.975]\n",
      "------------------------------------------------------------------------------\n",
      "Intercept      0.5117      0.044     11.761      0.000       0.426       0.597\n",
      "generation     0.0005      0.013      0.037      0.970      -0.025       0.026\n",
      "==============================================================================\n",
      "Omnibus:                     2685.822   Durbin-Watson:                   1.431\n",
      "Prob(Omnibus):                  0.000   Jarque-Bera (JB):               66.268\n",
      "Skew:                          -0.251   Prob(JB):                     4.07e-15\n",
      "Kurtosis:                       1.289   Cond. No.                         8.37\n",
      "==============================================================================\n",
      "\n",
      "Notes:\n",
      "[1] Standard Errors assume that the covariance matrix of the errors is correctly specified.\n",
      "                            OLS Regression Results                            \n",
      "==============================================================================\n",
      "Dep. Variable:                 volume   R-squared:                       0.000\n",
      "Model:                            OLS   Adj. R-squared:                 -0.004\n",
      "Method:                 Least Squares   F-statistic:                    0.1179\n",
      "Date:                Sun, 06 Jun 2021   Prob (F-statistic):              0.889\n",
      "Time:                        17:00:29   Log-Likelihood:                -268.38\n",
      "No. Observations:                 500   AIC:                             542.8\n",
      "Df Residuals:                     497   BIC:                             555.4\n",
      "Df Model:                           2                                         \n",
      "Covariance Type:            nonrobust                                         \n",
      "==============================================================================\n",
      "                 coef    std err          t      P>|t|      [0.025      0.975]\n",
      "------------------------------------------------------------------------------\n",
      "Intercept      0.5122      0.044     11.760      0.000       0.427       0.598\n",
      "generation     0.0003      0.013      0.024      0.981      -0.025       0.026\n",
      "int_rate      -0.0913      0.189     -0.484      0.629      -0.462       0.279\n",
      "==============================================================================\n",
      "Omnibus:                     2665.594   Durbin-Watson:                   1.429\n",
      "Prob(Omnibus):                  0.000   Jarque-Bera (JB):               66.715\n",
      "Skew:                          -0.252   Prob(JB):                     3.26e-15\n",
      "Kurtosis:                       1.283   Cond. No.                         35.0\n",
      "==============================================================================\n",
      "\n",
      "Notes:\n",
      "[1] Standard Errors assume that the covariance matrix of the errors is correctly specified.\n",
      "                            OLS Regression Results                            \n",
      "==============================================================================\n",
      "Dep. Variable:                 volume   R-squared:                       0.001\n",
      "Model:                            OLS   Adj. R-squared:                 -0.005\n",
      "Method:                 Least Squares   F-statistic:                    0.2058\n",
      "Date:                Sun, 06 Jun 2021   Prob (F-statistic):              0.892\n",
      "Time:                        17:00:29   Log-Likelihood:                -268.19\n",
      "No. Observations:                 500   AIC:                             544.4\n",
      "Df Residuals:                     496   BIC:                             561.2\n",
      "Df Model:                           3                                         \n",
      "Covariance Type:            nonrobust                                         \n",
      "==============================================================================\n",
      "                 coef    std err          t      P>|t|      [0.025      0.975]\n",
      "------------------------------------------------------------------------------\n",
      "Intercept      0.5125      0.044     11.758      0.000       0.427       0.598\n",
      "generation     0.0003      0.013      0.021      0.983      -0.026       0.026\n",
      "int_rate       0.0260      0.268      0.097      0.923      -0.500       0.552\n",
      "ex_rate       -0.1587      0.257     -0.618      0.537      -0.663       0.346\n",
      "==============================================================================\n",
      "Omnibus:                     2667.479   Durbin-Watson:                   1.431\n",
      "Prob(Omnibus):                  0.000   Jarque-Bera (JB):               66.821\n",
      "Skew:                          -0.255   Prob(JB):                     3.09e-15\n",
      "Kurtosis:                       1.284   Cond. No.                         63.5\n",
      "==============================================================================\n",
      "\n",
      "Notes:\n",
      "[1] Standard Errors assume that the covariance matrix of the errors is correctly specified.\n"
     ]
    }
   ],
   "source": [
    "f = ['volume~generation',\n",
    "     'volume~generation+int_rate',\n",
    "     'volume~generation+int_rate+ex_rate']\n",
    "\n",
    "for i in f:\n",
    "    model = ols(formula=i, data=df).fit()\n",
    "    print(model.summary())"
   ]
  },
  {
   "cell_type": "markdown",
   "metadata": {},
   "source": [
    "Выше мы посмотрели разные линейные модели постепенно включая новые переменные в нее. Сравниваем по R^2 adj. (т.к. кол-во переменных разное). Во всех трех переменных скорректированный коэф-т детерминации низкий, что означает слабую объясняющую способность такой регресии. Также значение P>|t| указывает на статистическую незначимость коэф-тов.\n",
    "\n",
    "Для примера посмотрим коэф-ты модели со\n",
    "Коэф-ты для переменных следующие:\n",
    "1. Неделя жизни: 0.0010\n",
    "2. Изменение % ставки: 0.0140\n",
    "3. Изменение курса: -0.0841"
   ]
  },
  {
   "cell_type": "markdown",
   "metadata": {},
   "source": [
    "## 4.2 Тест на мультиколлинеарность"
   ]
  },
  {
   "cell_type": "code",
   "execution_count": 191,
   "metadata": {},
   "outputs": [
    {
     "name": "stdout",
     "output_type": "stream",
     "text": [
      "      feature       VIF\n",
      "0  generation  1.000147\n",
      "1    int_rate  2.013365\n",
      "2     ex_rate  2.013269\n"
     ]
    }
   ],
   "source": [
    "vif_data = pd.DataFrame()\n",
    "\n",
    "X = df[['generation','int_rate','ex_rate']]\n",
    "vif_data['feature'] = X.columns\n",
    "\n",
    "vif_data['VIF'] = [vif(X.values, i)\n",
    "                          for i in range(len(X.columns))]\n",
    "\n",
    "print(vif_data)"
   ]
  },
  {
   "cell_type": "markdown",
   "metadata": {},
   "source": [
    "По результатам не видим мультиколлинеарности, все значения VIF < 5."
   ]
  },
  {
   "cell_type": "markdown",
   "metadata": {},
   "source": [
    "## 4.3 Оптимизация модели"
   ]
  },
  {
   "cell_type": "markdown",
   "metadata": {},
   "source": [
    "Т.к. ранее мы увидели квадратичную зависимость объема пополнений от недели жизни, попробуем использовать **полиномиальную регрессию** 2 степени."
   ]
  },
  {
   "cell_type": "code",
   "execution_count": 192,
   "metadata": {},
   "outputs": [
    {
     "data": {
      "text/html": [
       "<table class=\"simpletable\">\n",
       "<caption>OLS Regression Results</caption>\n",
       "<tr>\n",
       "  <th>Dep. Variable:</th>         <td>volume</td>      <th>  R-squared:         </th> <td>   0.996</td> \n",
       "</tr>\n",
       "<tr>\n",
       "  <th>Model:</th>                   <td>OLS</td>       <th>  Adj. R-squared:    </th> <td>   0.996</td> \n",
       "</tr>\n",
       "<tr>\n",
       "  <th>Method:</th>             <td>Least Squares</td>  <th>  F-statistic:       </th> <td>6.029e+04</td>\n",
       "</tr>\n",
       "<tr>\n",
       "  <th>Date:</th>             <td>Sun, 06 Jun 2021</td> <th>  Prob (F-statistic):</th>  <td>  0.00</td>  \n",
       "</tr>\n",
       "<tr>\n",
       "  <th>Time:</th>                 <td>17:00:29</td>     <th>  Log-Likelihood:    </th> <td>  1157.2</td> \n",
       "</tr>\n",
       "<tr>\n",
       "  <th>No. Observations:</th>      <td>   500</td>      <th>  AIC:               </th> <td>  -2308.</td> \n",
       "</tr>\n",
       "<tr>\n",
       "  <th>Df Residuals:</th>          <td>   497</td>      <th>  BIC:               </th> <td>  -2296.</td> \n",
       "</tr>\n",
       "<tr>\n",
       "  <th>Df Model:</th>              <td>     2</td>      <th>                     </th>     <td> </td>    \n",
       "</tr>\n",
       "<tr>\n",
       "  <th>Covariance Type:</th>      <td>nonrobust</td>    <th>                     </th>     <td> </td>    \n",
       "</tr>\n",
       "</table>\n",
       "<table class=\"simpletable\">\n",
       "<tr>\n",
       "    <td></td>       <th>coef</th>     <th>std err</th>      <th>t</th>      <th>P>|t|</th>  <th>[0.025</th>    <th>0.975]</th>  \n",
       "</tr>\n",
       "<tr>\n",
       "  <th>const</th> <td>   -1.0968</td> <td>    0.005</td> <td> -213.229</td> <td> 0.000</td> <td>   -1.107</td> <td>   -1.087</td>\n",
       "</tr>\n",
       "<tr>\n",
       "  <th>x1</th>    <td>    1.3360</td> <td>    0.004</td> <td>  340.810</td> <td> 0.000</td> <td>    1.328</td> <td>    1.344</td>\n",
       "</tr>\n",
       "<tr>\n",
       "  <th>x2</th>    <td>   -0.2226</td> <td>    0.001</td> <td> -347.260</td> <td> 0.000</td> <td>   -0.224</td> <td>   -0.221</td>\n",
       "</tr>\n",
       "</table>\n",
       "<table class=\"simpletable\">\n",
       "<tr>\n",
       "  <th>Omnibus:</th>       <td> 6.389</td> <th>  Durbin-Watson:     </th> <td>   2.095</td>\n",
       "</tr>\n",
       "<tr>\n",
       "  <th>Prob(Omnibus):</th> <td> 0.041</td> <th>  Jarque-Bera (JB):  </th> <td>   6.265</td>\n",
       "</tr>\n",
       "<tr>\n",
       "  <th>Skew:</th>          <td> 0.270</td> <th>  Prob(JB):          </th> <td>  0.0436</td>\n",
       "</tr>\n",
       "<tr>\n",
       "  <th>Kurtosis:</th>      <td> 3.097</td> <th>  Cond. No.          </th> <td>    85.9</td>\n",
       "</tr>\n",
       "</table><br/><br/>Notes:<br/>[1] Standard Errors assume that the covariance matrix of the errors is correctly specified."
      ],
      "text/plain": [
       "<class 'statsmodels.iolib.summary.Summary'>\n",
       "\"\"\"\n",
       "                            OLS Regression Results                            \n",
       "==============================================================================\n",
       "Dep. Variable:                 volume   R-squared:                       0.996\n",
       "Model:                            OLS   Adj. R-squared:                  0.996\n",
       "Method:                 Least Squares   F-statistic:                 6.029e+04\n",
       "Date:                Sun, 06 Jun 2021   Prob (F-statistic):               0.00\n",
       "Time:                        17:00:29   Log-Likelihood:                 1157.2\n",
       "No. Observations:                 500   AIC:                            -2308.\n",
       "Df Residuals:                     497   BIC:                            -2296.\n",
       "Df Model:                           2                                         \n",
       "Covariance Type:            nonrobust                                         \n",
       "==============================================================================\n",
       "                 coef    std err          t      P>|t|      [0.025      0.975]\n",
       "------------------------------------------------------------------------------\n",
       "const         -1.0968      0.005   -213.229      0.000      -1.107      -1.087\n",
       "x1             1.3360      0.004    340.810      0.000       1.328       1.344\n",
       "x2            -0.2226      0.001   -347.260      0.000      -0.224      -0.221\n",
       "==============================================================================\n",
       "Omnibus:                        6.389   Durbin-Watson:                   2.095\n",
       "Prob(Omnibus):                  0.041   Jarque-Bera (JB):                6.265\n",
       "Skew:                           0.270   Prob(JB):                       0.0436\n",
       "Kurtosis:                       3.097   Cond. No.                         85.9\n",
       "==============================================================================\n",
       "\n",
       "Notes:\n",
       "[1] Standard Errors assume that the covariance matrix of the errors is correctly specified.\n",
       "\"\"\""
      ]
     },
     "execution_count": 192,
     "metadata": {},
     "output_type": "execute_result"
    },
    {
     "data": {
      "image/png": "[encoded data removed]",
      "text/plain": [
       "<Figure size 432x288 with 1 Axes>"
      ]
     },
     "metadata": {
      "needs_background": "light"
     },
     "output_type": "display_data"
    }
   ],
   "source": [
    "x = df[['generation']]\n",
    "poly_features = PolynomialFeatures(degree=2)\n",
    "xp = poly_features.fit_transform(x)\n",
    "#xp.shape\n",
    "\n",
    "poly_reg = sm.OLS(y,xp).fit()\n",
    "ypred = poly_reg.predict(xp) \n",
    "\n",
    "ypred.shape\n",
    "\n",
    "plt.scatter(x,y)\n",
    "plt.plot(x,ypred)\n",
    "\n",
    "poly_reg.summary()"
   ]
  },
  {
   "cell_type": "markdown",
   "metadata": {},
   "source": [
    "В нашей регрессии получилось 2 переменных: generation и generation^2. Показатели R^2 и R^2 adj. на уровне 0.996 - т.е. регрессия на 99.6% объясняется выбранными переменными. p-значение указывает на статистическую значимость переменных. При росте срока жизни депозита до 3 недель пополнения растут. Затем наблюдается их постепенный спад."
   ]
  },
  {
   "cell_type": "markdown",
   "metadata": {},
   "source": [
    "<a id=\"no5\"></a>"
   ]
  },
  {
   "cell_type": "markdown",
   "metadata": {},
   "source": [
    "# 5. Вывод"
   ]
  },
  {
   "cell_type": "markdown",
   "metadata": {},
   "source": [
    "В ходе выполнения задачи мы выбрали следующую модель:\n",
    "* Объем пополнений = -1.0968 + 1.3360 * неделя жизни - 0.2226 * неделя жизни^2.\n",
    "\n",
    "Данная модель наилучшим образом объясняет поведение зависимой переменной (экономическое обоснование см. выше).\n",
    "По результатам F-теста регрессия в целом значима, t-тест говорит о том, что переменные в отдельности также статистически значимы."
   ]
  }
 ],
 "metadata": {
  "kernelspec": {
   "display_name": "Python 3",
   "language": "python",
   "name": "python3"
  },
  "language_info": {
   "codemirror_mode": {
    "name": "ipython",
    "version": 3
   },
   "file_extension": ".py",
   "mimetype": "text/x-python",
   "name": "python",
   "nbconvert_exporter": "python",
   "pygments_lexer": "ipython3",
   "version": "3.8.5"
  }
 },
 "nbformat": 4,
 "nbformat_minor": 4
}
